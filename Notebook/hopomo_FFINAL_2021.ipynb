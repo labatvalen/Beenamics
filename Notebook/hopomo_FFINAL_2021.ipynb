{
  "nbformat": 4,
  "nbformat_minor": 0,
  "metadata": {
    "colab": {
      "name": "hopomo_FFINAL_2021.ipynb",
      "provenance": [],
      "collapsed_sections": [
        "Be1W2vj37XRY",
        "L9yuZ2CS8zbT",
        "p_t3MbTS9T8f",
        "9-0y9kF4-zrS",
        "GiwfCvMx_Ypb",
        "UMk65x_EAvZa"
      ]
    },
    "hide_input": false,
    "kernelspec": {
      "display_name": "Python 3",
      "language": "python",
      "name": "python3"
    },
    "language_info": {
      "codemirror_mode": {
        "name": "ipython",
        "version": 3
      },
      "file_extension": ".py",
      "mimetype": "text/x-python",
      "name": "python",
      "nbconvert_exporter": "python",
      "pygments_lexer": "ipython3",
      "version": "3.8.5"
    },
    "toc": {
      "base_numbering": 1,
      "nav_menu": {},
      "number_sections": true,
      "sideBar": true,
      "skip_h1_title": false,
      "title_cell": "Table of Contents",
      "title_sidebar": "Contents",
      "toc_cell": false,
      "toc_position": {
        "height": "calc(100% - 180px)",
        "left": "10px",
        "top": "150px",
        "width": "317.167px"
      },
      "toc_section_display": true,
      "toc_window_display": true
    },
    "varInspector": {
      "cols": {
        "lenName": 16,
        "lenType": 16,
        "lenVar": 40
      },
      "kernels_config": {
        "python": {
          "delete_cmd_postfix": "",
          "delete_cmd_prefix": "del ",
          "library": "var_list.py",
          "varRefreshCmd": "print(var_dic_list())"
        },
        "r": {
          "delete_cmd_postfix": ") ",
          "delete_cmd_prefix": "rm(",
          "library": "var_list.r",
          "varRefreshCmd": "cat(var_dic_list()) "
        }
      },
      "types_to_exclude": [
        "module",
        "function",
        "builtin_function_or_method",
        "instance",
        "_Feature"
      ],
      "window_display": false
    }
  },
  "cells": [
    {
      "cell_type": "markdown",
      "metadata": {
        "id": "ezD-4RaqZ-IM"
      },
      "source": [
        "# **HOPOMO**\n",
        "\n",
        "\n"
      ]
    },
    {
      "cell_type": "markdown",
      "metadata": {
        "id": "DlCcfBR1i5bl"
      },
      "source": [
        "**HoPoMo** est une modélisation particulière des dynamiques d'une colonie d'abeille au sein de leur ruche ainsi que le management des ressources qui y sont liées. Elle a été pensée par **Thomas Schmickl** et **Karl Crailsheim**, qui ont vu leur article publié en 2007 par l'éditeur *ELSEVIER*.\n",
        "\n",
        "Ainsi à l'aide d'un modèle équationnel d'environ **60 équations** nous modéliserons à travers celui-ci le développement des individus au sein de la ruche ainsi que la gestion de ses besoins, ses stocks et productions. \n",
        "\n",
        "De plus, nous avons grandement amélioré la précision des résultats en modifiant ce modèle de plusieurs manières : entre autre les **facteurs météorologiques**.\n",
        "\n",
        "L'implémentation de ce modèle se terminera par une série de **graphiques** modélisant les variables clées de celui-ci."
      ]
    },
    {
      "cell_type": "markdown",
      "metadata": {
        "id": "6QCfaqGFbtsN"
      },
      "source": [
        "## **IMPLEMENTATION**"
      ]
    },
    {
      "cell_type": "markdown",
      "metadata": {
        "id": "-IbAwAenmA-s"
      },
      "source": [
        "L'implémentation suivante a été réalisée avec le langage **PYTHON 3** sous l'éditeur de Notebook **Google Colab**."
      ]
    },
    {
      "cell_type": "markdown",
      "metadata": {
        "id": "Vwc2fMKF6Znn"
      },
      "source": [
        "### **IMPORTS**"
      ]
    },
    {
      "cell_type": "code",
      "metadata": {
        "colab": {
          "base_uri": "https://localhost:8080/"
        },
        "id": "u3Hv4CQ2mqyC",
        "outputId": "2b5b19e9-2ce6-41c4-f33a-c7d2ae3acd26"
      },
      "source": [
        "# Importation du module Astral\n",
        "# Documentation : https://astral.readthedocs.io/en/latest/index.html\n",
        "\n",
        "!pip install astral"
      ],
      "execution_count": 2,
      "outputs": [
        {
          "output_type": "stream",
          "text": [
            "Collecting astral\n",
            "  Downloading https://files.pythonhosted.org/packages/91/60/7cc241b9c3710ebadddcb323e77dd422c693183aec92449a1cf1fb59e1ba/astral-2.2-py2.py3-none-any.whl\n",
            "Requirement already satisfied: pytz in /usr/local/lib/python3.7/dist-packages (from astral) (2018.9)\n",
            "Installing collected packages: astral\n",
            "Successfully installed astral-2.2\n"
          ],
          "name": "stdout"
        }
      ]
    },
    {
      "cell_type": "code",
      "metadata": {
        "id": "extsDdJFGiFo"
      },
      "source": [
        "#Les différents imports nécessaires au fonctionnement du programme.\n",
        "\n",
        "from functools import lru_cache # permet de mettre en cache les calculs récursifs afin de soulager grandement la machine et d'optimiser les calculs\n",
        "from plotly.subplots import make_subplots # générateur de graphes dynamiques\n",
        "from plotly import tools # https://github.com/plotly/plotly.py\n",
        "from itertools import islice # https://docs.python.org/3/library/itertools.html\n",
        "from astral import *\n",
        "from astral.sun import *\n",
        "from datetime import * # https://docs.python.org/3/library/datetime.html\n",
        "from pprint import pprint #https://docs.python.org/3/library/pprint.html\n",
        "import gc #https://docs.python.org/3/library/gc.html\n",
        "\n",
        "import datetime as dt\n",
        "import numpy as np # https://numpy.org/doc/stable/\n",
        "import pandas as pd # https://pandas.pydata.org/docs/user_guide/index.html\n",
        "import random as rd # https://docs.python.org/3.9/library/random.html\n",
        "import plotly.graph_objs as go \n",
        "import requests # https://requests.readthedocs.io/en/master/\n",
        "import json # https://docs.python.org/3/library/json.html"
      ],
      "execution_count": 3,
      "outputs": []
    },
    {
      "cell_type": "markdown",
      "metadata": {
        "id": "I0bls8CB6reK"
      },
      "source": [
        "### **PARAMETRES**\n",
        "\n"
      ]
    },
    {
      "cell_type": "markdown",
      "metadata": {
        "id": "l_fT6ZA5prA4"
      },
      "source": [
        "Concernant les paramètres nous utilisons majoritairement comme référencement les pages de l'article officiel de la modélisation HoPoMo.\n",
        "\n",
        "Vous pouvez l'obtenir via ce lien : https://www.sciencedirect.com/science/article/abs/pii/S0304380007000075\n",
        "\n",
        "Obtention possible par achat ou utilisation d'une raison institutionnelle, de recherche."
      ]
    },
    {
      "cell_type": "code",
      "metadata": {
        "id": "9SeLtIikWf-X"
      },
      "source": [
        "# Comportements de la reine/ponte\n",
        "x1, x2, x3, x4, x5 = 385, 30, 36, 155, 45 #REF p230 # x4 = jour de l'année où la reine pond le plus, \n",
        "                                                    # x5 = courbure \"à droite\" de la fonction saison plus on l'augmente plus la courbe favorable s'aplanit (permet de modifier la \"durée\" de l'été)\n",
        "ELRbase = 1600 #REF p230 - taux de ponte moyen de la reine (dépend de la reine, son âge etc ..)\n",
        "SUPtreshold = 0.2 #REF p230 # si le taux de cellules vides est inférieur à cette limite alors il y a une diminution du taux de ponte (la reine a de plus en plus de mal à trouver des cellules disponibles)\n",
        "ELRstochrange = 0 # facteur stochastique du taux de ponte de la reine\n",
        "\n",
        "# Cellules\n",
        "CELLShive = 250000 #REF p230 # nb de cellules dans la ruche\n",
        "\n",
        "# Initialisations\n",
        "BEESadultINIT = 15000\n",
        "STOREShoneyINIT = 50000\n",
        "\n",
        "# Couvain\n",
        "LIFESPANegg = 3 #REF p230 #durée max (en jours) de l'état oeuf\n",
        "LIFESPANlarvae = 5 #REF p230 #durée max (en jours) de l'état larve\n",
        "LIFESPANpupae = 12 #REF p230 #durée max (en jours) de l'état pupe \n",
        "MORTALITYeggs = 0.03 #REF p230 # Mortalités (Plus le stade est avancé et moins le taux de mortalité est élevé)\n",
        "MORTALITYlarvae = 0.01 #REF p230\n",
        "MORTALITYpupae = 0.001 #REF p230\n",
        "CANNIBALISMbase = [0.23,0.30,0.58,0.06,0] #REF p230 # Taux fixe de cannibalisme des larves en fonction de leur age (1-5 jours)\n",
        "\n",
        "# Abeilles adultes\n",
        "MORTALITYadultbase = 0.01 #REF p230\n",
        "MORTALITYnursing = 0.005 #REF p230\n",
        "MORTALITYprocessing = 0.005 #REF p230\n",
        "MORTALITYforaging = 0.035 #REF p230\n",
        "\n",
        "# Facteurs liés aux ressources\n",
        "FACTORpollensavingmax = 0.30 #REF p230\n",
        "RATIOnectar_to_honey = 0.4 #REF p230 20/50\n",
        "FACTORothertasks = 0.2 #REF p225\n",
        "FACTORpollenstorage = 6 #REF p230 - La colonie régule le stockage du pollen autour d'un niveau qui représente une réserve approximative de 6 jours, basé sur la demande actuelle.\n",
        "FACTORminpollenforagers = 0.01 #REF p230\n",
        "FACTORforagingmax=0.33 #REF p230\n",
        "\n",
        "# Besoins\n",
        "NECTARNEEDactiveforager = 0.03 # \n",
        "NECTARNEEDnurse = 0.02 # \n",
        "NECTARNEEDadult = 0.005 #\n",
        "NECTARNEEDlarva = [0.0025,0.0050,0.0084,0.016,0.032] #REF p231 graph b\n",
        "POLLENNEEDlarva = [0.0150,0.0250,0.0400,0.080,0.156] #REF p231 graph b\n",
        "POLLENNEEDadult = 0.0037 # inspiré de Rortais et al. (2005) article\n",
        "POLLENNEEDnurse = 0.045 # inspiré de Rortais et al. (2005) article\n",
        "NEEDnurses_per_larva = [0.10,0.30,0.70,1.70,3.0] #REF p231 graph d # à déterminer, augmentation exponentielle grandissant avec la masse de la larve\n",
        "NEEDnurses_per_egg = 0.30 # à établir, moins important que pour les larves car pas besoin d'être nourrit\n",
        "NEEDnurses_per_pupa = 0.30 # à établir, moins important que pour les larves car pas besoin d'être nourrit\n",
        "\n",
        "#Butinage\n",
        "LOADpollenforager = 0.06 # cellfulls REF p230\n",
        "LOADnectarforager = 0.04 # cellfulls REF p230\n",
        "FACTORforagingsuccess = 0.8 #REF p230\n",
        "TURNSnectarforager = 15 #REF p230\n",
        "TURNSpollenforager = 10 #REF p230\n",
        "ProcessorsPerCell = 2  #REF p230\n",
        "stochasticForagingFactor = 0.25\n",
        "\n",
        "# Poids (en grammes)\n",
        "w_hivebase = 14000   #REF p231\n",
        "w_cellsbase = 0.037  #REF p231 #represents the weight of one empty cell (wax only).\n",
        "w_pollen = 0.23  #REF p231 # poids d'une cellule remplie de pollen\n",
        "w_nectar = 0.43  #REF p231 # poids d'une cellule remplie de nectar\n",
        "w_honey = 0.50  #REF p231 #poids d'une cellule remplie de miel\n",
        "w_egg = 0.0001  #REF p231\n",
        "w_larva = [0.0002,0.00059,0.00331,0.0644,0.160] #le poids d'une larve à l'état i ∈ {1,2,3,4,5}\n",
        "w_pupa = 0.16  #REF p231\n",
        "w_adult = 0.10  #REF p231\n",
        "\n",
        "max_wind = 45 #km/h \n",
        "min_humidity = 60 #pourcentage\n",
        "\n",
        "nb_days = 364"
      ],
      "execution_count": 4,
      "outputs": []
    },
    {
      "cell_type": "markdown",
      "metadata": {
        "id": "VAH6T0SBO8wT"
      },
      "source": [
        "### **METEOROLOGIE ET TRAITEMENTS**"
      ]
    },
    {
      "cell_type": "code",
      "metadata": {
        "id": "BfQ-BvE-PTH8"
      },
      "source": [
        "# Import des données des CSV\n",
        "data2020 = pd.read_csv(\"/content/meteo_gelos_owm_2020.csv\",skiprows=[i for i in range(1394,1407)],sep =',') #exclusion 29/02 pour simplifier les processus \n",
        "\n",
        "# Données globales\n",
        "dataMeteo2020 = pd.DataFrame(data2020,columns=['date','main.temp','rain.1h','main.humidity','wind.speed'])\n",
        "\n",
        "# Verifications du jeu de données\n",
        "dataMeteo2020.isnull().sum()\n",
        "\n",
        "# Correction du jeu de données avec un median (la correction n'est faite ici que sur les trous de données des précipitations)\n",
        "# Si besoin copiez coller les deux lignes suivantes en changeant le nom de la colonne entre [ ] avec celle concernée (trou de données visibles avec l'appel précédent)\n",
        "median = dataMeteo2020['rain.1h'].median()\n",
        "dataMeteo2020['rain.1h'].fillna(median,inplace=True)\n",
        "\n",
        "#Conversion en listes des données météo\n",
        "list_DataMeteo2020 = [list(row) for row in dataMeteo2020.values]"
      ],
      "execution_count": null,
      "outputs": []
    },
    {
      "cell_type": "code",
      "metadata": {
        "id": "HL3BcNzaPFJ3"
      },
      "source": [
        "# Traitement des listes pour le modèle\n",
        "\n",
        "# Conversion de la date et de l'heure puis transformation de ces deux variables\n",
        "# en des listes.\n",
        "\n",
        "# Cette fonction prends en compte le traitement de trois cas (données sources) différents de données. \n",
        "# Afin de pouvoir transformer les colonnes date et heure en listes\n",
        "# normalisées de la manière suivante [année,mois,jour],[heure,minutes,secondes]\n",
        "\n",
        "# Cette fonction traite ainsi les données d'historique de 2020, de 2021 et celles de prévision\n",
        "# listeIn est une liste de sous listes et valeurs contenant toutes les données récupérées des csv ou json\n",
        "# tel que pour un jour on ait en sortie : [[année, mois, jour],[heure, minutes, secondes], temperature, pluie, humidité, vent]\n",
        "\n",
        "def convert_date(listeIn) :\n",
        "  for i in range(len(listeIn)):\n",
        "    if ('T' in listeIn[i][0]):\n",
        "      listeIn[i][0] = listeIn[i][0].split('T')\n",
        "      if ('+' in listeIn[i][0][1]):\n",
        "        listeIn[i][0][1] = listeIn[i][0][1].split('+')\n",
        "        del listeIn[i][0][1][1]\n",
        "    else :\n",
        "      listeIn[i][0] = listeIn[i][0].split()\n",
        "\n",
        "    if ('.' in listeIn[i][0][1]) : \n",
        "      listeIn[i][0] = listeIn[i][0][0].split('-') + listeIn[i][0][1].split('.')\n",
        "\n",
        "    elif (isinstance(listeIn[i][0][1], list)):\n",
        "      listeIn[i][0] = listeIn[i][0][0].split('-') + listeIn[i][0][1]\n",
        "    else :\n",
        "      listeIn[i][0][0] = listeIn[i][0][0].split('-')\n",
        "  \n",
        "    if (len(listeIn[i][0]) == 5):\n",
        "      del listeIn[i][0][4]\n",
        "\n",
        "    if (len(listeIn[i][0]) > 2):\n",
        "      listeIn[i][0][3] = listeIn[i][0][3].split(':')\n",
        "      listeIn[i][0] = listeIn[i][0][0:3] + listeIn[i][0][3]\n",
        "    else :\n",
        "      listeIn[i][0][1] = listeIn[i][0][1].split(':')\n",
        "      listeIn[i][0] = listeIn[i][0][0] + listeIn[i][0][1]\n",
        "\n",
        "    for j in range(6):\n",
        "      listeIn[i][0][j] = int(listeIn[i][0][j])\n",
        "\n",
        "    listeIn[i].insert(0,listeIn[i][0][0:3])\n",
        "    listeIn[i].insert(1,listeIn[i][1][3:])\n",
        "    del listeIn[i][2]\n",
        "  \n",
        "  return \"Traitement réalisé avec succès\""
      ],
      "execution_count": 744,
      "outputs": []
    },
    {
      "cell_type": "code",
      "metadata": {
        "colab": {
          "base_uri": "https://localhost:8080/",
          "height": 35
        },
        "id": "Zn-NDAqzfKVj",
        "outputId": "c4a6aa9b-fcbc-486e-b78c-36007e9733a8"
      },
      "source": [
        "convert_date(list_DataMeteo2020)"
      ],
      "execution_count": 745,
      "outputs": [
        {
          "output_type": "execute_result",
          "data": {
            "application/vnd.google.colaboratory.intrinsic+json": {
              "type": "string"
            },
            "text/plain": [
              "'Traitement réalisé avec succès'"
            ]
          },
          "metadata": {
            "tags": []
          },
          "execution_count": 745
        }
      ]
    },
    {
      "cell_type": "code",
      "metadata": {
        "id": "7_80OoAmMhKa"
      },
      "source": [
        "# Utilisation de Astral pour obtenir : l'heure du levé de soleil, du coucher\n",
        "# Ainsi que le nombre d'heures d'ensoleillement.\n",
        "# A partir de ces données nous pourront exclures les données non pertinentes\n",
        "# (heures de non ensoleillement) des data de \"list_DataMeteo2020\"\n",
        "\n",
        "# Il existe néanmoins des méthodes plus complexes et plus précises\n",
        "# de l'ordre de la minute pour calculer le nombre effectif d'heures \n",
        "# d'ensoleillement (cf angle terrestre etc...)\n",
        "# https://www.esrl.noaa.gov/gmd/grad/solcalc/calcdetails.html \n",
        "\n",
        "city = LocationInfo('Gelos', 'France', 'Europe/London', 43.232951, 0.078082)\n",
        "\n",
        "sunhours = []\n",
        "mois_longs = [1,3,5,7,8,10,12]\n",
        "\n",
        "# Réupère les horaires sur un an (en 2020) des couchés et levés de soleil\n",
        "# La sortie est une liste de 365 elements de 2 listes\n",
        "# (une liste pour le lever et une autre pour le coucher)\n",
        "def getSunSetRise():\n",
        "  for i in range(1,13):\n",
        "    if (i in mois_longs) :\n",
        "      for j in range(1,32):\n",
        "        elem = daylight(city.observer,date=dt.date(2020,i,j),tzinfo=city.timezone)\n",
        "        sunhours.append(convert_dataSun(elem))\n",
        "    elif (i == 2) :\n",
        "      for j in range(1,29):\n",
        "        elem = daylight(city.observer,date=dt.date(2020,i,j),tzinfo=city.timezone)\n",
        "        sunhours.append(convert_dataSun(elem))\n",
        "    elif ((i not in mois_longs) and i!=2):\n",
        "      for j in range(1,31):\n",
        "        elem = daylight(city.observer,date=dt.date(2020,i,j),tzinfo=city.timezone)\n",
        "        convert_dataSun(elem)\n",
        "        sunhours.append(convert_dataSun(elem))\n",
        "        \n",
        "#Transforme la sortie d'astral (datetime.datetime) en liste d'int\n",
        "def convert_dataSun(listeIn):\n",
        "  res = []\n",
        "  for i in range(len(listeIn)):\n",
        "      tmp = str(listeIn[i])\n",
        "      tmp = tmp.split('.')\n",
        "      tmp = tmp[0].split(' ')\n",
        "      tmp[0] = tmp[0].split('-')\n",
        "      tmp[1] = tmp[1].split(':')\n",
        "      res.append(tmp[0])\n",
        "      res.append(tmp[1])\n",
        "      for j in range(len(res)):\n",
        "        for k in range(len(res[j])):\n",
        "          res[j][k] = int(res[j][k])\n",
        "  del res[2]\n",
        "  return res"
      ],
      "execution_count": 746,
      "outputs": []
    },
    {
      "cell_type": "code",
      "metadata": {
        "id": "_EQVD54wvNiK"
      },
      "source": [
        "getSunSetRise()"
      ],
      "execution_count": 747,
      "outputs": []
    },
    {
      "cell_type": "code",
      "metadata": {
        "id": "D0ZKPZDrT4_7"
      },
      "source": [
        "#Convertit le jour (int) en une date [yy,mm,dd] (list)\n",
        "def date_converter(daynumber):\n",
        "  year = str(list_DataMeteo2020[0][0][0])\n",
        "  day_num = str(daynumber)\n",
        "  if (day_num == '0' or day_num== '-1'):\n",
        "    res = [0,0,0]\n",
        "    return res\n",
        "  else :\n",
        "    res = datetime.strptime(year + \"-\" +day_num, \"%Y-%j\").strftime(\"%m-%d-%Y\")\n",
        "    res = res.split('-')\n",
        "    for i in range(len(res)):\n",
        "      res[i] = int(res[i])\n",
        "    res.reverse()\n",
        "    res[1],res[2] = res[2],res[1]\n",
        "    return res\n",
        "\n",
        "#Récupère les data du jour en fonction du jour t (On récupère uniquement les données du jour !)\n",
        "def get_dataOfTheDay(t):\n",
        "  date_formated = date_converter(t)\n",
        "  sun_rise = sunhours[t][1]\n",
        "  sun_set = sunhours[t][2]\n",
        "  resultat = []\n",
        "\n",
        "  for i in range(len(list_DataMeteo2020)):\n",
        "    if ((list_DataMeteo2020[i][0][1] == date_formated[1]) and (list_DataMeteo2020[i][0][2] == date_formated[2])):\n",
        "      if ((sun_rise[0] <= list_DataMeteo2020[i][1][0]) and (sun_set[0] >= list_DataMeteo2020[i][1][0])):\n",
        "        resultat.append(list_DataMeteo2020[i])\n",
        "  return resultat"
      ],
      "execution_count": 748,
      "outputs": []
    },
    {
      "cell_type": "markdown",
      "metadata": {
        "id": "Be1W2vj37XRY"
      },
      "source": [
        "### **FACTEUR SAISON (2.1)**\n"
      ]
    },
    {
      "cell_type": "code",
      "metadata": {
        "id": "1V0PmyK0rxaX"
      },
      "source": [
        "#--------------------------------------------------------------#\n",
        "@lru_cache(maxsize = None)\n",
        "def f(t):\n",
        "    return(1-1/(1+x1*np.exp(-2*t/x2)))\n",
        "\n",
        "#--------------------------------------------------------------#\n",
        "@lru_cache(maxsize = None)\n",
        "def g(t):\n",
        "    return(1/(1+x3*np.exp(-2*(t-x4)/x5))) \n",
        "\n",
        "#--------------------------------------------------------------#  \n",
        "\n",
        "#Facteur saison (t en jours [max 365 jours])\n",
        "@lru_cache(maxsize = None)\n",
        "def season(t):\n",
        "  print(max(g(t),f(t)))\n",
        "  return max(g(t),f(t))\n",
        "\n",
        "#--------------------------------------------------------------#"
      ],
      "execution_count": 749,
      "outputs": []
    },
    {
      "cell_type": "code",
      "metadata": {
        "id": "RgyQ0BkrOFz1"
      },
      "source": [
        "#--------------------------------------------------------------#\n",
        "@lru_cache(maxsize = None)\n",
        "def f(t):\n",
        "    return(1-1/(1+x1*np.exp(-2*t/x2)))\n",
        "\n",
        "#--------------------------------------------------------------#\n",
        "@lru_cache(maxsize = None)\n",
        "def g(t):\n",
        "    return(1/(1+x3*np.exp(-2*(t-x4)/x5))) \n",
        "\n",
        "#--------------------------------------------------------------#  \n",
        "\n",
        "#Facteur saison (t en jours [max 365 jours])\n",
        "@lru_cache(maxsize = None)\n",
        "def season(t):\n",
        "    return max(g(t),f(t))\n",
        "\n",
        "#--------------------------------------------------------------#"
      ],
      "execution_count": 750,
      "outputs": []
    },
    {
      "cell_type": "markdown",
      "metadata": {
        "id": "L9yuZ2CS8zbT"
      },
      "source": [
        "### **CELLULES DANS LA RUCHE ET TAUX DE PONTE (2.1)**"
      ]
    },
    {
      "cell_type": "code",
      "metadata": {
        "id": "wQXxdGtgnwnz"
      },
      "source": [
        "\n",
        "#--------------------------------------------------------------#\n",
        "\n",
        "# Nombre de cellules disponibles (vides)\n",
        "@lru_cache(maxsize = None)\n",
        "def CELLSempty(t) :\n",
        "    if (t<=0):\n",
        "        return CELLShive\n",
        "    else :\n",
        "        return int(CELLShive - CELLSbrood(t)-STORESpollen(t)-STORESnectar(t)-STOREShoney(t))\n",
        "\n",
        "#--------------------------------------------------------------#\n",
        "\n",
        "# Fonction décrivant la diminution du taux de ponte lorsque le nombre de cellules disponibles devient limité \n",
        "@lru_cache(maxsize = None)\n",
        "def SUPcomb(t):\n",
        "    res = CELLSempty(t)/(CELLShive+1)\n",
        "    if (res < SUPtreshold):\n",
        "        return res / SUPtreshold\n",
        "    else :\n",
        "        return 1  \n",
        "\n",
        "#--------------------------------------------------------------#\n",
        "\n",
        "# Facteur stochastique (aléatoire) du taux de ponte\n",
        "@lru_cache(maxsize = None)\n",
        "def ELRstoch():\n",
        "    return rd.uniform(-ELRstochrange,ELRstochrange)\n",
        "\n",
        "#--------------------------------------------------------------#\n",
        "\n",
        "# Fonction prédictive du taux de ponte de la reine\n",
        "@lru_cache(maxsize = None) \n",
        "def ELR(t):\n",
        "    return ELRbase*(1+ELRstoch())*(1-season(t))*SUPcomb(t)  \n",
        "\n",
        "#--------------------------------------------------------------#    "
      ],
      "execution_count": 751,
      "outputs": []
    },
    {
      "cell_type": "markdown",
      "metadata": {
        "id": "p_t3MbTS9T8f"
      },
      "source": [
        "### **OEUFS DANS LA RUCHE (2.2)**"
      ]
    },
    {
      "cell_type": "code",
      "metadata": {
        "id": "CgVXHEiunK1v"
      },
      "source": [
        "#--------------------------------------------------------------#    \n",
        "\n",
        "# Nombre d'oeuf au stade i à un instant t\n",
        "@lru_cache(maxsize = None)\n",
        "def EGGS(i,t):\n",
        "    if (t<=0) :\n",
        "        return 0\n",
        "    # i désigne l'âge de l'individu immature, t le jour\n",
        "    if i==1 :\n",
        "        return ELR(t-1) * (1-MORTALITYeggs)\n",
        "    elif i==2 or i==3 :\n",
        "        return EGGS(i-1,t-1)*(1-MORTALITYeggs)\n",
        "    else :\n",
        "        # Exception, la fonction EGGS n'est pas définie pour i qui n'appartient pas à [|1;3|]\n",
        "        print('Erreur, l age i n est pas possible pour la fonction EGGS daprès le modele')\n",
        "        return (-1)\n",
        "\n",
        "#--------------------------------------------------------------#    \n",
        "\n",
        "# Nombre de cellules contenant des oeufs dans la ruche à un instant t\n",
        "@lru_cache(maxsize = None) \n",
        "def CELLSeggs(t):\n",
        "  # Nombre total d'oeuf dans la ruche à un instant t \n",
        "  return int(sum([EGGS(i,t) for i in range(1,LIFESPANegg+1)]))\n",
        "\n",
        "#--------------------------------------------------------------#   "
      ],
      "execution_count": 752,
      "outputs": []
    },
    {
      "cell_type": "markdown",
      "metadata": {
        "id": "9-0y9kF4-zrS"
      },
      "source": [
        "### **LARVES DANS LA RUCHE (2.2)**"
      ]
    },
    {
      "cell_type": "code",
      "metadata": {
        "id": "eFk3EFe7ezK0"
      },
      "source": [
        "#--------------------------------------------------------------#\n",
        "\n",
        "# Taux de cannibalisme des larves\n",
        "@lru_cache(maxsize = None)\n",
        "def CANNIBALISMlarvae(i,t):\n",
        "    return(CANNIBALISMbase[i-1]*(1-(INDEXpollensituation(t-1)*INDEXnursingquality(t-1))))\n",
        "\n",
        "#--------------------------------------------------------------#  \n",
        "\n",
        "# Taux de larves survivantes\n",
        "@lru_cache(maxsize = None)\n",
        "def SURVIVALlarvae(i,t):\n",
        "    return((1-CANNIBALISMlarvae(i,t))*(1-MORTALITYlarvae))\n",
        "\n",
        "#--------------------------------------------------------------#  \n",
        "\n",
        "# Nombre de larves au stade i à un instant t\n",
        "@lru_cache(maxsize = None)\n",
        "def LARVAE(i,t):\n",
        "    if (t<=0) :\n",
        "        return 0\n",
        "  # i désigne l'âge de l'individu immature, t le jour considéré\n",
        "    if i==1 :\n",
        "        return EGGS(LIFESPANegg,t-1)*SURVIVALlarvae(1,t)\n",
        "    elif i>1 and i<=LIFESPANlarvae :\n",
        "        return LARVAE(i-1,t-1)*SURVIVALlarvae(i,t)\n",
        "    else :\n",
        "        # Exception, la fonction LARVAE n'est pas définie pour i qui n'appartient pas à [|1;LIFESPANlarvae|]\n",
        "        print('Erreur, l age i n est pas possible pour la fonction LARVAE daprès le modele')\n",
        "        return (-1)\n",
        "\n",
        "#--------------------------------------------------------------#\n",
        "\n",
        "# Nombre de cellules contenant des larves dans la ruche à un instant t\n",
        "@lru_cache(maxsize = None) \n",
        "def CELLSlarvae(t):\n",
        "  # Nombre total de larves dans la ruche à un instant t  \n",
        "  return int(sum([LARVAE(i,t) for i in range(1,LIFESPANlarvae+1)]))\n",
        "\n",
        "#--------------------------------------------------------------#"
      ],
      "execution_count": 753,
      "outputs": []
    },
    {
      "cell_type": "markdown",
      "metadata": {
        "id": "GiwfCvMx_Ypb"
      },
      "source": [
        "### **PUPES DANS LA RUCHE (2.2)**"
      ]
    },
    {
      "cell_type": "code",
      "metadata": {
        "id": "b8pdsGN3QvDq"
      },
      "source": [
        "#--------------------------------------------------------------#\n",
        "\n",
        "# Nombre de pupes au stade i à un instant t\n",
        "@lru_cache(maxsize = None)\n",
        "def PUPAE(i,t):\n",
        "    if (t<=0) :\n",
        "        return 0\n",
        "    # i désigne l'âge de l'individu immature, t le jour\n",
        "    if i==1 :\n",
        "        return int(LARVAE(LIFESPANlarvae,t-1)*(1-MORTALITYpupae))\n",
        "    elif i>1 and i<=LIFESPANpupae :\n",
        "        return int(PUPAE(i-1,t-1)*(1-MORTALITYpupae))\n",
        "    else :\n",
        "        # Exception, la fonction PUPAE n'est pas définie pour i qui n'appartient pas à [|1;LIFESPANpupae|]\n",
        "        print('Erreur, l age i n est pas possible pour la fonction PUPAE daprès le modele')\n",
        "        return (-1)\n",
        "\n",
        "#--------------------------------------------------------------#\n",
        "\n",
        "# Nombre de cellules contenant des pupes dans la ruche à un instant t \n",
        "@lru_cache(maxsize = None)\n",
        "def CELLSpupae(t):\n",
        "  # Nombre total de pupes dans la ruche à un instant t  \n",
        "  return int(sum([PUPAE(i,t) for i in range(1,LIFESPANpupae+1)]))\n",
        "\n",
        "#--------------------------------------------------------------#"
      ],
      "execution_count": 754,
      "outputs": []
    },
    {
      "cell_type": "markdown",
      "metadata": {
        "id": "Ql4CeX-nAokK"
      },
      "source": [
        "### **CELLULES DU COUVAIN DANS LA RUCHE (2.2)**"
      ]
    },
    {
      "cell_type": "code",
      "metadata": {
        "id": "lkXnBYhfWBQg"
      },
      "source": [
        "#--------------------------------------------------------------#\n",
        "@lru_cache(maxsize = None)\n",
        "def CELLSbrood(t):\n",
        "  # Nombre d'individus en phase de développement dans la ruche (oeufs+larves+pupes)\n",
        "  return int(CELLSeggs(t) + CELLSlarvae(t) + CELLSpupae(t))\n",
        "#--------------------------------------------------------------#  "
      ],
      "execution_count": 755,
      "outputs": []
    },
    {
      "cell_type": "markdown",
      "metadata": {
        "id": "UMk65x_EAvZa"
      },
      "source": [
        "### **MORTALITE DES ABEILLES ADULTES (2.3)**"
      ]
    },
    {
      "cell_type": "code",
      "metadata": {
        "id": "AZcqAmFdEJjE"
      },
      "source": [
        "#--------------------------------------------------------------#\n",
        "\n",
        "# Taux de mortalité des abeilles adultes à un instant t\n",
        "@lru_cache(maxsize = None)\n",
        "def MORTALITYadult(t):\n",
        "    return MORTALITYadultbase + MORTALITYnursing*(NURSES(t-1)/(BEESadult(t-1)+1))+MORTALITYprocessing*(PROCESSORS(t-1)/(BEESadult(t-1)+1))+MORTALITYforaging*(FORAGERSactive(t-1)/(BEESadult(t-1)+1))\n",
        "\n",
        "#--------------------------------------------------------------#\n",
        "\n",
        "# Nombre d'abeilles adultes à un instant t\n",
        "#@lru_cache(maxsize = None)\n",
        "def BEESadult(t):\n",
        "    if (t<=0) :\n",
        "        return BEESadultINIT\n",
        "    else :\n",
        "        return int((BEESadult(t-1)+PUPAE(LIFESPANpupae,t-1))*(1-MORTALITYadult(t)))\n",
        "\n",
        "#--------------------------------------------------------------#"
      ],
      "execution_count": 756,
      "outputs": []
    },
    {
      "cell_type": "markdown",
      "metadata": {
        "id": "_87lFWAQBhga"
      },
      "source": [
        "### **INFLUENCE DE LA TEMPERATURE ET DU CLIMAT SUR LE BUTINAGE (2.4)**"
      ]
    },
    {
      "cell_type": "markdown",
      "metadata": {
        "id": "P-55XETCFR5B"
      },
      "source": [
        "Le principe théorique appliqué à la partie ci-dessous est :\n",
        "\n",
        "*   Récupérer les données du jour concerné (sans celles de la nuit)\n",
        "*   Convertir les données des variables (dépendamment de la nature et du processus de la fonction) en un index.\n",
        "*   Ajouter la valeur normalisée (l'index) dans une liste\n",
        "*   Retourner un index moyen de cette liste d'index\n",
        "\n",
        "\n"
      ]
    },
    {
      "cell_type": "code",
      "metadata": {
        "id": "-f7KBroOu-qe"
      },
      "source": [
        "#--------------------------------------------------------------#\n",
        "# Permet de définir si une année est bissextile (non implémenté dans le modèle)\n",
        "def estBissextile(year) :\n",
        "  bool_biss = False\n",
        "  if (year%4==0 and year%100!=0 or year%400==0):\n",
        "    bool_biss = True\n",
        "  else : \n",
        "    print(year, \"est une année non bissextile\")\n",
        "  return bool_biss\n",
        "\n",
        "#--------------------------------------------------------------#  \n",
        "# Donne la température pour le jour t\n",
        "# On utilise uniquement les données des témpératures comprises entre \n",
        "# L'heure ou le soleil se lève et se couche\n",
        "@lru_cache(maxsize = None) \n",
        "def TEMP(t):\n",
        "  liste_data = get_dataOfTheDay(t)\n",
        "  liste_data_temp = []\n",
        "  #Récupère les data de température uniquement et retourne leur liste\n",
        "  for i in range(len(liste_data)):\n",
        "    liste_data_temp.append(liste_data[i][2])\n",
        "  return liste_data_temp\n",
        "#--------------------------------------------------------------#  \n",
        "# Donne la durée (en heures) pednant laquelle il pleut lorsqu'il fait jour \n",
        "@lru_cache(maxsize = None)\n",
        "def HOURSraining_during_daylight(t):\n",
        "  liste_data = get_dataOfTheDay(t)\n",
        "  liste_data_rain = []\n",
        "  hours_Day_Light = HOURSdaylight(t)\n",
        "  #Récupère les data de pluie uniquement et retourne leur liste\n",
        "  for i in range(len(liste_data)):\n",
        "    liste_data_rain.append(liste_data[i][3])\n",
        "  nb_hours_rain = []\n",
        "  precipitation = liste_data_rain\n",
        "  for i in range(len(precipitation)):\n",
        "    value = precipitation[i]\n",
        "    if (value != 0) : \n",
        "      nb_hours_rain.append(value)\n",
        "  return len(nb_hours_rain)\n",
        "\n",
        " \n",
        "# Donne la durée (en heures) pendant laquelle il fait jour\n",
        "# (On pourrait faire une soustraction des heures de coucher et lever du soleil)\n",
        "# Mais le nombre de données par heure n'est pas toujours égal au nombre d'heures\n",
        "# d'ensoleillement.\n",
        "@lru_cache(maxsize = None)\n",
        "def HOURSdaylight(t):\n",
        "  liste_data = get_dataOfTheDay(t)\n",
        "  return len(liste_data)\n",
        "\n",
        "#--------------------------------------------------------------#\n",
        "# Taux de pluie lorsqu'il fait jour\n",
        "@lru_cache(maxsize = None)\n",
        "def RAIN(t):\n",
        "    if (t<=0):\n",
        "        return 0\n",
        "    else:\n",
        "        if (HOURSdaylight(t)==0):\n",
        "          return HOURSraining_during_daylight(t)\n",
        "        else :\n",
        "          return (HOURSraining_during_daylight(t)/HOURSdaylight(t))\n",
        "\n",
        "#--------------------------------------------------------------#\n",
        "# Proche de 1 -> la pluie n'a pas empêché les abeilles d'aller butiner au jour t. \n",
        "# Proche de 0 -> la pluie a empêché les abeilles d'aller butiner pendant la quasi totalité de la journée.\n",
        "@lru_cache(maxsize = None)\n",
        "def INDEXrain(t):\n",
        "    if ((1-RAIN(t)) < 0) :\n",
        "      return 0\n",
        "    else :\n",
        "      return 1-RAIN(t)\n",
        "\n",
        "#--------------------------------------------------------------#\n",
        "# Proche de 1 -> la température était favorable au butinage au jour t. \n",
        "# Proche de 0 -> la température a empêché les abeilles d'aller butiner pendant la quasi totalité de la journée.\n",
        "@lru_cache(maxsize = None)\n",
        "def INDEXtemperature(t):\n",
        "    if (t<= 0):\n",
        "        return 0\n",
        "    else:\n",
        "        temp = TEMP(t)\n",
        "        index_res = []\n",
        "        for i in range(len(temp)):\n",
        "          value = temp[i]\n",
        "          if (value <= 14):\n",
        "            index_res.append(0)\n",
        "          if (value>14 and value<=22):\n",
        "            res = (value - 14)/8\n",
        "            index_res.append(res)\n",
        "          if (value>22 and value<=32):\n",
        "            index_res.append(1)\n",
        "          if (value>32 and value<=40):\n",
        "            res = (40-value)/8\n",
        "            index_res.append(res)\n",
        "          if (value>40):\n",
        "            index_res.append(0)\n",
        "    if len(temp)==0:\n",
        "      return 0\n",
        "    else :\n",
        "      return sum(index_res)/len(temp)\n",
        "#--------------------------------------------------------------# \n",
        "# Index du vent en fonction de sa vitesse\n",
        "# 0 les abeilles ne sortent pas (vent > 45 km/h)\n",
        "# 1 les abeilles sortent (vent < 45km/h)\n",
        "def INDEXwind(t):\n",
        "  liste_data = get_dataOfTheDay(t)\n",
        "  liste_data_wind = []\n",
        "  #Récupère les data de vent uniquement et retourne leur liste\n",
        "  for i in range(len(liste_data)):\n",
        "    liste_data_wind.append(liste_data[i][5])\n",
        "\n",
        "  wind = liste_data_wind\n",
        "  index_res = []\n",
        "  for i in range(len(wind)):\n",
        "    value = wind[i]\n",
        "    if (value>=0 and value<=max_wind):\n",
        "      index_res.append(1-(value/max_wind))\n",
        "    else :\n",
        "      index_res.append(0)\n",
        "  if len(wind) == 0:\n",
        "    return 0\n",
        "  else :\n",
        "    return sum(index_res)/len(wind)\n",
        "#--------------------------------------------------------------#  \n",
        "# Proche de 1 -> Les conditions climatiques étaient favorables au butinage. \n",
        "# Proche de 0 -> Les conditions climatiques ont empêché les abeilles d'aller butiner pendant la quasi totalité de la journée.\n",
        "@lru_cache(maxsize = None)\n",
        "def INDEXflight(t):\n",
        "    return INDEXrain(t) * INDEXtemperature(t) * INDEXwind(t)\n",
        "\n",
        "#--------------------------------------------------------------# \n",
        "#Ajout de la contrainte d'humidité (<60% pas de nectar)\n",
        "@lru_cache(maxsize = None)\n",
        "def INDEXnectaroutside(t):\n",
        "  liste_data = get_dataOfTheDay(t)\n",
        "  liste_data_humidity = []\n",
        "  #Récupère les data d'humidité uniquement et retourne leur liste\n",
        "  for i in range(len(liste_data)):\n",
        "    liste_data_humidity.append(liste_data[i][4])\n",
        "    \n",
        "  humidity = liste_data_humidity\n",
        "  index_res = []\n",
        "  for i in range(len(humidity)):\n",
        "    value = humidity[i]\n",
        "    if (value<min_humidity):\n",
        "      index_res.append(0)\n",
        "    else :\n",
        "      index_res.append(min((1-season(t))*1.5,1))\n",
        "  if len(humidity) == 0:\n",
        "    return 0\n",
        "  else :\n",
        "    return sum(index_res)/len(humidity)\n",
        "\n",
        "#--------------------------------------------------------------# \n",
        "@lru_cache(maxsize = None)\n",
        "def INDEXpollenoutside(t):\n",
        "    return min((1-season(t))*1.5,1)\n",
        "\n",
        "#--------------------------------------------------------------#"
      ],
      "execution_count": 757,
      "outputs": []
    },
    {
      "cell_type": "markdown",
      "metadata": {
        "id": "Zmzg5lrXCvt_"
      },
      "source": [
        "### **DECISION ET REGULATION DES TACHES DE TRAVAIL (2.5 et 2.6)**"
      ]
    },
    {
      "cell_type": "code",
      "metadata": {
        "id": "ZV8xoq3DO1Gi"
      },
      "source": [
        "#--------------------------------------------------------------#\n",
        "\n",
        "# Modelise le besoin journalier en abeilles travailleuses\n",
        "@lru_cache(maxsize = None)\n",
        "def NEEDworkers(t):\n",
        "    return NEEDnurses(t)+NEEDpollenforagers(t)\n",
        "\n",
        "#--------------------------------------------------------------#\n",
        "\n",
        "# calcul le ratio des abeilles disponibles pour le travail\n",
        "# si ratio < 1 alors (1-RATIOworkforce(t)) du travail necessaire ne sera pas effectué\n",
        "@lru_cache(maxsize = None)\n",
        "def RATIOworkforce(t):\n",
        "    ratio=(BEESadult(t)*(1-FACTORothertasks))/(NEEDworkers(t)+1)\n",
        "    if ratio<1:\n",
        "        return ratio\n",
        "    else:\n",
        "        return 1\n",
        "\n",
        "#--------------------------------------------------------------#\n",
        "\n",
        "# Somme toute les demandes nouricieres de chaque couvins\n",
        "@lru_cache(maxsize = None)\n",
        "def NEEDnurses(t):\n",
        "    total=0\n",
        "    for i in range(1,LIFESPANlarvae+1):\n",
        "        total+=LARVAE(i,t)*NEEDnurses_per_larva[i-1]\n",
        "    return int(total+(CELLSeggs(t)*NEEDnurses_per_egg)+(CELLSpupae(t)*NEEDnurses_per_pupa))\n",
        "\n",
        "#--------------------------------------------------------------#\n",
        "\n",
        "# Nombre d'abeilles nouricieres actives\n",
        "@lru_cache(maxsize = None)\n",
        "def NURSES(t):\n",
        "    return (NEEDnurses(t)*RATIOworkforce(t))\n",
        "\n",
        "#--------------------------------------------------------------#\n",
        "\n",
        "# Permet de modeliser une importante boucle de retour\n",
        "@lru_cache(maxsize = None)\n",
        "def INDEXnursingquality(t):\n",
        "    return NURSES(t)/(NEEDnurses(t)+1)\n",
        "\n",
        "#--------------------------------------------------------------#"
      ],
      "execution_count": 758,
      "outputs": []
    },
    {
      "cell_type": "markdown",
      "metadata": {
        "id": "C_qlQ1nBHEtn"
      },
      "source": [
        "### **BUTINAGE ET BESOINS EN RESSOURCES (2.7)**"
      ]
    },
    {
      "cell_type": "code",
      "metadata": {
        "id": "PbGTqe2FP3t9"
      },
      "source": [
        "#--------------------------------------------------------------#\n",
        "\n",
        "# Calcule le nombre de butineuses potentielles\n",
        "@lru_cache(maxsize = None)\n",
        "def FORAGERS(t):\n",
        "\treturn int(FORAGERSpollen(t) + FORAGERSnectar(t))\n",
        "\n",
        "#--------------------------------------------------------------#\n",
        "\n",
        "# Calcule le nombre de butineuses qui sortent de la ruche\n",
        "@lru_cache(maxsize = None)\n",
        "def FORAGERSactive(t):\n",
        "\treturn (FORAGERSpollenactive(t) + FORAGERSnectaractive(t))\n",
        "\n",
        "#--------------------------------------------------------------#\n",
        "\n",
        "# Nombre d'abeilles butineuses actives\n",
        "@lru_cache(maxsize = None)\n",
        "def FORAGERSnectaractive(t):\n",
        "    return FORAGERSnectar(t)*INDEXflight(t)*INDEXnectaroutside(t)\n",
        "\n",
        "#--------------------------------------------------------------#\n",
        "\n",
        "# Nombre d'abeilles disponibles pour aller recolter du nectar\n",
        "@lru_cache(maxsize = None)\n",
        "def FORAGERSnectar(t):\n",
        "    return min(BEESadult(t)*FACTORforagingmax-FORAGERSpollen(t),WORKFORCEnectar(t)-PROCESSORS(t))\n",
        "\n",
        "#--------------------------------------------------------------#\n",
        "\n",
        "# Besoin en pollen total\n",
        "@lru_cache(maxsize = None)\n",
        "def NEEDpollen(t):\n",
        "    if (t<=0):\n",
        "        return 0\n",
        "    else:\n",
        "        return NEEDpollen_larvae(t)+NEEDpollen_adult(t)\n",
        "\n",
        "#--------------------------------------------------------------#\n",
        "\n",
        "# Calcule le besoin en pollen de la part des larves\n",
        "@lru_cache(maxsize = None)\n",
        "def NEEDpollen_larvae(t):\n",
        "    res = 0\n",
        "    for i in range(1,LIFESPANlarvae+1):\n",
        "        res = res + POLLENNEEDlarva[i-1]*LARVAE(i,t)\n",
        "    return res\n",
        "\n",
        "#--------------------------------------------------------------#\n",
        "\n",
        "# Calcule le besoin en pollen de la part des abeilles adultes\n",
        "@lru_cache(maxsize = None)\n",
        "def NEEDpollen_adult(t):\n",
        "    return BEESadult(t)*POLLENNEEDadult + NURSES(t)*POLLENNEEDnurse\n",
        "\n",
        "#--------------------------------------------------------------#\n",
        "\n",
        "# Calcule le besoin journalier en pollen à recolter basé sur les reserves moyenées entre j0 et j-2\n",
        "@lru_cache(maxsize = None)\n",
        "def NEEDpollenincome(t):\n",
        "    acc = 0\n",
        "    for d in range(3):\n",
        "        acc = acc + NEEDpollen(t-d)\n",
        "    acc = acc/3 * FACTORpollenstorage - STORESpollen(t)\n",
        "    return max(0, acc)\n",
        "\n",
        "#--------------------------------------------------------------#\n",
        "\n",
        "# Calcule le nombre de butineuses de pollen requis\n",
        "@lru_cache(maxsize = None)\n",
        "def NEEDpollenforagers(t):\n",
        "    return (NEEDpollenincome(t-1) / (LOADpollenforager*TURNSpollenforager*FACTORforagingsuccess))\n",
        "\n",
        "#--------------------------------------------------------------#\n",
        "\n",
        "# Calcule le nombre potentiel de butineuses de pollen\n",
        "@lru_cache(maxsize = None)\n",
        "def FORAGERSpollen(t):\n",
        "    maximum = max(NEEDpollenforagers(t)*RATIOworkforce(t), (BEESadult(t)-NURSES(t))*FACTORminpollenforagers )\n",
        "    return min(maximum, BEESadult(t)*FACTORforagingmax)\n",
        "\n",
        "#--------------------------------------------------------------#\n",
        "\n",
        "# Calcule le nombre de butineuses de pollen qui sortent de la ruche\n",
        "@lru_cache(maxsize = None)\n",
        "def FORAGERSpollenactive(t):\n",
        "    return FORAGERSpollen(t)*INDEXflight(t)*INDEXpollenoutside(t)\n",
        " \n",
        "\n",
        "#--------------------------------------------------------------#\n",
        "\n",
        "# Calcule le besoin journalier en nectar de la ruche\n",
        "@lru_cache(maxsize = None)\n",
        "def NEEDnectar(t):\n",
        "    return NEEDnectar_larvae(t)+NEEDnectar_adult(t)\n",
        "#--------------------------------------------------------------#\n",
        "\n",
        "# Calcule le besoin en nectar de la part des larves\n",
        "@lru_cache(maxsize = None)\n",
        "def NEEDnectar_larvae(t):\n",
        "    acc = 0\n",
        "    for i in range(1,LIFESPANlarvae+1):\n",
        "        acc = acc + (NECTARNEEDlarva[i-1]*LARVAE(i,t))\n",
        "    return acc\n",
        "\n",
        "#--------------------------------------------------------------#\n",
        "\n",
        "# Calcule la demande en nectar de la part des abeilles adultes\n",
        "@lru_cache(maxsize = None)\n",
        "def NEEDnectar_adult(t):\n",
        "    # nectar necessaire pour les abeilles adultes\n",
        "    nectar_adults = BEESadult(t)*NECTARNEEDadult\n",
        "\n",
        "    # nectar necessaire pour les abeilles nouricieres\n",
        "    nectar_nurses = NURSES(t)*NECTARNEEDnurse\n",
        "\n",
        "    # nectar necessaire pour les butineuses actives\n",
        "    nectar_foragers = FORAGERSactive(t)*NECTARNEEDactiveforager\n",
        "\n",
        "    # Retourne la demande en nectar des abeilles adultes\n",
        "    return nectar_adults+nectar_nurses+nectar_foragers\n",
        "\n",
        "#--------------------------------------------------------------#\n",
        "\n",
        "# Calcule la force de travail restante pour le nectar\n",
        "@lru_cache(maxsize = None)\n",
        "def WORKFORCEnectar(t):\n",
        "    if RATIOworkforce(t)==1:\n",
        "        res = BEESadult(t)*(1-FACTORothertasks)\n",
        "        return res-NURSES(t)-FORAGERSpollen(t)\n",
        "    else :\n",
        "        return 0\n",
        "\n",
        "#--------------------------------------------------------------#"
      ],
      "execution_count": 759,
      "outputs": []
    },
    {
      "cell_type": "markdown",
      "metadata": {
        "id": "xoWB_GRcHcIK"
      },
      "source": [
        "### **FLUX DE RESSOURCES ET TRAITEMENT DE LA NOURRITURE AU SEIN DE LA COLONIE (2.8  et 2.9)**"
      ]
    },
    {
      "cell_type": "code",
      "metadata": {
        "id": "KUANae53mk-M"
      },
      "source": [
        "#--------------------------------------------------------------#\n",
        "\n",
        "# Permet de calculer le pollen produit chaque jour\n",
        "@lru_cache(maxsize = None)\n",
        "def INCOMEpollen(t):\n",
        "    return FORAGERSpollenactive(t) * LOADpollenforager * TURNSpollenforager * FACTORforagingstoch(t) * FACTORforagingsuccess\n",
        "\n",
        "#--------------------------------------------------------------#\n",
        "\n",
        "# Permet de calculer le facteur stochastique\n",
        "@lru_cache(maxsize = None)\n",
        "def FACTORforagingstoch(t):\n",
        "    return(rd.uniform(1-stochasticForagingFactor , 1+stochasticForagingFactor))\n",
        "\n",
        "#--------------------------------------------------------------#\n",
        "\n",
        "# Decrit le niveau de pollen stocké par rapport aux besoins de la population\n",
        "@lru_cache(maxsize = None)\n",
        "def INDEXpollensituation(t):\n",
        "    return min([1 , (STORESpollen(t)) / (NEEDpollen(t)*FACTORpollenstorage+1)])\n",
        "\n",
        "#--------------------------------------------------------------#\n",
        "\n",
        "# Décrit la production de nectar\n",
        "@lru_cache(maxsize = None)\n",
        "def INCOMEnectar(t):\n",
        "    return (min([FORAGERSnectaractive(t) * LOADnectarforager * TURNSnectarforager * FACTORforagingstoch(t) * FACTORforagingsuccess , CELLSempty(t-1)]))\n",
        "\n",
        "#--------------------------------------------------------------#\n",
        "\n",
        "# Determine les processeurs de nectar necessaires\n",
        "@lru_cache(maxsize = None)\n",
        "def NEEDprocessors(t):\n",
        "    return STORESnectar(t-1) * ProcessorsPerCell\n",
        "\n",
        "#--------------------------------------------------------------#\n",
        "\n",
        "@lru_cache(maxsize = None)\n",
        "def PROCESSORS(t):\n",
        "    return (min([NEEDprocessors(t) , WORKFORCEnectar(t)]))\n",
        "\n",
        "#--------------------------------------------------------------#\n",
        "\n",
        "# Determine le nectar produit \n",
        "@lru_cache(maxsize = None)\n",
        "def PROCESSEDnectar(t):\n",
        "    return (min([STORESnectar(t-1) - USAGEnectar(t) , PROCESSORS(t) / ProcessorsPerCell]))\n",
        "\n",
        "#--------------------------------------------------------------#"
      ],
      "execution_count": 760,
      "outputs": []
    },
    {
      "cell_type": "markdown",
      "metadata": {
        "id": "mj2uDjYEIdIC"
      },
      "source": [
        "### **GESTION DES RESSOURCES ET TRAITEMENT (2.10)**"
      ]
    },
    {
      "cell_type": "code",
      "metadata": {
        "id": "ZijEi2ayopcG"
      },
      "source": [
        "#--------------------------------------------------------------#\n",
        "\n",
        "# Modelise l'utilisation du nectar dans la colonie\n",
        "@lru_cache(maxsize = None)\n",
        "def USAGEnectar(t):\n",
        "    liste_var = []\n",
        "    needNectar_var = NEEDnectar(t)\n",
        "    storeNectar_var = STORESnectar(t-1)\n",
        "    liste_var.append(needNectar_var)\n",
        "    liste_var.append(storeNectar_var)\n",
        "    return min(liste_var)\n",
        "\n",
        "#--------------------------------------------------------------#\n",
        "\n",
        "#Modelise l'utilisation du pollen dans la colonie\n",
        "@lru_cache(maxsize = None)\n",
        "def USAGEpollen(t):\n",
        "    liste_var = []\n",
        "    needPollen_var = NEEDpollen(t-1)*(1-(FACTORpollensavingmax*(1-INDEXpollensituation(t-1))))\n",
        "    storePollen_var = STORESpollen(t-1)\n",
        "\n",
        "    liste_var.append(needPollen_var)\n",
        "    liste_var.append(storePollen_var)\n",
        "    return min(liste_var)\n",
        "\n",
        "#--------------------------------------------------------------#\n",
        "\n",
        "# Modelise l'utilisation du miel dans la colonie\n",
        "@lru_cache(maxsize = None)\n",
        "def USAGEhoney(t):\n",
        "    liste_var = []\n",
        "    storeHoney_var = STOREShoney(t-1)\n",
        "    nectar_var = (NEEDnectar(t)-USAGEnectar(t))*RATIOnectar_to_honey\n",
        "\n",
        "    liste_var.append(storeHoney_var)\n",
        "    liste_var.append(nectar_var)\n",
        "    return min(liste_var)\n",
        "\n",
        "\n",
        "#--------------------------------------------------------------#\n",
        "\n",
        "# Modelise le stockage du pollen dans la colonie\n",
        "@lru_cache(maxsize = None)\n",
        "def STORESpollen(t):\n",
        "    if (t<=0):\n",
        "        return 0\n",
        "    else:\n",
        "        return STORESpollen(t-1)+INCOMEpollen(t)-USAGEpollen(t)\n",
        "\n",
        "#--------------------------------------------------------------#\n",
        "\n",
        "# Modelise le stockage du nectar dans la colonie\n",
        "@lru_cache(maxsize = None)\n",
        "def STORESnectar(t):\n",
        "    if (t<=0):\n",
        "        return 0\n",
        "    else :\n",
        "        return STORESnectar(t-1)+INCOMEnectar(t)-USAGEnectar(t)-PROCESSEDnectar(t)\n",
        "\n",
        "#--------------------------------------------------------------#\n",
        "\n",
        "# Modelise le stockage du miel dans la colonie\n",
        "@lru_cache(maxsize = None)\n",
        "def STOREShoney(t):\n",
        "    if (t<=0):\n",
        "        return STOREShoneyINIT\n",
        "    else :  \n",
        "        return STOREShoney(t-1)-USAGEhoney(t)+(PROCESSEDnectar(t)*RATIOnectar_to_honey)\n",
        "\n",
        "#--------------------------------------------------------------#\n",
        "\n",
        "# Modelise le poids de la colonie\n",
        "@lru_cache(maxsize = None)\n",
        "def WEIGHTcolony(t):\n",
        "    somme_res = 0\n",
        "    for i in range (1, LIFESPANlarvae):\n",
        "        somme_res += w_larva[i-1]*LARVAE(i,t)\n",
        "        return 1/1000 * (w_hivebase + (w_cellsbase * CELLShive) + (w_pollen * STORESpollen(t)) + (w_nectar * STORESnectar(t)) + (w_honey * STOREShoney(t)) + (w_egg * CELLSeggs(t)) + (w_pupa * CELLSpupae(t)) + somme_res + w_adult * BEESadult(t) )\n",
        "\n",
        "#--------------------------------------------------------------#\n",
        "\n",
        "# Modelise le nombre d'abeilles paresseuses dans la colonie\n",
        "@lru_cache(maxsize = None)\n",
        "def BEESlazy(t):\n",
        "    return (BEESadult(t)*(1-FACTORothertasks))-FORAGERSactive(t)-NURSES(t)-PROCESSORS(t)\n",
        "\n",
        "#--------------------------------------------------------------#"
      ],
      "execution_count": 761,
      "outputs": []
    },
    {
      "cell_type": "markdown",
      "metadata": {
        "id": "L3lVb-NZJeSt"
      },
      "source": [
        "### **TEST DES FONCTIONS**"
      ]
    },
    {
      "cell_type": "code",
      "metadata": {
        "id": "0_LwLUeBKuan"
      },
      "source": [
        ""
      ],
      "execution_count": 761,
      "outputs": []
    },
    {
      "cell_type": "markdown",
      "metadata": {
        "id": "QIhERHu0IxDd"
      },
      "source": [
        "## **PARTIE LPO**"
      ]
    },
    {
      "cell_type": "markdown",
      "metadata": {
        "id": "5zAOnpuiyxOE"
      },
      "source": [
        "### **TRAITEMENT LPO**"
      ]
    },
    {
      "cell_type": "code",
      "metadata": {
        "id": "ZKJV7ArMgS_q"
      },
      "source": [
        "# Définition de la fonction HoPoMo liant toutes les fonctions du modèle précédent.\n",
        "def HOPOMO(nbdays):\n",
        "    date = []\n",
        "    seasonVar = []\n",
        "    beesadult = []\n",
        "    beeslazy = []\n",
        "    cellsbrood = []\n",
        "    cellseggs = []\n",
        "    cellsempty = []\n",
        "    cellslarvae = []\n",
        "    cellspupae = []\n",
        "    elr = []\n",
        "    foragers = []\n",
        "    foragersactive = []\n",
        "    foragersnectar = []\n",
        "    foragersnectaractive = []\n",
        "    foragersnectaractiveTEST = []\n",
        "    foragerspollen = []\n",
        "    foragerspollenactive = []\n",
        "    incomenectar = []\n",
        "    incomepollen = []\n",
        "    indexflight = []\n",
        "    indexrain = []\n",
        "    indexvent = []\n",
        "    # indexhumidity = []\n",
        "    indextemperature = []\n",
        "    indexnectaroutside = []\n",
        "    indexnursingquality = []\n",
        "    indexpollenoutside = []\n",
        "    indexpollensituation = []\n",
        "    larvae1 = []\n",
        "    larvae2 = []\n",
        "    larvae3 = []\n",
        "    larvae4 = []\n",
        "    larvae5 = []\n",
        "    mortalityadult = []\n",
        "    neednectar = []\n",
        "    neednectar_adult = []\n",
        "    neednectar_larvae = []\n",
        "    neednurses = []\n",
        "    needpollen = []\n",
        "    needpollen_adult = []\n",
        "    needpollen_larvae = []\n",
        "    needpollenforagers = []\n",
        "    needpollenincome = []\n",
        "    needprocessors = []\n",
        "    needworkers = []\n",
        "    nurses = []\n",
        "    processednectar = []\n",
        "    processors = []\n",
        "    ratioworkforce = []\n",
        "    storeshoney = []\n",
        "    storesnectar = []\n",
        "    storespollen = []\n",
        "    supcomb = []\n",
        "    #temp = np.concatenate([temp1,temp2])\n",
        "    #temp1 = np.linspace(15, 35, 183)\n",
        "    #temp2 = np.linspace(35, 15, 183)\n",
        "    usagehoney = []\n",
        "    usagenectar = []\n",
        "    usagepollen = []\n",
        "    weightcolony = []\n",
        "    workforcenectar = []\n",
        "\n",
        "    t = np.arange(nbdays+1)\n",
        "    # nb_days est défini dans les paramètres à 364 lorsque l'on veut tester\n",
        "    # le modèle sur toute une année (2020 ici).\n",
        "    # Ce paramètre est redéfini dans la partie prévision (voir IMPORT DES DONNEES DE PREVISION)\n",
        "    for i in range(nb_days):\n",
        "        date.append(date_converter(i))\n",
        "        seasonVar.append(season(i))\n",
        "        beesadult.append(BEESadult(i))\n",
        "        beeslazy.append(BEESlazy(i))\n",
        "        cellsbrood.append(CELLSbrood(i))\n",
        "        cellseggs.append(CELLSeggs(i))\n",
        "        cellsempty.append(CELLSempty(i))\n",
        "        cellslarvae.append(CELLSlarvae(i))\n",
        "        cellspupae.append(CELLSpupae(i))\n",
        "        elr.append(ELR(i))\n",
        "        foragers.append(FORAGERS(i))\n",
        "        foragersactive.append(FORAGERSactive(i))\n",
        "        foragersnectar.append(FORAGERSnectar(i))\n",
        "        foragersnectaractive.append(FORAGERSnectaractive(i))\n",
        "        foragerspollen.append(FORAGERSpollen(i))\n",
        "        foragerspollenactive.append(FORAGERSpollenactive(i))\n",
        "        incomenectar.append(INCOMEnectar(i))\n",
        "        incomepollen.append(INCOMEpollen(i))\n",
        "        indexflight.append(INDEXflight(i))        \n",
        "        indexrain.append(INDEXrain(i))\n",
        "        indexvent.append(INDEXwind(i))\n",
        "        # indexhumidity.append(INDEXhumidity(i))\n",
        "        indextemperature.append(INDEXtemperature(i))\n",
        "        indexnectaroutside.append(INDEXnectaroutside(i))\n",
        "        indexnursingquality.append(INDEXnursingquality(i))\n",
        "        indexpollenoutside.append(INDEXpollenoutside(i))\n",
        "        indexpollensituation.append(INDEXpollensituation(i))\n",
        "        larvae1.append(LARVAE(1,i))\n",
        "        larvae2.append(LARVAE(2,i))\n",
        "        larvae3.append(LARVAE(3,i))\n",
        "        larvae4.append(LARVAE(4,i))\n",
        "        larvae5.append(LARVAE(5,i))\n",
        "        mortalityadult.append(MORTALITYadult(i))\n",
        "        neednectar_adult.append(NEEDnectar_adult(i))\n",
        "        neednectar_larvae.append(NEEDnectar_larvae(i))\n",
        "        neednectar.append(NEEDnectar(i))\n",
        "        neednurses.append(NEEDnurses(i))\n",
        "        needpollen_adult.append(NEEDpollen_adult(i))\n",
        "        needpollen_larvae.append(NEEDpollen_larvae(i))\n",
        "        needpollen.append(NEEDpollen(i))\n",
        "        needpollenforagers.append(NEEDpollenforagers(i))\n",
        "        needpollenincome.append(NEEDpollenincome(i))\n",
        "        needprocessors.append(NEEDprocessors(i))\n",
        "        needworkers.append(NEEDworkers(i))\n",
        "        nurses.append(NURSES(i))\n",
        "        processednectar.append(PROCESSEDnectar(i))\n",
        "        processors.append(PROCESSORS(i))\n",
        "        ratioworkforce.append(RATIOworkforce(i))\n",
        "        storeshoney.append(STOREShoney(i))\n",
        "        storesnectar.append(STORESnectar(i))\n",
        "        storespollen.append(STORESpollen(i))\n",
        "        supcomb.append(SUPcomb(i))\n",
        "        usagehoney.append(USAGEhoney(i))\n",
        "        usagenectar.append(USAGEnectar(i))\n",
        "        usagepollen.append(USAGEpollen(i))\n",
        "        weightcolony.append(WEIGHTcolony(i))\n",
        "        workforcenectar.append(WORKFORCEnectar(i))\n",
        "    hopomo = pd.DataFrame({\n",
        "        'date' : date,\n",
        "        'seasonVar' : seasonVar,\n",
        "        'beesadult' : beesadult,\n",
        "        'beeslazy' : beeslazy,\n",
        "        'cellsbrood' : cellsbrood,\n",
        "        'cellseggs' : cellseggs,\n",
        "        'cellsempty' : cellsempty,\n",
        "        'cellslarvae' : cellslarvae,\n",
        "        'cellspupae' : cellspupae,\n",
        "        'elr' : elr,\n",
        "        'foragers' : foragers,\n",
        "        'foragersactive' : foragersactive,\n",
        "        'foragersnectar' : foragersnectar,\n",
        "        'foragersnectaractive' : foragersnectaractive,\n",
        "        'foragerspollen' : foragerspollen,\n",
        "        'foragerspollenactive' : foragerspollenactive,\n",
        "        'incomenectar' : incomenectar,\n",
        "        'incomepollen' : incomepollen,\n",
        "        'indexflight' : indexflight,        \n",
        "        'indexrain' : indexrain,\n",
        "        'indexvent' : indexvent, \n",
        "        # 'indexhumidity' : indexhumidity,       \n",
        "        'indextemperature' : indextemperature,\n",
        "        'indexnectaroutside' : indexnectaroutside,\n",
        "        'indexnursingquality' : indexnursingquality,\n",
        "        'indexpollenoutside' : indexpollenoutside,\n",
        "        'indexpollensituation' : indexpollensituation,\n",
        "        'larvae1' : larvae1,\n",
        "        'larvae2' : larvae2,\n",
        "        'larvae3' : larvae3,\n",
        "        'larvae4' : larvae4,\n",
        "        'larvae5' : larvae5,\n",
        "        'mortalityadult' : mortalityadult,\n",
        "        'neednectar_adult' : neednectar_adult,\n",
        "        'neednectar_larvae' : neednectar_larvae,\n",
        "        'neednectar' : neednectar,\n",
        "        'neednurses' : neednurses,\n",
        "        'needpollen_adult' : needpollen_adult,\n",
        "        'needpollen_larvae' : needpollen_larvae,\n",
        "        'needpollen' : needpollen,\n",
        "        'needpollenforagers' : needpollenforagers,\n",
        "        'needpollenincome' : needpollenincome,\n",
        "        'needprocessors' : needprocessors,\n",
        "        'needworkers' : needworkers,\n",
        "        'nurses' : nurses,\n",
        "        'processednectar' : processednectar,\n",
        "        'processors' : processors,\n",
        "        'ratioworkforce' : ratioworkforce,\n",
        "        'storeshoney' : storeshoney,\n",
        "        'storesnectar' : storesnectar,\n",
        "        'storespollen' : storespollen,\n",
        "        'supcomb' : supcomb,\n",
        "        'usagehoney' : usagehoney,\n",
        "        'usagenectar' : usagenectar,\n",
        "        'usagepollen' : usagepollen,\n",
        "        'weightcolony' : weightcolony,\n",
        "        'workforcenectar' : workforcenectar,\n",
        "                                })\n",
        "    return hopomo"
      ],
      "execution_count": 762,
      "outputs": []
    },
    {
      "cell_type": "code",
      "metadata": {
        "id": "qz2DjVuYIxDe"
      },
      "source": [
        "# On lance le modèle\n",
        "hopomo = HOPOMO(nb_days)"
      ],
      "execution_count": 763,
      "outputs": []
    },
    {
      "cell_type": "code",
      "metadata": {
        "id": "D2NM7VqOIxDf"
      },
      "source": [
        "# On sauvegarde les résultats des fonctions dans un csv avec la date sous forme de liste pour une meilleur compréhension du fichier\n",
        "hopomo.to_csv(\"hopomo.csv\")\n",
        "hopomo.info()"
      ],
      "execution_count": null,
      "outputs": []
    },
    {
      "cell_type": "markdown",
      "metadata": {
        "id": "0uYNL2lCwC7D"
      },
      "source": [
        "### **GRAPHES ET COMPARAISON**"
      ]
    },
    {
      "cell_type": "markdown",
      "metadata": {
        "id": "fACMGvDqj66b"
      },
      "source": [
        "1. Comme proposé, nous comparons les courbes des couvains des ruches **R1** et **R6** situées à **Gelos** en **2020** avec notre courbe de couvain de la même année.\n",
        "Il est nécessaire pour réaliser cette comparaison de passer nos valeurs en pourcentage selon l'explication donnée suivante :\n",
        "\n",
        "  Le pourcentage de couvain peut être corrélé avec le nombre de cadres d'un couvain : 10% = 1 cadre, 80% = 8 cadres, etc\n",
        "\n",
        "  Dans la ruche il y a 10 cadres qui ont de chaque côté 4500 cellules ce qui dans le corps de 10 cadres fait : 4500x20 = 90,000 cellules\n",
        "\n",
        "  Puisque le couvain ne peut pas être à 100% partout (il faut de la place pour le nectar, du pollen etc) on prend un coef de remplissage de 50% et on finit par trouver que :\n",
        "\n",
        "  **Nb_Cells_Couvain_reel = couvain_mesure(%) * 0,5 * 90000**\n",
        "\n",
        "  Néanmoins, afin d'obtenir des courbes de même grandeur, le nombre de cellules a été adapté pour concorder au mieux avec les paramètres inconnus utilisés par R1 et R6.\n",
        "\n",
        "\n",
        "2. Nous affichons les **graphes principaux** résultant du traitement LPO, et celui de la comparaison des couvains (%)\n",
        "\n",
        "3. Nous affichons les **graphes secondaires** représentant d'autres variables telles que les stocks ou encore les index météorologiques."
      ]
    },
    {
      "cell_type": "markdown",
      "metadata": {
        "id": "9W-dPUm2m0dV"
      },
      "source": [
        "#### **1. COMPARAISON DES COUVAINS** "
      ]
    },
    {
      "cell_type": "code",
      "metadata": {
        "id": "q7qeYXAeFJwp"
      },
      "source": [
        "#Comparatif des couvain en pourcentage\n",
        "\n",
        "#Fonction de récupération des valeurs du couvain et transformation en pourcentages\n",
        "def getBroodValues():\n",
        "  varBrood = hopomo.cellsbrood\n",
        "  resBrood = []\n",
        "  max_cell = 100*0.5*435 #cf formule ci-dessus\n",
        "  print(max_cell)\n",
        "  for i in range(len(varBrood)):\n",
        "    resBrood.append((varBrood[i] * 100)/ max_cell )\n",
        "  return resBrood\n",
        "\n",
        "#Chargement des données .txt des ruches R1 et R6\n",
        "evolCouvR1 = pd.read_csv(\"/content/R1_couvain.txt\",sep=\"\\t\")\n",
        "evolCouvR2 = pd.read_csv(\"/content/R6_couvain.txt\",sep=\"\\t\")\n",
        "\n",
        "#Récupération des valeurs en pourcentage qui nous intérressent\n",
        "dataR1 = pd.DataFrame(evolCouvR1,columns=['pourc'])\n",
        "dataR2 = pd.DataFrame(evolCouvR2,columns=['pourc'])\n",
        "\n",
        "#Conversion en listes des données des couvains de R1 et R6\n",
        "list_DataevolCouvR1 = [list(row) for row in dataR1.values]\n",
        "dataListR1 = [item for sublist in list_DataevolCouvR1 for item in sublist]\n",
        "\n",
        "list_DataevolCouvR2 = [list(row) for row in dataR2.values]\n",
        "dataListR2 = [item for sublist in list_DataevolCouvR2 for item in sublist]"
      ],
      "execution_count": 765,
      "outputs": []
    },
    {
      "cell_type": "markdown",
      "metadata": {
        "id": "OniPBsFapKwB"
      },
      "source": [
        "#### **2. GRAPHES PRINCIPAUX**"
      ]
    },
    {
      "cell_type": "code",
      "metadata": {
        "colab": {
          "base_uri": "https://localhost:8080/",
          "height": 1000
        },
        "id": "g2M4gtCrIxDg",
        "outputId": "eb4c1e15-887d-4798-92e4-7bf7fc2a7ed7"
      },
      "source": [
        "fig = make_subplots(rows=3, cols=2, vertical_spacing=0.05)\n",
        "\n",
        "fig.add_trace(\n",
        "    go.Scatter(y=hopomo.beesadult, name=\"Adult Bees\", mode='lines', xaxis=\"x\", yaxis=\"y1\", showlegend = True),\n",
        "    row=1, col=1\n",
        ")\n",
        "\n",
        "fig.add_trace(\n",
        "    go.Scatter(y=hopomo.storespollen, name=\"Pollen Stores\", mode='lines', xaxis=\"x\", yaxis=\"y2\",showlegend = True),\n",
        "    row=1, col=2\n",
        ")\n",
        "\n",
        "#-------------------------------------------------------------------------------------------------------------------------------------------------------------------#\n",
        "fig.add_trace(\n",
        "    go.Scatter(y=hopomo.cellsbrood, name=\"Brood cells\", mode='lines', xaxis=\"x\", yaxis=\"y3\",showlegend = True),\n",
        "    row=2, col=1\n",
        ")\n",
        "\n",
        "#-------------------------------------------------------------------------------------------------------------------------------------------------------------------#\n",
        "\n",
        "fig.add_trace(\n",
        "    go.Scatter(y=getBroodValues(), name=\"Brood cells in %\", mode='lines', xaxis=\"x\", yaxis=\"y3\",showlegend = True),\n",
        "    row=3, col=1\n",
        ")\n",
        "\n",
        "fig.add_trace(\n",
        "    go.Scatter(y=dataListR1, name=\"R1\", mode='lines', xaxis=\"x\", yaxis=\"y3\",showlegend = True),\n",
        "    row=3, col=1\n",
        ")\n",
        "\n",
        "fig.add_trace(\n",
        "    go.Scatter(y=dataListR2, name=\"R6\", mode='lines', xaxis=\"x\", yaxis=\"y3\",showlegend = True),\n",
        "    row=3, col=1\n",
        ")\n",
        "\n",
        "#-------------------------------------------------------------------------------------------------------------------------------------------------------------------#\n",
        "\n",
        "fig.add_trace(\n",
        "    go.Scatter(y=hopomo.storeshoney, name=\"Honey Stores\", mode='lines', xaxis=\"x\", yaxis=\"y4\", showlegend = True),\n",
        "    row=2, col=2\n",
        ")\n",
        "\n",
        "fig.add_trace(\n",
        "    go.Scatter(y=hopomo.weightcolony, name=\"Colony Weight\", mode='lines', xaxis=\"x\", yaxis=\"y6\",showlegend = True),\n",
        "    row=3, col=2\n",
        ")\n",
        "\n",
        "fig.update_yaxes(title_text=\"adult bees\", range=[0, 60000], row=1, col=1)\n",
        "fig.update_yaxes(title_text=\"pollen stores\", range=[0,6000], row=1, col=2)\n",
        "fig.update_yaxes(title_text=\"brood cells\", range=[0, 35000], row=2, col=1)\n",
        "fig.update_yaxes(title_text=\"honey stores\", range=[0, 100000], row=2, col=2)\n",
        "fig.update_yaxes(title_text=\"colony weight (kg)\", range=[0, 100], row=3, col=2)\n",
        "fig.update_yaxes(title_text=\"brood % comparaison\", range=[0, 100], row=3, col=1)\n",
        "#fig.update_yaxes(title_text = 'Temp (°C)', ticks=\"outside\", range=[-4, 30], tickwidth=1, nticks=30, tickcolor='crimson', showgrid=False, showline = True,secondary_y=False, spikesnap='cursor',spikethickness=1)\n",
        "fig.update_traces(hovertemplate=\"day: %{x} <br>val: %{y:.1f}\")\n",
        "fig.update_layout(autosize=False, height=1200, width=1200)\n",
        "fig.show()\n"
      ],
      "execution_count": 766,
      "outputs": [
        {
          "output_type": "stream",
          "text": [
            "21750.0\n"
          ],
          "name": "stdout"
        },
        {
          "output_type": "display_data",
          "data": {
            "text/html": [
              "<html>\n",
              "<head><meta charset=\"utf-8\" /></head>\n",
              "<body>\n",
              "    <div>\n",
              "            <script src=\"https://cdnjs.cloudflare.com/ajax/libs/mathjax/2.7.5/MathJax.js?config=TeX-AMS-MML_SVG\"></script><script type=\"text/javascript\">if (window.MathJax) {MathJax.Hub.Config({SVG: {font: \"STIX-Web\"}});}</script>\n",
              "                <script type=\"text/javascript\">window.PlotlyConfig = {MathJaxConfig: 'local'};</script>\n",
              "        <script src=\"https://cdn.plot.ly/plotly-latest.min.js\"></script>    \n",
              "            <div id=\"303a79fb-daf7-4fab-a370-f37c3c81ef1f\" class=\"plotly-graph-div\" style=\"height:1200px; width:1200px;\"></div>\n",
              "            <script type=\"text/javascript\">\n",
              "                \n",
              "                    window.PLOTLYENV=window.PLOTLYENV || {};\n",
              "                    \n",
              "                if (document.getElementById(\"303a79fb-daf7-4fab-a370-f37c3c81ef1f\")) {\n",
              "                    Plotly.newPlot(\n",
              "                        '303a79fb-daf7-4fab-a370-f37c3c81ef1f',\n",
              "                        [{\"hovertemplate\": \"day: %{x} <br>val: %{y:.1f}\", \"mode\": \"lines\", \"name\": \"Adult Bees\", \"showlegend\": true, \"type\": \"scatter\", \"xaxis\": \"x\", \"y\": [15000, 14850, 14701, 14553, 14407, 14262, 14119, 13977, 13837, 13698, 13560, 13424, 13289, 13156, 13024, 12893, 12763, 12635, 12508, 12382, 12258, 12135, 12013, 11892, 11772, 11654, 11537, 11421, 11306, 11192, 11079, 10967, 10856, 10746, 10636, 10528, 10422, 10317, 10213, 10110, 10008, 9906, 9805, 9706, 9608, 9510, 9413, 9316, 9220, 9126, 9033, 8941, 8850, 8760, 8669, 8579, 8490, 8403, 8317, 8232, 8146, 8062, 7979, 7899, 7819, 7740, 7663, 7587, 7513, 7441, 7371, 7301, 7228, 7162, 7099, 7038, 6972, 6915, 6858, 6794, 6728, 6667, 6610, 6562, 6514, 6467, 6430, 6402, 6373, 6347, 6323, 6315, 6303, 6286, 6287, 6305, 6316, 6330, 6346, 6348, 6341, 6322, 6311, 6311, 6316, 6327, 6329, 6331, 6368, 6410, 6459, 6587, 6794, 7028, 7259, 7494, 7763, 8128, 8482, 8801, 9076, 9319, 9629, 9970, 10277, 10538, 10772, 10951, 11079, 11156, 11240, 11429, 11722, 12072, 12369, 12586, 12795, 13014, 13257, 13530, 13939, 14393, 14892, 15362, 15836, 16413, 16897, 17288, 17476, 17589, 17655, 17698, 17706, 17736, 17885, 18141, 18596, 19126, 19623, 20093, 20562, 21030, 21487, 22026, 22642, 23263, 23860, 24421, 24886, 25445, 26013, 26537, 26877, 27123, 27390, 27511, 27595, 27649, 27698, 27678, 27782, 27831, 28094, 28389, 28565, 28805, 29001, 29289, 29640, 30035, 30438, 30832, 31045, 31345, 31754, 32230, 32666, 32991, 33305, 33586, 33817, 34125, 34475, 34724, 34978, 35249, 35397, 35730, 36041, 36308, 36512, 36594, 36733, 37025, 37051, 37117, 37293, 37525, 37791, 38086, 38383, 38701, 38988, 39248, 39340, 39437, 39576, 39650, 39754, 39810, 39848, 39997, 40129, 40386, 40592, 40737, 40807, 40903, 41008, 41196, 41204, 41259, 41377, 41534, 41681, 41798, 41888, 41983, 42089, 42188, 42192, 42230, 42294, 42331, 42339, 42277, 42209, 42153, 42086, 41979, 41831, 41738, 41642, 41520, 41394, 41228, 41046, 40843, 40670, 40498, 40383, 40263, 40124, 39950, 39762, 39554, 39362, 39190, 39009, 38810, 38595, 38342, 38080, 37788, 37501, 37214, 36912, 36594, 36281, 35969, 35665, 35357, 35041, 34719, 34394, 34070, 33750, 33426, 33119, 32810, 32501, 32198, 31895, 31590, 31288, 30985, 30683, 30386, 30088, 29801, 29517, 29236, 28950, 28668, 28386, 28107, 27831, 27557, 27285, 27016, 26749, 26484, 26223, 25963, 25703, 25447, 25193, 24941, 24692, 24444, 24198, 23955, 23714, 23476, 23240, 23006, 22775, 22546, 22320, 22096, 21874, 21655, 21438, 21223, 21010, 20799, 20590, 20383, 20179, 19976, 19776, 19578, 19382, 19188, 18995, 18804, 18615, 18428, 18243, 18060, 17879, 17700, 17522, 17346], \"yaxis\": \"y\"}, {\"hovertemplate\": \"day: %{x} <br>val: %{y:.1f}\", \"mode\": \"lines\", \"name\": \"Pollen Stores\", \"showlegend\": true, \"type\": \"scatter\", \"xaxis\": \"x2\", \"y\": [0.0, 0.0, 0.0, 0.0, 0.0, 0.0, 0.0, 0.0, 0.07070359372444283, 0.32018277660544026, 0.0, 0.0, 0.0, 0.013030352081495592, 0.1494586531573505, 0.24142684982835563, 0.0, 0.0, 0.0, 0.0, 0.0, 0.0, 0.0, 0.0, 0.10950329366595737, 0.0, 0.0, 0.0, 0.0, 0.09664841294355163, 1.4948754001298952, 3.290123057708822, 2.0022217545217726, 4.491345593843389, 7.224076809444813, 0.0, 0.0, 0.3986097378794306, 1.0097519099931354, 0.6693974411038586, 3.839705809583023, 1.75718478724903, 0.0, 0.22889521868426943, 2.5943947712726567, 3.0225765333045436, 7.58867624440422, 13.055582735166908, 0.0, 0.0, 0.0, 3.680131100138542, 0.011671106019186084, 6.256403824280376, 6.25335576545228, 7.655297634082416, 0.0, 0.0, 0.7964448185177946, 9.010006037603253, 0.0, 0.0, 0.0, 0.0, 0.0, 0.0, 0.0, 0.0, 2.3544431568598116, 0.0, 12.251242618823234, 32.67730209436992, 0.1859427219093206, 0.0, 0.0, 78.29009106941842, 12.345552582888146, 8.86065502257695, 87.29789937196, 130.25742882650354, 178.1653603072627, 156.52090388311626, 92.31146054549069, 60.35458245602072, 89.1422988630137, 29.730587545914346, 0.0, 3.7861319705142567, 0.0, 4.023435384976837, 0.0, 0.0, 104.41285492306443, 44.22036468358306, 54.44245025968425, 385.89734450662604, 574.2488700802237, 525.4660318530672, 533.7267947465051, 749.1811695008379, 1101.5863531767031, 1274.196309434988, 1176.2711787335477, 1060.9132307628706, 1027.4056576817939, 1165.8878810306348, 1374.512608717545, 1409.995895249313, 1271.5429812463512, 1257.940967391235, 1056.035783737968, 775.8119616585749, 485.54267621863175, 222.3553039414228, 283.78887888401334, 853.1336695812024, 964.0836962533805, 1035.8521326463508, 778.4475154427669, 497.9798006964565, 659.6015861947252, 710.4590006438784, 787.2260333521438, 1075.6388618518783, 1792.3419997001604, 1774.901563098044, 1989.8894767491179, 2223.741485584577, 2504.5461619809516, 2713.737284899664, 2447.352651873044, 1934.2113688635545, 1403.5892454823477, 918.2400335414028, 579.8074810404878, 243.1645526323369, 98.31496453917515, 245.24288723051927, 1049.9111390365792, 1460.325095108075, 1905.275462228076, 2049.4189722480405, 2209.950945403521, 2546.08340390871, 2056.270488043968, 2341.5653580721537, 2248.449558763959, 3048.6432273929095, 3079.465024921538, 3297.251990956804, 3466.310860099189, 3496.1294440074576, 3382.3280279953874, 3703.512486465062, 3773.6746013423663, 3536.7210669431133, 2839.1429832999925, 2525.190344832201, 2558.8363218643976, 1880.8552541392664, 1410.8928381602955, 1109.8161813225781, 1629.3301966222825, 1507.6193482375468, 1773.3471853039275, 1975.397085126923, 2306.7548808213573, 2349.7802085395456, 2219.1800399685108, 2128.5556080880506, 2209.0542639577666, 3030.1689680953505, 3202.1896764019893, 3571.114196747128, 3301.442307942003, 3466.537563337258, 3577.9787027677703, 3638.4113505889036, 4121.275859138264, 4274.133776210687, 4207.877014765272, 3847.2771021493095, 3877.007309064176, 3975.509090915142, 3561.8357121493655, 3680.2171254424748, 3918.400287092833, 4205.306035895581, 4053.474088511726, 4061.2064250930707, 3894.409497314943, 4214.660091256313, 4263.426787375845, 4117.662782043355, 3818.6223644806887, 4197.38272015317, 4251.16342653651, 3930.731520281822, 3735.2850676201388, 4088.5129323923597, 4039.026669897218, 4172.245781238287, 4214.29130848088, 4063.88762316639, 3930.15088525503, 4517.322463469257, 4263.291942446991, 4051.0820022378903, 4098.182643885908, 4077.786060062251, 4226.542252588228, 4105.224725441955, 4054.6797911854537, 4022.6665471766655, 4077.771942813455, 3891.499181417668, 3718.294268617209, 4009.3797050698286, 3865.4954828549667, 3769.287502319221, 3575.225861029855, 3919.448397026759, 3844.610269604379, 3821.9540004181817, 3758.6290566171006, 3556.0503817894814, 3721.751358374568, 3707.1297052947066, 3448.620463237122, 3442.712937798863, 3433.525105756551, 3322.708181706207, 3490.3971244015534, 3321.9340403550473, 3267.8033266871516, 3120.8805182830542, 3224.1813273302687, 3104.692690761499, 2896.5510760243296, 2953.2937782704726, 3005.075476008771, 2625.3012331856235, 2244.4650564881313, 1905.1056770519936, 2122.729311792564, 2339.3654029900254, 2083.5785603134677, 2169.971122282901, 2072.8739540879, 2007.594205289709, 1783.0211957535753, 1719.440998379568, 1719.0266115018076, 1824.715089082897, 1777.1478696420281, 1706.4481874127123, 1561.0413096846125, 1495.0816900855689, 1447.7486320548783, 1394.5002829542261, 1429.7319638610313, 1412.618743404557, 1300.3421093616203, 1154.908159838187, 1114.0005102711116, 966.0186306590365, 843.3224926254451, 737.2339875599309, 634.2459957544829, 387.0995977062054, 173.0599907774825, 12.536447742916778, 132.8029187337492, 129.13729671430917, 211.94645183507487, 100.70858484011677, 0.0, 0.0, 0.14989248035945132, 16.661395302545206, 94.94861379925696, 60.033323611503036, 88.841913022676, 56.35192355134525, 8.01907519491651, 0.0, 5.501736012549969, 0.5484975536215853, 0.0, 0.0, 0.0, 12.126801178752363, 46.60527473504111, 37.84454690756415, 26.346959198283685, 78.41038884944794, 41.38032905990076, 10.221151062872828, 20.42296954117713, 12.365275245691002, 0.0, 13.168786649516617, 14.261649367874854, 17.21465754279616, 40.87936372408306, 36.84547314236458, 40.61998327087106, 29.02996778134282, 0.0, 0.0, 0.7934921577187692, 14.013241740582497, 3.5258480920988227, 11.881984320111684, 9.455049138191956, 2.822266440931113, 10.151111873104792, 8.701328203421166, 7.212701909144254, 9.340483032876044, 12.638492642699745, 0.5983053362961606, 3.02792659720532, 11.224257234413242, 0.0, 0.0, 0.0, 0.17349792386788487, 0.0, 1.2983534145334854, 0.4152532171080894, 0.9343605435817759, 0.8778151340294085, 0.10541170397294652, 2.0008543405498633, 0.04111854103651069, 0.0, 0.0, 0.0, 0.0, 0.0, 0.0, 0.0, 0.0, 0.0, 0.0, 0.0, 0.0, 0.38230627598412226, 0.0, 0.0, 0.0, 0.0, 0.33513946068695716, 0.0, 0.00603883751541689, 0.06870609256544317, 1.2284493437946749, 0.4137024895580139, 0.0, 0.0, 0.0, 0.0, 0.0], \"yaxis\": \"y2\"}, {\"hovertemplate\": \"day: %{x} <br>val: %{y:.1f}\", \"mode\": \"lines\", \"name\": \"Brood cells\", \"showlegend\": true, \"type\": \"scatter\", \"xaxis\": \"x3\", \"y\": [0, 4, 8, 12, 15, 19, 21, 23, 25, 27, 28, 31, 33, 36, 40, 41, 44, 47, 50, 55, 58, 62, 67, 71, 77, 82, 88, 94, 100, 108, 115, 124, 134, 143, 153, 163, 175, 188, 201, 214, 229, 246, 262, 281, 299, 321, 344, 369, 397, 423, 451, 482, 517, 552, 590, 631, 675, 720, 767, 819, 876, 933, 994, 1057, 1125, 1197, 1273, 1351, 1435, 1522, 1612, 1712, 1824, 1923, 2028, 2140, 2294, 2409, 2533, 2702, 2890, 3094, 3280, 3435, 3590, 3770, 3923, 4067, 4227, 4390, 4559, 4715, 4880, 5104, 5268, 5427, 5750, 6137, 6448, 6738, 7114, 7628, 8195, 8652, 8997, 9323, 9717, 10210, 10702, 11104, 11454, 11670, 11752, 11756, 11717, 11707, 11854, 11976, 12084, 12073, 11996, 12011, 12020, 12026, 12157, 12597, 12972, 13392, 13863, 14422, 15011, 15402, 15523, 15458, 15376, 15337, 15250, 15140, 15073, 15257, 15396, 15568, 15612, 15631, 15687, 15534, 15536, 15620, 16110, 16652, 17271, 17910, 18545, 19103, 19625, 20016, 20177, 20089, 19949, 19863, 19687, 19400, 19081, 18831, 18486, 18168, 17896, 17722, 17547, 17275, 16949, 16684, 16796, 17021, 17339, 17555, 17856, 18229, 18585, 19058, 19488, 19814, 19936, 20049, 20223, 20341, 20505, 20616, 20709, 20646, 20612, 20537, 20572, 20599, 20513, 20301, 20191, 20156, 20077, 19952, 19952, 19930, 19913, 19831, 19697, 19532, 19555, 19487, 19344, 19202, 19100, 19017, 18896, 18774, 18675, 18571, 18412, 18186, 18028, 17855, 17685, 17416, 17234, 17046, 16876, 16688, 16432, 16220, 16014, 15767, 15521, 15295, 15070, 14867, 14628, 14383, 14134, 13889, 13621, 13305, 13020, 12779, 12459, 12068, 11647, 11306, 11031, 10713, 10395, 10064, 9731, 9385, 9037, 8710, 8428, 8143, 7844, 7551, 7303, 7103, 6897, 6674, 6449, 6200, 5948, 5711, 5481, 5253, 5021, 4771, 4487, 4192, 3906, 3665, 3435, 3223, 2994, 2755, 2535, 2337, 2154, 1997, 1849, 1720, 1600, 1496, 1417, 1356, 1295, 1234, 1171, 1114, 1067, 1028, 987, 948, 910, 870, 826, 788, 752, 718, 687, 658, 629, 605, 580, 554, 529, 502, 478, 451, 429, 408, 387, 367, 350, 332, 316, 299, 282, 266, 250, 236, 223, 211, 199, 187, 176, 165, 156, 148, 139, 131, 124, 117, 112, 105, 100, 96, 91, 87, 82, 78, 74, 70, 67, 64, 61, 57, 54, 52, 49, 48, 46, 44, 42, 39, 37, 35, 34, 32, 30, 30], \"yaxis\": \"y3\"}, {\"hovertemplate\": \"day: %{x} <br>val: %{y:.1f}\", \"mode\": \"lines\", \"name\": \"Brood cells in %\", \"showlegend\": true, \"type\": \"scatter\", \"xaxis\": \"x5\", \"y\": [0.0, 0.01839080459770115, 0.0367816091954023, 0.05517241379310345, 0.06896551724137931, 0.08735632183908046, 0.09655172413793103, 0.10574712643678161, 0.11494252873563218, 0.12413793103448276, 0.12873563218390804, 0.1425287356321839, 0.15172413793103448, 0.16551724137931034, 0.1839080459770115, 0.18850574712643678, 0.20229885057471264, 0.2160919540229885, 0.22988505747126436, 0.25287356321839083, 0.26666666666666666, 0.2850574712643678, 0.3080459770114943, 0.3264367816091954, 0.35402298850574715, 0.37701149425287356, 0.4045977011494253, 0.432183908045977, 0.45977011494252873, 0.496551724137931, 0.5287356321839081, 0.5701149425287356, 0.6160919540229886, 0.6574712643678161, 0.7034482758620689, 0.7494252873563219, 0.8045977011494253, 0.864367816091954, 0.9241379310344827, 0.9839080459770115, 1.0528735632183908, 1.1310344827586207, 1.2045977011494253, 1.2919540229885058, 1.374712643678161, 1.4758620689655173, 1.5816091954022988, 1.696551724137931, 1.825287356321839, 1.9448275862068964, 2.0735632183908046, 2.2160919540229886, 2.3770114942528737, 2.537931034482759, 2.7126436781609193, 2.901149425287356, 3.103448275862069, 3.310344827586207, 3.5264367816091955, 3.7655172413793103, 4.027586206896552, 4.289655172413793, 4.570114942528735, 4.8597701149425285, 5.172413793103448, 5.503448275862069, 5.852873563218391, 6.211494252873563, 6.597701149425287, 6.997701149425287, 7.411494252873563, 7.871264367816092, 8.386206896551725, 8.841379310344827, 9.324137931034484, 9.839080459770114, 10.547126436781609, 11.075862068965517, 11.645977011494253, 12.422988505747126, 13.28735632183908, 14.22528735632184, 15.080459770114942, 15.793103448275861, 16.50574712643678, 17.333333333333332, 18.0367816091954, 18.698850574712644, 19.43448275862069, 20.183908045977013, 20.960919540229884, 21.67816091954023, 22.436781609195403, 23.466666666666665, 24.220689655172414, 24.951724137931034, 26.436781609195403, 28.21609195402299, 29.645977011494253, 30.979310344827585, 32.708045977011494, 35.07126436781609, 37.67816091954023, 39.779310344827586, 41.36551724137931, 42.864367816091956, 44.675862068965515, 46.94252873563219, 49.204597701149424, 51.05287356321839, 52.66206896551724, 53.6551724137931, 54.03218390804598, 54.05057471264368, 53.87126436781609, 53.82528735632184, 54.50114942528736, 55.06206896551724, 55.55862068965517, 55.50804597701149, 55.154022988505744, 55.222988505747125, 55.264367816091955, 55.291954022988506, 55.89425287356322, 57.91724137931035, 59.641379310344824, 61.57241379310345, 63.737931034482756, 66.30804597701149, 69.01609195402298, 70.81379310344828, 71.37011494252873, 71.0712643678161, 70.69425287356322, 70.51494252873563, 70.11494252873563, 69.60919540229885, 69.30114942528736, 70.1471264367816, 70.78620689655172, 71.57701149425287, 71.77931034482759, 71.86666666666666, 72.12413793103448, 71.42068965517241, 71.42988505747127, 71.816091954023, 74.06896551724138, 76.56091954022989, 79.40689655172413, 82.34482758620689, 85.26436781609195, 87.82988505747126, 90.22988505747126, 92.02758620689656, 92.76781609195402, 92.3632183908046, 91.71954022988506, 91.32413793103449, 90.51494252873563, 89.19540229885058, 87.72873563218391, 86.57931034482759, 84.99310344827586, 83.53103448275863, 82.28045977011494, 81.48045977011495, 80.67586206896551, 79.42528735632185, 77.9264367816092, 76.7080459770115, 77.22298850574713, 78.25747126436782, 79.71954022988506, 80.71264367816092, 82.09655172413792, 83.81149425287356, 85.44827586206897, 87.62298850574713, 89.6, 91.09885057471264, 91.65977011494253, 92.17931034482758, 92.97931034482758, 93.52183908045977, 94.27586206896552, 94.78620689655172, 95.21379310344828, 94.92413793103448, 94.76781609195402, 94.42298850574713, 94.58390804597701, 94.7080459770115, 94.31264367816092, 93.33793103448276, 92.83218390804598, 92.6712643678161, 92.30804597701149, 91.73333333333333, 91.73333333333333, 91.63218390804597, 91.55402298850575, 91.17701149425288, 90.56091954022989, 89.80229885057472, 89.9080459770115, 89.59540229885057, 88.93793103448276, 88.28505747126437, 87.816091954023, 87.43448275862069, 86.87816091954024, 86.31724137931035, 85.86206896551724, 85.38390804597701, 84.65287356321839, 83.61379310344827, 82.88735632183908, 82.0919540229885, 81.3103448275862, 80.0735632183908, 79.2367816091954, 78.37241379310345, 77.59080459770115, 76.7264367816092, 75.54942528735633, 74.57471264367815, 73.62758620689655, 72.49195402298851, 71.36091954022989, 70.32183908045977, 69.28735632183908, 68.35402298850575, 67.2551724137931, 66.1287356321839, 64.98390804597702, 63.85747126436782, 62.62528735632184, 61.172413793103445, 59.86206896551724, 58.754022988505746, 57.282758620689656, 55.48505747126437, 53.54942528735632, 51.9816091954023, 50.717241379310344, 49.255172413793105, 47.793103448275865, 46.271264367816094, 44.740229885057474, 43.14942528735632, 41.54942528735632, 40.04597701149425, 38.749425287356324, 37.43908045977012, 36.06436781609195, 34.717241379310344, 33.57701149425287, 32.657471264367814, 31.71034482758621, 30.68505747126437, 29.650574712643678, 28.50574712643678, 27.347126436781608, 26.257471264367815, 25.2, 24.151724137931033, 23.085057471264367, 21.935632183908044, 20.629885057471263, 19.273563218390805, 17.958620689655174, 16.850574712643677, 15.793103448275861, 14.818390804597701, 13.76551724137931, 12.666666666666666, 11.655172413793103, 10.744827586206897, 9.903448275862068, 9.181609195402299, 8.501149425287357, 7.908045977011494, 7.35632183908046, 6.87816091954023, 6.514942528735633, 6.23448275862069, 5.954022988505747, 5.673563218390805, 5.3839080459770114, 5.12183908045977, 4.905747126436782, 4.726436781609196, 4.537931034482758, 4.358620689655172, 4.183908045977011, 4.0, 3.7977011494252872, 3.6229885057471263, 3.457471264367816, 3.301149425287356, 3.1586206896551725, 3.025287356321839, 2.891954022988506, 2.781609195402299, 2.6666666666666665, 2.547126436781609, 2.432183908045977, 2.3080459770114943, 2.197701149425287, 2.0735632183908046, 1.9724137931034482, 1.8758620689655172, 1.7793103448275862, 1.6873563218390804, 1.6091954022988506, 1.5264367816091955, 1.452873563218391, 1.374712643678161, 1.296551724137931, 1.2229885057471264, 1.1494252873563218, 1.085057471264368, 1.025287356321839, 0.9701149425287356, 0.9149425287356322, 0.8597701149425288, 0.8091954022988506, 0.7586206896551724, 0.7172413793103448, 0.6804597701149425, 0.639080459770115, 0.6022988505747127, 0.5701149425287356, 0.5379310344827586, 0.5149425287356322, 0.4827586206896552, 0.45977011494252873, 0.4413793103448276, 0.41839080459770117, 0.4, 0.37701149425287356, 0.3586206896551724, 0.34022988505747126, 0.3218390804597701, 0.3080459770114943, 0.2942528735632184, 0.28045977011494255, 0.2620689655172414, 0.2482758620689655, 0.23908045977011494, 0.22528735632183908, 0.2206896551724138, 0.21149425287356322, 0.20229885057471264, 0.19310344827586207, 0.1793103448275862, 0.17011494252873563, 0.16091954022988506, 0.15632183908045977, 0.1471264367816092, 0.13793103448275862, 0.13793103448275862], \"yaxis\": \"y5\"}, {\"hovertemplate\": \"day: %{x} <br>val: %{y:.1f}\", \"mode\": \"lines\", \"name\": \"R1\", \"showlegend\": true, \"type\": \"scatter\", \"xaxis\": \"x5\", \"y\": [0.006, 0.002, 0.022000000000000002, 0.039, 0.051, 0.061, 0.068, 0.071, 0.075, 0.075, 0.066, 0.16699999999999998, 0.243, 0.29600000000000004, 0.32799999999999996, 0.341, 0.355, 0.336, 0.3, 0.252, 0.19699999999999998, 0.141, 0.113, 0.06, 0.155, 0.693, 1.031, 1.4169999999999998, 1.71, 1.8090000000000002, 2.117, 2.171, 2.496, 2.6060000000000003, 2.6639999999999997, 2.905, 3.477, 3.7569999999999997, 4.152, 4.8260000000000005, 4.939, 4.978, 5.111000000000001, 5.277, 5.468999999999999, 5.922000000000001, 6.984, 7.757000000000001, 8.95, 9.97, 10.647, 11.052999999999999, 11.548, 12.65, 14.017000000000001, 15.702, 17.637999999999998, 18.957, 19.855999999999998, 20.197, 19.867, 19.675, 19.528, 19.849, 20.943, 23.07, 26.061999999999998, 29.537, 32.472, 34.316, 34.758, 33.338, 30.625, 26.456, 21.95, 18.283, 15.575, 15.154000000000002, 15.374, 16.4, 17.197, 17.29, 16.932000000000002, 15.975, 15.294, 15.455, 15.934000000000001, 17.046, 18.427, 20.535, 22.943, 25.445999999999998, 27.840999999999998, 29.46, 29.954, 31.195999999999998, 32.232, 32.067, 33.217, 34.47, 35.673, 37.744, 40.216, 42.321999999999996, 44.01, 45.663999999999994, 47.352, 47.442, 46.873999999999995, 46.117, 44.177, 42.949, 41.49, 39.62, 38.927, 39.201, 39.655, 39.97, 40.568000000000005, 41.63399999999999, 43.169, 43.762, 44.794, 45.717, 46.915, 48.015, 48.273, 49.513999999999996, 49.473, 48.847, 47.42100000000001, 45.986999999999995, 45.519, 45.163000000000004, 45.105, 45.501000000000005, 46.715, 47.07, 46.711000000000006, 46.418, 48.173, 49.093, 48.519, 48.648999999999994, 48.349, 48.306000000000004, 48.846000000000004, 49.477, 50.18899999999999, 51.038000000000004, 52.34, 53.065, 54.075, 55.897, 58.543, 60.563, 62.778, 65.19800000000001, 67.16, 69.092, 71.006, 72.482, 74.593, 72.117, 70.745, 69.21, 68.513, 68.417, 69.032, 70.15, 71.903, 74.375, 77.322, 80.583, 83.92, 86.985, 90.104, 89.186, 90.646, 91.93, 93.081, 93.98, 94.495, 94.766, 94.97399999999999, 95.0, 95.0, 95.0, 95.0, 95.0, 94.99600000000001, 94.99799999999999, 95.0, 95.0, 95.0, 94.999, 94.999, 94.99799999999999, 95.0, 94.993, 94.98700000000001, 94.98299999999999, 94.98, 94.979, 94.979, 94.98, 94.98200000000001, 94.985, 94.98899999999999, 94.994, 94.99799999999999, 95.0, 95.0, 94.99600000000001, 94.995, 94.992, 94.98899999999999, 94.98299999999999, 94.976, 94.965, 94.945, 94.934, 94.87899999999999, 94.697, 94.493, 94.27799999999999, 94.03200000000001, 93.825, 93.69200000000001, 93.62899999999999, 93.617, 93.635, 93.785, 93.38, 92.662, 91.61, 90.57, 89.76100000000001, 89.266, 89.109, 88.65899999999999, 88.264, 87.82799999999999, 86.87200000000001, 85.679, 84.25200000000001, 82.595, 80.387, 77.638, 75.19, 72.535, 70.376, 68.312, 66.51100000000001, 64.59, 62.836999999999996, 61.261, 59.125, 57.718, 56.588, 55.571000000000005, 54.655, 53.931999999999995, 53.413000000000004, 52.583, 52.114, 51.428000000000004, 51.118, 51.15, 50.89, 50.74100000000001, 50.433, 50.565, 50.413999999999994, 49.968, 49.498999999999995, 49.288000000000004, 48.748000000000005, 48.381, 47.418, 46.137, 45.184, 44.559, 43.431999999999995, 42.472, 41.75, 40.742, 39.999, 38.908, 37.675, 36.494, 35.259, 33.73, 31.42, 29.896, 28.899, 27.491999999999997, 26.511, 26.039, 26.425, 26.988000000000003, 28.055999999999997, 28.534000000000002, 29.313000000000002, 30.276999999999997, 31.39, 32.188, 32.785, 33.848, 34.402, 34.277, 35.484, 36.548, 37.981, 38.675, 39.251999999999995, 39.486999999999995, 39.766, 40.154, 40.297, 40.012, 39.503, 38.792, 37.327, 36.416, 36.019, 35.056999999999995, 34.446999999999996, 33.084, 31.656999999999996, 29.103, 25.721999999999998, 22.046, 18.128, 14.936, 11.694, 8.519, 5.462999999999999, 3.7969999999999997, 2.573, 2.2640000000000002, 2.825, 3.7110000000000003, 4.504, 4.471, 4.218999999999999, 3.897, 3.807, 3.875, 3.717, 3.488, 3.593, 3.446, 3.467, 3.725, 4.251, 5.0489999999999995, 5.199, 5.251, 5.172999999999999, 4.794, 4.218999999999999, 3.588, 3.463], \"yaxis\": \"y5\"}, {\"hovertemplate\": \"day: %{x} <br>val: %{y:.1f}\", \"mode\": \"lines\", \"name\": \"R6\", \"showlegend\": true, \"type\": \"scatter\", \"xaxis\": \"x5\", \"y\": [0.0, 0.0, 0.0, 0.0, 0.0, 0.0, 0.0, 0.0, 0.0, 0.0, 0.0, 0.0, 0.0, 0.0, 0.0, 0.0, 0.0, 0.0, 0.0, 0.0, 0.0, 0.0, 0.0, 0.0, 0.0, 0.0, 0.0, 0.0, 0.0, 0.0, 0.0, 0.0, 0.0, 0.0, 0.0, 0.0, 0.0, 0.0, 0.0, 0.0, 0.0, 0.0, 0.0, 0.0, 0.0, 0.0, 0.0, 0.0, 0.0, 0.0, 0.0, 0.001, 0.001, 0.001, 0.002, 0.003, 0.004, 0.006, 0.008, 0.012, 0.018000000000000002, 0.026000000000000002, 0.038, 0.055999999999999994, 0.08199999999999999, 0.12, 0.177, 0.257, 0.374, 0.59, 0.682, 1.376, 2.6919999999999997, 5.013999999999999, 8.192, 11.298, 13.488, 14.812000000000001, 15.956, 16.625999999999998, 17.680999999999997, 18.825, 20.773000000000003, 22.024, 23.217, 24.826, 27.631, 30.999000000000002, 34.754, 37.842, 40.265, 42.483999999999995, 44.816, 46.851000000000006, 49.303999999999995, 51.443000000000005, 53.398999999999994, 53.911, 54.023, 54.018, 54.527, 55.04, 56.078, 57.01, 57.902, 58.358999999999995, 59.076, 59.528, 60.111999999999995, 60.795, 61.718, 62.656000000000006, 63.233999999999995, 64.0, 64.782, 66.125, 66.99, 67.439, 67.388, 67.26100000000001, 67.87100000000001, 69.265, 70.381, 70.744, 69.347, 67.926, 64.087, 60.661, 57.708, 55.56100000000001, 53.703, 52.388999999999996, 51.516999999999996, 52.29, 51.184, 51.335, 51.263000000000005, 50.163000000000004, 48.998000000000005, 49.193000000000005, 48.56100000000001, 49.777, 51.272, 53.573, 56.176, 59.013000000000005, 61.473, 63.04, 62.388000000000005, 63.751999999999995, 65.58800000000001, 66.874, 69.10600000000001, 71.194, 73.23100000000001, 75.134, 76.685, 78.006, 79.157, 80.036, 80.085, 79.639, 79.513, 79.631, 80.093, 80.666, 81.81, 83.156, 85.071, 87.274, 89.302, 91.094, 92.885, 94.133, 94.84200000000001, 95.0, 95.0, 95.0, 94.87899999999999, 94.61399999999999, 94.39, 94.095, 93.477, 92.699, 92.038, 91.54700000000001, 91.24600000000001, 90.831, 90.647, 90.68, 90.84700000000001, 91.24600000000001, 91.87, 92.366, 92.84200000000001, 93.273, 93.475, 93.75399999999999, 94.15, 94.493, 94.676, 94.589, 94.73, 94.54899999999999, 94.32, 94.21, 94.156, 94.008, 94.015, 94.07, 94.118, 94.115, 94.056, 93.979, 93.829, 93.719, 93.661, 93.429, 93.359, 93.329, 93.206, 92.78, 92.095, 91.51700000000001, 90.851, 90.277, 89.805, 89.64399999999999, 89.79899999999999, 90.274, 91.022, 91.90899999999999, 92.895, 93.51899999999999, 93.624, 93.307, 92.906, 92.639, 91.311, 89.46, 87.251, 84.679, 82.04, 79.314, 76.789, 74.206, 71.84899999999999, 69.258, 67.002, 65.113, 63.691, 61.961999999999996, 59.251999999999995, 56.607, 53.903999999999996, 51.419, 49.681000000000004, 48.153999999999996, 46.604, 45.236999999999995, 44.223, 43.278999999999996, 42.623000000000005, 42.398, 42.177, 41.26, 39.788000000000004, 37.736, 35.425, 34.25, 33.903, 33.007, 32.138000000000005, 32.898, 34.433, 36.144, 38.056, 40.728, 43.096000000000004, 45.11600000000001, 46.53, 47.146, 47.652, 48.358999999999995, 48.623999999999995, 47.776, 47.195, 46.788000000000004, 46.022, 44.911, 43.965, 43.106, 41.751999999999995, 40.556, 39.45, 38.452, 37.995, 37.91, 38.633, 40.032, 41.126000000000005, 41.695, 42.443999999999996, 42.836999999999996, 43.175, 42.523999999999994, 41.388999999999996, 40.082, 38.39, 36.327, 34.292, 32.68, 32.036, 31.609, 30.441, 29.201, 28.116999999999997, 26.97, 25.596, 23.836, 21.805, 19.587, 17.186, 14.536, 12.056, 10.497, 9.173, 7.985, 7.287000000000001, 6.841, 7.178999999999999, 7.305, 6.847, 6.38, 5.599, 4.862, 4.269, 3.59, 2.918, 2.332, 1.433, 0.8240000000000001, 0.53, 0.381, 0.672, 0.591, 0.377, 0.157, 0.0, 0.0, 0.0, 0.0], \"yaxis\": \"y5\"}, {\"hovertemplate\": \"day: %{x} <br>val: %{y:.1f}\", \"mode\": \"lines\", \"name\": \"Honey Stores\", \"showlegend\": true, \"type\": \"scatter\", \"xaxis\": \"x4\", \"y\": [50000.0, 49970.292, 49940.874, 49911.744000000006, 49882.89511614248, 49854.324036998325, 49826.02767911709, 49798.00166010057, 49770.21097930097, 49742.75315261469, 49715.969103413336, 49688.99222835209, 49662.2750909739, 49635.8114629879, 49609.61425607694, 49583.66644139965, 49558.17615184249, 49532.70518756705, 49507.47686793668, 49482.48098367346, 49457.721279392325, 49433.1874926309, 49408.8773405633, 49384.788526791046, 49360.904952901525, 49337.37421779402, 49313.92342252788, 49290.68255985207, 49267.64124422262, 49244.792479985605, 49222.118188081324, 49202.34602169812, 49184.40667726054, 49166.28597968326, 49147.611539706726, 49128.72688560926, 49107.139376564126, 49085.69051660772, 49064.590898583876, 49043.79117323531, 49023.41392738222, 49005.039075952154, 48987.8663604394, 48967.241134897165, 48946.854678802105, 48929.8367353883, 48912.42942717945, 48897.62897289413, 48881.554295603026, 48861.512763543724, 48841.543245817884, 48821.47060317696, 48803.11900736185, 48782.843965894346, 48768.9051626454, 48753.431992384474, 48739.35923355664, 48719.564796222585, 48699.694399218686, 48679.898901814144, 48667.55796321381, 48647.614338970496, 48627.5709634085, 48607.45816648473, 48587.241843123, 48566.901035091985, 48546.41747104365, 48525.76979522278, 48504.80025207603, 48485.372246635234, 48463.34202330701, 48447.36783709116, 48441.426794597035, 48419.27777599948, 48396.6480860739, 48371.44656929843, 48362.8724467584, 48338.548629762015, 48314.37280355875, 48313.58005599258, 48313.792980318016, 48305.69071745172, 48290.37640858743, 48270.977750139806, 48252.23960728137, 48226.96773921618, 48200.46143198465, 48170.46663956723, 48140.58160117579, 48110.14911591457, 48079.528045716084, 48048.07980295045, 48013.21087710021, 47980.636399491654, 47947.21982230128, 47902.16171554473, 47856.048281862066, 47818.96063088246, 47805.53554262113, 47766.129249766556, 47702.63265266853, 47640.25381060963, 47584.01531936567, 47522.46442596411, 47461.94576634437, 47398.47406448773, 47332.982586661914, 47269.52889743463, 47206.036853140344, 47141.31932463987, 47079.96432739099, 47022.9560155346, 46968.59612836631, 46916.048425934976, 46857.65850409324, 46786.71768833507, 46719.08731375991, 46645.94769276956, 46576.24037533256, 46507.10090124752, 46426.949503171934, 46352.26331306746, 46272.89410126281, 46182.662666739154, 46082.95365152738, 46003.2387552091, 45950.312010536174, 45848.33798453243, 45732.731197496025, 45617.33246431156, 45506.96349055253, 45406.35361236642, 45310.698722186826, 45219.36739606534, 45130.580080837186, 45046.2771667316, 44963.883780331926, 44877.49778502678, 44774.33313970377, 44663.01737692481, 44610.08644589992, 44656.79214489766, 44639.885196870026, 44657.77848955829, 44683.555895031976, 44565.67488551455, 44458.270930144405, 44388.96830693093, 44326.82570127793, 44437.71318784044, 44375.26194541246, 44216.43610299639, 44056.78983624105, 43974.9404311793, 43849.036208763486, 43826.79361647571, 43785.3100361845, 43637.2442294827, 43494.63075068466, 43387.50079605943, 43250.53802597003, 43119.5226187644, 42975.3171076095, 42851.55601903953, 42761.77120238072, 42674.84557582191, 42687.01718982714, 42809.13871109236, 43020.89585444219, 43105.43635712386, 43124.76243126823, 43164.93319815513, 43297.38341351749, 43602.75764307682, 43703.91881514959, 44078.619313791256, 44182.99131159178, 44132.648167140054, 44261.64734495979, 45128.225020124475, 45528.30293222839, 46762.243167365275, 46865.141826203835, 46970.175287943246, 47542.48048756757, 47660.80473704198, 47795.64780597411, 47965.05277335108, 48312.469579137934, 49160.97810958361, 49390.62181482274, 49437.980008934974, 50342.77693352197, 51107.34646005747, 51358.80913720772, 51760.00687191183, 52024.219356529706, 52936.07544999562, 53437.87291750307, 53908.57913382643, 54553.714502254625, 54683.98288809634, 54748.581213627585, 55805.16093500962, 56419.85863096723, 56881.65903543809, 58283.98272103458, 58577.28474380346, 58925.35458634663, 59443.3404311439, 59991.457603459115, 61327.58210336849, 62395.3770273854, 62712.80647626471, 63875.976426007786, 65220.27702400452, 66215.74556897492, 66685.1100856614, 67254.69325809338, 67479.39860304575, 67527.14793029295, 67684.16406043741, 68050.339480902, 68592.24346437321, 69873.75112718364, 70762.79457219121, 71436.46309493632, 72916.46450139076, 73969.99289263586, 74788.25310586183, 75755.79627463466, 76374.64986996111, 76752.22158040454, 76692.2391684609, 76931.90313694248, 77361.85640062514, 77864.715149492, 78632.67287833033, 79231.09789640264, 79258.94237600746, 80436.01620159134, 81095.1469033462, 81520.0321371486, 81702.40580785106, 81813.83829163933, 81924.88792523493, 82111.68925006132, 82224.17389114642, 82371.79323166014, 82368.61175531968, 82814.1185563435, 82951.80983131283, 83017.10487231294, 83095.57988298895, 83252.78029393002, 83685.75739770081, 84089.0295741323, 84211.11151190748, 84212.21775120357, 84139.27037149931, 84282.56992903711, 84308.52850849857, 84357.85052001693, 84631.55369259731, 84766.08251333333, 85038.93665674841, 85223.50384976438, 85385.12001181216, 85426.22473670855, 85585.01799962614, 85483.81355915817, 85401.70896459017, 85310.09615107045, 85303.24268573045, 85276.91747072185, 85316.14447087972, 85310.40223489696, 85221.30670775537, 85133.53069573847, 85045.63437159409, 84975.62013689504, 85031.69474928897, 85039.52154324639, 85076.6702657889, 85095.76932171997, 85029.08904599446, 84948.78439013333, 84875.31583987748, 84798.37320942977, 84721.34844272524, 84645.17575388083, 84568.9561319828, 84503.24828610918, 84450.11264301218, 84404.19847870793, 84379.23261947115, 84339.62715512568, 84353.7265793914, 84301.98305908573, 84253.43686905073, 84209.36109657706, 84140.82599382348, 84083.70501181312, 84044.50902628922, 83989.50793056376, 83949.98634629848, 83920.40475817192, 83869.52269951052, 83840.87412273759, 83779.05754364561, 83717.83404730176, 83656.49313663271, 83624.76858257162, 83571.34478847611, 83532.15204349038, 83486.69379622453, 83434.75755023217, 83387.24921135497, 83336.85815317681, 83287.20045061877, 83242.43045280821, 83199.63979145854, 83147.12326201783, 83096.31872064252, 83052.78180793245, 83000.90801524637, 82949.59208641895, 82898.81353371422, 82848.7742507003, 82798.9546142857, 82751.21866932884, 82702.82206611848, 82655.18633200356, 82608.95068223935, 82561.89472468504, 82517.54042008596, 82471.52296853514, 82425.90064890948, 82380.75250570259, 82336.0820903899, 82291.87715636779, 82248.13141580936, 82204.84064728947, 82161.99263965798, 82119.5911905263, 82077.63210592118, 82036.1031999506, 81995.00829448173, 81954.26933769153, 81914.90110083303, 81875.06317593654, 81835.63259350389, 81796.60525512531, 81757.94279824544, 81720.25567562542, 81682.41652072615, 81644.96764631657, 81607.93530546261, 81573.10717610775, 81537.64556410117, 81501.7093471594, 81466.14135126311, 81430.93146760926, 81396.08358962847], \"yaxis\": \"y4\"}, {\"hovertemplate\": \"day: %{x} <br>val: %{y:.1f}\", \"mode\": \"lines\", \"name\": \"Colony Weight\", \"showlegend\": true, \"type\": \"scatter\", \"xaxis\": \"x6\", \"y\": [49.75, 49.7201464, 49.69053780000001, 49.66117320000001, 49.632149434842745, 49.603364034922684, 49.57491599835201, 49.54670313411675, 49.518932506640546, 49.49174163383489, 49.463987311296535, 49.43689913252132, 49.41004072686306, 49.383538445811496, 49.35744281569855, 49.33159508547915, 49.3055522557826, 49.28001706101993, 49.25470319484232, 49.22960565271596, 49.204826107374984, 49.18025962804247, 49.15590497378914, 49.131760996930495, 49.108138544285694, 49.08457472971935, 49.06114989001641, 49.03793002752931, 49.01490994991965, 48.99231774950937, 48.97317305701403, 48.95440034222038, 48.93398339016841, 48.913568094893606, 48.89327944661124, 48.86845825422198, 48.84722546582076, 48.82665633550815, 48.80617151436505, 48.78608215857736, 48.76866976372498, 48.74991247874815, 48.727176546820004, 48.70781106830519, 48.69204915531826, 48.67404555670455, 48.65989854098312, 48.642582957969026, 48.618251553957684, 48.59947282072295, 48.58083048267776, 48.565006358114076, 48.545266433934344, 48.535254768404464, 48.518419273875764, 48.50409084250554, 48.48137614401969, 48.46422227994701, 48.448056655323526, 48.44067044004692, 48.4174908725515, 48.400883329753285, 48.38464626233716, 48.36867465996039, 48.35281167270986, 48.33730662401063, 48.32193048061928, 48.30673246695086, 48.29401757197306, 48.27770636811134, 48.27358192359319, 48.27564735173231, 48.24440022744263, 48.23038770902211, 48.21694072829586, 48.23705931004403, 48.1998113513789, 48.189937916553724, 48.22205244191926, 48.233037527577636, 48.2357595265752, 48.21867142157168, 48.1963566237514, 48.186729507381465, 48.18384490638247, 48.164426528393896, 48.14902284746197, 48.141691252591265, 48.133084076869174, 48.12556371685306, 48.114859482192074, 48.10442640574156, 48.11914027816251, 48.09443308126556, 48.08420548826424, 48.14398813090808, 48.17870483904577, 48.18656392281756, 48.170825357674644, 48.19820467543902, 48.27706422610188, 48.325113302006365, 48.30268426748105, 48.28506206361856, 48.298640236504426, 48.36146266610264, 48.4373925894883, 48.46476146509783, 48.44504200147522, 48.45503947435517, 48.430829535326914, 48.39499772417746, 48.35359911230199, 48.31355513417182, 48.33727275529933, 48.45929995790472, 48.46128287225307, 48.443010824790235, 48.35060090318645, 48.27254109268472, 48.30593665059704, 48.320918576925344, 48.3294176747723, 48.36522451848212, 48.50901928679954, 48.51414287625313, 48.516551783608435, 48.548581744476586, 48.623046988546115, 48.692207103825595, 48.66127912166374, 48.573769962567766, 48.48615302602265, 48.41201156842682, 48.37019476987433, 48.317753867903804, 48.291979050650006, 48.314879092669074, 48.46659587300671, 48.57591581824254, 48.74702675318568, 48.7308682502044, 48.80913275234698, 48.8995547583991, 48.707888012461815, 48.77520901133951, 48.819816235980255, 49.03217228260351, 49.23882288045775, 49.21446911629654, 49.18765201322761, 49.206276334907194, 49.29040324113506, 49.39897893012036, 49.54313120428778, 49.52596717882793, 49.314402930325265, 49.2599505081973, 49.28384101136928, 49.11517170060901, 49.00618135499442, 48.916823111839825, 49.01437850622385, 48.9924822924319, 49.01991551702877, 49.119736555117804, 49.3346750356689, 49.47231508623166, 49.415291301486015, 49.38410208869726, 49.47650990030904, 49.80802643692566, 50.099087439223965, 50.16669864339425, 50.462450609140504, 50.43126053699079, 50.42338615410797, 50.71655370666562, 51.722982368083294, 51.78373068716787, 52.85912173920286, 52.226327378541846, 52.3868744107317, 52.99768134513455, 52.78567533003327, 52.96173994979291, 53.182541050071016, 53.58146922542686, 54.26557930575287, 54.05096938528546, 54.02518021600831, 55.05898008012225, 55.39049940866448, 55.217236808262896, 55.474506092426864, 55.66492164262875, 56.51954702136661, 56.50350554425025, 56.710634778019234, 57.21694625480411, 57.00405986597378, 57.118983530537825, 58.244030653121555, 58.2672841817639, 58.42156885153179, 59.75264021870426, 59.241132490770205, 59.44059134705781, 59.831360525988124, 60.18779583722077, 61.3392081755988, 61.63515016273637, 61.44261829322591, 62.505575828247316, 63.25774261052056, 63.50739652445222, 63.403084113481626, 63.80156340139029, 63.68609051514845, 63.609617814706176, 63.72761499453483, 64.12308344960871, 64.53445819113335, 65.59031144555962, 65.77766902518553, 65.96124413207345, 67.17674955373113, 67.46057616638981, 67.67383255665578, 68.17720509704537, 68.26742029006286, 68.25147836389682, 68.02438742782073, 68.2973516173647, 68.62077339746317, 68.86817090678193, 69.41230225799055, 69.546900339425, 69.23357910786956, 70.4468753319199, 70.44601804439068, 70.40413031161168, 70.24998561814527, 70.17712251781587, 70.27401610360273, 70.43613174146935, 70.36456153688624, 70.44286562422567, 70.33021462240596, 70.74220018957809, 70.53904905660484, 70.49207441488271, 70.51314729650468, 70.65214519312586, 70.98063798981795, 71.08972204050437, 70.89944483064882, 70.77572500522868, 70.67390844533551, 70.81972676640633, 70.74212164803956, 70.75259218307234, 70.94968449176298, 70.87383864922944, 71.03789475039014, 71.00867030668803, 70.997193175744, 70.88758555517838, 70.95041551656377, 70.65220395271768, 70.53324697303707, 70.41137012906489, 70.44324229690217, 70.37765861125263, 70.40049724018577, 70.28797807758339, 70.12342821620294, 70.03335569464741, 69.94603105313762, 69.88875537241381, 69.95944521777731, 69.88733731943913, 69.87781708677238, 69.81625799682384, 69.6783709871361, 69.58921973466173, 69.51972488920053, 69.44123094889524, 69.36567333984657, 69.29115824423788, 69.21706942288951, 69.15793687367925, 69.11188593826785, 69.05536743340083, 69.01637101502958, 68.96627141992951, 68.9546988946834, 68.84871022754437, 68.79349604515828, 68.7358530574324, 68.651861351192, 68.60066743291344, 68.55799168551947, 68.48970464079855, 68.45158959693036, 68.4077996753809, 68.34002955179939, 68.30006362867792, 68.21110625009624, 68.14973662491356, 68.09041099145058, 68.06254772540571, 67.99101619413958, 67.95025855706652, 67.89225532144711, 67.83134746126584, 67.78238050587566, 67.72582128684016, 67.672218437935, 67.62441310349081, 67.57545510286974, 67.51259002042195, 67.46129263094622, 67.41718309443866, 67.35630554761967, 67.30396800656507, 67.2521094336749, 67.2009459568465, 67.14999932495337, 67.1013332147573, 67.05077441811125, 67.00222771423584, 66.95452418832228, 66.9057237771004, 66.86087274762825, 66.81220857542715, 66.76583011467828, 66.71979852478078, 66.6744641286685, 66.62956860178376, 66.58510582060624, 66.54117264101262, 66.49766695208861, 66.45458264806553, 66.41192162756317, 66.36968179341639, 66.32801715250783, 66.28676941560666, 66.24687496590992, 66.20569536150133, 66.16561622482686, 66.1261007629548, 66.086986826139, 66.04891751962813, 66.01011171001667, 65.9721046782403, 65.93465502476478, 65.89942441080497, 65.86202232902119, 65.824985882246, 65.78891762587745, 65.75323348239142, 65.71782839698874, 65.68280441630081], \"yaxis\": \"y6\"}],\n",
              "                        {\"autosize\": false, \"height\": 1200, \"template\": {\"data\": {\"bar\": [{\"error_x\": {\"color\": \"#2a3f5f\"}, \"error_y\": {\"color\": \"#2a3f5f\"}, \"marker\": {\"line\": {\"color\": \"#E5ECF6\", \"width\": 0.5}}, \"type\": \"bar\"}], \"barpolar\": [{\"marker\": {\"line\": {\"color\": \"#E5ECF6\", \"width\": 0.5}}, \"type\": \"barpolar\"}], \"carpet\": [{\"aaxis\": {\"endlinecolor\": \"#2a3f5f\", \"gridcolor\": \"white\", \"linecolor\": \"white\", \"minorgridcolor\": \"white\", \"startlinecolor\": \"#2a3f5f\"}, \"baxis\": {\"endlinecolor\": \"#2a3f5f\", \"gridcolor\": \"white\", \"linecolor\": \"white\", \"minorgridcolor\": \"white\", \"startlinecolor\": \"#2a3f5f\"}, \"type\": \"carpet\"}], \"choropleth\": [{\"colorbar\": {\"outlinewidth\": 0, \"ticks\": \"\"}, \"type\": \"choropleth\"}], \"contour\": [{\"colorbar\": {\"outlinewidth\": 0, \"ticks\": \"\"}, \"colorscale\": [[0.0, \"#0d0887\"], [0.1111111111111111, \"#46039f\"], [0.2222222222222222, \"#7201a8\"], [0.3333333333333333, \"#9c179e\"], [0.4444444444444444, \"#bd3786\"], [0.5555555555555556, \"#d8576b\"], [0.6666666666666666, \"#ed7953\"], [0.7777777777777778, \"#fb9f3a\"], [0.8888888888888888, \"#fdca26\"], [1.0, \"#f0f921\"]], \"type\": \"contour\"}], \"contourcarpet\": [{\"colorbar\": {\"outlinewidth\": 0, \"ticks\": \"\"}, \"type\": \"contourcarpet\"}], \"heatmap\": [{\"colorbar\": {\"outlinewidth\": 0, \"ticks\": \"\"}, \"colorscale\": [[0.0, \"#0d0887\"], [0.1111111111111111, \"#46039f\"], [0.2222222222222222, \"#7201a8\"], [0.3333333333333333, \"#9c179e\"], [0.4444444444444444, \"#bd3786\"], [0.5555555555555556, \"#d8576b\"], [0.6666666666666666, \"#ed7953\"], [0.7777777777777778, \"#fb9f3a\"], [0.8888888888888888, \"#fdca26\"], [1.0, \"#f0f921\"]], \"type\": \"heatmap\"}], \"heatmapgl\": [{\"colorbar\": {\"outlinewidth\": 0, \"ticks\": \"\"}, \"colorscale\": [[0.0, \"#0d0887\"], [0.1111111111111111, \"#46039f\"], [0.2222222222222222, \"#7201a8\"], [0.3333333333333333, \"#9c179e\"], [0.4444444444444444, \"#bd3786\"], [0.5555555555555556, \"#d8576b\"], [0.6666666666666666, \"#ed7953\"], [0.7777777777777778, \"#fb9f3a\"], [0.8888888888888888, \"#fdca26\"], [1.0, \"#f0f921\"]], \"type\": \"heatmapgl\"}], \"histogram\": [{\"marker\": {\"colorbar\": {\"outlinewidth\": 0, \"ticks\": \"\"}}, \"type\": \"histogram\"}], \"histogram2d\": [{\"colorbar\": {\"outlinewidth\": 0, \"ticks\": \"\"}, \"colorscale\": [[0.0, \"#0d0887\"], [0.1111111111111111, \"#46039f\"], [0.2222222222222222, \"#7201a8\"], [0.3333333333333333, \"#9c179e\"], [0.4444444444444444, \"#bd3786\"], [0.5555555555555556, \"#d8576b\"], [0.6666666666666666, \"#ed7953\"], [0.7777777777777778, \"#fb9f3a\"], [0.8888888888888888, \"#fdca26\"], [1.0, \"#f0f921\"]], \"type\": \"histogram2d\"}], \"histogram2dcontour\": [{\"colorbar\": {\"outlinewidth\": 0, \"ticks\": \"\"}, \"colorscale\": [[0.0, \"#0d0887\"], [0.1111111111111111, \"#46039f\"], [0.2222222222222222, \"#7201a8\"], [0.3333333333333333, \"#9c179e\"], [0.4444444444444444, \"#bd3786\"], [0.5555555555555556, \"#d8576b\"], [0.6666666666666666, \"#ed7953\"], [0.7777777777777778, \"#fb9f3a\"], [0.8888888888888888, \"#fdca26\"], [1.0, \"#f0f921\"]], \"type\": \"histogram2dcontour\"}], \"mesh3d\": [{\"colorbar\": {\"outlinewidth\": 0, \"ticks\": \"\"}, \"type\": \"mesh3d\"}], \"parcoords\": [{\"line\": {\"colorbar\": {\"outlinewidth\": 0, \"ticks\": \"\"}}, \"type\": \"parcoords\"}], \"pie\": [{\"automargin\": true, \"type\": \"pie\"}], \"scatter\": [{\"marker\": {\"colorbar\": {\"outlinewidth\": 0, \"ticks\": \"\"}}, \"type\": \"scatter\"}], \"scatter3d\": [{\"line\": {\"colorbar\": {\"outlinewidth\": 0, \"ticks\": \"\"}}, \"marker\": {\"colorbar\": {\"outlinewidth\": 0, \"ticks\": \"\"}}, \"type\": \"scatter3d\"}], \"scattercarpet\": [{\"marker\": {\"colorbar\": {\"outlinewidth\": 0, \"ticks\": \"\"}}, \"type\": \"scattercarpet\"}], \"scattergeo\": [{\"marker\": {\"colorbar\": {\"outlinewidth\": 0, \"ticks\": \"\"}}, \"type\": \"scattergeo\"}], \"scattergl\": [{\"marker\": {\"colorbar\": {\"outlinewidth\": 0, \"ticks\": \"\"}}, \"type\": \"scattergl\"}], \"scattermapbox\": [{\"marker\": {\"colorbar\": {\"outlinewidth\": 0, \"ticks\": \"\"}}, \"type\": \"scattermapbox\"}], \"scatterpolar\": [{\"marker\": {\"colorbar\": {\"outlinewidth\": 0, \"ticks\": \"\"}}, \"type\": \"scatterpolar\"}], \"scatterpolargl\": [{\"marker\": {\"colorbar\": {\"outlinewidth\": 0, \"ticks\": \"\"}}, \"type\": \"scatterpolargl\"}], \"scatterternary\": [{\"marker\": {\"colorbar\": {\"outlinewidth\": 0, \"ticks\": \"\"}}, \"type\": \"scatterternary\"}], \"surface\": [{\"colorbar\": {\"outlinewidth\": 0, \"ticks\": \"\"}, \"colorscale\": [[0.0, \"#0d0887\"], [0.1111111111111111, \"#46039f\"], [0.2222222222222222, \"#7201a8\"], [0.3333333333333333, \"#9c179e\"], [0.4444444444444444, \"#bd3786\"], [0.5555555555555556, \"#d8576b\"], [0.6666666666666666, \"#ed7953\"], [0.7777777777777778, \"#fb9f3a\"], [0.8888888888888888, \"#fdca26\"], [1.0, \"#f0f921\"]], \"type\": \"surface\"}], \"table\": [{\"cells\": {\"fill\": {\"color\": \"#EBF0F8\"}, \"line\": {\"color\": \"white\"}}, \"header\": {\"fill\": {\"color\": \"#C8D4E3\"}, \"line\": {\"color\": \"white\"}}, \"type\": \"table\"}]}, \"layout\": {\"annotationdefaults\": {\"arrowcolor\": \"#2a3f5f\", \"arrowhead\": 0, \"arrowwidth\": 1}, \"coloraxis\": {\"colorbar\": {\"outlinewidth\": 0, \"ticks\": \"\"}}, \"colorscale\": {\"diverging\": [[0, \"#8e0152\"], [0.1, \"#c51b7d\"], [0.2, \"#de77ae\"], [0.3, \"#f1b6da\"], [0.4, \"#fde0ef\"], [0.5, \"#f7f7f7\"], [0.6, \"#e6f5d0\"], [0.7, \"#b8e186\"], [0.8, \"#7fbc41\"], [0.9, \"#4d9221\"], [1, \"#276419\"]], \"sequential\": [[0.0, \"#0d0887\"], [0.1111111111111111, \"#46039f\"], [0.2222222222222222, \"#7201a8\"], [0.3333333333333333, \"#9c179e\"], [0.4444444444444444, \"#bd3786\"], [0.5555555555555556, \"#d8576b\"], [0.6666666666666666, \"#ed7953\"], [0.7777777777777778, \"#fb9f3a\"], [0.8888888888888888, \"#fdca26\"], [1.0, \"#f0f921\"]], \"sequentialminus\": [[0.0, \"#0d0887\"], [0.1111111111111111, \"#46039f\"], [0.2222222222222222, \"#7201a8\"], [0.3333333333333333, \"#9c179e\"], [0.4444444444444444, \"#bd3786\"], [0.5555555555555556, \"#d8576b\"], [0.6666666666666666, \"#ed7953\"], [0.7777777777777778, \"#fb9f3a\"], [0.8888888888888888, \"#fdca26\"], [1.0, \"#f0f921\"]]}, \"colorway\": [\"#636efa\", \"#EF553B\", \"#00cc96\", \"#ab63fa\", \"#FFA15A\", \"#19d3f3\", \"#FF6692\", \"#B6E880\", \"#FF97FF\", \"#FECB52\"], \"font\": {\"color\": \"#2a3f5f\"}, \"geo\": {\"bgcolor\": \"white\", \"lakecolor\": \"white\", \"landcolor\": \"#E5ECF6\", \"showlakes\": true, \"showland\": true, \"subunitcolor\": \"white\"}, \"hoverlabel\": {\"align\": \"left\"}, \"hovermode\": \"closest\", \"mapbox\": {\"style\": \"light\"}, \"paper_bgcolor\": \"white\", \"plot_bgcolor\": \"#E5ECF6\", \"polar\": {\"angularaxis\": {\"gridcolor\": \"white\", \"linecolor\": \"white\", \"ticks\": \"\"}, \"bgcolor\": \"#E5ECF6\", \"radialaxis\": {\"gridcolor\": \"white\", \"linecolor\": \"white\", \"ticks\": \"\"}}, \"scene\": {\"xaxis\": {\"backgroundcolor\": \"#E5ECF6\", \"gridcolor\": \"white\", \"gridwidth\": 2, \"linecolor\": \"white\", \"showbackground\": true, \"ticks\": \"\", \"zerolinecolor\": \"white\"}, \"yaxis\": {\"backgroundcolor\": \"#E5ECF6\", \"gridcolor\": \"white\", \"gridwidth\": 2, \"linecolor\": \"white\", \"showbackground\": true, \"ticks\": \"\", \"zerolinecolor\": \"white\"}, \"zaxis\": {\"backgroundcolor\": \"#E5ECF6\", \"gridcolor\": \"white\", \"gridwidth\": 2, \"linecolor\": \"white\", \"showbackground\": true, \"ticks\": \"\", \"zerolinecolor\": \"white\"}}, \"shapedefaults\": {\"line\": {\"color\": \"#2a3f5f\"}}, \"ternary\": {\"aaxis\": {\"gridcolor\": \"white\", \"linecolor\": \"white\", \"ticks\": \"\"}, \"baxis\": {\"gridcolor\": \"white\", \"linecolor\": \"white\", \"ticks\": \"\"}, \"bgcolor\": \"#E5ECF6\", \"caxis\": {\"gridcolor\": \"white\", \"linecolor\": \"white\", \"ticks\": \"\"}}, \"title\": {\"x\": 0.05}, \"xaxis\": {\"automargin\": true, \"gridcolor\": \"white\", \"linecolor\": \"white\", \"ticks\": \"\", \"title\": {\"standoff\": 15}, \"zerolinecolor\": \"white\", \"zerolinewidth\": 2}, \"yaxis\": {\"automargin\": true, \"gridcolor\": \"white\", \"linecolor\": \"white\", \"ticks\": \"\", \"title\": {\"standoff\": 15}, \"zerolinecolor\": \"white\", \"zerolinewidth\": 2}}}, \"width\": 1200, \"xaxis\": {\"anchor\": \"y\", \"domain\": [0.0, 0.45]}, \"xaxis2\": {\"anchor\": \"y2\", \"domain\": [0.55, 1.0]}, \"xaxis3\": {\"anchor\": \"y3\", \"domain\": [0.0, 0.45]}, \"xaxis4\": {\"anchor\": \"y4\", \"domain\": [0.55, 1.0]}, \"xaxis5\": {\"anchor\": \"y5\", \"domain\": [0.0, 0.45]}, \"xaxis6\": {\"anchor\": \"y6\", \"domain\": [0.55, 1.0]}, \"yaxis\": {\"anchor\": \"x\", \"domain\": [0.7, 1.0], \"range\": [0, 60000], \"title\": {\"text\": \"adult bees\"}}, \"yaxis2\": {\"anchor\": \"x2\", \"domain\": [0.7, 1.0], \"range\": [0, 6000], \"title\": {\"text\": \"pollen stores\"}}, \"yaxis3\": {\"anchor\": \"x3\", \"domain\": [0.35, 0.6499999999999999], \"range\": [0, 35000], \"title\": {\"text\": \"brood cells\"}}, \"yaxis4\": {\"anchor\": \"x4\", \"domain\": [0.35, 0.6499999999999999], \"range\": [0, 100000], \"title\": {\"text\": \"honey stores\"}}, \"yaxis5\": {\"anchor\": \"x5\", \"domain\": [0.0, 0.3], \"range\": [0, 100], \"title\": {\"text\": \"brood % comparaison\"}}, \"yaxis6\": {\"anchor\": \"x6\", \"domain\": [0.0, 0.3], \"range\": [0, 100], \"title\": {\"text\": \"colony weight (kg)\"}}},\n",
              "                        {\"responsive\": true}\n",
              "                    ).then(function(){\n",
              "                            \n",
              "var gd = document.getElementById('303a79fb-daf7-4fab-a370-f37c3c81ef1f');\n",
              "var x = new MutationObserver(function (mutations, observer) {{\n",
              "        var display = window.getComputedStyle(gd).display;\n",
              "        if (!display || display === 'none') {{\n",
              "            console.log([gd, 'removed!']);\n",
              "            Plotly.purge(gd);\n",
              "            observer.disconnect();\n",
              "        }}\n",
              "}});\n",
              "\n",
              "// Listen for the removal of the full notebook cells\n",
              "var notebookContainer = gd.closest('#notebook-container');\n",
              "if (notebookContainer) {{\n",
              "    x.observe(notebookContainer, {childList: true});\n",
              "}}\n",
              "\n",
              "// Listen for the clearing of the current output cell\n",
              "var outputEl = gd.closest('.output');\n",
              "if (outputEl) {{\n",
              "    x.observe(outputEl, {childList: true});\n",
              "}}\n",
              "\n",
              "                        })\n",
              "                };\n",
              "                \n",
              "            </script>\n",
              "        </div>\n",
              "</body>\n",
              "</html>"
            ]
          },
          "metadata": {
            "tags": []
          }
        }
      ]
    },
    {
      "cell_type": "markdown",
      "metadata": {
        "id": "6EXK-XSUIxDi"
      },
      "source": [
        "#### **3. AUTRES GRAPHES**"
      ]
    },
    {
      "cell_type": "code",
      "metadata": {
        "colab": {
          "base_uri": "https://localhost:8080/",
          "height": 1000
        },
        "id": "K2NG4fcEIxDi",
        "scrolled": false,
        "outputId": "f575a922-96f0-49ee-a248-e1638b146d86"
      },
      "source": [
        "fig2 = make_subplots(rows=10, cols=1, vertical_spacing=0.005, shared_xaxes=True)\n",
        "\n",
        "#Cells 2020\n",
        "fig2.add_trace(go.Scatter(y=hopomo.storeshoney, name=\"storeshoney\", mode='lines', xaxis=\"x\", yaxis=\"y1\",stackgroup='one'),\n",
        "    row=1, col=1)\n",
        "fig2.add_trace(go.Scatter(y=hopomo.storesnectar, name=\"storesnectar\", mode='lines', xaxis=\"x\", yaxis=\"y1\",stackgroup='one'),\n",
        "    row=1, col=1)\n",
        "fig2.add_trace(go.Scatter(y=hopomo.storespollen, name=\"storespollen\", mode='lines', xaxis=\"x\", yaxis=\"y1\",stackgroup='one'),\n",
        "    row=1, col=1) \n",
        "fig2.add_trace(go.Scatter(y=hopomo.cellseggs, name=\"cellseggs\", mode='lines', xaxis=\"x\", yaxis=\"y1\",stackgroup='one'),\n",
        "    row=1, col=1)\n",
        "fig2.add_trace(go.Scatter(y=hopomo.cellslarvae, name=\"cellslarvae\", mode='lines', xaxis=\"x\", yaxis=\"y1\",stackgroup='one'),\n",
        "    row=1, col=1)\n",
        "fig2.add_trace(go.Scatter(y=hopomo.cellspupae, name=\"cellspupae\", mode='lines', xaxis=\"x\", yaxis=\"y1\",stackgroup='one'),\n",
        "    row=1, col=1)\n",
        "fig2.add_trace(go.Scatter(y=hopomo.cellsbrood, name=\"cellsbrood\", mode='lines', xaxis=\"x\", yaxis=\"y1\"),\n",
        "    row=1, col=1)\n",
        "fig2.add_trace(go.Scatter(y=hopomo.cellsempty, name=\"cellsempty\", mode='lines', xaxis=\"x\", yaxis=\"y1\",stackgroup='one'),\n",
        "    row=1, col=1)\n",
        "\n",
        "#Income 2020\n",
        "fig2.add_trace(go.Scatter(y=hopomo.incomenectar, name=\"incomenectar\", mode='lines', xaxis=\"x\", yaxis=\"y1\",stackgroup='one'),\n",
        "    row=2, col=1)\n",
        "fig2.add_trace(go.Scatter(y=hopomo.incomepollen, name=\"incomepollen\", mode='lines', xaxis=\"x\", yaxis=\"y1\",stackgroup='one'),\n",
        "    row=2, col=1)\n",
        "\n",
        "#Indexes 2020\n",
        "fig2.add_trace(go.Scatter(y=hopomo.indexflight, name=\"indexflight\", mode='lines', xaxis=\"x\", yaxis=\"y1\"),\n",
        "    row=3, col=1)\n",
        "fig2.add_trace(go.Scatter(y=hopomo.indexrain, name=\"indexrain\", mode='lines', xaxis=\"x\", yaxis=\"y1\"),\n",
        "    row=3, col=1)\n",
        "fig2.add_trace(go.Scatter(y=hopomo.indextemperature, name=\"index temperature\", mode='lines', xaxis=\"x\", yaxis=\"y1\"),\n",
        "    row=3, col=1)\n",
        "fig2.add_trace(go.Scatter(y=hopomo.indexvent, name=\"indexvent\", mode='lines', xaxis=\"x\", yaxis=\"y1\"),\n",
        "    row=3, col=1)\n",
        "fig2.add_trace(go.Scatter(y=hopomo.seasonVar, name=\"index season\", mode='lines', xaxis=\"x\", yaxis=\"y1\"),\n",
        "    row=3, col=1)\n",
        "# fig2.add_trace(go.Scatter(y=hopomo.indexhumidity, name=\"indexhumidity\", mode='lines', xaxis=\"x\", yaxis=\"y1\"),\n",
        "#     row=3, col=1)\n",
        "\n",
        "\n",
        "# Index divers 2020\n",
        "fig2.add_trace(go.Scatter(y=hopomo.indexnectaroutside, name=\"index nectaroutside\", mode='lines', xaxis=\"x\", yaxis=\"y1\"),\n",
        "    row=4, col=1)\n",
        "fig2.add_trace(go.Scatter(y=hopomo.indexpollenoutside, name=\"index pollenoutside\", mode='lines', xaxis=\"x\", yaxis=\"y1\"),\n",
        "    row=4, col=1)\n",
        "fig2.add_trace(go.Scatter(y=hopomo.indexpollensituation, name=\"index pollensituation\", mode='lines', xaxis=\"x\", yaxis=\"y1\"),\n",
        "    row=4, col=1)\n",
        "fig2.add_trace(go.Scatter(y=hopomo.indexnursingquality, name=\"index nursingquality\", mode='lines', xaxis=\"x\", yaxis=\"y1\"),\n",
        "    row=4, col=1)\n",
        "\n",
        "# Foragers 2020\n",
        "fig2.add_trace(go.Scatter(y=hopomo.foragersactive, name=\"foragersactive\", mode='lines', xaxis=\"x\", yaxis=\"y1\",fill='tozeroy'),\n",
        "    row=5, col=1)\n",
        "fig2.add_trace(go.Scatter(y=hopomo.foragersnectar, name=\"foragersnectar\", mode='lines', xaxis=\"x\", yaxis=\"y1\"),\n",
        "    row=5, col=1)\n",
        "fig2.add_trace(go.Scatter(y=hopomo.foragersnectaractive, name=\"foragersnectar active\", mode='lines', xaxis=\"x\", yaxis=\"y1\",fill='tozeroy'),\n",
        "    row=5, col=1)\n",
        "fig2.add_trace(go.Scatter(y=hopomo.foragerspollen, name=\"foragerspollen\", mode='lines', xaxis=\"x\", yaxis=\"y1\"),\n",
        "    row=5, col=1)\n",
        "fig2.add_trace(go.Scatter(y=hopomo.foragerspollenactive, name=\"foragerspollen active\", mode='lines', xaxis=\"x\", yaxis=\"y1\",fill='tozeroy'),\n",
        "    row=5, col=1)\n",
        "\n",
        "# Nurse and needs 2020\n",
        "fig2.add_trace(go.Scatter(y=hopomo.nurses, name=\"nurses\", mode='lines', xaxis=\"x\", yaxis=\"y1\"),\n",
        "    row=6, col=1)\n",
        "fig2.add_trace(go.Scatter(y=hopomo.neednurses, name=\"neednurses\", mode='lines', xaxis=\"x\", yaxis=\"y1\"),\n",
        "    row=6, col=1)\n",
        "fig2.add_trace(go.Scatter(y=hopomo.needworkers, name=\"needworkers\", mode='lines', xaxis=\"x\", yaxis=\"y1\"),\n",
        "    row=6, col=1)\n",
        "fig2.add_trace(go.Scatter(y=hopomo.needprocessors, name=\"needprocessors\", mode='lines', xaxis=\"x\", yaxis=\"y1\"),\n",
        "    row=6, col=1)\n",
        "fig2.add_trace(go.Scatter(y=hopomo.needpollenforagers, name=\"needpollenforagers\", mode='lines', xaxis=\"x\", yaxis=\"y1\"),\n",
        "    row=6, col=1)\n",
        "\n",
        "# Larvae 2020\n",
        "fig2.add_trace(go.Scatter(y=hopomo.larvae1, name=\"larvae 1\", mode='lines', xaxis=\"x\", yaxis=\"y1\"),\n",
        "    row=7, col=1)\n",
        "fig2.add_trace(go.Scatter(y=hopomo.larvae2, name=\"larvae 2\", mode='lines', xaxis=\"x\", yaxis=\"y1\"),\n",
        "    row=7, col=1)\n",
        "fig2.add_trace(go.Scatter(y=hopomo.larvae3, name=\"larvae 3\", mode='lines', xaxis=\"x\", yaxis=\"y1\"),\n",
        "    row=7, col=1)\n",
        "fig2.add_trace(go.Scatter(y=hopomo.larvae4, name=\"larvae 4\", mode='lines', xaxis=\"x\", yaxis=\"y1\"),\n",
        "    row=7, col=1)\n",
        "fig2.add_trace(go.Scatter(y=hopomo.larvae5, name=\"larvae 5\", mode='lines', xaxis=\"x\", yaxis=\"y1\"),\n",
        "    row=7, col=1)\n",
        "\n",
        "# Needs 2020\n",
        "fig2.add_trace(go.Scatter(y=hopomo.needpollen, name=\"needpollen\", mode='lines', xaxis=\"x\", yaxis=\"y1\"),\n",
        "    row=8, col=1)\n",
        "fig2.add_trace(go.Scatter(y=hopomo.needpollenincome, name=\"needpollen income\", mode='lines', xaxis=\"x\", yaxis=\"y1\"),\n",
        "    row=8, col=1)\n",
        "fig2.add_trace(go.Scatter(y=hopomo.needpollen_adult, name=\"needpollen_adult\", mode='lines', xaxis=\"x\", yaxis=\"y1\"),\n",
        "    row=8, col=1)\n",
        "fig2.add_trace(go.Scatter(y=hopomo.needpollen_larvae, name=\"needpollen_larvae\", mode='lines', xaxis=\"x\", yaxis=\"y1\"),\n",
        "    row=8, col=1)\n",
        "fig2.add_trace(go.Scatter(y=hopomo.storespollen, name=\"storespollen\", mode='lines', xaxis=\"x\", yaxis=\"y1\"),\n",
        "    row=8, col=1)\n",
        "\n",
        "# Needs nectar 2020\n",
        "fig2.add_trace(go.Scatter(y=hopomo.neednectar, name=\"neednectar\", mode='lines', xaxis=\"x\", yaxis=\"y1\"),\n",
        "    row=9, col=1)\n",
        "fig2.add_trace(go.Scatter(y=hopomo.neednectar_adult, name=\"neednectar_adult\", mode='lines', xaxis=\"x\", yaxis=\"y1\"),\n",
        "    row=9, col=1)\n",
        "fig2.add_trace(go.Scatter(y=hopomo.neednectar_larvae, name=\"neednectar_larvae\", mode='lines', xaxis=\"x\", yaxis=\"y1\"),\n",
        "    row=9, col=1)\n",
        "\n",
        "# Usages 2020\n",
        "fig2.add_trace(go.Scatter(y=hopomo.usagehoney, name=\"usagehoney\", mode='lines', xaxis=\"x\", yaxis=\"y1\"),\n",
        "    row=10, col=1)\n",
        "fig2.add_trace(go.Scatter(y=hopomo.usagenectar, name=\"usagenectar\", mode='lines', xaxis=\"x\", yaxis=\"y1\"),\n",
        "    row=10, col=1)\n",
        "fig2.add_trace(go.Scatter(y=hopomo.usagepollen, name=\"usagepollen\", mode='lines', xaxis=\"x\", yaxis=\"y1\"),\n",
        "    row=10, col=1)\n",
        "\n",
        "fig2.update_yaxes(title_text=\"cells\", range=[0, 110000], row=1, col=1)\n",
        "fig2.update_yaxes(title_text=\"incomes\", row=2, col=1)\n",
        "fig2.update_yaxes(title_text=\"indexes weather\", nticks=10, row=3, col=1)\n",
        "fig2.update_yaxes(title_text=\"indexes\", nticks=10, row=4, col=1)\n",
        "fig2.update_yaxes(title_text=\"foragers\", nticks=10, row=5, col=1)\n",
        "fig2.update_yaxes(title_text=\"need bees\", nticks=10, row=6, col=1)\n",
        "fig2.update_yaxes(title_text=\"larvae 1-5\", nticks=10, row=7, col=1)\n",
        "fig2.update_yaxes(title_text=\"need pollen\", nticks=10, row=8, col=1)\n",
        "fig2.update_yaxes(title_text=\"need nectar\", nticks=10, row=9, col=1)\n",
        "fig2.update_yaxes(title_text=\"usage poll & nectar\", nticks=10, row=10, col=1)\n",
        "\n",
        "fig.update_xaxes(title_text = 'Temp (°C)', ticks=\"outside\", nticks=12, tickcolor='crimson', showline = True)\n",
        "\n",
        "fig2.update_traces(hovertemplate=\"day: %{x} <br>val: %{y:.1f}\")\n",
        "fig2.update_layout(autosize=False, height=3000, width=1200)\n",
        "fig2.show()"
      ],
      "execution_count": 767,
      "outputs": [
        {
          "output_type": "display_data",
          "data": {
            "text/html": [
              "<html>\n",
              "<head><meta charset=\"utf-8\" /></head>\n",
              "<body>\n",
              "    <div>\n",
              "            <script src=\"https://cdnjs.cloudflare.com/ajax/libs/mathjax/2.7.5/MathJax.js?config=TeX-AMS-MML_SVG\"></script><script type=\"text/javascript\">if (window.MathJax) {MathJax.Hub.Config({SVG: {font: \"STIX-Web\"}});}</script>\n",
              "                <script type=\"text/javascript\">window.PlotlyConfig = {MathJaxConfig: 'local'};</script>\n",
              "        <script src=\"https://cdn.plot.ly/plotly-latest.min.js\"></script>    \n",
              "            <div id=\"ab1e6bb3-ce29-4488-80d6-1c7c386b40b4\" class=\"plotly-graph-div\" style=\"height:3000px; width:1200px;\"></div>\n",
              "            <script type=\"text/javascript\">\n",
              "                \n",
              "                    window.PLOTLYENV=window.PLOTLYENV || {};\n",
              "                    \n",
              "                if (document.getElementById(\"ab1e6bb3-ce29-4488-80d6-1c7c386b40b4\")) {\n",
              "                    Plotly.newPlot(\n",
              "                        'ab1e6bb3-ce29-4488-80d6-1c7c386b40b4',\n",
              "                        [{\"hovertemplate\": \"day: %{x} <br>val: %{y:.1f}\", \"mode\": \"lines\", \"name\": \"storeshoney\", \"stackgroup\": \"one\", \"type\": \"scatter\", \"xaxis\": \"x\", \"y\": [50000.0, 49970.292, 49940.874, 49911.744000000006, 49882.89511614248, 49854.324036998325, 49826.02767911709, 49798.00166010057, 49770.21097930097, 49742.75315261469, 49715.969103413336, 49688.99222835209, 49662.2750909739, 49635.8114629879, 49609.61425607694, 49583.66644139965, 49558.17615184249, 49532.70518756705, 49507.47686793668, 49482.48098367346, 49457.721279392325, 49433.1874926309, 49408.8773405633, 49384.788526791046, 49360.904952901525, 49337.37421779402, 49313.92342252788, 49290.68255985207, 49267.64124422262, 49244.792479985605, 49222.118188081324, 49202.34602169812, 49184.40667726054, 49166.28597968326, 49147.611539706726, 49128.72688560926, 49107.139376564126, 49085.69051660772, 49064.590898583876, 49043.79117323531, 49023.41392738222, 49005.039075952154, 48987.8663604394, 48967.241134897165, 48946.854678802105, 48929.8367353883, 48912.42942717945, 48897.62897289413, 48881.554295603026, 48861.512763543724, 48841.543245817884, 48821.47060317696, 48803.11900736185, 48782.843965894346, 48768.9051626454, 48753.431992384474, 48739.35923355664, 48719.564796222585, 48699.694399218686, 48679.898901814144, 48667.55796321381, 48647.614338970496, 48627.5709634085, 48607.45816648473, 48587.241843123, 48566.901035091985, 48546.41747104365, 48525.76979522278, 48504.80025207603, 48485.372246635234, 48463.34202330701, 48447.36783709116, 48441.426794597035, 48419.27777599948, 48396.6480860739, 48371.44656929843, 48362.8724467584, 48338.548629762015, 48314.37280355875, 48313.58005599258, 48313.792980318016, 48305.69071745172, 48290.37640858743, 48270.977750139806, 48252.23960728137, 48226.96773921618, 48200.46143198465, 48170.46663956723, 48140.58160117579, 48110.14911591457, 48079.528045716084, 48048.07980295045, 48013.21087710021, 47980.636399491654, 47947.21982230128, 47902.16171554473, 47856.048281862066, 47818.96063088246, 47805.53554262113, 47766.129249766556, 47702.63265266853, 47640.25381060963, 47584.01531936567, 47522.46442596411, 47461.94576634437, 47398.47406448773, 47332.982586661914, 47269.52889743463, 47206.036853140344, 47141.31932463987, 47079.96432739099, 47022.9560155346, 46968.59612836631, 46916.048425934976, 46857.65850409324, 46786.71768833507, 46719.08731375991, 46645.94769276956, 46576.24037533256, 46507.10090124752, 46426.949503171934, 46352.26331306746, 46272.89410126281, 46182.662666739154, 46082.95365152738, 46003.2387552091, 45950.312010536174, 45848.33798453243, 45732.731197496025, 45617.33246431156, 45506.96349055253, 45406.35361236642, 45310.698722186826, 45219.36739606534, 45130.580080837186, 45046.2771667316, 44963.883780331926, 44877.49778502678, 44774.33313970377, 44663.01737692481, 44610.08644589992, 44656.79214489766, 44639.885196870026, 44657.77848955829, 44683.555895031976, 44565.67488551455, 44458.270930144405, 44388.96830693093, 44326.82570127793, 44437.71318784044, 44375.26194541246, 44216.43610299639, 44056.78983624105, 43974.9404311793, 43849.036208763486, 43826.79361647571, 43785.3100361845, 43637.2442294827, 43494.63075068466, 43387.50079605943, 43250.53802597003, 43119.5226187644, 42975.3171076095, 42851.55601903953, 42761.77120238072, 42674.84557582191, 42687.01718982714, 42809.13871109236, 43020.89585444219, 43105.43635712386, 43124.76243126823, 43164.93319815513, 43297.38341351749, 43602.75764307682, 43703.91881514959, 44078.619313791256, 44182.99131159178, 44132.648167140054, 44261.64734495979, 45128.225020124475, 45528.30293222839, 46762.243167365275, 46865.141826203835, 46970.175287943246, 47542.48048756757, 47660.80473704198, 47795.64780597411, 47965.05277335108, 48312.469579137934, 49160.97810958361, 49390.62181482274, 49437.980008934974, 50342.77693352197, 51107.34646005747, 51358.80913720772, 51760.00687191183, 52024.219356529706, 52936.07544999562, 53437.87291750307, 53908.57913382643, 54553.714502254625, 54683.98288809634, 54748.581213627585, 55805.16093500962, 56419.85863096723, 56881.65903543809, 58283.98272103458, 58577.28474380346, 58925.35458634663, 59443.3404311439, 59991.457603459115, 61327.58210336849, 62395.3770273854, 62712.80647626471, 63875.976426007786, 65220.27702400452, 66215.74556897492, 66685.1100856614, 67254.69325809338, 67479.39860304575, 67527.14793029295, 67684.16406043741, 68050.339480902, 68592.24346437321, 69873.75112718364, 70762.79457219121, 71436.46309493632, 72916.46450139076, 73969.99289263586, 74788.25310586183, 75755.79627463466, 76374.64986996111, 76752.22158040454, 76692.2391684609, 76931.90313694248, 77361.85640062514, 77864.715149492, 78632.67287833033, 79231.09789640264, 79258.94237600746, 80436.01620159134, 81095.1469033462, 81520.0321371486, 81702.40580785106, 81813.83829163933, 81924.88792523493, 82111.68925006132, 82224.17389114642, 82371.79323166014, 82368.61175531968, 82814.1185563435, 82951.80983131283, 83017.10487231294, 83095.57988298895, 83252.78029393002, 83685.75739770081, 84089.0295741323, 84211.11151190748, 84212.21775120357, 84139.27037149931, 84282.56992903711, 84308.52850849857, 84357.85052001693, 84631.55369259731, 84766.08251333333, 85038.93665674841, 85223.50384976438, 85385.12001181216, 85426.22473670855, 85585.01799962614, 85483.81355915817, 85401.70896459017, 85310.09615107045, 85303.24268573045, 85276.91747072185, 85316.14447087972, 85310.40223489696, 85221.30670775537, 85133.53069573847, 85045.63437159409, 84975.62013689504, 85031.69474928897, 85039.52154324639, 85076.6702657889, 85095.76932171997, 85029.08904599446, 84948.78439013333, 84875.31583987748, 84798.37320942977, 84721.34844272524, 84645.17575388083, 84568.9561319828, 84503.24828610918, 84450.11264301218, 84404.19847870793, 84379.23261947115, 84339.62715512568, 84353.7265793914, 84301.98305908573, 84253.43686905073, 84209.36109657706, 84140.82599382348, 84083.70501181312, 84044.50902628922, 83989.50793056376, 83949.98634629848, 83920.40475817192, 83869.52269951052, 83840.87412273759, 83779.05754364561, 83717.83404730176, 83656.49313663271, 83624.76858257162, 83571.34478847611, 83532.15204349038, 83486.69379622453, 83434.75755023217, 83387.24921135497, 83336.85815317681, 83287.20045061877, 83242.43045280821, 83199.63979145854, 83147.12326201783, 83096.31872064252, 83052.78180793245, 83000.90801524637, 82949.59208641895, 82898.81353371422, 82848.7742507003, 82798.9546142857, 82751.21866932884, 82702.82206611848, 82655.18633200356, 82608.95068223935, 82561.89472468504, 82517.54042008596, 82471.52296853514, 82425.90064890948, 82380.75250570259, 82336.0820903899, 82291.87715636779, 82248.13141580936, 82204.84064728947, 82161.99263965798, 82119.5911905263, 82077.63210592118, 82036.1031999506, 81995.00829448173, 81954.26933769153, 81914.90110083303, 81875.06317593654, 81835.63259350389, 81796.60525512531, 81757.94279824544, 81720.25567562542, 81682.41652072615, 81644.96764631657, 81607.93530546261, 81573.10717610775, 81537.64556410117, 81501.7093471594, 81466.14135126311, 81430.93146760926, 81396.08358962847], \"yaxis\": \"y\"}, {\"hovertemplate\": \"day: %{x} <br>val: %{y:.1f}\", \"mode\": \"lines\", \"name\": \"storesnectar\", \"stackgroup\": \"one\", \"type\": \"scatter\", \"xaxis\": \"x\", \"y\": [0.0, 0.0, 0.0, 0.0, 0.0, 0.0, 0.0, 0.0, 0.2518667985331781, 1.136770498283077, 0.0, 0.0, 0.0, 0.061089823151366456, 0.08742211686423684, 0.5638115068380646, 0.0, 0.0, 0.0, 0.0, 0.0, 0.0, 0.0, 0.0, 0.31095283777770527, 0.0, 0.0, 0.0, 0.0, 0.48665179350749227, 7.487246501341878, 11.53314708781976, 11.040347804147697, 8.88153517633057, 7.158664891612073, 0.0, 0.0, 0.5639479313811016, 0.9436684012901677, 2.1706890741741303, 7.021316578414013, 8.853136040477601, 0.0, 1.0998426899315612, 8.926931572100113, 8.287715447224933, 14.623911046612157, 10.077874433919657, 0.0, 0.0, 0.0, 3.728608149719194, 0.046880034676854976, 16.06259308985893, 12.043059093404743, 14.28151576856725, 0.0, 0.0, 1.7270859062774229, 18.83962037883654, 0.0, 0.0, 0.0, 0.0, 0.0, 0.0, 0.0, 0.0, 4.0514946357202275, 0.0, 18.665465572793288, 39.93803541329508, 0.330017987584057, 0.0, 0.0, 36.84756875416734, 0.0, 9.635625478340192, 72.17732297732219, 74.15219256506789, 55.42158236645734, 35.95688605882229, 29.727574300870756, 33.20210995852192, 12.39710418529139, 7.6779744636520455, 0.0, 0.3370689035685411, 0.0, 0.5571953415343346, 0.0, 0.0, 5.3071669654299995, 4.724787713760062, 1.0514354337564322, 2.041312928186269, 22.62465189569005, 97.15147192597384, 51.25869601864686, 0.0, 0.0, 14.466256282215443, 0.0, 0.0, 0.0, 0.0, 0.0, 0.0, 0.0, 0.0, 0.0, 0.0, 0.0, 0.0, 0.0, 0.0, 0.0, 0.0, 0.0, 0.0, 0.0, 0.0, 0.0, 0.0, 42.45579671917525, 127.27508730100328, 23.51884353935492, 0.0, 0.0, 0.0, 0.0, 0.0, 0.0, 0.0, 0.0, 0.0, 0.0, 0.0, 0.0, 164.23517243472088, 425.27368153423834, 301.0109489190696, 415.3757090960311, 373.43316800990294, 60.264407737198326, 74.196300098542, 233.35905100328, 240.85377569061734, 665.3612319500252, 226.87644006655967, 0.0, 0.0, 206.99061129057029, 126.97066596620553, 342.9323144192243, 263.6216398144667, 23.53904544342828, 53.49241286191966, 75.0812491449887, 4.919776279502841, 14.712431147491365, 11.837229749684635, 32.66190489447747, 154.6837931611547, 173.68434404269772, 435.2388831510756, 763.376269668975, 933.4694493354627, 626.1153794957522, 478.69313639165625, 583.7943736203104, 820.2939104305931, 1211.1306073728874, 778.0855685252592, 1436.3508311356281, 746.575605176432, 402.7376666245268, 918.4610387374746, 2696.439281153866, 1624.5741019977327, 3574.043524235705, 758.3180547579036, 841.2199445101164, 1912.6088623857588, 822.4388573894144, 878.8129480475527, 982.1569744608887, 1458.6150972566234, 2655.5971881286387, 1112.9523954842912, 791.1291217537979, 2858.7310414775925, 2475.949300468554, 1179.160315312905, 1578.9324231787982, 1276.2091055837525, 2854.2299281074293, 1857.6547965307595, 1794.0971588181415, 2166.242154557465, 875.1440105452662, 840.2449407002764, 3294.7567131108185, 2174.8056400910364, 1860.3447079617417, 4054.4568532551652, 1332.4008069371798, 1503.9439701467677, 1938.3824777227114, 2124.6122197906575, 4034.996377067451, 3225.4764283458558, 1554.2729930407968, 3626.8595243014206, 3988.426947479549, 3097.989070040406, 1763.3804871544803, 1965.9271172956255, 1083.6761899330597, 662.0254150194431, 949.1511112181054, 1472.8675503960683, 2022.0839573100316, 3841.525186630795, 2844.631292473083, 2357.083782060901, 4319.384127461378, 3285.231844141913, 2710.805124513243, 2965.8998503932125, 2091.3982185794302, 1396.5765572475375, 345.14213830076847, 1127.6719127378608, 1632.0651510128687, 1802.952058203046, 2447.119345371186, 1957.1384744777624, 672.4116238284605, 3452.719759601352, 2110.913466438408, 1490.6389972017128, 875.048022310084, 701.4517133087096, 703.2054785177748, 872.3904647952636, 684.2625466885911, 762.9157571233663, 454.81938542742677, 1511.8871102806168, 719.8757471450947, 544.1830546319186, 578.1552770133997, 820.5710341858435, 1503.8240729695976, 1387.7856421268702, 652.5707824579472, 337.07744392084174, 186.06307528789836, 692.7741137476, 399.21197439126763, 477.38163536097227, 1017.7094056634551, 689.8934747599993, 1019.3988648638064, 800.3059734340845, 709.0171933520771, 412.94912074153376, 651.625302401394, 0.0, 41.816446268850065, 29.402733095157252, 236.85177219559137, 195.38567724715654, 342.9191996078166, 210.8624413892961, 0.0, 0.0, 0.5411550294877818, 61.70046282016341, 368.4779137594428, 261.1016534899984, 318.18077423936893, 254.325569105643, 35.310090371104934, 0.0, 13.569878326873638, 2.366197495105924, 0.0, 0.0, 0.0, 27.419868575780825, 59.96703544380499, 76.95836295873612, 128.09190796300368, 94.44271227905259, 214.8821271168184, 50.720067764276195, 55.86722212253417, 60.3906073432091, 0.0, 28.89896096459682, 70.79403886155964, 31.383086083130166, 69.11361417000778, 89.9507392285275, 39.05290651886558, 84.63931960765572, 0.0, 0.0, 2.5691109110849553, 71.84314353569442, 18.5963407361362, 50.76690991598656, 32.05144419038942, 15.046195864497548, 24.433339985296456, 15.617720153156192, 16.21274673883978, 27.177658984325877, 28.68747178477474, 3.2926831738218603, 7.4388258381693575, 22.248613893961814, 0.0, 0.0, 0.0, 0.43370881184844495, 0.0, 3.5943500813331477, 0.6937966475335404, 1.4209436727336042, 3.439099339519058, 0.5914740344760885, 5.618094757734357, 0.2324153457996916, 0.0, 0.0, 0.0, 0.0, 0.0, 0.0, 0.0, 0.0, 0.0, 0.0, 0.0, 0.0, 2.2029740067548027, 0.0, 0.0, 0.0, 0.0, 1.360475764095235, 0.0, 0.026317041107439362, 0.3996356336515255, 4.76933277081187, 2.117067037520405, 0.0, 0.0, 0.0, 0.0, 0.0], \"yaxis\": \"y\"}, {\"hovertemplate\": \"day: %{x} <br>val: %{y:.1f}\", \"mode\": \"lines\", \"name\": \"storespollen\", \"stackgroup\": \"one\", \"type\": \"scatter\", \"xaxis\": \"x\", \"y\": [0.0, 0.0, 0.0, 0.0, 0.0, 0.0, 0.0, 0.0, 0.07070359372444283, 0.32018277660544026, 0.0, 0.0, 0.0, 0.013030352081495592, 0.1494586531573505, 0.24142684982835563, 0.0, 0.0, 0.0, 0.0, 0.0, 0.0, 0.0, 0.0, 0.10950329366595737, 0.0, 0.0, 0.0, 0.0, 0.09664841294355163, 1.4948754001298952, 3.290123057708822, 2.0022217545217726, 4.491345593843389, 7.224076809444813, 0.0, 0.0, 0.3986097378794306, 1.0097519099931354, 0.6693974411038586, 3.839705809583023, 1.75718478724903, 0.0, 0.22889521868426943, 2.5943947712726567, 3.0225765333045436, 7.58867624440422, 13.055582735166908, 0.0, 0.0, 0.0, 3.680131100138542, 0.011671106019186084, 6.256403824280376, 6.25335576545228, 7.655297634082416, 0.0, 0.0, 0.7964448185177946, 9.010006037603253, 0.0, 0.0, 0.0, 0.0, 0.0, 0.0, 0.0, 0.0, 2.3544431568598116, 0.0, 12.251242618823234, 32.67730209436992, 0.1859427219093206, 0.0, 0.0, 78.29009106941842, 12.345552582888146, 8.86065502257695, 87.29789937196, 130.25742882650354, 178.1653603072627, 156.52090388311626, 92.31146054549069, 60.35458245602072, 89.1422988630137, 29.730587545914346, 0.0, 3.7861319705142567, 0.0, 4.023435384976837, 0.0, 0.0, 104.41285492306443, 44.22036468358306, 54.44245025968425, 385.89734450662604, 574.2488700802237, 525.4660318530672, 533.7267947465051, 749.1811695008379, 1101.5863531767031, 1274.196309434988, 1176.2711787335477, 1060.9132307628706, 1027.4056576817939, 1165.8878810306348, 1374.512608717545, 1409.995895249313, 1271.5429812463512, 1257.940967391235, 1056.035783737968, 775.8119616585749, 485.54267621863175, 222.3553039414228, 283.78887888401334, 853.1336695812024, 964.0836962533805, 1035.8521326463508, 778.4475154427669, 497.9798006964565, 659.6015861947252, 710.4590006438784, 787.2260333521438, 1075.6388618518783, 1792.3419997001604, 1774.901563098044, 1989.8894767491179, 2223.741485584577, 2504.5461619809516, 2713.737284899664, 2447.352651873044, 1934.2113688635545, 1403.5892454823477, 918.2400335414028, 579.8074810404878, 243.1645526323369, 98.31496453917515, 245.24288723051927, 1049.9111390365792, 1460.325095108075, 1905.275462228076, 2049.4189722480405, 2209.950945403521, 2546.08340390871, 2056.270488043968, 2341.5653580721537, 2248.449558763959, 3048.6432273929095, 3079.465024921538, 3297.251990956804, 3466.310860099189, 3496.1294440074576, 3382.3280279953874, 3703.512486465062, 3773.6746013423663, 3536.7210669431133, 2839.1429832999925, 2525.190344832201, 2558.8363218643976, 1880.8552541392664, 1410.8928381602955, 1109.8161813225781, 1629.3301966222825, 1507.6193482375468, 1773.3471853039275, 1975.397085126923, 2306.7548808213573, 2349.7802085395456, 2219.1800399685108, 2128.5556080880506, 2209.0542639577666, 3030.1689680953505, 3202.1896764019893, 3571.114196747128, 3301.442307942003, 3466.537563337258, 3577.9787027677703, 3638.4113505889036, 4121.275859138264, 4274.133776210687, 4207.877014765272, 3847.2771021493095, 3877.007309064176, 3975.509090915142, 3561.8357121493655, 3680.2171254424748, 3918.400287092833, 4205.306035895581, 4053.474088511726, 4061.2064250930707, 3894.409497314943, 4214.660091256313, 4263.426787375845, 4117.662782043355, 3818.6223644806887, 4197.38272015317, 4251.16342653651, 3930.731520281822, 3735.2850676201388, 4088.5129323923597, 4039.026669897218, 4172.245781238287, 4214.29130848088, 4063.88762316639, 3930.15088525503, 4517.322463469257, 4263.291942446991, 4051.0820022378903, 4098.182643885908, 4077.786060062251, 4226.542252588228, 4105.224725441955, 4054.6797911854537, 4022.6665471766655, 4077.771942813455, 3891.499181417668, 3718.294268617209, 4009.3797050698286, 3865.4954828549667, 3769.287502319221, 3575.225861029855, 3919.448397026759, 3844.610269604379, 3821.9540004181817, 3758.6290566171006, 3556.0503817894814, 3721.751358374568, 3707.1297052947066, 3448.620463237122, 3442.712937798863, 3433.525105756551, 3322.708181706207, 3490.3971244015534, 3321.9340403550473, 3267.8033266871516, 3120.8805182830542, 3224.1813273302687, 3104.692690761499, 2896.5510760243296, 2953.2937782704726, 3005.075476008771, 2625.3012331856235, 2244.4650564881313, 1905.1056770519936, 2122.729311792564, 2339.3654029900254, 2083.5785603134677, 2169.971122282901, 2072.8739540879, 2007.594205289709, 1783.0211957535753, 1719.440998379568, 1719.0266115018076, 1824.715089082897, 1777.1478696420281, 1706.4481874127123, 1561.0413096846125, 1495.0816900855689, 1447.7486320548783, 1394.5002829542261, 1429.7319638610313, 1412.618743404557, 1300.3421093616203, 1154.908159838187, 1114.0005102711116, 966.0186306590365, 843.3224926254451, 737.2339875599309, 634.2459957544829, 387.0995977062054, 173.0599907774825, 12.536447742916778, 132.8029187337492, 129.13729671430917, 211.94645183507487, 100.70858484011677, 0.0, 0.0, 0.14989248035945132, 16.661395302545206, 94.94861379925696, 60.033323611503036, 88.841913022676, 56.35192355134525, 8.01907519491651, 0.0, 5.501736012549969, 0.5484975536215853, 0.0, 0.0, 0.0, 12.126801178752363, 46.60527473504111, 37.84454690756415, 26.346959198283685, 78.41038884944794, 41.38032905990076, 10.221151062872828, 20.42296954117713, 12.365275245691002, 0.0, 13.168786649516617, 14.261649367874854, 17.21465754279616, 40.87936372408306, 36.84547314236458, 40.61998327087106, 29.02996778134282, 0.0, 0.0, 0.7934921577187692, 14.013241740582497, 3.5258480920988227, 11.881984320111684, 9.455049138191956, 2.822266440931113, 10.151111873104792, 8.701328203421166, 7.212701909144254, 9.340483032876044, 12.638492642699745, 0.5983053362961606, 3.02792659720532, 11.224257234413242, 0.0, 0.0, 0.0, 0.17349792386788487, 0.0, 1.2983534145334854, 0.4152532171080894, 0.9343605435817759, 0.8778151340294085, 0.10541170397294652, 2.0008543405498633, 0.04111854103651069, 0.0, 0.0, 0.0, 0.0, 0.0, 0.0, 0.0, 0.0, 0.0, 0.0, 0.0, 0.0, 0.38230627598412226, 0.0, 0.0, 0.0, 0.0, 0.33513946068695716, 0.0, 0.00603883751541689, 0.06870609256544317, 1.2284493437946749, 0.4137024895580139, 0.0, 0.0, 0.0, 0.0, 0.0], \"yaxis\": \"y\"}, {\"hovertemplate\": \"day: %{x} <br>val: %{y:.1f}\", \"mode\": \"lines\", \"name\": \"cellseggs\", \"stackgroup\": \"one\", \"type\": \"scatter\", \"xaxis\": \"x\", \"y\": [0, 4, 8, 12, 13, 14, 15, 16, 17, 18, 19, 21, 22, 24, 26, 27, 29, 31, 33, 36, 38, 41, 44, 47, 50, 53, 57, 61, 65, 70, 74, 79, 85, 91, 97, 103, 110, 118, 126, 134, 143, 153, 163, 174, 185, 197, 210, 224, 239, 254, 271, 288, 307, 327, 347, 369, 393, 417, 443, 471, 499, 530, 562, 595, 631, 668, 707, 747, 790, 834, 881, 929, 979, 1031, 1085, 1141, 1199, 1258, 1320, 1383, 1448, 1514, 1582, 1651, 1721, 1793, 1865, 1939, 2013, 2087, 2162, 2237, 2313, 2388, 2463, 2537, 2611, 2684, 2756, 2827, 2897, 2965, 3032, 3098, 3162, 3224, 3285, 3344, 3401, 3456, 3509, 3560, 3610, 3657, 3702, 3746, 3788, 3827, 3866, 3902, 3936, 3969, 4001, 4030, 4059, 4085, 4111, 4135, 4157, 4179, 4199, 4218, 4236, 4253, 4269, 4285, 4299, 4312, 4325, 4337, 4348, 4359, 4368, 4378, 4387, 4395, 4402, 4410, 4416, 4422, 4424, 4423, 4419, 4414, 4410, 4405, 4400, 4395, 4390, 4384, 4378, 4372, 4366, 4359, 4352, 4345, 4337, 4329, 4321, 4313, 4304, 4295, 4285, 4275, 4265, 4254, 4243, 4231, 4219, 4206, 4193, 4179, 4165, 4150, 4135, 4119, 4103, 4086, 4068, 4050, 4031, 4011, 3991, 3970, 3948, 3926, 3903, 3879, 3854, 3828, 3802, 3775, 3747, 3718, 3689, 3658, 3627, 3595, 3561, 3528, 3493, 3457, 3421, 3383, 3345, 3306, 3266, 3226, 3185, 3142, 3100, 3056, 3012, 2967, 2921, 2875, 2828, 2781, 2733, 2685, 2637, 2588, 2538, 2489, 2439, 2389, 2339, 2289, 2239, 2189, 2138, 2089, 2039, 1989, 1940, 1891, 1842, 1794, 1746, 1699, 1652, 1606, 1560, 1515, 1470, 1427, 1384, 1341, 1300, 1259, 1219, 1180, 1142, 1104, 1067, 1032, 997, 963, 929, 897, 865, 835, 805, 776, 748, 720, 694, 668, 643, 619, 596, 573, 551, 530, 510, 490, 471, 452, 435, 417, 401, 385, 369, 355, 340, 327, 313, 301, 288, 277, 265, 254, 244, 234, 224, 215, 206, 197, 189, 181, 174, 166, 159, 153, 146, 140, 134, 128, 123, 118, 113, 108, 103, 99, 95, 91, 87, 83, 79, 76, 73, 70, 67, 64, 61, 58, 56, 53, 51, 49, 47, 45, 43, 41, 39, 37, 36, 34, 33, 31, 30, 29, 27, 26, 25, 24, 23, 22, 21, 20, 19, 18, 17, 17], \"yaxis\": \"y\"}, {\"hovertemplate\": \"day: %{x} <br>val: %{y:.1f}\", \"mode\": \"lines\", \"name\": \"cellslarvae\", \"stackgroup\": \"one\", \"type\": \"scatter\", \"xaxis\": \"x\", \"y\": [0, 0, 0, 0, 2, 5, 6, 7, 8, 9, 9, 10, 11, 12, 13, 13, 14, 15, 16, 18, 19, 20, 22, 23, 25, 26, 28, 30, 32, 35, 37, 40, 43, 46, 49, 52, 56, 59, 63, 67, 72, 77, 82, 88, 93, 100, 107, 115, 124, 131, 138, 146, 156, 166, 178, 190, 203, 215, 227, 240, 258, 273, 289, 306, 324, 343, 364, 385, 408, 433, 457, 489, 529, 552, 577, 602, 669, 696, 727, 789, 873, 971, 1036, 1055, 1055, 1078, 1086, 1097, 1119, 1151, 1194, 1237, 1282, 1385, 1439, 1500, 1721, 2009, 2203, 2301, 2418, 2644, 2922, 3065, 3027, 2906, 2861, 2978, 3162, 3251, 3248, 3136, 2969, 2780, 2598, 2525, 2734, 3034, 3314, 3335, 3169, 3049, 3029, 3128, 3356, 3855, 4200, 4462, 4568, 4661, 4748, 4733, 4505, 4122, 3707, 3368, 3093, 2905, 2863, 3206, 3696, 4261, 4604, 4768, 4844, 4702, 4679, 4626, 4927, 5167, 5431, 5528, 5540, 5434, 5440, 5480, 5475, 5230, 4917, 4687, 4414, 4134, 3849, 3846, 3874, 4049, 4211, 4436, 4564, 4582, 4501, 4442, 4669, 4956, 5300, 5352, 5328, 5230, 5214, 5355, 5536, 5632, 5516, 5360, 5248, 5123, 5087, 5124, 5263, 5323, 5334, 5229, 5214, 5227, 5241, 5143, 5131, 5134, 5098, 4989, 4965, 4949, 5006, 5039, 5012, 4912, 4957, 4955, 4921, 4841, 4766, 4746, 4724, 4695, 4635, 4591, 4509, 4407, 4380, 4343, 4305, 4200, 4183, 4154, 4151, 4099, 3997, 3929, 3880, 3804, 3726, 3649, 3571, 3545, 3490, 3431, 3326, 3261, 3185, 3094, 3017, 2968, 2861, 2689, 2469, 2350, 2338, 2325, 2319, 2259, 2186, 2070, 1971, 1892, 1866, 1843, 1809, 1736, 1653, 1573, 1509, 1468, 1434, 1386, 1314, 1242, 1160, 1081, 1004, 932, 840, 741, 643, 594, 565, 562, 538, 502, 467, 440, 422, 417, 406, 398, 382, 361, 340, 323, 308, 295, 283, 272, 263, 257, 249, 240, 235, 225, 214, 203, 193, 183, 175, 168, 162, 158, 153, 147, 141, 133, 126, 119, 115, 110, 106, 101, 97, 93, 89, 85, 81, 78, 75, 71, 68, 65, 62, 59, 57, 54, 52, 50, 48, 46, 44, 42, 40, 38, 36, 35, 33, 32, 30, 29, 28, 27, 25, 24, 23, 22, 21, 20, 19, 19, 18, 17, 16, 15, 15, 14, 14, 13, 12, 12], \"yaxis\": \"y\"}, {\"hovertemplate\": \"day: %{x} <br>val: %{y:.1f}\", \"mode\": \"lines\", \"name\": \"cellspupae\", \"stackgroup\": \"one\", \"type\": \"scatter\", \"xaxis\": \"x\", \"y\": [0, 0, 0, 0, 0, 0, 0, 0, 0, 0, 0, 0, 0, 0, 1, 1, 1, 1, 1, 1, 1, 1, 1, 1, 2, 3, 3, 3, 3, 3, 4, 5, 6, 6, 7, 8, 9, 11, 12, 13, 14, 16, 17, 19, 21, 24, 27, 30, 34, 38, 42, 48, 54, 59, 65, 72, 79, 88, 97, 108, 119, 130, 143, 156, 170, 186, 202, 219, 237, 255, 274, 294, 316, 340, 366, 397, 426, 455, 486, 530, 569, 609, 662, 729, 814, 899, 972, 1031, 1095, 1152, 1203, 1241, 1285, 1331, 1366, 1390, 1418, 1444, 1489, 1610, 1799, 2019, 2241, 2489, 2808, 3193, 3571, 3888, 4139, 4397, 4697, 4974, 5173, 5319, 5417, 5436, 5332, 5115, 4904, 4836, 4891, 4993, 4990, 4868, 4742, 4657, 4661, 4795, 5138, 5582, 6064, 6451, 6782, 7083, 7400, 7684, 7858, 7923, 7885, 7714, 7352, 6948, 6640, 6485, 6456, 6437, 6455, 6584, 6767, 7063, 7416, 7959, 8586, 9255, 9775, 10131, 10302, 10464, 10642, 10792, 10895, 10894, 10866, 10626, 10260, 9774, 9348, 8957, 8662, 8380, 8144, 7947, 7842, 7790, 7774, 7949, 8285, 8768, 9152, 9497, 9759, 10003, 10255, 10539, 10840, 11099, 11315, 11406, 11378, 11273, 11247, 11297, 11367, 11402, 11324, 11232, 11157, 11143, 11125, 11135, 11185, 11206, 11160, 11074, 10996, 10962, 10971, 10937, 10862, 10833, 10841, 10814, 10751, 10696, 10695, 10674, 10637, 10553, 10463, 10370, 10280, 10160, 10039, 9925, 9804, 9714, 9607, 9510, 9401, 9278, 9158, 9058, 8961, 8833, 8699, 8563, 8469, 8339, 8197, 8022, 7865, 7722, 7559, 7390, 7238, 7065, 6851, 6594, 6330, 6106, 5893, 5709, 5506, 5303, 5092, 4873, 4651, 4474, 4350, 4271, 4169, 4026, 3873, 3710, 3567, 3437, 3324, 3209, 3088, 2942, 2782, 2616, 2458, 2295, 2122, 1941, 1762, 1585, 1425, 1278, 1136, 1007, 892, 792, 708, 645, 606, 581, 552, 522, 487, 457, 435, 416, 398, 381, 362, 344, 324, 308, 294, 281, 268, 256, 243, 232, 221, 210, 199, 188, 178, 166, 155, 145, 135, 126, 119, 111, 104, 96, 88, 80, 72, 66, 60, 55, 50, 45, 40, 35, 31, 28, 24, 21, 19, 17, 16, 14, 13, 12, 11, 10, 9, 8, 7, 6, 6, 6, 5, 4, 3, 3, 3, 3, 3, 3, 3, 2, 1, 1, 1, 1, 1, 1], \"yaxis\": \"y\"}, {\"hovertemplate\": \"day: %{x} <br>val: %{y:.1f}\", \"mode\": \"lines\", \"name\": \"cellsbrood\", \"type\": \"scatter\", \"xaxis\": \"x\", \"y\": [0, 4, 8, 12, 15, 19, 21, 23, 25, 27, 28, 31, 33, 36, 40, 41, 44, 47, 50, 55, 58, 62, 67, 71, 77, 82, 88, 94, 100, 108, 115, 124, 134, 143, 153, 163, 175, 188, 201, 214, 229, 246, 262, 281, 299, 321, 344, 369, 397, 423, 451, 482, 517, 552, 590, 631, 675, 720, 767, 819, 876, 933, 994, 1057, 1125, 1197, 1273, 1351, 1435, 1522, 1612, 1712, 1824, 1923, 2028, 2140, 2294, 2409, 2533, 2702, 2890, 3094, 3280, 3435, 3590, 3770, 3923, 4067, 4227, 4390, 4559, 4715, 4880, 5104, 5268, 5427, 5750, 6137, 6448, 6738, 7114, 7628, 8195, 8652, 8997, 9323, 9717, 10210, 10702, 11104, 11454, 11670, 11752, 11756, 11717, 11707, 11854, 11976, 12084, 12073, 11996, 12011, 12020, 12026, 12157, 12597, 12972, 13392, 13863, 14422, 15011, 15402, 15523, 15458, 15376, 15337, 15250, 15140, 15073, 15257, 15396, 15568, 15612, 15631, 15687, 15534, 15536, 15620, 16110, 16652, 17271, 17910, 18545, 19103, 19625, 20016, 20177, 20089, 19949, 19863, 19687, 19400, 19081, 18831, 18486, 18168, 17896, 17722, 17547, 17275, 16949, 16684, 16796, 17021, 17339, 17555, 17856, 18229, 18585, 19058, 19488, 19814, 19936, 20049, 20223, 20341, 20505, 20616, 20709, 20646, 20612, 20537, 20572, 20599, 20513, 20301, 20191, 20156, 20077, 19952, 19952, 19930, 19913, 19831, 19697, 19532, 19555, 19487, 19344, 19202, 19100, 19017, 18896, 18774, 18675, 18571, 18412, 18186, 18028, 17855, 17685, 17416, 17234, 17046, 16876, 16688, 16432, 16220, 16014, 15767, 15521, 15295, 15070, 14867, 14628, 14383, 14134, 13889, 13621, 13305, 13020, 12779, 12459, 12068, 11647, 11306, 11031, 10713, 10395, 10064, 9731, 9385, 9037, 8710, 8428, 8143, 7844, 7551, 7303, 7103, 6897, 6674, 6449, 6200, 5948, 5711, 5481, 5253, 5021, 4771, 4487, 4192, 3906, 3665, 3435, 3223, 2994, 2755, 2535, 2337, 2154, 1997, 1849, 1720, 1600, 1496, 1417, 1356, 1295, 1234, 1171, 1114, 1067, 1028, 987, 948, 910, 870, 826, 788, 752, 718, 687, 658, 629, 605, 580, 554, 529, 502, 478, 451, 429, 408, 387, 367, 350, 332, 316, 299, 282, 266, 250, 236, 223, 211, 199, 187, 176, 165, 156, 148, 139, 131, 124, 117, 112, 105, 100, 96, 91, 87, 82, 78, 74, 70, 67, 64, 61, 57, 54, 52, 49, 48, 46, 44, 42, 39, 37, 35, 34, 32, 30, 30], \"yaxis\": \"y\"}, {\"hovertemplate\": \"day: %{x} <br>val: %{y:.1f}\", \"mode\": \"lines\", \"name\": \"cellsempty\", \"stackgroup\": \"one\", \"type\": \"scatter\", \"xaxis\": \"x\", \"y\": [250000, 200025, 200051, 200076, 200102, 200126, 200152, 200178, 200204, 200228, 200256, 200280, 200304, 200328, 200350, 200374, 200397, 200420, 200442, 200462, 200484, 200504, 200524, 200544, 200561, 200580, 200598, 200615, 200632, 200646, 200653, 200658, 200668, 200677, 200685, 200708, 200717, 200725, 200732, 200739, 200736, 200738, 200750, 200750, 200742, 200737, 200721, 200710, 200721, 200715, 200707, 200689, 200679, 200642, 200622, 200593, 200585, 200560, 200530, 200473, 200456, 200419, 200378, 200335, 200287, 200236, 200180, 200123, 200053, 199992, 199893, 199768, 199734, 199657, 199575, 199373, 199330, 199233, 198993, 198780, 198562, 198407, 198307, 198200, 198056, 197965, 197876, 197758, 197632, 197495, 197361, 197236, 196997, 196866, 196729, 196282, 195797, 195421, 195161, 194746, 194081, 193443, 193044, 192764, 192513, 192112, 191575, 191110, 190820, 190496, 190409, 190531, 190793, 191105, 191141, 190653, 190462, 190342, 190561, 190921, 190917, 190926, 190919, 190715, 189925, 189497, 189064, 188535, 187899, 187246, 187034, 187257, 187762, 188404, 188913, 189373, 189687, 189737, 189102, 188455, 187663, 187424, 187122, 186791, 187512, 187484, 187523, 186701, 185818, 185386, 184887, 184377, 183808, 183091, 182409, 182356, 183175, 183695, 183922, 184863, 185636, 186358, 186281, 186655, 186805, 186746, 186346, 186185, 186586, 187012, 187133, 186300, 185493, 185027, 184219, 184153, 183980, 183081, 180335, 179915, 177201, 178818, 178480, 177092, 177850, 177439, 176798, 175755, 174269, 175018, 175311, 172951, 172345, 172996, 172730, 172465, 170679, 171119, 170955, 169884, 170580, 170373, 167829, 168125, 168092, 165014, 166565, 166380, 165694, 165152, 162647, 162324, 163099, 160863, 159382, 159219, 159890, 159153, 159768, 160234, 160263, 159507, 158848, 156698, 156646, 156636, 154090, 153871, 153856, 153036, 153198, 153611, 154342, 153991, 153540, 153331, 152329, 152416, 153578, 151030, 151427, 152009, 152901, 153623, 153713, 153557, 154089, 154129, 154705, 154047, 154951, 155399, 155648, 155549, 155038, 155077, 155853, 156405, 156850, 156670, 156991, 157127, 156875, 157323, 157152, 157483, 157743, 158211, 158266, 159256, 159814, 160364, 160414, 160707, 160733, 161149, 161695, 162023, 162330, 162539, 162406, 162650, 162704, 162892, 163260, 163474, 163615, 163765, 163906, 164044, 164183, 164277, 164323, 164407, 164454, 164499, 164494, 164715, 164795, 164885, 165038, 165099, 165144, 165248, 165271, 165318, 165419, 165462, 165630, 165718, 165800, 165806, 165924, 165958, 166039, 166128, 166180, 166256, 166323, 166377, 166434, 166530, 166592, 166634, 166724, 166788, 166851, 166913, 166975, 167031, 167091, 167146, 167201, 167259, 167306, 167365, 167416, 167469, 167519, 167567, 167617, 167664, 167713, 167760, 167806, 167852, 167896, 167940, 167982, 168028, 168070, 168112, 168154, 168192, 168233, 168273, 168312, 168347, 168387, 168427, 168464, 168501, 168539, 168573], \"yaxis\": \"y\"}, {\"hovertemplate\": \"day: %{x} <br>val: %{y:.1f}\", \"mode\": \"lines\", \"name\": \"incomenectar\", \"stackgroup\": \"one\", \"type\": \"scatter\", \"xaxis\": \"x2\", \"y\": [0.0, 0.0, 0.0, 0.0, 0.0, 0.0, 0.0, 0.0, 0.2518667985331781, 1.136770498283077, 0.0, 0.0, 0.0, 0.061089823151366456, 0.08742211686423686, 0.5638115068380646, 0.0, 0.0, 0.0, 0.0, 0.0, 0.0, 0.0, 0.0, 0.31095283777770527, 0.0, 0.0, 0.0, 0.0, 0.48665179350749227, 7.487246501341878, 11.533147087819762, 11.040347804147695, 8.881535176330571, 7.158664891612071, 0.0, 0.0, 0.5639479313811016, 0.9436684012901676, 2.1706890741741307, 7.021316578414012, 8.853136040477601, 0.0, 1.0998426899315612, 8.926931572100113, 8.287715447224933, 14.623911046612157, 10.077874433919657, 0.0, 0.0, 0.0, 3.728608149719194, 0.046880034676854886, 16.06259308985893, 12.043059093404743, 14.28151576856725, 0.0, 0.0, 1.7270859062774229, 18.83962037883654, 0.0, 0.0, 0.0, 0.0, 0.0, 0.0, 0.0, 0.0, 4.0514946357202275, 0.0, 18.665465572793288, 39.93803541329508, 0.33001798758405637, 0.0, 0.0, 36.84756875416734, 0.0, 9.635625478340192, 72.17732297732219, 74.15219256506788, 55.42158236645736, 35.9568860588223, 29.727574300870756, 33.20210995852192, 12.39710418529139, 7.677974463652046, 0.0, 0.3370689035685411, 0.0, 0.5571953415343346, 0.0, 0.0, 5.3071669654299995, 4.724787713760062, 1.051435433756432, 2.041312928186269, 22.62465189569005, 97.15147192597384, 51.25869601864686, 0.0, 0.0, 14.466256282215443, 0.0, 0.0, 0.0, 0.0, 0.0, 0.0, 0.0, 0.0, 0.0, 0.0, 0.0, 0.0, 0.0, 0.0, 0.0, 0.0, 0.0, 0.0, 0.0, 0.0, 0.0, 0.0, 42.45579671917525, 127.27508730100328, 23.518843539354915, 0.0, 0.0, 0.0, 0.0, 0.0, 0.0, 0.0, 0.0, 0.0, 0.0, 0.0, 0.0, 164.23517243472088, 425.27368153423834, 301.0109489190697, 415.37570909603113, 373.4331680099029, 60.26440773719832, 74.19630009854198, 233.35905100327997, 240.85377569061734, 665.3612319500252, 226.87644006655967, 0.0, 0.0, 206.99061129057029, 126.9706659662055, 342.93231441922427, 263.6216398144667, 23.539045443428254, 53.492412861919654, 75.08124914498872, 4.9197762795028455, 14.712431147491365, 11.837229749684635, 32.66190489447748, 154.68379316115468, 173.68434404269772, 435.2388831510755, 763.376269668975, 933.4694493354626, 626.1153794957522, 478.6931363916563, 583.7943736203102, 820.293910430593, 1211.1306073728874, 778.0855685252591, 1436.350831135628, 746.5756051764317, 402.7376666245268, 918.4610387374747, 2696.439281153866, 1624.574101997733, 3574.043524235705, 758.3180547579036, 841.2199445101165, 1912.6088623857593, 822.4388573894141, 878.8129480475527, 982.1569744608887, 1458.6150972566234, 2655.597188128639, 1112.9523954842912, 791.1291217537978, 2858.7310414775925, 2475.9493004685546, 1179.160315312905, 1578.9324231787982, 1276.209105583752, 2854.2299281074293, 1857.6547965307586, 1794.0971588181412, 2166.242154557465, 875.1440105452662, 840.2449407002764, 3294.7567131108185, 2174.805640091037, 1860.3447079617417, 4054.4568532551657, 1332.40080693718, 1503.9439701467675, 1938.3824777227114, 2124.6122197906575, 4034.996377067451, 3225.4764283458558, 1554.272993040797, 3626.85952430142, 3988.4269474795497, 3097.9890700404067, 1763.3804871544799, 1965.9271172956255, 1083.6761899330597, 662.0254150194431, 949.1511112181054, 1472.8675503960685, 2022.0839573100316, 3841.525186630795, 2844.6312924730823, 2357.083782060901, 4319.384127461378, 3285.231844141913, 2710.805124513243, 2965.8998503932125, 2091.3982185794307, 1396.5765572475375, 345.14213830076847, 1127.6719127378608, 1632.065151012869, 1802.952058203046, 2447.119345371186, 1957.1384744777629, 672.4116238284605, 3452.7197596013525, 2110.913466438407, 1490.6389972017125, 875.048022310084, 701.4517133087097, 703.2054785177748, 872.3904647952636, 684.2625466885911, 762.9157571233665, 454.8193854274268, 1511.8871102806168, 719.8757471450946, 544.1830546319185, 578.1552770133997, 820.5710341858435, 1503.8240729695974, 1387.7856421268705, 652.5707824579472, 337.0774439208417, 186.06307528789839, 692.7741137476, 399.2119743912675, 477.3816353609722, 1017.709405663455, 689.8934747599993, 1019.3988648638062, 800.3059734340848, 709.0171933520771, 412.9491207415338, 651.625302401394, 0.0, 41.816446268850065, 29.40273309515725, 236.85177219559137, 195.38567724715654, 342.9191996078166, 210.86244138929612, 0.0, 0.0, 0.5411550294877818, 61.70046282016341, 368.4779137594428, 261.10165348999845, 318.1807742393689, 254.325569105643, 35.31009037110491, 0.0, 13.569878326873638, 2.3661974951059244, 0.0, 0.0, 0.0, 27.419868575780825, 59.967035443804996, 76.95836295873612, 128.09190796300368, 94.44271227905259, 214.88212711681842, 50.720067764276195, 55.86722212253418, 60.390607343209105, 0.0, 28.89896096459682, 70.79403886155964, 31.383086083130173, 69.11361417000778, 89.95073922852748, 39.05290651886557, 84.63931960765572, 0.0, 0.0, 2.5691109110849553, 71.84314353569442, 18.596340736136206, 50.76690991598655, 32.05144419038941, 15.046195864497548, 24.43333998529646, 15.617720153156192, 16.21274673883978, 27.177658984325877, 28.687471784774743, 3.29268317382186, 7.438825838169357, 22.248613893961814, 0.0, 0.0, 0.0, 0.43370881184844495, 0.0, 3.5943500813331477, 0.6937966475335403, 1.420943672733604, 3.439099339519058, 0.5914740344760888, 5.618094757734357, 0.23241534579969136, 0.0, 0.0, 0.0, 0.0, 0.0, 0.0, 0.0, 0.0, 0.0, 0.0, 0.0, 0.0, 2.2029740067548027, 0.0, 0.0, 0.0, 0.0, 1.360475764095235, 0.0, 0.026317041107439362, 0.3996356336515255, 4.76933277081187, 2.1170670375204055, 0.0, 0.0, 0.0, 0.0, 0.0], \"yaxis\": \"y2\"}, {\"hovertemplate\": \"day: %{x} <br>val: %{y:.1f}\", \"mode\": \"lines\", \"name\": \"incomepollen\", \"stackgroup\": \"one\", \"type\": \"scatter\", \"xaxis\": \"x2\", \"y\": [0.0, 0.0, 0.0, 0.0, 0.0, 0.0, 0.0, 0.0, 0.07070359372444283, 0.32018277660544026, 0.0, 0.0, 0.0, 0.013030352081495592, 0.1494586531573505, 0.24142684982835566, 0.0, 0.0, 0.0, 0.0, 0.0, 0.0, 0.0, 0.0, 0.10950329366595737, 0.0, 0.0, 0.0, 0.0, 0.09664841294355163, 1.4948754001298952, 3.290123057708822, 2.0022217545217726, 4.491345593843389, 7.224076809444812, 0.0, 0.0, 0.3986097378794306, 1.0097519099931354, 0.6693974411038586, 3.839705809583023, 1.75718478724903, 0.0, 0.22889521868426943, 2.5943947712726567, 3.022576533304543, 7.588676244404221, 13.055582735166906, 0.0, 0.0, 0.0, 3.680131100138542, 0.011671106019186132, 6.256403824280376, 6.25335576545228, 7.655297634082416, 0.0, 0.0, 0.7964448185177946, 9.010006037603253, 0.0, 0.0, 0.0, 0.0, 0.0, 0.0, 0.0, 0.0, 2.3544431568598116, 0.0, 12.251242618823234, 32.67730209436992, 0.18594272190931888, 0.0, 0.0, 78.29009106941842, 0.0, 8.860655022576948, 87.29789937196, 119.49759970999017, 128.79473078579267, 66.57212320519959, 30.61913203237963, 60.35458245602072, 89.1422988630137, 29.730587545914343, 0.0, 3.7861319705142567, 0.0, 4.023435384976837, 0.0, 0.0, 104.41285492306443, 44.22036468358305, 54.44245025968425, 385.89734450662604, 338.5515744530562, 119.41361832807405, 191.73096060645275, 424.6478414355009, 591.5204387702948, 437.31456627512273, 189.45066639216282, 185.49531249947108, 267.118895188351, 436.29379859888354, 505.231219654271, 339.33593807238697, 175.66745755850877, 304.1052952719371, 118.9250218922352, 33.624971082764645, 0.0, 0.0, 283.78887888401334, 796.3788477476253, 365.489134530509, 358.7439661307535, 54.907359893494316, 43.565413160618164, 471.9503908956135, 360.7020649320841, 384.4629043733772, 598.628632219405, 1053.4295787195672, 376.67212531033397, 638.1670718928106, 706.7859641090151, 806.4504946992289, 758.7694173466184, 303.57721991649595, 50.41454727983336, 0.0, 0.0, 95.53424985679703, 47.91333892142885, 98.31496453917512, 245.24288723051927, 1049.9111390365792, 765.8150119176539, 831.9067028214508, 581.5030895222324, 657.4190320736008, 888.1556291964162, 113.04101108896762, 873.1099157033632, 505.91750980864583, 1390.9290274539173, 651.8709985538314, 855.7964230984192, 839.2186025053907, 748.8553511394432, 628.5701661193783, 1073.2648928065785, 837.5984744834967, 533.7157783127681, 62.840211258848434, 420.21455263701284, 747.401799784639, 16.651070935283894, 159.15042431045853, 280.0835941140653, 1065.6405855486773, 422.6939520267099, 785.5294582864462, 727.6102418946717, 879.8245893718646, 618.7590510631425, 466.5844394458631, 514.4769826464055, 692.5095715986789, 1434.4838725075217, 817.6674203274579, 1025.2456220373758, 424.9871864964367, 885.7893726955238, 865.6878947160626, 833.3655197863745, 1249.386439968105, 941.3882301901248, 736.0738497156793, 456.7009893225011, 850.7432253669973, 927.6976787246608, 412.03178977999835, 906.8631058652823, 1023.6763569503133, 1081.4364065584525, 655.3274222591513, 816.6400156796175, 653.5636940443668, 1142.4173980304854, 883.2396382860275, 686.2068131517933, 521.7405635391794, 1190.17880688615, 883.0459992949293, 507.49184370883023, 611.0957224279231, 1153.1387048953536, 764.8499845977449, 938.6903796052989, 849.0744864936951, 664.2399086218833, 677.7804703146435, 1395.9809158916016, 579.4383731402189, 604.6121197225413, 852.3788606927079, 793.2025396314112, 956.102222012331, 686.2037750239049, 744.6701175889261, 758.6982129038266, 845.3508220639532, 602.806331153208, 601.9760636323934, 1051.4339714755017, 624.3898252464072, 657.5717252917009, 550.211428110701, 1078.9854327913663, 670.7617589308109, 713.6972530193912, 666.06694695859, 525.6240920754143, 881.2119615111937, 703.7481032065202, 449.7553212762477, 681.3046439175101, 673.38736822994, 564.8219889855717, 829.3079405448184, 494.1491238852695, 595.0832177482731, 495.2957986168026, 735.0600395607412, 508.8467633014981, 406.2086274571864, 651.5923402088524, 643.1593465874897, 205.28500509364517, 177.50318842487536, 192.71365043288256, 721.6160206118523, 711.7916031582223, 230.80522970946205, 548.5750492691764, 368.6803412393413, 396.71653611061424, 229.4296406807328, 372.74715487020177, 421.80791464774467, 517.3136052715935, 357.9715747469332, 325.8463081412074, 243.61303644896395, 313.281963010558, 322.9266487622318, 306.83760603670805, 383.48555582728363, 325.1326538753267, 222.9881117155565, 179.54251553387613, 272.43890085963267, 157.16852556489437, 167.03278704408902, 168.56561444306465, 158.04516707331436, 0.0, 12.37416101366848, 12.536447742916787, 132.8029187337492, 129.13729671430917, 211.94645183507487, 61.47263007456967, 0.0, 0.0, 0.14989248035945132, 16.661395302545206, 94.94861379925696, 60.03332361150305, 88.841913022676, 56.351923551345266, 8.019075194916503, 0.0, 5.501736012549969, 0.5484975536215848, 0.0, 0.0, 0.0, 12.126801178752363, 46.6052747350411, 37.844546907564144, 26.34695919828368, 78.41038884944794, 41.38032905990077, 10.22115106287283, 20.42296954117713, 12.365275245691002, 0.0, 13.168786649516617, 14.261649367874853, 17.214657542796157, 40.87936372408306, 36.84547314236459, 40.61998327087106, 29.029967781342812, 0.0, 0.0, 0.7934921577187692, 14.0132417405825, 3.5258480920988235, 11.881984320111684, 9.455049138191956, 2.822266440931113, 10.151111873104792, 8.701328203421166, 7.212701909144254, 9.340483032876044, 12.638492642699745, 0.5983053362961606, 3.02792659720532, 11.224257234413242, 0.0, 0.0, 0.0, 0.17349792386788487, 0.0, 1.2983534145334854, 0.4152532171080894, 0.9343605435817759, 0.8778151340294085, 0.10541170397294648, 2.0008543405498638, 0.04111854103651061, 0.0, 0.0, 0.0, 0.0, 0.0, 0.0, 0.0, 0.0, 0.0, 0.0, 0.0, 0.0, 0.38230627598412226, 0.0, 0.0, 0.0, 0.0, 0.33513946068695716, 0.0, 0.00603883751541689, 0.06870609256544317, 1.2284493437946749, 0.41370248955801386, 0.0, 0.0, 0.0, 0.0, 0.0], \"yaxis\": \"y2\"}, {\"hovertemplate\": \"day: %{x} <br>val: %{y:.1f}\", \"mode\": \"lines\", \"name\": \"indexflight\", \"type\": \"scatter\", \"xaxis\": \"x3\", \"y\": [0.0, 0.0, 0.0, 0.0, 0.0, 0.0, 0.0, 0.0, 0.04096736111111111, 0.18166287500000006, 0.0, 0.0, 0.0, 0.0052605666666666615, 0.04712863888888891, 0.06843805555555557, 0.0, 0.0, 0.0, 0.0, 0.0, 0.0, 0.0, 0.0, 0.026993749999999976, 0.0, 0.0, 0.0, 0.0, 0.011595270890725443, 0.19876126262626262, 0.3413048209366391, 0.19944250229568417, 0.6486281910009183, 0.6423840679522498, 0.0, 0.0, 0.028185123966942144, 0.08970624426078969, 0.042307988980716256, 0.268941391184573, 0.15040295857988162, 0.0, 0.014098806244260784, 0.1709356290174472, 0.12356887731481483, 0.30032517361111105, 0.48755173611111113, 0.0, 0.0, 0.0, 0.11848024691358028, 0.0003951388888888804, 0.15957376543209875, 0.2167464699074074, 0.18447114197530862, 0.0, 0.0, 0.013881790123456797, 0.1550450424382716, 0.0, 0.0, 0.0, 0.0, 0.0, 0.0, 0.0, 0.0, 0.017235371466140702, 0.0, 0.08828298816568048, 0.2375613412228797, 0.0011067061143984148, 0.0, 0.0, 0.3103804898093359, 0.0, 0.039332084155161075, 0.2916336291913215, 0.4720343195266271, 0.41323421201814065, 0.32724652777777785, 0.08857619047619046, 0.1304807341269841, 0.19165306972789112, 0.04956972789115646, 0.0, 0.005720068027210883, 0.0, 0.005381450872359959, 0.0, 0.0, 0.1389890873015873, 0.08198570011337869, 0.05648203514739228, 0.46464757653061234, 0.5961433106575964, 0.25048482142857137, 0.346927806122449, 0.5537169642857143, 0.6940994897959185, 0.6276861678004535, 0.47127980442176876, 0.38161632653061234, 0.3272264030612246, 0.5281760204081632, 0.6789221088435372, 0.5465269416099774, 0.4565714285714285, 0.4809380952380952, 0.22101933106575963, 0.04237712585034014, 0.0, 0.0, 0.25143104450113385, 0.628918253968254, 0.35937461728395054, 0.4093371481481482, 0.05227340312547414, 0.048351399739583335, 0.39648600260416655, 0.22586643880208332, 0.31644183349609367, 0.5248556315104166, 0.7169765625, 0.6923047092013889, 0.67293310546875, 0.6665293511284723, 0.7585279947916665, 0.6962877061631945, 0.4178582214355468, 0.04192626953125001, 0.0, 0.0, 0.04519742838541667, 0.024883897569444445, 0.03962076822916665, 0.12677175835503476, 0.4011330295138889, 0.5666214192708332, 0.6547088758680556, 0.7438933051215278, 0.7304456922743054, 0.7924173177083332, 0.11878342013888891, 0.4440056423611111, 0.28463489583333346, 0.8179433834876542, 0.7246212277091906, 0.9525251736111111, 0.9533333333333334, 0.9533333333333334, 0.5201356900824357, 0.5888919406467014, 0.8109375, 0.3835825777777777, 0.051525499131944444, 0.21109144965277774, 0.32354699707031254, 0.005483703613281247, 0.07196745402018229, 0.07946867494402607, 0.2716713975694445, 0.1558934122721354, 0.38338714599609375, 0.37467866205305655, 0.3977212402343749, 0.5294719387755102, 0.2790222509765625, 0.30889312744140623, 0.35180155436197924, 0.6854396701388887, 0.7367615852864582, 0.7954980468749999, 0.756166015625, 0.8388508572048611, 0.8096715087890624, 0.7756641438802083, 0.7542319878472221, 0.8873046875, 0.8206384006076388, 0.5330654296874999, 0.49882215711805555, 0.5849030219184028, 0.27661458333333333, 0.5511609592013887, 0.7089131673177084, 0.8315461697048611, 0.6105622395833333, 0.7240674858940972, 0.7330099636501737, 0.817147216796875, 0.6541679470486113, 0.7806124348958333, 0.4182856323242187, 0.779875, 0.6500517035590279, 0.4895529947916666, 0.5327708333333332, 0.6963865234375001, 0.8328961588541667, 0.8975847439236111, 0.819091796875, 0.8820963541666667, 0.789043212890625, 0.874617901234568, 0.8100049913194445, 0.81238349609375, 0.85721044921875, 0.8380457356770831, 0.8937817708333333, 0.7940453559027778, 0.6572383626302084, 0.9032080078124999, 0.7933394097222223, 0.5487848307291668, 0.6726637369791666, 0.7486731770833333, 0.7872405598958333, 0.829887950617284, 0.6968655895691611, 0.7964529711934157, 0.7050564740740741, 0.7665598076714409, 0.8575570370370371, 0.7501264814814815, 0.7352333333333331, 0.7637642666666667, 0.7628558781893005, 0.8831621712018141, 0.699315354713314, 0.8880039682539682, 0.8517449046679818, 0.8451582840236687, 0.8825983560090703, 0.8763656462585033, 0.8136899382716049, 0.7942741638321994, 0.7947462962962963, 0.8078790852864584, 0.8476715432098765, 0.3587478027343749, 0.24727703703703702, 0.23490234375, 0.5747112962962962, 0.751164896891351, 0.48639150289745514, 0.7256526063100136, 0.8164851851851851, 0.8099246296296296, 0.4836678240740741, 0.5256025333333333, 0.6752574327256944, 0.7534680888888889, 0.8060377739331026, 0.82498708984375, 0.7780618489583334, 0.7638438888888891, 0.7992082561728395, 0.8497713216145834, 0.843926111111111, 0.8599305555555555, 0.6157911522633746, 0.5102685432098766, 0.7123550617283949, 0.4851300109329446, 0.5917874149659863, 0.5183609693877551, 0.4388516865079365, 0.0, 0.029010072481373484, 0.026653486394557842, 0.26711486678004537, 0.36083136094674556, 0.5916107823800132, 0.22556903353057203, 0.0, 0.0, 0.0004934402332361509, 0.05593288888888887, 0.3325, 0.25819637345679014, 0.5920005208333333, 0.3052425733024693, 0.03874841450462752, 0.0, 0.035964891975308645, 0.004602076903292187, 0.0, 0.0, 0.0, 0.09013339120370373, 0.337823431069959, 0.4398151080246915, 0.263107012345679, 0.7826842592592592, 0.4651259500385803, 0.10119860415718405, 0.29033616780045357, 0.16838198096669174, 0.0, 0.19589738292011022, 0.20817787878787883, 0.3659283746556474, 0.6083360339506172, 0.5906473537146614, 0.7052499999999999, 0.7369476584022039, 0.0, 0.0, 0.023732323232323264, 0.3304260355029587, 0.1272920944987061, 0.39133780991735545, 0.29675275482093666, 0.09491751543209881, 0.3035454545454546, 0.37143055555555565, 0.3236853780864198, 0.327818869165023, 0.4709239551183127, 0.024987419651056043, 0.13816306244260793, 0.530717481634527, 0.0, 0.0, 0.0, 0.013419100091827348, 0.0, 0.11084305555555556, 0.03487169444444443, 0.0627064049586777, 0.07002541666666669, 0.00806301652892562, 0.20078975000000004, 0.004049966666666666, 0.0, 0.0, 0.0, 0.0, 0.0, 0.0, 0.0, 0.0, 0.0, 0.0, 0.0, 0.0, 0.0791769547325103, 0.0, 0.0, 0.0, 0.0, 0.07472205555555557, 0.0, 0.0015107638888888835, 0.01834597222222223, 0.3585320644718793, 0.12199218749999999, 0.0, 0.0, 0.0, 0.0, 0.0], \"yaxis\": \"y3\"}, {\"hovertemplate\": \"day: %{x} <br>val: %{y:.1f}\", \"mode\": \"lines\", \"name\": \"indexrain\", \"type\": \"scatter\", \"xaxis\": \"x3\", \"y\": [1.0, 1.0, 1.0, 1.0, 1.0, 1.0, 1.0, 1.0, 1.0, 1.0, 1.0, 1.0, 1.0, 1.0, 1.0, 1.0, 1.0, 1.0, 1.0, 1.0, 1.0, 1.0, 1.0, 1.0, 1.0, 1.0, 1.0, 1.0, 1.0, 1.0, 1.0, 1.0, 1.0, 1.0, 1.0, 1.0, 1.0, 1.0, 1.0, 1.0, 1.0, 1.0, 1.0, 1.0, 1.0, 1.0, 1.0, 1.0, 1.0, 1.0, 1.0, 1.0, 1.0, 1.0, 1.0, 1.0, 1.0, 1.0, 1.0, 1.0, 1.0, 1.0, 1.0, 1.0, 1.0, 1.0, 1.0, 1.0, 1.0, 1.0, 1.0, 1.0, 1.0, 1.0, 1.0, 1.0, 1.0, 1.0, 1.0, 1.0, 1.0, 1.0, 1.0, 1.0, 1.0, 1.0, 1.0, 1.0, 1.0, 1.0, 1.0, 1.0, 1.0, 1.0, 1.0, 1.0, 1.0, 1.0, 1.0, 1.0, 1.0, 1.0, 1.0, 1.0, 1.0, 1.0, 1.0, 1.0, 1.0, 1.0, 1.0, 1.0, 1.0, 1.0, 1.0, 1.0, 1.0, 1.0, 0.9230769230769231, 0.9375, 0.9375, 0.875, 0.9375, 1.0, 1.0, 0.875, 0.875, 0.875, 1.0, 0.875, 0.5625, 1.0, 1.0, 1.0, 1.0, 1.0, 1.0, 0.8125, 1.0, 1.0, 1.0, 1.0, 1.0, 1.0, 1.0, 1.0, 1.0, 1.0, 1.0, 1.0, 1.0, 1.0, 0.6153846153846154, 0.6875, 1.0, 0.8, 0.4375, 1.0, 0.9375, 0.875, 0.4375, 0.47058823529411764, 1.0, 0.9375, 0.9375, 0.9411764705882353, 0.75, 1.0, 0.75, 0.9375, 0.9375, 1.0, 1.0, 1.0, 1.0, 1.0, 0.875, 0.875, 1.0, 1.0, 1.0, 1.0, 0.625, 0.8125, 1.0, 1.0, 1.0, 1.0, 1.0, 1.0, 0.875, 0.9375, 1.0, 1.0, 0.5625, 1.0, 1.0, 1.0, 1.0, 1.0, 1.0, 1.0, 0.9375, 1.0, 0.875, 1.0, 1.0, 1.0, 1.0, 1.0, 1.0, 1.0, 0.9375, 1.0, 1.0, 1.0, 1.0, 1.0, 1.0, 1.0, 1.0, 0.8666666666666667, 0.8, 0.8125, 0.9333333333333333, 0.8666666666666667, 1.0, 1.0, 0.8666666666666667, 1.0, 0.8571428571428572, 1.0, 1.0, 1.0, 1.0, 1.0, 1.0, 1.0, 1.0, 1.0, 1.0, 0.9375, 0.8, 0.9375, 1.0, 1.0, 1.0, 1.0, 1.0, 1.0, 1.0, 1.0, 1.0, 1.0, 1.0, 1.0, 1.0, 1.0, 1.0, 0.9375, 1.0, 1.0, 0.6666666666666667, 0.7333333333333334, 1.0, 0.9285714285714286, 0.9285714285714286, 0.7857142857142857, 1.0, 0.5, 0.7857142857142857, 1.0, 1.0, 1.0, 1.0, 1.0, 0.16666666666666663, 0.07692307692307687, 0.1428571428571429, 0.8, 1.0, 1.0, 1.0, 1.0, 0.9230769230769231, 0.5833333333333333, 1.0, 0.9166666666666666, 0.8333333333333334, 1.0, 1.0, 1.0, 1.0, 1.0, 1.0, 1.0, 0.9166666666666666, 0.6153846153846154, 1.0, 0.9090909090909091, 0.08333333333333337, 1.0, 1.0, 1.0, 1.0, 1.0, 1.0, 1.0, 0.75, 1.0, 1.0, 1.0, 0.7272727272727273, 1.0, 1.0, 1.0, 1.0, 1.0, 1.0, 1.0, 0.9166666666666666, 1.0, 1.0, 1.0, 0.9, 1.0, 1.0, 1.0, 1.0, 1.0, 1.0, 1.0, 1.0, 1.0, 1.0, 1.0, 1.0, 1.0, 1.0, 0.9, 0.6, 0.8, 0.7, 1.0, 0.7272727272727273, 0.7, 0.8, 0.9, 1.0, 1.0, 1.0, 1.0, 1.0, 1.0, 1.0, 1.0, 1.0, 1.0, 1.0, 1.0, 1.0, 1.0, 1.0, 0.7], \"yaxis\": \"y3\"}, {\"hovertemplate\": \"day: %{x} <br>val: %{y:.1f}\", \"mode\": \"lines\", \"name\": \"index temperature\", \"type\": \"scatter\", \"xaxis\": \"x3\", \"y\": [0.0, 0.0, 0.0, 0.0, 0.0, 0.0, 0.0, 0.0, 0.042625, 0.19437500000000002, 0.0, 0.0, 0.0, 0.005499999999999994, 0.05012500000000002, 0.07112500000000002, 0.0, 0.0, 0.0, 0.0, 0.0, 0.0, 0.0, 0.0, 0.028124999999999976, 0.0, 0.0, 0.0, 0.0, 0.012045454545454552, 0.20613636363636365, 0.3532954545454545, 0.21568181818181822, 0.6796590909090909, 0.6694318181818182, 0.0, 0.0, 0.029659090909090902, 0.09352272727272724, 0.046363636363636364, 0.28647727272727275, 0.16701923076923075, 0.0, 0.014545454545454539, 0.19590909090909092, 0.1297916666666667, 0.31406249999999997, 0.5128125, 0.0, 0.0, 0.0, 0.1266666666666667, 0.0004166666666666578, 0.1683333333333333, 0.22802083333333334, 0.1920833333333333, 0.0, 0.0, 0.01708333333333334, 0.16510416666666666, 0.0, 0.0, 0.0, 0.0, 0.0, 0.0, 0.0, 0.0, 0.018846153846153853, 0.0, 0.09548076923076923, 0.2460576923076923, 0.0011538461538461464, 0.0, 0.0, 0.3306730769230769, 0.0, 0.04048076923076922, 0.30432692307692305, 0.4924038461538461, 0.4349107142857144, 0.34562500000000007, 0.09499999999999999, 0.13651785714285714, 0.2051785714285714, 0.05357142857142857, 0.0, 0.005982142857142857, 0.0, 0.005909090909090905, 0.0, 0.0, 0.14803571428571427, 0.0874107142857143, 0.05910714285714285, 0.5011607142857144, 0.6242857142857143, 0.26437499999999997, 0.3566071428571429, 0.5793750000000001, 0.7417857142857144, 0.6716071428571428, 0.49151785714285723, 0.4039285714285716, 0.3533035714285715, 0.5732142857142858, 0.7076785714285713, 0.5808035714285715, 0.47812499999999997, 0.51, 0.23339285714285715, 0.045535714285714284, 0.0, 0.0, 0.26294642857142864, 0.6635714285714286, 0.3758333333333333, 0.4272500000000001, 0.059615384615384626, 0.05539062500000001, 0.45624999999999993, 0.28453125, 0.385390625, 0.577734375, 0.759375, 0.85484375, 0.8156249999999999, 0.8070312500000001, 0.807421875, 0.859375, 0.792265625, 0.04570312500000001, 0.0, 0.0, 0.048046875, 0.026562500000000003, 0.042968749999999986, 0.16515625000000006, 0.43281250000000004, 0.60234375, 0.6917968750000001, 0.778515625, 0.771484375, 0.8640625, 0.12734375000000003, 0.48554687500000004, 0.2906250000000001, 0.8713541666666665, 0.7593055555555555, 0.9859375, 1.0, 1.0, 0.9004807692307693, 0.904296875, 0.84375, 0.5259999999999999, 0.1375, 0.23968749999999997, 0.3845312500000001, 0.006640624999999997, 0.178828125, 0.18264705882352947, 0.28718750000000004, 0.17609375000000002, 0.44296875, 0.43500000000000005, 0.5614062499999999, 0.5638392857142858, 0.40203125000000006, 0.371484375, 0.4003906250000001, 0.7210937499999999, 0.768828125, 0.841796875, 0.791796875, 0.895703125, 0.971484375, 0.95234375, 0.80546875, 0.921875, 0.8527343749999999, 0.56953125, 0.83125, 0.7718750000000001, 0.29375, 0.5789843749999999, 0.732421875, 0.879296875, 0.6715625000000001, 0.755078125, 0.8792968750000001, 0.92890625, 0.6969531250000001, 0.8067187499999999, 0.795078125, 0.8601562500000001, 0.710546875, 0.5465625, 0.5601562499999999, 0.7301562500000001, 0.880078125, 0.941796875, 0.953125, 0.933984375, 0.964453125, 0.9591666666666667, 0.88984375, 0.8547656250000001, 0.889453125, 0.9058593749999999, 0.935625, 0.8234375, 0.7562500000000001, 0.980859375, 0.8562500000000001, 0.5804687500000002, 0.7183593749999999, 0.7828124999999999, 0.82734375, 0.8769166666666668, 0.7533035714285715, 0.9683333333333334, 0.9395, 0.99296875, 0.975, 0.91875, 0.7991666666666665, 0.8039999999999999, 0.9204166666666667, 0.9309821428571429, 0.864732142857143, 0.9165178571428572, 0.9052884615384618, 0.8947115384615386, 0.9553571428571429, 0.9165178571428572, 0.8545833333333334, 0.8272321428571427, 0.875, 0.847734375, 0.9029166666666666, 0.4153124999999999, 0.33958333333333335, 0.2671875, 0.59875, 0.7930921052631579, 0.5032738095238095, 0.7694444444444444, 0.8520833333333333, 0.9070833333333334, 0.5302083333333334, 0.5484166666666667, 0.7144531249999999, 0.788, 0.8643382352941176, 0.85828125, 0.817578125, 0.8246875000000001, 0.8356250000000001, 0.9546875, 0.9029166666666666, 0.90625, 0.9629166666666666, 0.7324999999999999, 0.8016666666666666, 0.5723214285714285, 0.6732142857142858, 0.7232142857142857, 0.4799107142857143, 0.0, 0.04196428571428569, 0.029464285714285738, 0.2924107142857143, 0.37788461538461543, 0.6153846153846154, 0.24423076923076928, 0.0, 0.0, 0.004017857142857136, 0.07924999999999997, 0.375, 0.2854166666666667, 0.6198958333333333, 0.3151041666666668, 0.044519230769230776, 0.0, 0.03802083333333334, 0.005729166666666674, 0.0, 0.0, 0.0, 0.09427083333333337, 0.3510416666666668, 0.4641666666666668, 0.2794166666666667, 0.8293750000000001, 0.5290625000000001, 0.18028846153846156, 0.3004464285714286, 0.1967045454545455, 0.0, 0.2079545454545455, 0.2195454545454546, 0.3818181818181819, 0.6401041666666666, 0.6206730769230769, 0.7397727272727272, 0.7636363636363637, 0.0, 0.0, 0.025000000000000033, 0.3548076923076924, 0.18181818181818182, 0.4073863636363637, 0.3102272727272728, 0.09791666666666671, 0.31500000000000006, 0.3916666666666668, 0.33645833333333336, 0.33942307692307694, 0.5660416666666667, 0.026136363636363666, 0.14715909090909093, 0.5517045454545454, 0.0, 0.0, 0.0, 0.014090909090909072, 0.0, 0.11375000000000002, 0.036249999999999984, 0.06511363636363637, 0.07187500000000002, 0.008522727272727272, 0.20812500000000003, 0.004249999999999999, 0.0, 0.0, 0.0, 0.0, 0.0, 0.0, 0.0, 0.0, 0.0, 0.0, 0.0, 0.0, 0.08333333333333333, 0.0, 0.0, 0.0, 0.0, 0.07750000000000001, 0.0, 0.0015624999999999944, 0.01937500000000001, 0.37013888888888885, 0.140625, 0.0, 0.0, 0.0, 0.0, 0.0], \"yaxis\": \"y3\"}, {\"hovertemplate\": \"day: %{x} <br>val: %{y:.1f}\", \"mode\": \"lines\", \"name\": \"indexvent\", \"type\": \"scatter\", \"xaxis\": \"x3\", \"y\": [0.0, 0.942716049382716, 0.9667333333333333, 0.9555555555555555, 0.9648222222222221, 0.9517777777777778, 0.9556888888888888, 0.957777777777778, 0.961111111111111, 0.9346000000000002, 0.9335555555555557, 0.9511111111111111, 0.9591111111111111, 0.9564666666666668, 0.9402222222222223, 0.9622222222222222, 0.9422222222222222, 0.8825925925925926, 0.9262626262626262, 0.9017777777777777, 0.911111111111111, 0.9234920634920635, 0.9673333333333334, 0.9630793650793651, 0.9597777777777777, 0.9705252525252526, 0.9581818181818182, 0.9436363636363637, 0.8232323232323232, 0.9626262626262626, 0.9642222222222222, 0.9660606060606061, 0.9247070707070708, 0.9543434343434343, 0.9595959595959596, 0.9153333333333332, 0.922020202020202, 0.9503030303030303, 0.9591919191919192, 0.9125252525252526, 0.9387878787878787, 0.9005128205128204, 0.8808080808080807, 0.9692929292929293, 0.8725252525252525, 0.9520555555555555, 0.9562592592592593, 0.9507407407407408, 0.8983838383838383, 0.9438888888888889, 0.9485185185185184, 0.9353703703703703, 0.9483333333333333, 0.947962962962963, 0.9505555555555555, 0.9603703703703704, 0.8685185185185184, 0.8353703703703704, 0.8125925925925926, 0.9390740740740742, 0.0, 0.8772222222222221, 0.7692592592592592, 0.8027777777777776, 0.8999999999999999, 0.8087037037037037, 0.8287037037037037, 0.9485185185185184, 0.9145299145299144, 0.8919658119658119, 0.9246153846153846, 0.9654700854700855, 0.959145299145299, 0.9509401709401709, 0.9586324786324786, 0.9386324786324786, 0.9538461538461538, 0.9716239316239317, 0.9582905982905984, 0.9586324786324786, 0.9501587301587301, 0.9468253968253968, 0.9323809523809523, 0.9557777777777777, 0.934079365079365, 0.9253015873015873, 0.9250793650793651, 0.956190476190476, 0.9666666666666667, 0.9107070707070707, 0.928888888888889, 0.936984126984127, 0.9388888888888889, 0.9379365079365078, 0.9555873015873015, 0.9271428571428572, 0.9549206349206348, 0.9474603174603173, 0.9728571428571428, 0.9557142857142856, 0.9357142857142857, 0.9346031746031745, 0.9588253968253968, 0.9447619047619046, 0.9261904761904762, 0.9214285714285714, 0.9593650793650793, 0.9409841269841269, 0.9549206349206348, 0.943015873015873, 0.9469841269841269, 0.9306349206349207, 0.9049206349206349, 0.919047619047619, 0.9562063492063492, 0.9477777777777777, 0.9562074074074073, 0.9580740740740741, 0.9499145299145298, 0.931111111111111, 0.9269444444444443, 0.9072222222222222, 0.8758333333333332, 0.9084722222222221, 0.9441666666666666, 0.9255555555555555, 0.9429166666666666, 0.9438888888888889, 0.9394444444444443, 0.9259722222222222, 0.9376388888888888, 0.9173611111111111, 0.8445833333333334, 0.9491666666666666, 0.9406944444444444, 0.9368055555555554, 0.9220833333333333, 0.9447222222222221, 0.9268055555555554, 0.9406944444444444, 0.9463888888888888, 0.9555277777777778, 0.9468055555555555, 0.9170833333333333, 0.9327777777777777, 0.9144444444444444, 0.979388888888889, 0.9387037037037037, 0.9543209876543209, 0.9661111111111111, 0.9533333333333334, 0.9533333333333334, 0.9386324786324786, 0.9472222222222222, 0.9611111111111111, 0.9115555555555555, 0.8565277777777777, 0.8806944444444443, 0.8974999999999999, 0.94375, 0.919861111111111, 0.9245751633986927, 0.9459722222222222, 0.9443055555555555, 0.9231944444444444, 0.9151633986928104, 0.9445833333333332, 0.939047619047619, 0.925375, 0.8869444444444444, 0.9372222222222222, 0.9505555555555555, 0.9582916666666665, 0.945, 0.955, 0.9365277777777777, 0.9524999999999999, 0.9308333333333333, 0.9363888888888888, 0.9625, 0.9623611111111111, 0.9359722222222221, 0.9601388888888889, 0.9326388888888889, 0.9416666666666667, 0.9519444444444444, 0.9679027777777778, 0.9456944444444444, 0.9091666666666666, 0.9589305555555555, 0.9527222222222221, 0.9383333333333332, 0.9386111111111112, 0.9676388888888889, 0.9352777777777778, 0.9066666666666666, 0.9148611111111111, 0.8956944444444443, 0.951111111111111, 0.95375, 0.9463888888888888, 0.9530555555555555, 0.9166666666666666, 0.9444444444444444, 0.9349999999999999, 0.9118518518518518, 0.9102777777777777, 0.9504166666666667, 0.96375, 0.9251388888888887, 0.9552777777777778, 0.9643055555555555, 0.9270138888888888, 0.9208333333333333, 0.9265277777777777, 0.9454166666666666, 0.9363888888888888, 0.9563888888888888, 0.9515277777777778, 0.9463703703703703, 0.9250793650793651, 0.949037037037037, 0.9380740740740741, 0.9501388888888889, 0.9423703703703704, 0.9420740740740741, 0.9199999999999999, 0.9499555555555557, 0.9563259259259259, 0.9486349206349206, 0.9434920634920634, 0.9688888888888888, 0.9408547008547009, 0.9446153846153845, 0.9238412698412698, 0.9561904761904761, 0.9521481481481481, 0.9601587301587301, 0.9082814814814815, 0.9529861111111111, 0.9388148148148149, 0.9213888888888888, 0.9102222222222222, 0.9377777777777777, 0.9598518518518518, 0.9471345029239764, 0.9664550264550262, 0.9430864197530864, 0.9582222222222222, 0.8928888888888888, 0.9122222222222222, 0.9583999999999999, 0.9451388888888889, 0.9561777777777778, 0.9325490196078432, 0.9612083333333333, 0.9516666666666667, 0.9262222222222223, 0.9564197530864197, 0.9494444444444444, 0.9346666666666666, 0.9488888888888889, 0.9592592592592593, 0.949925925925926, 0.8885925925925925, 0.9128571428571428, 0.9466666666666665, 0.9122222222222222, 0.9144444444444444, 0.8544444444444443, 0.8798412698412699, 0.9046031746031745, 0.9134920634920636, 0.9548717948717947, 0.9613675213675213, 0.9235897435897436, 0.8677777777777776, 0.8574358974358973, 0.8596825396825396, 0.8822222222222221, 0.8866666666666667, 0.9046296296296296, 0.955, 0.9687037037037037, 0.9429059829059828, 0.9313333333333333, 0.945925925925926, 0.8762962962962962, 0.8905555555555554, 0.9320370370370371, 0.9516239316239316, 0.956111111111111, 0.9623456790123457, 0.9475370370370371, 0.9416296296296296, 0.9437037037037036, 0.9590740740740741, 0.912136752136752, 0.9663492063492064, 0.9416161616161616, 0.9035185185185184, 0.942020202020202, 0.9482222222222222, 0.9583838383838383, 0.9503703703703703, 0.9516239316239316, 0.9533333333333333, 0.965050505050505, 0.9487037037037037, 0.9323232323232322, 0.9492929292929293, 0.9312820512820513, 0.9626464646464648, 0.9606060606060606, 0.9565656565656565, 0.9693703703703704, 0.9636363636363636, 0.9483333333333333, 0.962037037037037, 0.9658119658119658, 0.9075925925925925, 0.956040404040404, 0.9388686868686869, 0.9619595959595959, 0.9452666666666666, 0.9506666666666665, 0.9602222222222222, 0.9523232323232323, 0.9657373737373738, 0.9744444444444443, 0.9619777777777777, 0.963030303030303, 0.9742666666666666, 0.946060606060606, 0.9647555555555556, 0.9529333333333334, 0.9293333333333333, 0.9528888888888888, 0.9351515151515152, 0.8675555555555554, 0.9191111111111111, 0.8584444444444443, 0.8766666666666666, 0.9056565656565656, 0.9385858585858585, 0.8615555555555556, 0.8477777777777777, 0.8695555555555556, 0.9501234567901236, 0.9547474747474748, 0.9480808080808081, 0.9671851851851851, 0.9727777777777777, 0.9641555555555555, 0.9624691358024692, 0.9668888888888889, 0.9468888888888888, 0.968641975308642, 0.8674999999999999, 0.8716049382716049, 0.9395555555555555, 0.9382222222222222, 0.9024691358024691, 0.8251111111111111], \"yaxis\": \"y3\"}, {\"hovertemplate\": \"day: %{x} <br>val: %{y:.1f}\", \"mode\": \"lines\", \"name\": \"index season\", \"type\": \"scatter\", \"xaxis\": \"x3\", \"y\": [0.9974093264248705, 0.9972312222054869, 0.9970409099627422, 0.9968375580704807, 0.9966202789848637, 0.9963881255888829, 0.9961400873128213, 0.9958750860190969, 0.995591971639654, 0.9952895175538533, 0.9949664156946633, 0.9946212713708784, 0.9942525977931207, 0.9938588102915145, 0.9934382202132037, 0.9929890284883143, 0.9925093188535951, 0.9919970507238103, 0.9914500517020673, 0.990866009721657, 0.9902424648137252, 0.9895768004972295, 0.9888662347902024, 0.9881078108444356, 0.9872983872093483, 0.98643462773511, 0.9855129911301143, 0.9845297201937422, 0.9834808307520968, 0.982362100332135, 0.9811690566184708, 0.9798969657471847, 0.9785408205023493, 0.977095328493791, 0.9755549004089503, 0.9739136384476901, 0.9721653250666153, 0.9703034121790011, 0.9683210109778195, 0.9662108825726595, 0.9639654296565151, 0.96157668944545, 0.9590363281628868, 0.956335637370547, 0.9534655324796029, 0.9504165538080016, 0.947178870582695, 0.9437422883179905, 0.9400962600326236, 0.9362299017974575, 0.9321320131317198, 0.9277911027870254, 0.9231954204734341, 0.9183329950886354, 0.9131916800079313, 0.9077592059767423, 0.9020232421164257, 0.895971465505705, 0.8895916397313415, 0.8828717027102724, 0.8757998639688822, 0.8683647114213292, 0.8605553275163097, 0.8523614144195055, 0.8437734276672666, 0.83478271746713, 0.8253816765352175, 0.815563893053721, 0.8053243070096989, 0.7946593678474014, 0.7835671910403682, 0.7720477108786894, 0.7601028264848266, 0.7477365378334395, 0.7349550683727355, 0.7217669707431489, 0.7081832120790711, 0.6942172354747007, 0.6798849944067766, 0.6652049572421752, 0.6501980794192929, 0.6348877414752883, 0.6192996517867819, 0.6034617136830278, 0.5874038574550084, 0.5711578386926612, 0.5547570053021975, 0.5382360364497223, 0.5216306575084817, 0.5049773358183303, 0.48831296266394864, 0.47167452731477566, 0.4550987892236188, 0.43862195454007413, 0.42227936295637214, 0.4061051905738119, 0.39013217397350375, 0.37439136001978135, 0.3589118851489117, 0.34372078703467135, 0.3288428506133325, 0.3143004895310255, 0.3001136631817549, 0.2862998286661771, 0.272873926246037, 0.25984839621729483, 0.24723322459020036, 0.23503601455419665, 0.2232620804206098, 0.21191456057234248, 0.20099454589840615, 0.19050122023986882, 0.1804320095081342, 0.170782736340506, 0.16154777741557835, 0.15272022084636228, 0.14429202138756325, 0.13625415152196063, 0.12859674681812905, 0.12130924426847622, 0.11438051261547943, 0.10779897394966254, 0.10155271611167593, 0.09562959565069895, 0.09001733128156841, 0.08470358794382216, 0.0796760516984304, 0.07492249580414034, 0.07043083839731457, 0.06618919225936437, 0.062185907196991685, 0.058409605585047264, 0.05484921163242973, 0.05149397493046959, 0.048333488832883575, 0.045357704198617066, 0.04255693900549218, 0.039921884315088585, 0.03744360703901084, 0.03511354992475857, 0.03292352914673202, 0.030865729855205193, 0.02893270000400705, 0.027117342746568407, 0.025412907660317674, 0.023812981031329783, 0.022311475404836245, 0.020902618582784638, 0.019945003080916054, 0.020832558104222132, 0.021758732553368403, 0.022725127256338643, 0.023733402185556467, 0.024785277981325383, 0.025882537449761715, 0.02702702702702703, 0.028220658200865573, 0.02946540887960172, 0.03076332469785223, 0.03211652024725875, 0.03352718021954682, 0.03499756044817122, 0.03652998883371437, 0.03812686613706811, 0.03979066662325255, 0.04152393853751374, 0.04332930439409978, 0.04520946105685072, 0.04716717958945791, 0.04920530485196565, 0.05132675481881138, 0.053534519592446116, 0.0558316600853579, 0.05822130634215824, 0.060706655472301425, 0.06329096916301613, 0.06597757074115888, 0.06876984175198059, 0.07167121802225948, 0.07468518517492913, 0.07781527356225564, 0.08106505258483115, 0.08443812436419068, 0.0879381167377707, 0.09156867554625338, 0.0953334561851246, 0.09923611439456471, 0.10328029626463142, 0.10746962743613113, 0.11180770148165053, 0.11629806745597085, 0.12094421661055475, 0.1257495682730008, 0.13071745489933198, 0.13585110631473113, 0.1411536331668606, 0.14662800962519462, 0.15227705536982444, 0.15810341692392738, 0.16410954839545894, 0.1702976917055533, 0.17666985639349747, 0.18322779910085882, 0.18997300285023794, 0.19690665624702985, 0.20402963274529756, 0.2113424701311915, 0.21884535038903916, 0.226538080126027, 0.2344200717410404, 0.24249032553143055, 0.250747412937953, 0.25918946113260377, 0.2678141391562692, 0.27661864581276663, 0.28559969952273917, 0.294753530334779, 0.3040758742819329, 0.31356197025927757, 0.32320655958248706, 0.3330038883682615, 0.3429477128552299, 0.35303130775862945, 0.363247477723939, 0.37358857191401584, 0.38404650173152793, 0.3946127616440663, 0.40527845304376303, 0.41603431103712, 0.42687073402469017, 0.437777815894884, 0.4487453806221718, 0.4597630190279737, 0.47082012743319906, 0.4819059479053314, 0.493009609780684, 0.5041201721244482, 0.5152266667778167, 0.5263181416330607, 0.5373837037741721, 0.5484125621226104, 0.5593940692347809, 0.5703177619099611, 0.5811734002842248, 0.5919510051071174, 0.602640892922981, 0.6132337089073597, 0.6237204571402769, 0.6340925281317144, 0.6443417234497025, 0.6544602773373831, 0.6644408752415639, 0.6742766692110502, 0.6839612901578003, 0.6934888570071712, 0.7028539827947485, 0.7120517777960556, 0.7210778498014984, 0.729928301671969, 0.7385997263304181, 0.7470891993613326, 0.7553942694033587, 0.7635129465303759, 0.7714436888231978, 0.7791853873379495, 0.7867373496782043, 0.7940992823763975, 0.801271272286126, 0.8082537671809507, 0.8150475557475346, 0.8216537471516563, 0.8280737503451038, 0.8343092532699768, 0.8403622021047342, 0.8462347806836784, 0.8519293902086957, 0.8574486293591475, 0.8627952748930382, 0.8679722628201058, 0.8729826702154223, 0.8778296977305772, 0.8825166528486098, 0.8870469339186414, 0.8914240149966725, 0.8956514315102857, 0.8997327667570484, 0.9036716392392352, 0.907471690831093, 0.911136575769215, 0.9146699504516521, 0.9180754640271538, 0.921356749752323, 0.9245174170914839, 0.9275610445316338, 0.9304911730829363, 0.9333113004337765, 0.9360248757283831, 0.9386352949343896, 0.9411458967674178, 0.9435599591397626, 0.9458806961005325, 0.9481112552350721, 0.9502547154921804, 0.9523140854084655, 0.954292301700136, 0.956192228193606, 0.9580166550674233, 0.9597682983792476, 0.9614497998528473, 0.9630637269013562, 0.9646125728643136, 0.9660987574372957, 0.9675246272742117, 0.9688924567435881, 0.9702044488213847, 0.9714627361040742, 0.9726693819268591, 0.973826381573012, 0.9749356635613754, 0.975999091000077, 0.9770184629954706, 0.9779955161062341, 0.9789319258334123, 0.9798293081380077, 0.9806892209784951, 0.9815131658613383, 0.9823025893982755, 0.9830588848647546, 0.9837833937544856, 0.9844774073256245, 0.9851421681345933, 0.9857788715540212, 0.9863886672717004, 0.9869726607678645, 0.9875319147684437, 0.9880674506722914, 0.9885802499506772, 0.989071255517621, 0.9895413730698915, 0.9899914723957226, 0.9904223886515106, 0.9908349236059395, 0.991229846851154, 0.9916078969807434, 0.9919697827344482, 0.9923161841096092, 0.9926477534394925, 0.9929651164387194, 0.9932688732161131, 0.9935595992553423, 0.993837846363815, 0.9941041435903201, 0.9943589981119713, 0.99460289609104, 0.9948363035022996, 0.9950596669315349, 0.9952734143458839, 0.9954779558367061, 0.9956736843356753, 0.9958609763048125, 0.9960401924011707, 0.9962116781168958, 0.9963757643953784, 0.9965327682242154], \"yaxis\": \"y3\"}, {\"hovertemplate\": \"day: %{x} <br>val: %{y:.1f}\", \"mode\": \"lines\", \"name\": \"index nectaroutside\", \"type\": \"scatter\", \"xaxis\": \"x4\", \"y\": [0.0, 0.004153166691769683, 0.0035509080447093666, 0.004743662894278966, 0.005069581522704425, 0.00541781161667565, 0.005789869030768002, 0.004949896777083707, 0.003967225524311435, 0.004239434201532022, 0.007550376458005104, 0.005647665060577667, 0.008621103310318956, 0.007369427650182647, 0.0009842669680194427, 0.004206582907011436, 0.011236021719607414, 0.012004423914284579, 0.0069954122437630795, 0.006850492708757289, 0.009147689237132585, 0.01563479925415573, 0.01670064781469638, 0.01783828373334667, 0.009526209592988805, 0.020348058397334945, 0.017779510885768866, 0.02320541970938672, 0.024778753871854797, 0.02405168136527045, 0.025678559156630785, 0.019189259968596464, 0.03218876924647612, 0.012493457185204913, 0.006666845343013549, 0.039129542328464884, 0.022773824945496533, 0.012148604108590472, 0.008639724278776491, 0.03225324845337046, 0.019655220187355396, 0.057634965831824925, 0.061445507755669884, 0.06549654394417943, 0.05076487365861506, 0.043385515417998594, 0.03301320588581562, 0.014064427920502387, 0.0898556099510646, 0.087683885028496, 0.09331848194388533, 0.027078336454865487, 0.11520686928984891, 0.08166700491136458, 0.06510623999405153, 0.06918059551744327, 0.14696513682536147, 0.15604280174144258, 0.11040836026865852, 0.11712829728972762, 0.0, 0.1974529328680062, 0.20916700872553542, 0.2214578783707417, 0.2343398584991001, 0.2478259237993051, 0.2619274851971736, 0.2766541604194184, 0.24708837956461296, 0.3080109482288979, 0.2747031806026096, 0.23671968485674563, 0.35984576027276016, 0.3783951932498407, 0.27523896745908233, 0.16051905534049102, 0.43772518188139325, 0.4586741467879491, 0.40629981479139887, 0.2704113806890124, 0.18739388602537885, 0.2347150233373147, 0.5710505223198271, 0.5523211845129256, 0.22103364779195975, 0.4594737442578629, 0.33393224602335186, 0.34632297266270834, 0.7175540137372775, 0.6750309057022768, 0.7675305560040772, 0.7924882090278366, 0.4670581806654696, 0.4811811818227935, 0.24759455873298336, 0.12726317344846888, 0.1306859627199635, 0.938412959970328, 0.8929441599711586, 0.42189377976342557, 0.21428571428571427, 0.42857142857142855, 0.7857142857142857, 1.0, 1.0, 0.35714285714285715, 0.2857142857142857, 0.7142857142857143, 1.0, 0.8571428571428571, 1.0, 1.0, 1.0, 1.0, 0.9285714285714286, 0.5714285714285714, 0.9333333333333333, 1.0, 1.0, 1.0, 0.375, 0.5625, 1.0, 1.0, 0.5, 0.375, 0.25, 0.375, 0.3125, 0.5625, 0.75, 1.0, 1.0, 1.0, 1.0, 1.0, 1.0, 1.0, 0.6875, 0.5625, 0.5625, 0.4375, 0.6875, 0.9375, 1.0, 0.375, 1.0, 0.4166666666666667, 0.6666666666666666, 0.25, 0.0, 0.0, 0.38461538461538464, 0.4375, 0.7142857142857143, 1.0, 1.0, 1.0, 1.0, 1.0, 0.875, 1.0, 0.8125, 1.0, 0.5, 0.7647058823529411, 0.8125, 1.0, 0.9375, 0.8125, 0.875, 0.5625, 0.625, 0.25, 0.6875, 0.3125, 0.1875, 0.5, 1.0, 0.625, 1.0, 1.0, 0.4375, 1.0, 1.0, 0.625, 0.5, 0.5, 1.0, 0.5, 0.375, 1.0, 1.0, 0.5, 0.9375, 0.4375, 0.875, 0.9375, 1.0, 0.75, 0.3125, 0.25, 0.875, 0.6875, 0.6875, 0.8666666666666667, 0.375, 0.5, 0.5625, 0.625, 1.0, 0.9375, 0.4375, 1.0, 1.0, 1.0, 0.6875, 0.5, 0.3125, 0.2, 0.35714285714285715, 0.3285261435723851, 0.45287808456895934, 0.8357376854873299, 0.6264114280859843, 0.6775488480953195, 0.9080808575339003, 0.67798256353011, 0.8175519645480317, 0.7368804848253984, 0.48190472923295663, 0.35437796960003237, 0.062335036266003035, 0.2442368642616004, 0.33306046206085843, 0.43456319161655654, 0.4462918450879966, 0.4155199999047286, 0.18947274334677572, 0.6939244443387416, 0.36126995030191167, 0.6609088961478288, 0.6445233571350586, 0.6282398995736627, 0.20402449744644127, 0.18822273493121955, 0.30388780014421723, 0.15678314285821793, 0.10977224156048568, 0.3556582765502974, 0.30234725732978984, 0.16777956237921807, 0.1526828113073202, 0.15801935492109986, 0.324541210227701, 0.3064318302429156, 0.18896602082133857, 0.0836766450595505, 0.045011949721338505, 0.17154392959566309, 0.07587324019160023, 0.09172714897374047, 0.26013575881658646, 0.2285563111768022, 0.2428960739282555, 0.3198939754826936, 0.2867902852614463, 0.17033890946903482, 0.28761934922857396, 0.27742866637869806, 0.2675193792725156, 0.2026273656646991, 0.15977322006109373, 0.11051847546595323, 0.1064528441420688, 0.18793577396588618, 0.2138270559612789, 0.20580708766044267, 0.19804160576984134, 0.1905259946768665, 0.18325545340413424, 0.17622502072708526, 0.1411913326016982, 0.16286397750499135, 0.15652285273457148, 0.1504008498644274, 0.0842873156656692, 0.13879246375336043, 0.13329513634617743, 0.1279950743225218, 0.1039811418116894, 0.05898243768575778, 0.03145107621188169, 0.04527434716772888, 0.10426324037559563, 0.025008262337333803, 0.09596268640742533, 0.09204705759841561, 0.05044637419935619, 0.08466006129035604, 0.08117895584920128, 0.03537868961245083, 0.07461792676172933, 0.02601049886810972, 0.022853849149931993, 0.03032845740442658, 0.011450003163430013, 0.0329168467806156, 0.05782530022072907, 0.05036764513451424, 0.03377890772042796, 0.05085186384405649, 0.0487130590886824, 0.038177439451050905, 0.028441207943223714, 0.04280589584388872, 0.01863451232259604, 0.013086809213493977, 0.015665210274140376, 0.019385349576860902, 0.014363460627830893, 0.03300672584064879, 0.014364596022673455, 0.011002195561086696, 0.028966168532257364, 0.019411175845594784, 0.015927669541552024, 0.011550760319485522, 0.02432490936827153, 0.011641944505781626, 0.006686024339433006, 0.005817734364264047, 0.014291899364714599, 0.019541008848203256, 0.009351063923667219, 0.017898823991562895, 0.017129625073984245, 0.016393116723568524, 0.009983234796921713, 0.015012791406416093, 0.014366417022734168, 0.013747614591090751, 0.01315522972326899, 0.012588154528884954, 0.01204532589832763, 0.011525723835586199, 0.01102836984076122, 0.010552325341920854, 0.010096690175830314, 0.009660601116986522, 0.009243230454277496, 0.0088437846145199, 0.00846150283204311, 0.005666959104407976, 0.007745544746550648, 0.005557874702023222, 0.00708987848117415, 0.004522044163293937, 0.00567828930942621, 0.006208535542781224, 0.005939711398243952, 0.005682482824656276, 0.0024161570697477006, 0.005200847663676844], \"yaxis\": \"y4\"}, {\"hovertemplate\": \"day: %{x} <br>val: %{y:.1f}\", \"mode\": \"lines\", \"name\": \"index pollenoutside\", \"type\": \"scatter\", \"xaxis\": \"x4\", \"y\": [0.0038860103626943143, 0.004153166691769683, 0.004438635055886708, 0.004743662894278966, 0.005069581522704425, 0.00541781161667565, 0.005789869030768002, 0.006187370971354633, 0.006612042540519059, 0.0070657236692200365, 0.007550376458005104, 0.008068092943682381, 0.008621103310318956, 0.009211784562728309, 0.009842669680194427, 0.01051645726752859, 0.011236021719607414, 0.012004423914284579, 0.012824922446898979, 0.013700985417514577, 0.014636302779412136, 0.01563479925415573, 0.01670064781469638, 0.01783828373334667, 0.01905241918597761, 0.020348058397334945, 0.021730513304828614, 0.02320541970938672, 0.024778753871854797, 0.026456849501797497, 0.028246415072293862, 0.030154551379223016, 0.03218876924647612, 0.03435700725931351, 0.03666764938657452, 0.039129542328464884, 0.04175201240007698, 0.0445448817314984, 0.047518483533270706, 0.050683676141010714, 0.05405185551522734, 0.057634965831824925, 0.06144550775566987, 0.06549654394417942, 0.06980170128059571, 0.07437516928799759, 0.07923169412595749, 0.08438656752301432, 0.08985560995106462, 0.0956551473038138, 0.10180198030242033, 0.10831334581946195, 0.11520686928984891, 0.12250050736704687, 0.1302124799881031, 0.13836119103488653, 0.14696513682536144, 0.15604280174144258, 0.16561254040298778, 0.17569244593459143, 0.1863002040466767, 0.1974529328680062, 0.20916700872553545, 0.2214578783707417, 0.2343398584991001, 0.24782592379930507, 0.2619274851971737, 0.2766541604194185, 0.2920135394854516, 0.30801094822889785, 0.3246492134394477, 0.3419284336819659, 0.35984576027276005, 0.3783951932498407, 0.39756739744089675, 0.4173495438852767, 0.43772518188139337, 0.45867414678794893, 0.48017250838983505, 0.5021925641367372, 0.5247028808710608, 0.5476683877870676, 0.5710505223198271, 0.5948074294754583, 0.6188942138174873, 0.6432632419610081, 0.6678644920467037, 0.6926459453254166, 0.7175540137372775, 0.7425339962725046, 0.767530556004077, 0.7924882090278365, 0.8173518161645719, 0.8420670681898887, 0.8665809555654418, 0.8908422141392822, 0.9148017390397444, 0.9384129599703279, 0.9616321722766324, 0.984418819447993, 1.0, 1.0, 1.0, 1.0, 1.0, 1.0, 1.0, 1.0, 1.0, 1.0, 1.0, 1.0, 1.0, 1.0, 1.0, 1.0, 1.0, 1.0, 1.0, 1.0, 1.0, 1.0, 1.0, 1.0, 1.0, 1.0, 1.0, 1.0, 1.0, 1.0, 1.0, 1.0, 1.0, 1.0, 1.0, 1.0, 1.0, 1.0, 1.0, 1.0, 1.0, 1.0, 1.0, 1.0, 1.0, 1.0, 1.0, 1.0, 1.0, 1.0, 1.0, 1.0, 1.0, 1.0, 1.0, 1.0, 1.0, 1.0, 1.0, 1.0, 1.0, 1.0, 1.0, 1.0, 1.0, 1.0, 1.0, 1.0, 1.0, 1.0, 1.0, 1.0, 1.0, 1.0, 1.0, 1.0, 1.0, 1.0, 1.0, 1.0, 1.0, 1.0, 1.0, 1.0, 1.0, 1.0, 1.0, 1.0, 1.0, 1.0, 1.0, 1.0, 1.0, 1.0, 1.0, 1.0, 1.0, 1.0, 1.0, 1.0, 1.0, 1.0, 1.0, 1.0, 1.0, 1.0, 1.0, 1.0, 1.0, 1.0, 1.0, 1.0, 1.0, 1.0, 1.0, 1.0, 1.0, 1.0, 1.0, 1.0, 1.0, 0.9855784307171552, 0.9704530383620558, 0.9551287834140916, 0.9396171421289763, 0.923930247402708, 0.9080808575339007, 0.8920823204343555, 0.8759485334443199, 0.8596938989629647, 0.8433332761576741, 0.8268819290667424, 0.8103554714580394, 0.7937698088502013, 0.777141078142003, 0.760485585328974, 0.7438197418133278, 0.727159999833275, 0.710522787550409, 0.6939244443387418, 0.6773811568160845, 0.6609088961478287, 0.6445233571350584, 0.6282398995736628, 0.6120734923393238, 0.5960386606155286, 0.5801494366389603, 0.5644193142895846, 0.5488612078024284, 0.5334874148254463, 0.5183095839939253, 0.5033386871376542, 0.48858499618342466, 0.4740580647632996, 0.45976671448924317, 0.4457190258078772, 0.4319223333059167, 0.41838322529775246, 0.4051075474920465, 0.3921004105043728, 0.37936620095800117, 0.3669085958949619, 0.3547305802044361, 0.3428344667652033, 0.33122191899307574, 0.31989397548269355, 0.30885107643540377, 0.29809309157081093, 0.287619349228574, 0.27742866637869806, 0.26751937927251557, 0.25788937448234434, 0.24853612009503473, 0.23945669684289866, 0.23064782897448238, 0.2221059146869564, 0.21382705596127882, 0.2058070876604427, 0.19804160576984137, 0.19052599467686654, 0.18325545340413424, 0.1762250207270853, 0.16942959912203787, 0.16286397750499132, 0.15652285273457145, 0.15040084986442742, 0.14449254114114718, 0.13879246375336046, 0.13329513634617746, 0.12799507432252183, 0.12288680395926932, 0.11796487537151557, 0.11322387436277409, 0.10865843320254931, 0.10426324037559559, 0.10003304934933521, 0.09596268640742533, 0.09204705759841564, 0.08828115484887333, 0.08466006129035603, 0.08117895584920126, 0.07783311714739183, 0.07461792676172935, 0.07152887188730173, 0.06856154744979598, 0.06571165770959092, 0.06297501739886507, 0.060347552431128604, 0.05782530022072907, 0.05540440964796567, 0.05308114070352965, 0.05085186384405649, 0.0487130590886824, 0.04666131488461778, 0.04469332676792298, 0.04280589584388872, 0.04099592710971128, 0.03926042764048193, 0.0375965046579369, 0.03600136349988453, 0.03447230550679414, 0.03300672584064879, 0.031602111249881604, 0.03025603779298841, 0.028966168532257364, 0.02773025120799255, 0.02654611590258671, 0.02541167270286815, 0.02432490936827153, 0.023283889011563252, 0.022286747798110018, 0.021331692668968172, 0.020416999092449428, 0.019541008848203256, 0.018702127847334438, 0.017898823991562895, 0.017129625073984245, 0.016393116723568524, 0.01568794039516269, 0.015012791406416093, 0.014366417022734168, 0.013747614591090751, 0.01315522972326899, 0.012588154528884954, 0.01204532589832763, 0.011525723835586199, 0.01102836984076122, 0.010552325341920854, 0.010096690175830314, 0.009660601116986522, 0.009243230454277496, 0.0088437846145199, 0.00846150283204311, 0.008095655863439966, 0.007745544746550648, 0.007410499602697629, 0.00708987848117415, 0.006783066244940905, 0.006489473496487097, 0.006208535542781224, 0.005939711398243952, 0.005682482824656276, 0.005436353406932326, 0.005200847663676844], \"yaxis\": \"y4\"}, {\"hovertemplate\": \"day: %{x} <br>val: %{y:.1f}\", \"mode\": \"lines\", \"name\": \"index pollensituation\", \"type\": \"scatter\", \"xaxis\": \"x4\", \"y\": [0.0, 0.0, 0.0, 0.0, 0.0, 0.0, 0.0, 0.0, 0.00022594275474561643, 0.0010320089386330253, 0.0, 0.0, 0.0, 4.3478645061950035e-05, 0.0005023811755988778, 0.0008181975662108426, 0.0, 0.0, 0.0, 0.0, 0.0, 0.0, 0.0, 0.0, 0.0003958622872301058, 0.0, 0.0, 0.0, 0.0, 0.00035889377327192397, 0.005574625646616206, 0.012305807963996458, 0.007508538221361574, 0.01688296767533528, 0.027212681868062288, 0.0, 0.0, 0.001505641908426636, 0.0038168028874471863, 0.0025300985392638638, 0.014490744442044156, 0.006610303135240339, 0.0, 0.0008548103884436919, 0.009643018450413168, 0.011175459509584927, 0.0278626089885344, 0.047501415767654334, 0.0, 0.0, 0.0, 0.012839731002150398, 4.02131961757514e-05, 0.02128016714801261, 0.020899611363180956, 0.025149598793862485, 0.0, 0.0, 0.002464688521721127, 0.02740406205801084, 0.0, 0.0, 0.0, 0.0, 0.0, 0.0, 0.0, 0.0, 0.005638531314525035, 0.0, 0.02750008196726033, 0.07071938465887105, 0.0003855044476954943, 0.0, 0.0, 0.14695493215829378, 0.02206123100137741, 0.015132268451725005, 0.14087404781448784, 0.20398037800372645, 0.26166246173696656, 0.20958154528784695, 0.11391070856260957, 0.07060982202626788, 0.10337134257879768, 0.03457176409085185, 0.0, 0.004318990958083109, 0.0, 0.004500992550904181, 0.0, 0.0, 0.10729144365716478, 0.04344167012975672, 0.05114911691206627, 0.3435721243884278, 0.47982710358043235, 0.3896471356466946, 0.34093210467168883, 0.4331359926819768, 0.61265586107783, 0.6641899174273581, 0.5666404087208153, 0.4996446928462595, 0.48610143893146984, 0.5704176851659726, 0.6815765325771248, 0.6748117367282186, 0.5834081187980986, 0.5686638665904407, 0.4717082166694325, 0.3597241523189137, 0.23697682746843027, 0.11523172456613562, 0.15546250540118897, 0.46944183665238126, 0.4707869116761502, 0.4636299307253537, 0.318390877517025, 0.20345414173264784, 0.27781542143101534, 0.3043900843211466, 0.33891906047490594, 0.44330127375224315, 0.6863909555062245, 0.6188977287225479, 0.621417865716252, 0.6257412339410031, 0.6883289229082566, 0.7287804065397806, 0.6469530968096612, 0.5198843481031141, 0.3942924662882891, 0.27597132946554803, 0.1901763127787339, 0.08616893221208904, 0.03716235531785599, 0.09563157360937832, 0.40419968549679763, 0.5424387484144512, 0.6494825974398609, 0.6059839212971034, 0.5837542681738908, 0.6244366915612887, 0.49448980384686925, 0.5666513216960124, 0.5482606311514411, 0.75873839282622, 0.7420040476696838, 0.7610604180777395, 0.7408344100765956, 0.7184587847097231, 0.6767194307892148, 0.7418710559075979, 0.756281974898132, 0.7068583983263348, 0.55918078499851, 0.5013384441241684, 0.5266643515706292, 0.4099965301514158, 0.32228033952272395, 0.263829717051054, 0.4104914434089951, 0.3956497889432466, 0.47339755526970434, 0.5123230298096125, 0.5843581742941018, 0.5713165848779, 0.523795375369053, 0.4910411879935145, 0.5123119395072337, 0.7152060916308527, 0.7526479615797966, 0.8070152260889517, 0.6930312328932606, 0.6960064138277968, 0.7025258731907816, 0.7259139525395929, 0.825258049370133, 0.8469147305814188, 0.8086772767859304, 0.7138166502021245, 0.7117531005439647, 0.7396295643272488, 0.6806222166439225, 0.7136534394330384, 0.7634820513982895, 0.8217361039723209, 0.7798703723508281, 0.7673549638600716, 0.7239457596910371, 0.7881286873825288, 0.8036104822271317, 0.7810604167880905, 0.7178171260548395, 0.7904007720022879, 0.8057691460928859, 0.7515823073213604, 0.7105562105025262, 0.7818709671315427, 0.7805843970257677, 0.8132027289140576, 0.8139023279143067, 0.7791898302876364, 0.7486540805322565, 0.8671490889400518, 0.8237354147355498, 0.7839474637456355, 0.7852911398377347, 0.7881570871521336, 0.826854662414763, 0.8116148208024458, 0.8043161834973473, 0.796429857865667, 0.8127476697358829, 0.7817460794471726, 0.7549771644856608, 0.8235766090459564, 0.804360953089751, 0.7909675614865151, 0.7499871555072684, 0.8317221848792691, 0.8240926353458549, 0.8281042988141265, 0.8114055455573317, 0.7713339739373247, 0.8154996372649834, 0.8268524304507103, 0.7813366451521753, 0.7866301253894553, 0.7946097754261446, 0.782119658051406, 0.8340243680196828, 0.8019446044098189, 0.7959409950967867, 0.7651304544475356, 0.8049817509740662, 0.788670717262776, 0.7506636197268883, 0.7762456408575007, 0.8060285322260551, 0.7169146048454675, 0.6234660530980912, 0.5435869048434376, 0.6363628340007613, 0.7380818395444128, 0.6787137813977798, 0.7082857203898876, 0.6745698265882767, 0.6620615935862528, 0.5989214543372737, 0.5963240104716969, 0.6155310944980037, 0.6769948149804538, 0.6735142689146343, 0.6552168236436128, 0.6043793065271161, 0.5899717320394099, 0.5867890116840142, 0.5838050219491474, 0.615717679872358, 0.6224206001330745, 0.5832508767917248, 0.5268518729416959, 0.52071445702463, 0.4665443247551582, 0.4229437166789676, 0.3834499920114864, 0.34325776993418516, 0.2179758413912277, 0.10181281290113114, 0.0077543030890769886, 0.08723440036990533, 0.08936727289757235, 0.1524129247000248, 0.07360729290566058, 0.0, 0.0, 0.00011810924098802541, 0.01356858497895062, 0.07932909022732208, 0.051135380132742485, 0.07687219164378988, 0.04941268207484181, 0.0071657691685754555, 0.0, 0.00512084390128311, 0.0005216277498307961, 0.0, 0.0, 0.0, 0.012342941744521965, 0.04816307967315358, 0.0396424247263605, 0.027952693167861493, 0.0842410380177138, 0.04508184790245546, 0.011300493552149292, 0.02290288511760242, 0.014116565058377908, 0.0, 0.015543888453303768, 0.017095622193557383, 0.020946619985135747, 0.050428501489640586, 0.04606137304139469, 0.05142221177957665, 0.03721735196247368, 0.0, 0.0, 0.0010637320028150552, 0.01909590192202399, 0.004874910225989581, 0.016652101930056742, 0.013427295856054823, 0.004063315505769919, 0.014802767098635603, 0.012865046017351098, 0.010808498719250681, 0.014178271438439314, 0.019443946169961555, 0.0009325197894705666, 0.00478351243838402, 0.017959835787696575, 0.0, 0.0, 0.0, 0.00029244746723021707, 0.0, 0.002244798769045412, 0.0007269548568145442, 0.0016554327618368964, 0.0015747603660085264, 0.0001913869638749462, 0.0036766889270124733, 7.647248000561691e-05, 0.0, 0.0, 0.0, 0.0, 0.0, 0.0, 0.0, 0.0, 0.0, 0.0, 0.0, 0.0, 0.0008253289063829194, 0.0, 0.0, 0.0, 0.0, 0.0007645850495708921, 0.0, 1.4082125258083868e-05, 0.00016198091400297976, 0.002928057003377532, 0.0009969129397105305, 0.0, 0.0, 0.0, 0.0, 0.0], \"yaxis\": \"y4\"}, {\"hovertemplate\": \"day: %{x} <br>val: %{y:.1f}\", \"mode\": \"lines\", \"name\": \"index nursingquality\", \"type\": \"scatter\", \"xaxis\": \"x4\", \"y\": [0.0, 0.5, 0.6666666666666666, 0.75, 0.8, 0.8333333333333334, 0.8571428571428571, 0.875, 0.9090909090909091, 0.9166666666666666, 0.9166666666666666, 0.9230769230769231, 0.9285714285714286, 0.9333333333333333, 0.9411764705882353, 0.9444444444444444, 0.9473684210526315, 0.95, 0.9523809523809523, 0.9565217391304348, 0.9583333333333334, 0.9615384615384616, 0.9642857142857143, 0.9666666666666667, 0.96875, 0.9705882352941176, 0.972972972972973, 0.9743589743589743, 0.9761904761904762, 0.9772727272727273, 0.9787234042553191, 0.9803921568627451, 0.9818181818181818, 0.9830508474576272, 0.9841269841269841, 0.9850746268656716, 0.9861111111111112, 0.987012987012987, 0.9878048780487805, 0.9885057471264368, 0.989247311827957, 0.99, 0.9906542056074766, 0.9912280701754386, 0.9918032786885246, 0.9923076923076923, 0.9928057553956835, 0.9932885906040269, 0.9937888198757764, 0.9942196531791907, 0.9945652173913043, 0.9948717948717949, 0.9951923076923077, 0.995475113122172, 0.9957805907172996, 0.9960474308300395, 0.9963235294117647, 0.996551724137931, 0.9967637540453075, 0.9969418960244648, 0.997134670487106, 0.9973118279569892, 0.9974874371859297, 0.997624703087886, 0.9977628635346756, 0.9978947368421053, 0.998015873015873, 0.9981308411214953, 0.9982394366197183, 0.9983416252072969, 0.9984350547730829, 0.9985272459499264, 0.9986225895316805, 0.9987096774193548, 0.9987819732034104, 0.9988290398126464, 0.9989035087719298, 0.998972250770812, 0.9990448901623686, 0.9990859232175503, 0.9991539763113367, 0.9992372234935164, 0.9993060374739764, 0.9993510707332901, 0.999366687777074, 0.9993742177722152, 0.9993853718500307, 0.9994015559545183, 0.9994110718492344, 0.9994252873563219, 0.9994435169727324, 0.9994617868675996, 0.9994810586403736, 0.9995042141794744, 0.9995269631031221, 0.9995509654243376, 0.9995751911639762, 0.9996184662342618, 0.9996683250414594, 0.9996996996996997, 0.9797953204894759, 0.9997313994090787, 0.9663408675150359, 0.8264315140406193, 0.7381246982293637, 0.7185872589624314, 0.7625217873660423, 0.8184542635999112, 0.801187738923203, 0.7253985415137604, 0.694209189450795, 0.6622023340348715, 0.6479149807063129, 0.6492925944234835, 0.6629212533549959, 0.730947269899267, 0.9119884550030054, 0.9484788387620198, 0.9172262858729803, 0.8140398465118489, 0.7614640941794716, 0.8238857086911546, 0.8897357002984932, 0.9475884835906593, 0.9998124179328456, 0.9998255408234473, 0.9998415213946117, 0.9897814925670699, 0.9456511020222059, 0.9297825196535817, 0.9243306313821451, 0.8583325464301048, 0.7949595512402632, 0.7739012059122944, 0.7816103768833158, 0.8116901266221623, 0.838962465121939, 0.8869553366756266, 0.9741871921482465, 0.9998291182501708, 0.9998382662138121, 0.9998543972044264, 0.9998667732480682, 0.9998745452264459, 0.999876329458323, 0.9998754359740907, 0.999874229656647, 0.9998720736855571, 0.9998757300857463, 0.9998810797954573, 0.9998896247240618, 0.999894436820437, 0.9998979695949393, 0.99989898989899, 0.9998996588400562, 0.9999003487792726, 0.999901739215879, 0.9999012540732695, 0.9998982809480216, 0.9998932080307561, 0.9998889998889999, 0.9998850706815309, 0.9998791248640154, 0.9998738170347004, 0.9998706673564408, 0.9998719918074757, 0.9998730481147645, 0.9998760996159088, 0.9998783602968009, 0.9998799231508165, 0.9998785080792127, 0.9998757146408153, 0.9998754204559611, 0.9998795180722891, 0.9998872222848765, 0.9998922181504635, 0.9998949579831933, 0.9998942246668077, 0.9998944813759628, 0.9998959850218432, 0.9998991935483871, 0.9999027426570706, 0.9999040307101728, 0.9999031664568606, 0.999901166238387, 0.9999002095599242, 0.9999000099990001, 0.9998997292690264, 0.9999008526670633, 0.9999021622150475, 0.9999033909767172, 0.9999028277135361, 0.9999020759890325, 0.9999014292755052, 0.9999019511716835, 0.9999015166436872, 0.9999005568814638, 0.9998995782285599, 0.9998999099189271, 0.9998993457473578, 0.9998982706002034, 0.9998973622087652, 0.9998979383547663, 0.9998983533238464, 0.9998987239214098, 0.9998978340825501, 0.9998970345963756, 0.999896694214876, 0.9998973727422004, 0.9998963623173386, 0.9998950682056663, 0.9998938766847076, 0.9998933447098977, 0.9998932650229481, 0.9998925539916192, 0.9998916224124851, 0.999890362898805, 0.9998888641920427, 0.9998870822041553, 0.9998858056412013, 0.999885452462772, 0.999883761478554, 0.9998820754716982, 0.9998804113848362, 0.9998804256845629, 0.9998795761078998, 0.9998780190290315, 0.9998755135067845, 0.9998731769181991, 0.9998717455431576, 0.9998697068403909, 0.999867056633874, 0.9998646270475159, 0.9998625429553265, 0.9998607048335423, 0.9998591549295774, 0.9998561565017261, 0.9998529627995882, 0.9998492840994725, 0.9998462248193142, 0.9998422464111059, 0.9998385273696109, 0.9998348199537496, 0.9998292058070025, 0.9998192008678358, 0.9998077292828302, 0.9997992773986351, 0.9997969130787977, 0.9997954173486089, 0.9997905759162303, 0.9997844827586206, 0.9997750281214848, 0.9997645951035782, 0.9997524752475248, 0.9997436554729556, 0.9997371879106439, 0.9997319753417314, 0.9997236042012161, 0.9997127262280954, 0.9996998799519808, 0.9996876951905059, 0.9996760609005507, 0.9996658870698296, 0.9996556473829201, 0.9996418338108882, 0.9996233521657251, 0.9996014348345954, 0.9995784148397976, 0.9995509654243376, 0.99951992318771, 0.9994815966822188, 0.9994324631101021, 0.9993658845909955, 0.9992952783650458, 0.9992313604919293, 0.9991915925626516, 0.9991445680068435, 0.9990875912408759, 0.998997995991984, 0.998898678414097, 0.998805256869773, 0.9987228607918263, 0.9986504723346828, 0.9985855728429985, 0.9984984984984985, 0.9984101748807631, 0.9983079526226735, 0.9982046678635548, 0.998109640831758, 0.998019801980198, 0.9979166666666667, 0.9978165938864629, 0.9977220956719818, 0.9976415094339622, 0.9975669099756691, 0.9974937343358395, 0.9973958333333334, 0.997289972899729, 0.9971751412429378, 0.9970149253731343, 0.9968454258675079, 0.9966887417218543, 0.9965277777777778, 0.9963636363636363, 0.9962121212121212, 0.9960629921259843, 0.9959349593495935, 0.9957805907172996, 0.9955947136563876, 0.9953703703703703, 0.9950980392156863, 0.9947643979057592, 0.994475138121547, 0.9942196531791907, 0.9939393939393939, 0.9936305732484076, 0.9933774834437086, 0.993006993006993, 0.9926470588235294, 0.9923076923076923, 0.991869918699187, 0.9914529914529915, 0.990909090909091, 0.9904761904761905, 0.98989898989899, 0.9893617021276596, 0.9887640449438202, 0.9880952380952381, 0.9873417721518988, 0.9866666666666667, 0.9859154929577465, 0.9852941176470589, 0.984375, 0.9836065573770492, 0.9827586206896551, 0.9818181818181818, 0.9811320754716981, 0.98, 0.9791666666666666, 0.9777777777777777, 0.9767441860465116, 0.975609756097561, 0.9743589743589743, 0.9736842105263158, 0.9722222222222222, 0.9705882352941176, 0.9696969696969697, 0.967741935483871, 0.9666666666666667, 0.9642857142857143, 0.9629629629629629, 0.9615384615384616, 0.96, 0.9583333333333334, 0.9565217391304348, 0.9545454545454546, 0.9523809523809523, 0.95, 0.9473684210526315, 0.9444444444444444, 0.9411764705882353, 0.9375, 0.9375, 0.9333333333333333], \"yaxis\": \"y4\"}, {\"fill\": \"tozeroy\", \"hovertemplate\": \"day: %{x} <br>val: %{y:.1f}\", \"mode\": \"lines\", \"name\": \"foragersactive\", \"type\": \"scatter\", \"xaxis\": \"x5\", \"y\": [0.0, 0.0, 0.0, 0.0, 0.0, 0.0, 0.0, 0.0, 0.8134508178421567, 3.81684908847853, 0.0, 0.0, 0.0, 0.17444110282172914, 0.4613407298733889, 1.4935649099632815, 0.0, 0.0, 0.0, 0.0, 0.0, 0.0, 0.0, 0.0, 1.1485183840075055, 0.0, 0.0, 0.0, 0.0, 1.0457780109696295, 18.946888813555198, 25.78401860529664, 22.998836215458468, 36.54813142323624, 25.518568349473437, 0.0, 0.0, 1.6681882697937538, 4.526489982003795, 4.97938690156867, 22.525819630255192, 28.33705302976859, 0.0, 2.9577056655471914, 29.313550501370145, 18.93292993281349, 38.463227744697996, 39.79749878701449, 0.0, 0.0, 0.0, 15.086422785911255, 0.13294908718194934, 41.5555662098333, 48.69064625810053, 43.76616218713268, 0.0, 0.0, 4.701141112638843, 55.29639528030655, 0.0, 0.0, 0.0, 0.0, 0.0, 0.0, 0.0, 0.0, 11.191259942146441, 0.0, 62.82012939865219, 157.26519411691635, 0.9499063334158426, 0.0, 0.0, 198.97189138853273, 0.0, 41.16777031184898, 292.8214156758453, 400.14235475518285, 312.28949289277125, 268.6764225148816, 110.33338196742085, 163.59727183887202, 209.03441661108138, 62.88618429991436, 0.0, 7.737763744101785, 0.0, 8.268889804058658, 0.0, 0.0, 228.0210210616169, 133.54161390129414, 96.95672082172324, 834.8800478891055, 826.1573693169615, 491.0130796292728, 613.4085314606248, 948.8584628116957, 1130.5625545710607, 804.011172650105, 512.6433486473177, 495.19571596482984, 491.8730420725777, 850.8619026865215, 999.7024458005443, 636.182941803164, 487.08367572410117, 598.0420365275529, 288.1927939115586, 67.42480052398192, 0.0, 0.0, 602.2955241711312, 1555.3274204285715, 685.2290298355746, 753.8249739619604, 99.53491255572378, 119.97735856381163, 1180.5625806098844, 683.0974714139188, 982.0032642847717, 1611.9795622217234, 1995.8866006725798, 1273.8319694212553, 1249.0501006424304, 1241.0928851701092, 1469.459267868665, 1294.0177871734238, 743.5569617236351, 94.97898271142675, 0.0, 0.0, 184.4855072607422, 103.35228248697918, 167.29275073242184, 544.4365288666994, 1754.8807888476565, 2224.396503446119, 2384.2669922860637, 1963.4221721271624, 2364.37841018743, 2711.12410620917, 455.76410345360597, 1956.9627644669897, 1542.495533742133, 3760.592392030671, 3154.6796017487404, 2533.863922033089, 1725.2227770319867, 1826.98364923639, 1625.8587739693376, 2009.165246105556, 2970.7785089499203, 1454.9039270146604, 215.04459317260034, 1082.4182512110026, 1864.0885785123837, 35.979881795723685, 482.49948904517765, 551.5046572440466, 1913.2132136846712, 1133.123738572998, 2425.44162734367, 2579.2856684690355, 2828.356010650573, 4266.9772915561225, 2207.124803684818, 2334.1122193179244, 2834.732908940133, 4678.673258030413, 4811.315365434961, 3103.2662851796204, 5059.927289424194, 3796.062935704208, 3103.340194947701, 4643.015698110648, 6893.936807799479, 4589.01696319386, 7432.892755453949, 2577.7514023519984, 2821.1815176303708, 5479.587923449708, 2464.5757116530453, 4044.7725178314076, 4554.446615034138, 5105.4282702276705, 5972.031377812501, 3901.784948405103, 3849.4317509264356, 8314.113386132813, 5827.02579245087, 4773.257296637844, 4173.986477592349, 4980.945560114829, 6318.092950449762, 4990.299745863982, 5855.497759374999, 6339.298655379797, 4275.478604861988, 4182.029395801162, 8368.106273878157, 7427.817408492705, 6831.659537350226, 9128.961483158815, 3933.8611321756835, 5590.94658704458, 6619.343089479974, 6988.11637965917, 10769.140805500001, 8868.86432594522, 4262.127043519291, 11035.621241455077, 9700.026094973959, 6721.851365517579, 6183.046078021984, 5613.557751667985, 4097.91085908316, 3468.9770886045444, 4125.68981347437, 4653.405596569073, 4737.562564200856, 8463.253934842065, 7444.634925196879, 6952.489688783514, 8719.57959672545, 7074.965742724086, 8260.234578343947, 8783.966137365052, 4948.026727921597, 4971.69466901733, 2019.2693646064845, 3486.4445997009198, 4647.234972231751, 5640.639677302275, 5388.037507017869, 4887.011932803114, 2815.2910771825764, 7621.273387282768, 4673.321872364053, 3228.2226855218632, 2176.182873023462, 2022.6957570600657, 2434.95144893611, 2815.8483169658693, 2322.060857098744, 2258.4912198045395, 1939.529055528702, 4308.875968790233, 2264.086474558204, 1685.8173063859679, 2026.7308820451424, 2240.851833331253, 3874.0140691138913, 3749.7661751669066, 2417.605826449072, 1446.551202150467, 1145.7908427582333, 2440.8500981319453, 1453.7014026446886, 1560.6600631093895, 2312.112630890466, 1716.076286542806, 2504.4124759814076, 2111.399478876305, 2330.6133937099735, 1358.902740180474, 1694.041258038838, 0.0, 103.42286891836257, 76.66930122360873, 648.2717481124812, 669.1083206539257, 1040.3518760711115, 573.2486487487679, 0.0, 0.0, 1.257968462779062, 136.48316060686162, 776.0568599929453, 575.7134968818411, 1090.0204526328725, 619.9233428317646, 75.05652962200807, 0.0, 41.96991364274666, 7.713359629132201, 0.0, 0.0, 0.0, 73.26218051122096, 179.5789593281437, 282.4558215044189, 311.35817143296504, 333.5461537939574, 497.1193686750711, 102.75022493503599, 180.81982277551433, 154.34563909840932, 0.0, 88.80278180055, 163.4986998578838, 128.09750052133222, 190.82871418188716, 217.14196454865592, 140.27948912440792, 275.18987231784, 0.0, 0.0, 8.541520966360983, 162.1112028673956, 59.23922166962214, 146.38962484115373, 86.20125092868244, 37.68585610502116, 61.85245270572911, 58.05049822897625, 55.65139440855924, 64.23902662746404, 72.67242920235941, 7.208109501603266, 20.3921786415454, 63.59910460540005, 0.0, 0.0, 0.0, 1.5112763585772937, 0.0, 12.001683746015875, 2.5230996437021385, 4.053299465873362, 8.340655451854609, 1.2206258756720028, 16.5762652815608, 0.5503399011744436, 0.0, 0.0, 0.0, 0.0, 0.0, 0.0, 0.0, 0.0, 0.0, 0.0, 0.0, 0.0, 5.323428240040993, 0.0, 0.0, 0.0, 0.0, 2.850290840539405, 0.0, 0.054653941815874116, 0.7990178905670898, 10.581957055653765, 4.257217775699235, 0.0, 0.0, 0.0, 0.0, 0.0], \"yaxis\": \"y5\"}, {\"hovertemplate\": \"day: %{x} <br>val: %{y:.1f}\", \"mode\": \"lines\", \"name\": \"foragersnectar\", \"type\": \"scatter\", \"xaxis\": \"x5\", \"y\": [4800.0, 4752.01, 4622.205, 4346.349583333333, 4073.248333333334, 4031.4851755713557, 3990.0997814215893, 3948.801254462899, 3907.984569238917, 3866.8566906657193, 3826.437923382516, 3785.81012159061, 3746.9379436480663, 3708.6424572536703, 3670.417805565111, 3632.507069600974, 3594.7460729139693, 3556.8749499884075, 3519.9321627816225, 3483.2259938204793, 3446.898357851216, 3410.8036702354616, 3374.7514267780775, 3338.925304864664, 3303.151032920168, 3268.171407414754, 3232.953243183521, 3197.9903770784954, 3163.238387596549, 3128.523079420381, 3094.4159778994344, 3063.0477280354094, 3032.5178657078905, 2995.3652870499186, 2965.7293548510065, 2937.099313096205, 2888.2171636803305, 2854.3746997778726, 2821.387383637314, 2788.984357253827, 2754.817847516445, 2727.601278367877, 2689.050215349933, 2651.2182095163726, 2617.412953674628, 2587.7658684633825, 2554.0575473180993, 2528.37450027856, 2504.0544892361468, 2440.4798776832986, 2403.4977737844674, 2366.577755104532, 2338.3513907016363, 2294.8910279954625, 2271.128511776395, 2232.6800695736897, 2196.3976573059767, 2139.914919100762, 2099.235667698639, 2059.8228923168563, 2036.224537255846, 1976.0577012138642, 1933.6181128346523, 1889.4631503535197, 1845.252717991751, 1800.4946794201292, 1755.8991216051777, 1709.4631386433007, 1662.0288776377497, 1618.4619870107188, 1563.8809677107074, 1538.0866770166365, 1525.6435038976579, 1400.7192739647764, 1339.7346168246772, 1278.0921240670561, 1384.4075501210143, 1188.7803906957467, 1118.4746957072805, 1200.3915898305659, 1213.2673772602839, 1226.729854158478, 1074.5368183708251, 805.6173088301209, 602.4614615466066, 566.7005823512077, 396.2835916958329, 319.313416144121, 307.71870092148765, 276.8894203633281, 255.96404794755813, 217.155256455899, 169.9026157280514, 326.7702358814902, 131.3602479170927, 74.29236520395011, 664.2719504121185, 937.0841323876462, 417.7016276045081, 0.0, 0.0, 95.70280650411564, 0.0, 0.0, 0.0, 0.0, 0.0, 0.0, 0.0, 0.0, 0.0, 0.0, 0.0, 0.0, 0.0, 0.0, 0.0, 0.0, 0.0, 0.0, 0.0, 0.0, 0.0, 0.0, 215.69136704498715, 1239.201546873393, 263.8955265494719, 0.0, 0.0, 0.0, 0.0, 0.0, 0.0, 0.0, 0.0, 0.0, 0.0, 0.0, 0.0, 1232.413585168948, 2190.055100999212, 2057.7170386995003, 1822.9754080001283, 1080.2374492737347, 1334.2371886168237, 920.5654424119434, 1710.619764028586, 1628.6785176754051, 3298.6072421584995, 2229.7643349663367, 2801.572878224937, 2769.9835847170752, 2013.3167842232824, 824.9714088038713, 1489.848189782185, 1254.0485615292453, 1137.3279309423672, 579.0377540986555, 525.9369766835869, 1496.4558556128377, 648.3810316783183, 281.40914941435767, 257.76006145528663, 1947.3066543800987, 2291.0181414542158, 3369.38292096425, 4066.117471666487, 4846.428826297951, 4834.708314193458, 4482.534827738124, 4212.230534110029, 4414.654237708482, 6237.477599760443, 6732.739058219176, 7510.8605859829495, 6623.006117971199, 6490.475595466301, 6276.623285381038, 6246.188646186301, 5239.093133690464, 7510.636980150185, 3018.066635775379, 6427.260347761638, 6308.483689617463, 5935.946043617629, 5778.690158470201, 6291.56415863864, 7051.377876211422, 7845.218563729709, 6216.204377497137, 7668.798676320309, 7269.495482390121, 6565.457518677403, 7730.683812113734, 8000.403779863129, 7553.864577751096, 8483.28093002753, 8540.092711673917, 8198.217320662074, 7920.990796604282, 8765.58940221529, 8802.729535122204, 9283.416875576915, 9382.54335963985, 9230.667545206426, 8958.849009123138, 9025.756061899923, 9817.496284013687, 9535.021705082032, 9714.810855096976, 9740.84342000263, 9823.855257630748, 10021.310184397787, 10104.501875976992, 10088.55197305787, 10253.487639697378, 9967.383782602443, 9770.48325064302, 10568.172741785856, 10485.406534395303, 10493.836383208127, 10264.761880149832, 11141.340836817526, 11140.77586483663, 11229.313322764445, 11185.093786641008, 10847.122385641842, 11252.542233314261, 11359.74845403381, 10976.136696825508, 11106.393628715674, 11249.202267042765, 11176.759855503995, 11743.926771586439, 11585.019760824207, 11619.231113365895, 11409.935928047851, 11752.00894711844, 11655.06474322013, 11436.415925491605, 11696.643759775787, 11967.370306547113, 11351.717944410499, 10752.207468376686, 10248.965750379026, 10967.501683948643, 11747.456897864624, 11547.862799376468, 11951.73502316169, 11849.228724140889, 11740.629318555842, 11345.476317004193, 11365.722381336254, 11543.446869161884, 11961.922084687016, 12012.3505870732, 11973.419034943843, 11730.086333627612, 11643.10302926426, 11604.43488850038, 11579.551810414694, 11769.553162616387, 11839.49998527807, 11675.863241086216, 11421.549280735593, 11371.95283361375, 11113.937735446343, 10928.939965526988, 10801.342862032754, 10684.786805366144, 10283.373804753599, 9952.613526518326, 9732.747667454452, 10101.934449046235, 10209.180101815753, 10470.074236208262, 10282.03887825765, 10086.985910317286, 10080.743162630504, 10084.196015863497, 10126.877504472668, 10287.52052235426, 10194.356991515686, 10208.174376093784, 10084.985827996634, 9927.72593890383, 9851.119563832344, 9803.51213322434, 9736.826092010935, 9678.764466614815, 9619.601964934187, 9554.91577567053, 9510.390953025975, 9508.918267984596, 9413.72948365346, 9310.587723071167, 9339.057021732338, 9180.514860822372, 9040.726133345497, 8987.138903691675, 8897.515768293964, 8802.158042102848, 8760.519754088067, 8691.113663522749, 8624.610079207714, 8599.310588613147, 8515.07085896754, 8447.079930381893, 8345.86380358546, 8212.051518640877, 8140.60351396109, 8073.179710801036, 8030.857280990466, 7939.97271627762, 7886.827292652553, 7810.304467079592, 7725.331099506284, 7669.474589233978, 7596.008143556175, 7523.063690264918, 7458.115153229405, 7395.840134989638, 7302.485410851419, 7239.661183440891, 7188.3201504647295, 7097.794535385795, 7030.772083312502, 6964.205687860054, 6898.627527294605, 6832.500008240013, 6769.779481460739, 6703.054554432375, 6639.353709423746, 6575.248150732709, 6509.956873252481, 6450.727832712579, 6384.121339786292, 6321.831474916215, 6260.461798479309, 6199.413825492673, 6139.063993515897, 6079.376070893349, 6020.189179461261, 5961.327365083485, 5902.79251057674, 5844.791915282936, 5787.327014774551, 5730.39913156817, 5674.339535680485, 5619.083001242291, 5563.290814520598, 5508.6335704652365, 5454.518358111811, 5400.746467078346, 5347.888460422659, 5294.195860530399, 5241.774495664599, 5190.033178097449, 5141.1271581444735, 5088.655333276738, 5037.56823608163, 4987.890789978823, 4938.439516541927, 4889.371819081682], \"yaxis\": \"y5\"}, {\"fill\": \"tozeroy\", \"hovertemplate\": \"day: %{x} <br>val: %{y:.1f}\", \"mode\": \"lines\", \"name\": \"foragersnectar active\", \"type\": \"scatter\", \"xaxis\": \"x5\", \"y\": [0.0, 0.0, 0.0, 0.0, 0.0, 0.0, 0.0, 0.0, 0.6351520727620623, 2.9780511942039105, 0.0, 0.0, 0.0, 0.14377429745989115, 0.1702602672118478, 1.0457637486780844, 0.0, 0.0, 0.0, 0.0, 0.0, 0.0, 0.0, 0.0, 0.8493990788545581, 0.0, 0.0, 0.0, 0.0, 0.8725005392086764, 15.793598498964942, 20.061084778898735, 19.46818452967426, 24.273267700748583, 12.70125565240143, 0.0, 0.0, 0.9773661921234674, 2.1866802244762713, 3.805764607935871, 14.5622488530237, 23.64412815899, 0.0, 2.448196092041928, 22.712667939620886, 13.873270127378278, 25.32270616361462, 17.33740843956349, 0.0, 0.0, 0.0, 7.592568324055701, 0.1064481023470037, 29.9068167451729, 32.049138298725836, 28.493068885278934, 0.0, 0.0, 3.2174264728711717, 37.40671705327096, 0.0, 0.0, 0.0, 0.0, 0.0, 0.0, 0.0, 0.0, 7.07801591128087, 0.0, 37.92664326685721, 86.49499000479267, 0.6075776135261538, 0.0, 0.0, 63.67708410366529, 0.0, 21.44632357211709, 132.52883791327932, 153.22212636872362, 93.95247118115786, 94.22472313354953, 54.35166241203198, 58.05864303582524, 25.52133815289785, 12.907165932969672, 0.0, 0.6325569917514583, 0.0, 1.0058411501752835, 0.0, 0.0, 11.029396545615624, 12.8910779869341, 1.837026377571529, 4.393095151975615, 51.75180847536473, 220.2693119418753, 129.3986002782675, 0.0, 0.0, 25.744854798135712, 0.0, 0.0, 0.0, 0.0, 0.0, 0.0, 0.0, 0.0, 0.0, 0.0, 0.0, 0.0, 0.0, 0.0, 0.0, 0.0, 0.0, 0.0, 0.0, 0.0, 0.0, 0.0, 77.32282745242033, 321.7143999562859, 44.39600905006177, 0.0, 0.0, 0.0, 0.0, 0.0, 0.0, 0.0, 0.0, 0.0, 0.0, 0.0, 0.0, 392.80046330086043, 806.5397887111659, 669.6908439038361, 915.4643670532855, 802.4989331639855, 158.48525654040213, 153.27609397258328, 486.902078344718, 555.0695072337826, 1593.4938863622128, 530.9766650689184, 0.0, 0.0, 402.76842881404895, 212.54581858499282, 862.9812617153505, 481.031179889902, 58.60138931850711, 122.22991891637382, 170.16532945421352, 8.206120382539998, 40.82954057425926, 22.363212221084453, 56.89615435817919, 303.57227909154943, 439.1734533387034, 965.3921471780565, 1313.9597930630077, 2566.0480667974966, 1264.6792468512756, 1125.0071639666064, 1296.635593077036, 1702.1132687655838, 2872.2086778676726, 1338.9701927330952, 3904.627047212086, 1736.1607372916185, 985.3412190262102, 2434.2758135568315, 4711.075279081843, 2905.419934857883, 6163.517118935034, 1608.8269880251098, 1402.6511935755393, 3689.8511737802096, 1641.9692415444388, 1990.6177566687882, 2230.0863375415456, 2931.7731320526027, 4789.994216291553, 2250.475737709117, 2107.989689613769, 5940.248000952543, 4294.911866428066, 3017.3339569919526, 3137.3005817897983, 2577.343185188465, 4825.2498177924335, 3919.526215123548, 4367.771073776899, 4137.053432270767, 2281.5080447493456, 1975.298933902868, 6653.474283536494, 5689.961262114924, 5007.334459183991, 6790.827088791779, 2741.5902977140017, 3987.785977047219, 4597.605134507194, 5088.409881264661, 8706.188281340173, 7313.049979108859, 2881.5454049388272, 9126.467009338847, 8003.645867257692, 5626.9584787349295, 4609.479615888744, 3657.4493684492013, 2599.9044457248065, 1740.3425080436791, 2611.7119564380873, 2685.832666369804, 3557.4816633744103, 7137.259174997541, 6032.202150385136, 5684.7940914884175, 7242.095533643476, 5826.778540127884, 7084.783413804601, 7143.104778826951, 3742.892155409714, 3540.0006989283, 593.4138528821599, 2424.1673782857197, 3405.516378312348, 4425.024431371014, 4143.440460786915, 3878.595432117939, 1755.0518289469671, 6411.3353413869245, 3581.9597894130434, 2837.4588838751893, 1809.1894245170042, 1586.7572843070568, 1201.7443587583653, 1550.6546070201714, 1736.3733229669647, 1313.8014620576243, 1071.2030429260371, 3413.2461442843173, 1716.8984431938427, 1000.5049477414425, 1171.8082868569177, 1374.3921202948889, 3129.1487996019814, 3036.7499032773862, 1760.4188923708275, 749.7389543762414, 418.84807839325407, 1691.6145839996439, 741.4550125935561, 928.370327061361, 1896.561199204596, 1361.698670739502, 1976.250658484585, 1764.8152687271956, 1886.2450821010673, 964.9930737398279, 1363.3696530468283, 0.0, 79.80676094933098, 53.751335992319866, 415.37228167929607, 402.85031530063077, 642.9603845995402, 443.8525267735063, 0.0, 0.0, 0.9851073202194081, 107.46394200371442, 617.0553382762135, 468.0889865349238, 852.0988200645105, 507.47917275627196, 61.165563870746155, 0.0, 29.86252822574005, 6.261832517014739, 0.0, 0.0, 0.0, 50.79667576718111, 101.04705247470508, 189.3448315592384, 258.2410954689887, 182.24147110400534, 416.846341698233, 85.51680573178739, 132.41415420328613, 128.11372158862036, 0.0, 61.00417232561138, 136.08417676112498, 82.72184233158734, 119.90640109066624, 154.04308901241424, 68.76017412883438, 204.90920714748788, 0.0, 0.0, 6.525930733699628, 135.6518607074931, 49.797638003422115, 118.62538018530185, 66.56487604024846, 31.733495730359998, 43.697729027803966, 37.28009512536027, 38.5163151736222, 47.808192386782835, 50.44741946512708, 6.099740672396551, 14.492925700870753, 42.27279807998727, 0.0, 0.0, 0.0, 1.079457514712769, 0.0, 8.816854114513616, 1.578394380634331, 2.445336016396805, 6.644640015777503, 1.0359926619770068, 12.223080621725492, 0.46761094180415036, 0.0, 0.0, 0.0, 0.0, 0.0, 0.0, 0.0, 0.0, 0.0, 0.0, 0.0, 0.0, 4.53620991036625, 0.0, 0.0, 0.0, 0.0, 2.286928987485712, 0.0, 0.04445343766483038, 0.6818013495721598, 8.414589526676087, 3.561294431612427, 0.0, 0.0, 0.0, 0.0, 0.0], \"yaxis\": \"y5\"}, {\"hovertemplate\": \"day: %{x} <br>val: %{y:.1f}\", \"mode\": \"lines\", \"name\": \"foragerspollen\", \"type\": \"scatter\", \"xaxis\": \"x5\", \"y\": [150.0, 148.49, 229.12500000000006, 456.14041666666674, 681.0616666666667, 674.9748244286443, 669.170218578411, 663.6087455371005, 658.225430761083, 653.4833093342808, 648.3620766174841, 644.1098784093899, 638.4320563519335, 632.8375427463302, 627.5021944348891, 622.1829303990266, 617.0439270860304, 612.6750500115928, 607.7078372183776, 602.834006179521, 598.2416421487841, 593.7463297645385, 589.5385732219224, 585.4346951353359, 581.6089670798323, 577.6485925852463, 574.2567568164791, 570.9396229215049, 567.7416124034512, 564.8369205796192, 561.6540221005655, 556.0622719645908, 549.9621342921098, 550.8147129500818, 544.1506451489937, 537.1406869037951, 551.0428363196695, 550.2353002221273, 548.9026163626859, 547.3156427461731, 547.8221524835551, 541.3787216321232, 546.599784650067, 551.7617904836276, 553.227046325372, 550.5341315366178, 552.2324526819006, 545.9054997214403, 538.5455107638534, 571.1001223167015, 577.3922262155328, 583.9522448954682, 582.1486092983637, 595.9089720045376, 589.6414882236048, 598.3899304263106, 605.3023426940235, 633.0750808992385, 645.3743323013609, 656.7371076831436, 651.9554627441544, 684.4022987861357, 699.4518871653479, 717.2068496464804, 735.0172820082488, 753.7053205798711, 772.8908783948224, 794.2468613566995, 817.2611223622501, 837.0680129892814, 868.5490322892928, 871.2433229833634, 859.5964961023423, 962.7407260352236, 1002.9353831753227, 1044.4478759329438, 916.3524498789859, 1093.1696093042535, 1144.6653042927198, 1041.6284101694341, 1006.9726227397163, 973.3801458415221, 1106.763181629175, 1359.8426911698791, 1547.1585384533932, 1567.4094176487924, 1725.6164083041672, 1793.3465838558793, 1795.3712990785125, 1817.6205796366721, 1830.625952052442, 1866.7947435441013, 1910.0873842719488, 1747.60976411851, 1943.3497520829073, 2006.35763479605, 1420.0080495878817, 1151.815867612354, 1450.7954285435444, 1740.7391563770354, 1628.8191695739072, 1239.8971934958847, 1087.7685481903886, 1297.6271756158903, 1503.158172662942, 1610.9438327567266, 1472.4847412959023, 1164.0468078830204, 1066.8290769927123, 1243.4906746812887, 1303.9257359158912, 1591.0659151850132, 1924.7965149034, 2248.0262617970193, 2395.4700000000003, 2473.02, 1906.7262875000397, 1841.5747932292097, 1904.1215341730433, 2481.3626742969145, 2977.564334820929, 3024.3425054064214, 3103.2662572943095, 3071.281825790472, 2675.908632955013, 1375.286859688256, 1790.1542988485219, 1862.0228547608112, 1937.251199637344, 1858.4527282607723, 1779.4479648363847, 2265.381198311325, 2993.279744978418, 3681.5347876989927, 4081.77, 4153.38, 4222.35, 4294.62, 4374.81, 3232.4864148310526, 2409.814899000788, 1739.1355982320244, 1983.6026941617329, 2408.6111325342035, 2502.6964753633715, 4062.3057421136614, 3708.5876357743305, 3919.0033803180363, 2154.485206460267, 2102.7132011336134, 1809.674241641944, 1916.4164152829264, 2351.4832157767187, 3050.847368614989, 2599.210478285404, 2538.886809632307, 3036.2287894287006, 4548.684155014489, 5235.478197592575, 5064.781646097186, 6137.078968321682, 6658.490850585643, 6832.949938544713, 5321.273345619901, 5180.841858545785, 4307.40707903575, 3807.6825283335133, 3212.5011737020495, 3377.6716858065424, 3914.315172261877, 4372.059465889972, 4342.555762291519, 2631.9324002395565, 2217.8509417808245, 1527.839414017051, 2455.623882028802, 2615.8744045337, 2847.546714618962, 2894.151353813699, 1897.4283040018047, 1546.814815854352, 1817.646315753215, 2843.7596522383624, 3059.886310382538, 2973.836231610854, 3726.959841529799, 3278.76584136136, 2613.992123788579, 1935.9814362702916, 2280.601246245586, 2375.741323679692, 2905.06451760988, 2342.080398367413, 2249.417586949157, 2478.4162201368704, 3082.0354222489036, 2296.4990699724713, 2187.2474321112277, 2792.4326793379264, 3162.389203395719, 2394.0205977847113, 2458.5204648777963, 2093.333124423085, 1970.1432141385133, 2312.072454793573, 2673.320990876862, 1471.9302315897476, 1973.4037159863155, 2358.508294917969, 2266.829144903026, 2308.116579997372, 1959.3519882343514, 2100.579815602214, 2113.7481240230086, 2138.278026942129, 1995.1223603026222, 2339.3062173975572, 2612.7667493569807, 1902.8572582141446, 2082.973465604699, 2172.5536167918735, 2506.5681198501675, 1724.6991631824746, 1811.0641351633699, 1752.8866772355552, 1829.116213358993, 2212.9576143581576, 1831.9577666857385, 1759.071545966189, 2161.163303174493, 2043.446371284326, 1949.807732957235, 2065.8101444960057, 1583.4532284135614, 1810.3402391757934, 1823.9788866341069, 2056.37407195215, 1745.9810528815601, 1877.575256779871, 2158.264074508395, 1900.6762402242155, 1648.099693452888, 2302.692055589502, 2954.0125316233157, 3505.7642496209764, 2825.8383160513567, 2075.583102135376, 2306.5272006235346, 1937.6349768383118, 2072.8112758591114, 2182.7306814441577, 2590.423682995808, 2591.297618663746, 2425.783130838118, 2009.9479153129855, 1939.0594129268002, 1955.550965056159, 2180.4036663723864, 2245.276970735741, 2248.635111499621, 2224.6781895853082, 2003.9868373836143, 1902.3600147219313, 2025.7367589137848, 2238.470719264407, 2233.2871663862497, 2431.2422645536576, 2549.2500344730133, 2619.7571379672468, 2679.553194633857, 3043.0161952464014, 3334.176473481676, 3508.1723325455487, 3081.5655509537655, 2912.2798981842475, 2582.7457637917373, 2707.4211217423513, 2845.714089682714, 2792.226837369497, 2723.1039841365027, 2609.4724955273327, 2365.3394776457408, 2372.043008484315, 2261.865623906216, 2290.3441720033666, 2352.8940610961704, 2329.8404361676567, 2272.50786677566, 2235.903907989066, 2191.005533385186, 2149.8480350658137, 2112.894224329471, 2053.139046974025, 1948.3517320154042, 1936.290516346541, 1932.5122769288332, 1798.4429782676611, 1850.0651391776282, 1888.5438666545028, 1840.1610963083256, 1827.8142317060353, 1823.181957897151, 1764.830245911933, 1733.5863364772515, 1700.4299207922866, 1625.7394113868547, 1610.319141032461, 1580.300069618107, 1583.1761964145403, 1622.2784813591225, 1600.0064860389098, 1574.7002891989655, 1522.6427190095335, 1520.4672837223802, 1480.5527073474475, 1465.0055329204095, 1458.898900493716, 1424.335410766023, 1408.041856443826, 1392.2163097350833, 1369.0548467705948, 1343.879865010364, 1351.1045891485805, 1328.1288165591095, 1293.6698495352705, 1299.715464614205, 1282.9179166874987, 1266.3243121399462, 1249.7324727053956, 1234.019991759988, 1215.5605185392612, 1202.0954455676256, 1186.2662905762545, 1171.8318492672904, 1159.2431267475195, 1141.2521672874213, 1131.6286602137077, 1118.3485250837857, 1105.1382015206905, 1092.266174507327, 1079.356006484103, 1066.7739291066516, 1054.3508205387388, 1042.2626349165146, 1030.5074894232605, 1018.8780847170634, 1007.3729852254504, 995.9908684318304, 984.7304643195152, 972.9969987577089, 962.7891854794011, 952.1064295347645, 941.5416418881897, 931.2935329216541, 920.4615395773419, 911.1241394696021, 901.1755043354013, 891.2068219025514, 879.0628418555274, 871.1446667232625, 862.501763918371, 853.1092100211777, 843.8204834580729, 834.808180918319], \"yaxis\": \"y5\"}, {\"fill\": \"tozeroy\", \"hovertemplate\": \"day: %{x} <br>val: %{y:.1f}\", \"mode\": \"lines\", \"name\": \"foragerspollen active\", \"type\": \"scatter\", \"xaxis\": \"x5\", \"y\": [0.0, 0.0, 0.0, 0.0, 0.0, 0.0, 0.0, 0.0, 0.17829874508009436, 0.8387978942746198, 0.0, 0.0, 0.0, 0.03066680536183798, 0.2910804626615411, 0.4478011612851971, 0.0, 0.0, 0.0, 0.0, 0.0, 0.0, 0.0, 0.0, 0.29911930515294743, 0.0, 0.0, 0.0, 0.0, 0.173277471760953, 3.1532903145902567, 5.722933826397907, 3.5306516857842074, 12.27486372248766, 12.817312697072007, 0.0, 0.0, 0.6908220776702862, 2.339809757527524, 1.1736222936327994, 7.9635707772314905, 4.692924870778592, 0.0, 0.509509573505263, 6.600882561749259, 5.059659805435213, 13.140521581083375, 22.460090347451, 0.0, 0.0, 0.0, 7.493854461855554, 0.026500984834945628, 11.648749464660405, 16.64150795937469, 15.273093301853745, 0.0, 0.0, 1.483714639767671, 17.88967822703559, 0.0, 0.0, 0.0, 0.0, 0.0, 0.0, 0.0, 0.0, 4.113244030865571, 0.0, 24.89348613179498, 70.77020411212368, 0.3423287198896888, 0.0, 0.0, 135.29480728486743, 0.0, 19.72144673973189, 160.29257776256597, 246.92022838645926, 218.33702171161337, 174.45169938133208, 55.98171955538887, 105.53862880304679, 183.51307845818354, 49.97901836694469, 0.0, 7.105206752350327, 0.0, 7.2630486538833745, 0.0, 0.0, 216.99162451600128, 120.65053591436005, 95.1196944441517, 830.48695273713, 774.4055608415968, 270.7437676873975, 484.0099311823572, 948.8584628116957, 1130.5625545710607, 778.2663178519692, 512.6433486473177, 495.19571596482984, 491.8730420725777, 850.8619026865215, 999.7024458005443, 636.182941803164, 487.08367572410117, 598.0420365275529, 288.1927939115586, 67.42480052398192, 0.0, 0.0, 602.2955241711312, 1555.3274204285715, 685.2290298355746, 753.8249739619604, 99.53491255572378, 119.97735856381163, 1180.5625806098844, 683.0974714139188, 982.0032642847717, 1611.9795622217234, 1918.5637732201594, 952.1175694649694, 1204.6540915923686, 1241.0928851701092, 1469.459267868665, 1294.0177871734238, 743.5569617236351, 94.97898271142675, 0.0, 0.0, 184.4855072607422, 103.35228248697918, 167.29275073242184, 544.4365288666994, 1754.8807888476565, 1831.5960401452583, 1577.7272035748979, 1293.7313282233263, 1448.9140431341443, 1908.6251730451843, 297.27884691320384, 1803.6866704944064, 1055.593455397415, 3205.5228847968883, 1561.1857153865276, 2002.8872569641703, 1725.2227770319867, 1826.98364923639, 1223.0903451552886, 1796.6194275205632, 2107.7972472345696, 973.8727471247583, 156.44320385409324, 960.1883322946288, 1693.92324905817, 27.773761413183685, 441.66994847091837, 529.1414450229621, 1856.317059326492, 829.5514594814485, 1986.2681740049666, 1613.8935212909792, 1514.3962175875652, 1700.9292247586263, 942.4455568335421, 1209.105055351318, 1538.0973158630968, 2976.5599892648297, 1939.1066875672886, 1764.296092446525, 1155.3002422121083, 2059.9021984125893, 2117.998975921491, 2208.7398845538173, 2182.8615287176353, 1683.5970283359763, 1269.3756365189147, 968.9244143268887, 1418.5303240548315, 1789.7367496694983, 822.6064701086066, 2054.1547611626197, 2324.3602774925926, 2173.6551381750683, 1182.0371615209476, 1651.3092106959864, 1741.4420613126665, 2373.8653851802696, 1532.1139260228042, 1755.9233396458912, 1036.685895802551, 2403.6023749263636, 1492.8431326573282, 1070.773530740434, 1487.7266855980995, 2202.24522310903, 1993.970560112642, 2206.730461898294, 1714.6319903416625, 1737.856146377781, 1824.325078166235, 2338.1343943670367, 1192.2708344616815, 1603.1606099973608, 2021.7379549727805, 1899.7064983945097, 2062.952524159828, 1555.814346836361, 1380.5816385804642, 1909.1542321162306, 1696.3802277162667, 1094.8928867826503, 1573.5664621332396, 1956.1083832187837, 1498.0064133583535, 1728.6345805608655, 1513.9778570362823, 1967.5729301992692, 1180.0809008264457, 1325.994759844524, 1412.4327748117428, 1267.6955972950966, 1477.4840630819738, 1248.1872025962018, 1175.4511645393463, 1640.8613585381022, 1205.1345725118827, 1431.6939700890302, 1425.8555117243247, 1062.2772214152003, 1241.718593919403, 1215.6152459312611, 1244.5970462309547, 1008.4165006851756, 1060.2392482356092, 1209.9380458958437, 1091.3620829510091, 390.76380164667404, 366.99344850645787, 435.9384727530088, 1233.2070901777447, 1265.1937099456977, 585.687534131779, 944.6897577469149, 868.3260126026648, 895.6298245059153, 547.1880313643611, 685.3123586445254, 854.9225951882247, 866.4597130363644, 744.8652695119097, 713.0162718895201, 657.1869340782443, 696.8122477742255, 726.9427643649792, 749.2355141323014, 712.2463900511325, 632.2897360480285, 415.5514316858697, 354.3776158033041, 528.1618174968227, 346.5842101491092, 444.368311608906, 393.90966644064605, 330.67160499200963, 0.0, 23.616107969031592, 22.91796523128886, 232.8994664331851, 266.25800535329495, 397.3914914715712, 129.3961219752615, 0.0, 0.0, 0.2728611425596539, 29.0192186031472, 159.0015217167318, 107.62451034691738, 237.9216325683621, 112.44417007549264, 13.890965751261922, 0.0, 12.10738541700661, 1.4515271121174622, 0.0, 0.0, 0.0, 22.465504744039855, 78.53190685343861, 93.1109899451805, 53.117075963976305, 151.30468268995205, 80.2730269768381, 17.23341920324861, 48.40566857222819, 26.23191750978896, 0.0, 27.798609474938612, 27.414523096758817, 45.37565818974488, 70.92231309122091, 63.098875536241685, 71.51931499557355, 70.28066517035217, 0.0, 0.0, 2.0155902326613546, 26.459342159902484, 9.441583666200025, 27.764244655851886, 19.636374888433977, 5.952360374661158, 18.15472367792514, 20.77040310361598, 17.135079234937034, 16.430834240681204, 22.225009737232334, 1.1083688292067158, 5.899252940674647, 21.326306525412782, 0.0, 0.0, 0.0, 0.4318188438645246, 0.0, 3.184829631502259, 0.9447052630678074, 1.6079634494765567, 1.6960154360771056, 0.18463321369499588, 4.3531846598353106, 0.08272895937029327, 0.0, 0.0, 0.0, 0.0, 0.0, 0.0, 0.0, 0.0, 0.0, 0.0, 0.0, 0.0, 0.7872183296747424, 0.0, 0.0, 0.0, 0.0, 0.563361853053693, 0.0, 0.010200504151043737, 0.11721654099493005, 2.167367528977678, 0.6959233440868083, 0.0, 0.0, 0.0, 0.0, 0.0], \"yaxis\": \"y5\"}, {\"hovertemplate\": \"day: %{x} <br>val: %{y:.1f}\", \"mode\": \"lines\", \"name\": \"nurses\", \"type\": \"scatter\", \"xaxis\": \"x6\", \"y\": [0.0, 1.0, 2.0, 3.0, 4.0, 5.0, 6.0, 7.0, 10.0, 11.0, 11.0, 12.0, 13.0, 14.0, 16.0, 17.0, 18.0, 19.0, 20.0, 22.0, 23.0, 25.0, 27.0, 29.0, 31.0, 33.0, 36.0, 38.0, 41.0, 43.0, 46.0, 50.0, 54.0, 58.0, 62.0, 66.0, 71.0, 76.0, 81.0, 86.0, 92.0, 99.0, 106.0, 113.0, 121.0, 129.0, 138.0, 148.0, 160.0, 172.0, 183.0, 194.0, 207.0, 220.0, 236.0, 252.0, 271.0, 289.0, 308.0, 326.0, 348.0, 371.0, 397.0, 420.0, 446.0, 474.0, 503.0, 534.0, 567.0, 602.0, 638.0, 678.0, 725.0, 774.0, 820.0, 853.0, 911.0, 972.0, 1046.0, 1093.0, 1181.0, 1310.0, 1440.0, 1540.0, 1578.0, 1597.0, 1626.0, 1670.0, 1697.0, 1739.0, 1796.0, 1857.0, 1926.0, 2016.0, 2113.0, 2226.0, 2353.0, 2620.0, 3014.0, 3329.0, 3443.0007562000183, 3722.0, 3960.064875076617, 3750.3462107163305, 3548.9035490867805, 3449.9374302786327, 3589.9525749193267, 3899.934566053577, 4026.769575828019, 3883.7837912646733, 3862.5799301042234, 3677.871763229676, 3509.755450486097, 3373.7243206244207, 3290.0781804008443, 3481.5018465302087, 4302.76153070418, 4659.876534837803, 4880.561067130128, 4558.623140466354, 4282.4740656653485, 4430.033455632339, 4599.043834842912, 4903.770402581662, 5330.0, 5731.0, 6309.0, 6897.78722169991, 6925.003020108614, 7065.417366847568, 7211.627586043496, 6876.960361998, 6383.5251964593135, 5975.291210848825, 5633.065986198057, 5448.875820014576, 5302.242779570654, 5347.453724817353, 5669.769458302794, 5851.0, 6182.0, 6867.0, 7505.0, 7970.0, 8085.0, 8027.0, 7950.0, 7816.0, 8046.0, 8408.0, 9059.0, 9472.0, 9800.0, 9899.0, 9965.0, 10034.0, 10176.0, 10126.0, 9830.0, 9363.0, 9008.0, 8700.0, 8272.0, 7924.0, 7731.0, 7811.0, 7876.0, 8070.0, 8220.0, 8327.0, 8230.0, 8045.0, 8026.0, 8299.0, 8866.0, 9277.0, 9519.0, 9453.0, 9476.0, 9613.0, 9919.0, 10281.0, 10419.0, 10326.0, 10117.0, 10020.0, 10000.0, 9972.0, 10085.0, 10220.0, 10350.0, 10290.0, 10211.0, 10144.0, 10198.0, 10153.0, 10055.0, 9957.0, 9990.0, 9934.0, 9829.0, 9742.0, 9797.0, 9837.0, 9873.0, 9787.0, 9711.0, 9679.0, 9743.0, 9648.0, 9529.0, 9422.0, 9375.0, 9368.0, 9306.0, 9226.0, 9120.0, 8997.0, 8855.0, 8756.0, 8729.0, 8602.0, 8479.0, 8361.0, 8362.0, 8303.0, 8197.0, 8032.0, 7884.0, 7796.0, 7674.0, 7521.0, 7386.0, 7274.0, 7178.0, 7099.0, 6951.0, 6800.0, 6634.0, 6502.0, 6338.0, 6192.0, 6053.0, 5854.0, 5530.0, 5200.0, 4981.0, 4923.0, 4887.0, 4774.0, 4639.0, 4444.0, 4247.0, 4039.0, 3900.0, 3804.0, 3730.0, 3617.0, 3480.0, 3331.0, 3201.0, 3086.0, 2992.0, 2903.0, 2791.0, 2654.0, 2508.0, 2371.0, 2226.0, 2082.0, 1928.0, 1761.0, 1576.0, 1418.0, 1300.0, 1236.0, 1168.0, 1095.0, 997.0, 907.0, 836.0, 782.0, 740.0, 706.0, 665.0, 628.0, 590.0, 556.0, 528.0, 504.0, 479.0, 457.0, 438.0, 423.0, 410.0, 398.0, 383.0, 368.0, 353.0, 334.0, 316.0, 301.0, 287.0, 274.0, 263.0, 253.0, 245.0, 236.0, 226.0, 215.0, 203.0, 190.0, 180.0, 172.0, 164.0, 156.0, 150.0, 142.0, 135.0, 129.0, 122.0, 116.0, 109.0, 104.0, 98.0, 93.0, 88.0, 83.0, 78.0, 74.0, 70.0, 67.0, 63.0, 60.0, 57.0, 54.0, 52.0, 49.0, 47.0, 44.0, 42.0, 40.0, 38.0, 37.0, 35.0, 33.0, 32.0, 30.0, 29.0, 27.0, 26.0, 25.0, 24.0, 23.0, 22.0, 21.0, 20.0, 19.0, 18.0, 17.0, 16.0, 15.0, 15.0, 14.0], \"yaxis\": \"y6\"}, {\"hovertemplate\": \"day: %{x} <br>val: %{y:.1f}\", \"mode\": \"lines\", \"name\": \"neednurses\", \"type\": \"scatter\", \"xaxis\": \"x6\", \"y\": [0, 1, 2, 3, 4, 5, 6, 7, 10, 11, 11, 12, 13, 14, 16, 17, 18, 19, 20, 22, 23, 25, 27, 29, 31, 33, 36, 38, 41, 43, 46, 50, 54, 58, 62, 66, 71, 76, 81, 86, 92, 99, 106, 113, 121, 129, 138, 148, 160, 172, 183, 194, 207, 220, 236, 252, 271, 289, 308, 326, 348, 371, 397, 420, 446, 474, 503, 534, 567, 602, 638, 678, 725, 774, 820, 853, 911, 972, 1046, 1093, 1181, 1310, 1440, 1540, 1578, 1597, 1626, 1670, 1697, 1739, 1796, 1857, 1926, 2016, 2113, 2226, 2353, 2620, 3014, 3329, 3513, 3722, 4097, 4537, 4807, 4800, 4707, 4764, 5025, 5353, 5563, 5553, 5416, 5195, 4962, 4762, 4717, 4912, 5320, 5599, 5623, 5376, 5168, 5174, 5330, 5731, 6309, 6968, 7322, 7598, 7801, 8011, 8029, 7720, 7206, 6712, 6319, 6028, 5819, 5851, 6182, 6867, 7505, 7970, 8085, 8027, 7950, 7816, 8046, 8408, 9059, 9472, 9800, 9899, 9965, 10034, 10176, 10126, 9830, 9363, 9008, 8700, 8272, 7924, 7731, 7811, 7876, 8070, 8220, 8327, 8230, 8045, 8026, 8299, 8866, 9277, 9519, 9453, 9476, 9613, 9919, 10281, 10419, 10326, 10117, 10020, 10000, 9972, 10085, 10220, 10350, 10290, 10211, 10144, 10198, 10153, 10055, 9957, 9990, 9934, 9829, 9742, 9797, 9837, 9873, 9787, 9711, 9679, 9743, 9648, 9529, 9422, 9375, 9368, 9306, 9226, 9120, 8997, 8855, 8756, 8729, 8602, 8479, 8361, 8362, 8303, 8197, 8032, 7884, 7796, 7674, 7521, 7386, 7274, 7178, 7099, 6951, 6800, 6634, 6502, 6338, 6192, 6053, 5854, 5530, 5200, 4981, 4923, 4887, 4774, 4639, 4444, 4247, 4039, 3900, 3804, 3730, 3617, 3480, 3331, 3201, 3086, 2992, 2903, 2791, 2654, 2508, 2371, 2226, 2082, 1928, 1761, 1576, 1418, 1300, 1236, 1168, 1095, 997, 907, 836, 782, 740, 706, 665, 628, 590, 556, 528, 504, 479, 457, 438, 423, 410, 398, 383, 368, 353, 334, 316, 301, 287, 274, 263, 253, 245, 236, 226, 215, 203, 190, 180, 172, 164, 156, 150, 142, 135, 129, 122, 116, 109, 104, 98, 93, 88, 83, 78, 74, 70, 67, 63, 60, 57, 54, 52, 49, 47, 44, 42, 40, 38, 37, 35, 33, 32, 30, 29, 27, 26, 25, 24, 23, 22, 21, 20, 19, 18, 17, 16, 15, 15, 14], \"yaxis\": \"y6\"}, {\"hovertemplate\": \"day: %{x} <br>val: %{y:.1f}\", \"mode\": \"lines\", \"name\": \"needworkers\", \"type\": \"scatter\", \"xaxis\": \"x6\", \"y\": [0.0, 1.0, 231.12500000000006, 459.14041666666674, 685.0616666666667, 679.9748244286443, 675.170218578411, 670.6087455371005, 668.225430761083, 664.4833093342808, 659.3620766174841, 656.1098784093899, 651.4320563519335, 646.8375427463302, 643.5021944348891, 639.1829303990266, 635.0439270860304, 631.6750500115928, 627.7078372183776, 624.834006179521, 621.2416421487841, 618.7463297645385, 616.5385732219224, 614.4346951353359, 612.6089670798323, 610.6485925852463, 610.2567568164791, 608.9396229215049, 608.7416124034512, 607.8369205796192, 607.6540221005655, 606.0622719645908, 603.9621342921098, 608.8147129500818, 606.1506451489937, 603.1406869037951, 622.0428363196695, 626.2353002221273, 629.9026163626859, 633.3156427461731, 639.8221524835551, 640.3787216321232, 652.599784650067, 664.7617904836276, 674.227046325372, 679.5341315366178, 690.2324526819006, 693.9054997214403, 698.5455107638534, 743.1001223167015, 760.3922262155328, 777.9522448954682, 789.1486092983637, 815.9089720045376, 825.6414882236048, 850.3899304263106, 876.3023426940235, 922.0750808992385, 953.3743323013609, 982.7371076831436, 999.9554627441544, 1055.4022987861358, 1096.451887165348, 1137.2068496464804, 1181.017282008249, 1227.705320579871, 1275.8908783948223, 1328.2468613566994, 1384.2611223622503, 1439.0680129892814, 1506.5490322892929, 1549.2433229833634, 1584.5964961023424, 1736.7407260352236, 1822.9353831753228, 1897.4478759329438, 1827.352449878986, 2065.1696093042538, 2190.66530429272, 2134.628410169434, 2187.9726227397164, 2283.380145841522, 2546.763181629175, 2899.842691169879, 3125.1585384533932, 3164.4094176487924, 3351.616408304167, 3463.3465838558795, 3492.3712990785125, 3556.620579636672, 3626.625952052442, 3723.794743544101, 3836.087384271949, 3763.6097641185097, 4056.3497520829073, 4232.35763479605, 3773.008049587882, 3771.815867612354, 4464.795428543544, 5069.739156377035, 5174.934500713981, 4961.8971934958845, 5222.382508247368, 6106.810936106827, 6843.032040896154, 7041.353808149434, 6637.662183590424, 6185.951804275099, 6356.294480833571, 7066.897049712291, 7440.951783564613, 7955.255868558035, 8386.206349639833, 8656.603652272934, 8757.249749703305, 8199.237615399548, 6807.29197503905, 6853.213531456094, 7395.565989743306, 8646.663556581501, 9532.619532534594, 9046.145038835637, 8655.177029319353, 8414.529401269265, 8005.908632955014, 7106.286859688256, 8099.154298848522, 8848.976439974304, 9370.310050198672, 9596.540651764159, 9725.873880142279, 10649.952069573861, 11793.854423346193, 12476.495969507534, 12657.259529483337, 12401.885995632623, 12197.853709455667, 11735.186385071258, 10883.743525087466, 9083.486414831052, 8591.814899000789, 8606.135598232024, 9488.602694161733, 10378.611132534203, 10587.696475363371, 12089.305742113662, 11658.587635774331, 11735.003380318036, 10200.485206460267, 10510.713201133614, 10868.674241641944, 11388.416415282927, 12151.48321577672, 12949.847368614988, 12564.210478285404, 12572.886809632308, 13212.2287894287, 14674.684155014489, 15065.478197592576, 14427.781646097186, 15145.078968321683, 15358.490850585644, 15104.949938544712, 13245.273345619902, 12911.841858545784, 12118.407079035751, 11683.682528333513, 11282.50117370205, 11597.671685806543, 12241.315172261877, 12602.059465889972, 12387.555762291518, 10657.932400239557, 10516.850941780824, 10393.839414017051, 11732.623882028802, 12134.8744045337, 12300.546714618962, 12370.151353813699, 11510.428304001805, 11465.814815854352, 12098.646315753214, 13262.759652238363, 13385.886310382539, 13090.836231610854, 13746.959841529799, 13278.76584136136, 12585.99212378858, 12020.981436270291, 12500.601246245586, 12725.741323679693, 13195.06451760988, 12553.080398367412, 12393.417586949157, 12676.41622013687, 13235.035422248904, 12351.499069972471, 12144.247432111228, 12782.432679337926, 13096.38920339572, 12223.02059778471, 12200.520464877796, 11890.333124423085, 11807.143214138514, 12185.072454793573, 12460.320990876862, 11182.930231589748, 11652.403715986315, 12101.508294917969, 11914.829144903026, 11837.116579997371, 11381.351988234352, 11475.579815602214, 11481.748124023008, 11444.27802694213, 11221.122360302623, 11459.306217397558, 11609.76674935698, 10757.857258214144, 10838.973465604699, 10901.553616791873, 11108.568119850168, 10203.699163182475, 10172.06413516337, 10114.886677235556, 10132.116213358993, 10409.957614358158, 9863.957766685739, 9643.07154596619, 9957.163303174493, 9717.446371284326, 9470.807732957235, 9451.810144496005, 8857.453228413562, 8988.340239175794, 8922.978886634108, 9007.37407195215, 8545.98105288156, 8511.575256779872, 8660.264074508395, 8238.676240224215, 7840.0996934528885, 8355.692055589501, 8808.012531623315, 9035.764249620977, 8025.838316051357, 7056.583102135376, 7229.527200623535, 6824.634976838312, 6846.811275859111, 6821.730681444158, 7034.423682995808, 6838.297618663746, 6464.783130838117, 5909.947915312985, 5743.0594129268, 5685.550965056159, 5797.403666372386, 5725.276970735741, 5579.635111499621, 5425.678189585308, 5089.986837383614, 4894.360014721931, 4928.736758913785, 5029.470719264407, 4887.28716638625, 4939.242264553657, 4920.250034473013, 4845.757137967246, 4761.553194633857, 4971.016195246401, 5095.176473481676, 5084.172332545549, 4499.5655509537655, 4212.279898184248, 3818.7457637917373, 3875.4211217423513, 3940.714089682714, 3789.226837369497, 3630.1039841365027, 3445.4724955273327, 3147.3394776457408, 3112.043008484315, 2967.865623906216, 2955.3441720033666, 2980.8940610961704, 2919.8404361676567, 2828.50786677566, 2763.903907989066, 2695.005533385186, 2628.8480350658137, 2569.894224329471, 2491.139046974025, 2371.351732015404, 2346.290516346541, 2330.512276928833, 2181.442978267661, 2218.065139177628, 2241.543866654503, 2174.161096308326, 2143.8142317060356, 2124.181957897151, 2051.830245911933, 2007.5863364772515, 1963.4299207922866, 1878.7394113868547, 1855.319141032461, 1816.300069618107, 1809.1761964145403, 1837.2784813591225, 1803.0064860389098, 1764.7002891989655, 1702.6427190095335, 1692.4672837223802, 1644.5527073474475, 1621.0055329204095, 1608.898900493716, 1566.335410766023, 1543.041856443826, 1521.2163097350833, 1491.0548467705948, 1459.879865010364, 1460.1045891485805, 1432.1288165591095, 1391.6698495352705, 1392.715464614205, 1370.9179166874987, 1349.3243121399462, 1327.7324727053956, 1308.019991759988, 1285.5605185392612, 1269.0954455676256, 1249.2662905762545, 1231.8318492672904, 1216.2431267475195, 1195.2521672874213, 1183.6286602137077, 1167.3485250837857, 1152.1382015206905, 1136.266174507327, 1121.356006484103, 1106.7739291066516, 1092.3508205387388, 1079.2626349165146, 1065.5074894232605, 1051.8780847170633, 1039.3729852254505, 1025.9908684318304, 1013.7304643195152, 999.9969987577089, 988.7891854794011, 977.1064295347645, 965.5416418881897, 954.2935329216541, 942.4615395773419, 932.1241394696021, 921.1755043354013, 910.2068219025514, 897.0628418555274, 888.1446667232625, 878.501763918371, 868.1092100211777, 858.8204834580729, 848.808180918319], \"yaxis\": \"y6\"}, {\"hovertemplate\": \"day: %{x} <br>val: %{y:.1f}\", \"mode\": \"lines\", \"name\": \"needprocessors\", \"type\": \"scatter\", \"xaxis\": \"x6\", \"y\": [0.0, 0.0, 0.0, 0.0, 0.0, 0.0, 0.0, 0.0, 0.0, 0.5037335970663562, 2.273540996566154, 0.0, 0.0, 0.0, 0.12217964630273291, 0.17484423372847369, 1.1276230136761292, 0.0, 0.0, 0.0, 0.0, 0.0, 0.0, 0.0, 0.0, 0.6219056755554105, 0.0, 0.0, 0.0, 0.0, 0.9733035870149845, 14.974493002683756, 23.06629417563952, 22.080695608295393, 17.76307035266114, 14.317329783224146, 0.0, 0.0, 1.127895862762203, 1.8873368025803354, 4.3413781483482605, 14.042633156828026, 17.706272080955202, 0.0, 2.1996853798631224, 17.853863144200226, 16.575430894449866, 29.247822093224315, 20.155748867839314, 0.0, 0.0, 0.0, 7.457216299438388, 0.09376006935370995, 32.12518617971786, 24.086118186809486, 28.5630315371345, 0.0, 0.0, 3.4541718125548457, 37.67924075767308, 0.0, 0.0, 0.0, 0.0, 0.0, 0.0, 0.0, 0.0, 8.102989271440455, 0.0, 37.330931145586575, 79.87607082659017, 0.660035975168114, 0.0, 0.0, 73.69513750833468, 0.0, 19.271250956680383, 144.35464595464438, 148.30438513013578, 110.84316473291469, 71.91377211764458, 59.45514860174151, 66.40421991704385, 24.79420837058278, 15.355948927304091, 0.0, 0.6741378071370822, 0.0, 1.1143906830686692, 0.0, 0.0, 10.614333930859999, 9.449575427520124, 2.1028708675128645, 4.082625856372538, 45.2493037913801, 194.30294385194767, 102.51739203729372, 0.0, 0.0, 28.932512564430887, 0.0, 0.0, 0.0, 0.0, 0.0, 0.0, 0.0, 0.0, 0.0, 0.0, 0.0, 0.0, 0.0, 0.0, 0.0, 0.0, 0.0, 0.0, 0.0, 0.0, 0.0, 0.0, 84.9115934383505, 254.55017460200656, 47.03768707870984, 0.0, 0.0, 0.0, 0.0, 0.0, 0.0, 0.0, 0.0, 0.0, 0.0, 0.0, 0.0, 328.47034486944176, 850.5473630684767, 602.0218978381392, 830.7514181920621, 746.8663360198059, 120.52881547439665, 148.392600197084, 466.71810200656, 481.7075513812347, 1330.7224639000503, 453.75288013311933, 0.0, 0.0, 413.98122258114057, 253.94133193241106, 685.8646288384487, 527.2432796289334, 47.07809088685656, 106.98482572383932, 150.1624982899774, 9.839552559005682, 29.42486229498273, 23.67445949936927, 65.32380978895495, 309.3675863223094, 347.36868808539543, 870.4777663021512, 1526.75253933795, 1866.9388986709255, 1252.2307589915044, 957.3862727833125, 1167.5887472406207, 1640.5878208611862, 2422.261214745775, 1556.1711370505184, 2872.7016622712563, 1493.151210352864, 805.4753332490536, 1836.9220774749492, 5392.878562307732, 3249.1482039954653, 7148.08704847141, 1516.6361095158072, 1682.4398890202328, 3825.2177247715176, 1644.8777147788287, 1757.6258960951054, 1964.3139489217774, 2917.2301945132467, 5311.194376257277, 2225.9047909685823, 1582.2582435075958, 5717.462082955185, 4951.898600937108, 2358.32063062581, 3157.8648463575964, 2552.418211167505, 5708.4598562148585, 3715.309593061519, 3588.194317636283, 4332.48430911493, 1750.2880210905323, 1680.4898814005528, 6589.513426221637, 4349.611280182073, 3720.6894159234835, 8108.9137065103305, 2664.8016138743596, 3007.8879402935354, 3876.764955445423, 4249.224439581315, 8069.992754134902, 6450.9528566917115, 3108.5459860815936, 7253.719048602841, 7976.853894959098, 6195.978140080812, 3526.7609743089606, 3931.854234591251, 2167.3523798661195, 1324.0508300388863, 1898.3022224362107, 2945.7351007921366, 4044.167914620063, 7683.05037326159, 5689.262584946166, 4714.167564121802, 8638.768254922756, 6570.463688283826, 5421.610249026486, 5931.799700786425, 4182.7964371588605, 2793.153114495075, 690.2842766015369, 2255.3438254757216, 3264.1303020257374, 3605.904116406092, 4894.238690742372, 3914.276948955525, 1344.823247656921, 6905.439519202704, 4221.826932876816, 2981.2779944034255, 1750.096044620168, 1402.9034266174192, 1406.4109570355497, 1744.7809295905272, 1368.5250933771822, 1525.8315142467327, 909.6387708548535, 3023.7742205612335, 1439.7514942901894, 1088.3661092638372, 1156.3105540267993, 1641.142068371687, 3007.6481459391953, 2775.5712842537405, 1305.1415649158944, 674.1548878416835, 372.1261505757967, 1385.5482274952, 798.4239487825353, 954.7632707219445, 2035.4188113269101, 1379.7869495199986, 2038.7977297276127, 1600.611946868169, 1418.0343867041543, 825.8982414830675, 1303.250604802788, 0.0, 83.63289253770013, 58.805466190314505, 473.70354439118273, 390.7713544943131, 685.8383992156332, 421.7248827785922, 0.0, 0.0, 1.0823100589755636, 123.40092564032682, 736.9558275188856, 522.2033069799968, 636.3615484787379, 508.651138211286, 70.62018074220987, 0.0, 27.139756653747277, 4.732394990211848, 0.0, 0.0, 0.0, 54.83973715156165, 119.93407088760998, 153.91672591747223, 256.18381592600736, 188.88542455810517, 429.7642542336368, 101.44013552855239, 111.73444424506835, 120.7812146864182, 0.0, 57.79792192919364, 141.58807772311928, 62.76617216626033, 138.22722834001556, 179.901478457055, 78.10581303773117, 169.27863921531144, 0.0, 0.0, 5.1382218221699105, 143.68628707138885, 37.1926814722724, 101.53381983197312, 64.10288838077884, 30.092391728995096, 48.86667997059291, 31.235440306312384, 32.42549347767956, 54.355317968651754, 57.37494356954948, 6.5853663476437205, 14.877651676338715, 44.49722778792363, 0.0, 0.0, 0.0, 0.8674176236968899, 0.0, 7.188700162666295, 1.3875932950670808, 2.8418873454672084, 6.878198679038116, 1.182948068952177, 11.236189515468714, 0.4648306915993832, 0.0, 0.0, 0.0, 0.0, 0.0, 0.0, 0.0, 0.0, 0.0, 0.0, 0.0, 0.0, 4.405948013509605, 0.0, 0.0, 0.0, 0.0, 2.72095152819047, 0.0, 0.052634082214878725, 0.799271267303051, 9.53866554162374, 4.23413407504081, 0.0, 0.0, 0.0, 0.0], \"yaxis\": \"y6\"}, {\"hovertemplate\": \"day: %{x} <br>val: %{y:.1f}\", \"mode\": \"lines\", \"name\": \"needpollenforagers\", \"type\": \"scatter\", \"xaxis\": \"x6\", \"y\": [0.0, 0.0, 229.12500000000006, 456.14041666666674, 681.0616666666667, 674.9748244286443, 669.170218578411, 663.6087455371005, 658.225430761083, 653.4833093342808, 648.3620766174841, 644.1098784093899, 638.4320563519335, 632.8375427463302, 627.5021944348891, 622.1829303990266, 617.0439270860304, 612.6750500115928, 607.7078372183776, 602.834006179521, 598.2416421487841, 593.7463297645385, 589.5385732219224, 585.4346951353359, 581.6089670798323, 577.6485925852463, 574.2567568164791, 570.9396229215049, 567.7416124034512, 564.8369205796192, 561.6540221005655, 556.0622719645908, 549.9621342921098, 550.8147129500818, 544.1506451489937, 537.1406869037951, 551.0428363196695, 550.2353002221273, 548.9026163626859, 547.3156427461731, 547.8221524835551, 541.3787216321232, 546.599784650067, 551.7617904836276, 553.227046325372, 550.5341315366178, 552.2324526819006, 545.9054997214403, 538.5455107638534, 571.1001223167015, 577.3922262155328, 583.9522448954682, 582.1486092983637, 595.9089720045376, 589.6414882236048, 598.3899304263106, 605.3023426940235, 633.0750808992385, 645.3743323013609, 656.7371076831436, 651.9554627441544, 684.4022987861357, 699.4518871653479, 717.2068496464804, 735.0172820082488, 753.7053205798711, 772.8908783948224, 794.2468613566995, 817.2611223622501, 837.0680129892814, 868.5490322892928, 871.2433229833634, 859.5964961023423, 962.7407260352236, 1002.9353831753227, 1044.4478759329438, 916.3524498789859, 1093.1696093042535, 1144.6653042927198, 1041.6284101694341, 1006.9726227397163, 973.3801458415221, 1106.763181629175, 1359.8426911698791, 1547.1585384533932, 1567.4094176487924, 1725.6164083041672, 1793.3465838558793, 1795.3712990785125, 1817.6205796366721, 1830.625952052442, 1866.7947435441013, 1910.0873842719488, 1747.60976411851, 1943.3497520829073, 2006.35763479605, 1420.0080495878817, 1151.815867612354, 1450.7954285435444, 1740.7391563770354, 1661.9345007139807, 1239.8971934958847, 1125.3825082473677, 1569.8109361068273, 2036.0320408961543, 2241.3538081494344, 1930.6621835904239, 1421.9518042750992, 1331.2944808335706, 1713.8970497122907, 1877.9517835646127, 2402.255868558035, 2970.2063496398323, 3461.6036522729332, 3795.249749703305, 3437.237615399548, 2090.2919750390506, 1941.213531456094, 2075.565989743306, 3047.6635565815022, 3909.619532534595, 3670.1450388356375, 3487.177029319353, 3240.5294012692657, 2675.908632955013, 1375.286859688256, 1790.1542988485219, 1880.9764399743026, 2048.3100501986723, 1998.5406517641593, 1924.8738801422785, 2638.95206957386, 3764.8544233461926, 4756.495969507533, 5451.259529483336, 5689.885995632623, 5878.853709455667, 5707.186385071257, 5064.743525087465, 3232.4864148310526, 2409.814899000788, 1739.1355982320244, 1983.6026941617329, 2408.6111325342035, 2502.6964753633715, 4062.3057421136614, 3708.5876357743305, 3919.0033803180363, 2154.485206460267, 2102.7132011336134, 1809.674241641944, 1916.4164152829264, 2351.4832157767187, 3050.847368614989, 2599.210478285404, 2538.886809632307, 3036.2287894287006, 4548.684155014489, 5235.478197592575, 5064.781646097186, 6137.078968321682, 6658.490850585643, 6832.949938544713, 5321.273345619901, 5180.841858545785, 4307.40707903575, 3807.6825283335133, 3212.5011737020495, 3377.6716858065424, 3914.315172261877, 4372.059465889972, 4342.555762291519, 2631.9324002395565, 2217.8509417808245, 1527.839414017051, 2455.623882028802, 2615.8744045337, 2847.546714618962, 2894.151353813699, 1897.4283040018047, 1546.814815854352, 1817.646315753215, 2843.7596522383624, 3059.886310382538, 2973.836231610854, 3726.959841529799, 3278.76584136136, 2613.992123788579, 1935.9814362702916, 2280.601246245586, 2375.741323679692, 2905.06451760988, 2342.080398367413, 2249.417586949157, 2478.4162201368704, 3082.0354222489036, 2296.4990699724713, 2187.2474321112277, 2792.4326793379264, 3162.389203395719, 2394.0205977847113, 2458.5204648777963, 2093.333124423085, 1970.1432141385133, 2312.072454793573, 2673.320990876862, 1471.9302315897476, 1973.4037159863155, 2358.508294917969, 2266.829144903026, 2308.116579997372, 1959.3519882343514, 2100.579815602214, 2113.7481240230086, 2138.278026942129, 1995.1223603026222, 2339.3062173975572, 2612.7667493569807, 1902.8572582141446, 2082.973465604699, 2172.5536167918735, 2506.5681198501675, 1724.6991631824746, 1811.0641351633699, 1752.8866772355552, 1829.116213358993, 2212.9576143581576, 1831.9577666857385, 1759.071545966189, 2161.163303174493, 2043.446371284326, 1949.807732957235, 2065.8101444960057, 1583.4532284135614, 1810.3402391757934, 1823.9788866341069, 2056.37407195215, 1745.9810528815601, 1877.575256779871, 2158.264074508395, 1900.6762402242155, 1648.099693452888, 2302.692055589502, 2954.0125316233157, 3505.7642496209764, 2825.8383160513567, 2075.583102135376, 2306.5272006235346, 1937.6349768383118, 2072.8112758591114, 2182.7306814441577, 2590.423682995808, 2591.297618663746, 2425.783130838118, 2009.9479153129855, 1939.0594129268002, 1955.550965056159, 2180.4036663723864, 2245.276970735741, 2248.635111499621, 2224.6781895853082, 2003.9868373836143, 1902.3600147219313, 2025.7367589137848, 2238.470719264407, 2233.2871663862497, 2431.2422645536576, 2549.2500344730133, 2619.7571379672468, 2679.553194633857, 3043.0161952464014, 3334.176473481676, 3508.1723325455487, 3081.5655509537655, 2912.2798981842475, 2582.7457637917373, 2707.4211217423513, 2845.714089682714, 2792.226837369497, 2723.1039841365027, 2609.4724955273327, 2365.3394776457408, 2372.043008484315, 2261.865623906216, 2290.3441720033666, 2352.8940610961704, 2329.8404361676567, 2272.50786677566, 2235.903907989066, 2191.005533385186, 2149.8480350658137, 2112.894224329471, 2053.139046974025, 1948.3517320154042, 1936.290516346541, 1932.5122769288332, 1798.4429782676611, 1850.0651391776282, 1888.5438666545028, 1840.1610963083256, 1827.8142317060353, 1823.181957897151, 1764.830245911933, 1733.5863364772515, 1700.4299207922866, 1625.7394113868547, 1610.319141032461, 1580.300069618107, 1583.1761964145403, 1622.2784813591225, 1600.0064860389098, 1574.7002891989655, 1522.6427190095335, 1520.4672837223802, 1480.5527073474475, 1465.0055329204095, 1458.898900493716, 1424.335410766023, 1408.041856443826, 1392.2163097350833, 1369.0548467705948, 1343.879865010364, 1351.1045891485805, 1328.1288165591095, 1293.6698495352705, 1299.715464614205, 1282.9179166874987, 1266.3243121399462, 1249.7324727053956, 1234.019991759988, 1215.5605185392612, 1202.0954455676256, 1186.2662905762545, 1171.8318492672904, 1159.2431267475195, 1141.2521672874213, 1131.6286602137077, 1118.3485250837857, 1105.1382015206905, 1092.266174507327, 1079.356006484103, 1066.7739291066516, 1054.3508205387388, 1042.2626349165146, 1030.5074894232605, 1018.8780847170634, 1007.3729852254504, 995.9908684318304, 984.7304643195152, 972.9969987577089, 962.7891854794011, 952.1064295347645, 941.5416418881897, 931.2935329216541, 920.4615395773419, 911.1241394696021, 901.1755043354013, 891.2068219025514, 879.0628418555274, 871.1446667232625, 862.501763918371, 853.1092100211777, 843.8204834580729, 834.808180918319], \"yaxis\": \"y6\"}, {\"hovertemplate\": \"day: %{x} <br>val: %{y:.1f}\", \"mode\": \"lines\", \"name\": \"larvae 1\", \"type\": \"scatter\", \"xaxis\": \"x7\", \"y\": [0.0, 0.0, 0.0, 0.0, 2.883857524974103, 3.0821176215875066, 3.2939673114144115, 3.5203323349148117, 3.7622006783801467, 4.020873324614043, 4.297949309093652, 4.591726390347511, 4.906880542311291, 5.243563055951304, 5.603297949483141, 5.988279627982073, 6.399306735146957, 6.836182035100259, 7.30436987393489, 7.8043961792225955, 8.338394075819204, 8.908635079960517, 9.517537436533152, 10.16767486653457, 10.861785731045249, 11.604111707870128, 12.393762336485839, 13.238016365290276, 14.139041667492489, 15.10055194167862, 16.128178745646558, 17.24910142711464, 18.454894047367272, 19.677197827644992, 21.065941525721353, 22.557086698933656, 23.887693481790976, 25.496770382172844, 27.22360628042657, 29.071231749582527, 31.00784472546485, 33.19886799969854, 35.33300150644306, 37.61299821425667, 40.12271902019035, 42.89382720288677, 45.75053567071515, 49.00743145755158, 52.530780858959666, 55.19475544416784, 58.79884405742201, 62.624340916386664, 66.93742062400635, 70.9877453182325, 76.02658421853103, 80.88038488927019, 86.1362068948281, 90.90917856911369, 96.63233116004176, 102.75494152924612, 109.9547229705165, 115.80134019717232, 122.90316450419712, 130.3835901091841, 138.255741801912, 146.53232316261813, 155.2254872710203, 164.34669735709647, 173.90657802194778, 184.22396857289232, 194.37970532319747, 206.99238653708312, 221.27791704829198, 228.60511185781343, 240.92629452103256, 253.7494227865788, 278.75452813980587, 282.6603091753851, 296.37202037000543, 322.7407413719259, 344.6156397131061, 366.96973704312575, 378.63291422875983, 385.355322561641, 397.59601804707165, 418.97315442361264, 428.1573482426469, 441.4141294811152, 459.88140635211437, 477.37380185015655, 496.29667011618534, 514.0213316838839, 532.5059248315746, 568.6946279314436, 576.9815867652651, 597.0967002862197, 668.7884056957182, 714.4356097931903, 717.9214218176216, 728.4078527565628, 766.6926848810383, 821.2766507470697, 855.1834474793899, 850.0378052244955, 839.2603271635808, 845.1061086863148, 874.4807615219481, 917.802365838013, 942.9460919589679, 938.9476762740096, 941.206858456865, 934.8261434460393, 926.1629427429403, 917.506488984594, 909.3055469525497, 928.8486675152723, 1005.8261741634743, 1041.4394839327956, 1055.934841694139, 1025.4395038627147, 999.6709314028935, 1022.2512176013695, 1042.6823494982173, 1066.2344330832996, 1109.542577865013, 1196.757982997889, 1184.9798306671114, 1193.5526296013486, 1200.3627124017228, 1216.9807144410695, 1231.832283382882, 1213.707729659119, 1172.6923414741518, 1136.8133981587926, 1110.544082106148, 1094.6871627946884, 1074.0932002019613, 1065.680463293994, 1086.2058820554105, 1187.6687917695901, 1238.4543176938344, 1276.0305166104893, 1265.4077893168178, 1261.342383481481, 1277.2868436296285, 1238.1359163111772, 1263.9023046875793, 1260.3164534996718, 1330.7217415630917, 1327.4761381460537, 1335.7134928349647, 1331.0564363541735, 1325.0686032652457, 1310.2813913377602, 1330.2319851548818, 1333.6003646998624, 1316.1826667126331, 1266.883069584879, 1246.7243289496719, 1253.451635393045, 1214.2191956156455, 1184.3598053091043, 1163.94045675819, 1209.5087910507216, 1202.9764007599017, 1226.089363437301, 1236.6110437826226, 1257.597535694637, 1251.2594449780545, 1233.858133332344, 1221.1165394734728, 1225.468505069589, 1287.2286120765496, 1296.310690618057, 1310.5667536686617, 1271.651508664523, 1269.5001347787802, 1268.3290151502931, 1272.285527170518, 1299.723590753491, 1302.7213565100358, 1286.9890948163231, 1253.702028298483, 1248.9971328312797, 1253.3188884271287, 1230.8737985203363, 1236.4101721064897, 1246.7933749055296, 1259.4246544570335, 1241.6133200012819, 1232.509301829468, 1214.0341522341255, 1227.408027850962, 1226.013898234346, 1213.1901277809482, 1188.3281829012722, 1202.929560811109, 1200.535397011917, 1177.8771163672227, 1158.9349047018989, 1171.7811782192955, 1163.6615186149595, 1164.7935975402238, 1156.6784583137558, 1138.5400798219248, 1121.4374377839392, 1144.682535636737, 1123.5373912787945, 1103.296501426869, 1093.8666225932734, 1084.5681747263209, 1084.3000587944318, 1069.7027650472978, 1056.944073565333, 1043.8162668594744, 1036.503032634321, 1017.1886789016776, 998.8297819995565, 1003.3168694768907, 986.2959576151931, 970.517638474806, 948.2070177478744, 953.9351501893588, 938.815127987262, 926.1140417570795, 908.6594003739596, 886.0951421048023, 881.4524781480143, 869.5012630550149, 845.663758143631, 832.2221618462637, 819.1375369649827, 801.8976838358032, 796.9068764421313, 775.7445917602785, 759.5111847223533, 738.7972449308975, 730.6867961883951, 712.5696820628458, 690.891426876408, 679.9677224497691, 669.5375457984197, 640.1849268881629, 610.8572282377532, 584.3015405684276, 583.6815110670885, 583.7395369091846, 560.7248217095582, 550.3070093869305, 531.4364047440071, 515.6606868495744, 493.7805363792847, 479.852935153085, 468.68221192614885, 462.4072918086762, 448.6621724592936, 433.5294914744457, 415.29834656144067, 401.30993653163034, 388.73332863621613, 376.4142235731085, 367.57317397034495, 356.5108303052773, 341.66010594768653, 325.8223483904649, 314.6234278805757, 299.9220827692558, 286.551073206265, 273.9457667838123, 261.7271609196492, 244.11841777395065, 227.94279010448204, 213.94007044207314, 211.2446342203488, 203.82535698747233, 200.0891645600484, 188.4937723735628, 177.70384858599448, 171.16667613460098, 164.83342250776397, 159.32619706708294, 156.34681651286394, 149.21115518855478, 144.63398568457342, 138.00060847491244, 131.05832250583603, 125.73585214082206, 121.04798135825612, 116.17565824565513, 111.61437622706318, 107.22974546666335, 102.99964581857436, 99.28391671098404, 96.35016871864633, 92.27317963386453, 88.27239284118609, 86.13388273170335, 81.71982788039325, 77.63554127080863, 74.74221477901847, 71.51451730826881, 68.30928765791272, 65.8177390729707, 63.14701678260027, 60.619494170361996, 58.62770316966292, 56.13379008536423, 53.89450831973905, 51.44363717729787, 48.7654537372198, 46.73455829005421, 44.79884329575706, 43.15638024352386, 41.175854773122275, 39.5869913726116, 37.888252082732876, 36.19417545757307, 34.78005013853657, 33.29404895121968, 31.86860303876134, 30.551451798108022, 29.30350295237098, 27.908547657694083, 26.754895393648102, 25.718267292743548, 24.494709433640253, 23.452327149702164, 22.453388982914085, 21.498016092647276, 20.578970757078814, 19.713242286936808, 18.8623615384019, 18.06061842850032, 17.287269912566117, 16.540207918306667, 15.847605224841638, 15.152053514168426, 14.501630246143899, 13.8790860269782, 13.282944057943077, 12.712111795642283, 12.16553961741474, 11.642219329689933, 11.141182711165431, 10.661500091626763, 10.202278967025887, 9.762662651241255, 9.341828964782247, 8.938988960537188, 8.555424037519611, 8.184292985627975, 7.83101433166899, 7.492881702124998, 7.169254486413306, 6.8610197491606755, 6.563084611063775, 6.279413669564771, 6.008165629272378, 5.752842865740726, 5.500977068688515, 5.261488647938122, 5.033799400192033, 4.815920501814801, 4.607432886953224], \"yaxis\": \"y7\"}, {\"hovertemplate\": \"day: %{x} <br>val: %{y:.1f}\", \"mode\": \"lines\", \"name\": \"larvae 2\", \"type\": \"scatter\", \"xaxis\": \"x7\", \"y\": [0.0, 0.0, 0.0, 0.0, 0.0, 1.9985132648070534, 2.135907511760142, 2.282719346810187, 2.439590308095964, 2.60743458145344, 2.7875949363535297, 2.978478871201901, 3.182066388510825, 3.4004682158217245, 3.6338523946665577, 3.883872351885082, 4.151252118818358, 4.434719567456841, 4.737474150324479, 5.061928322636878, 5.408446552201259, 5.778507094542708, 6.173684110412638, 6.595653443517474, 7.046198682508456, 7.52845463645042, 8.041649413553998, 8.588877299184686, 9.17394534114616, 9.798355875572295, 10.466255503735605, 11.202962567142938, 12.015433609112925, 12.829648376093735, 13.73329200571984, 14.766253409492169, 15.632061082361023, 16.554171582881146, 17.680515337752457, 18.89644322604677, 20.167957772512402, 21.6204514938416, 23.071341754308627, 24.48577004396504, 26.075273136646096, 27.919012915032738, 29.866696496463295, 32.08099211572477, 34.64890272504751, 36.40383113525905, 38.24996552280831, 40.74759893179345, 43.63625524822479, 46.38842810388805, 49.64113481389847, 53.156342718456585, 56.651849302293705, 59.69239137811587, 63.00006074839578, 67.0367126480163, 72.04294004662616, 76.19862301856793, 80.25032875664041, 85.1718930014086, 90.35582794566457, 95.81122906872501, 101.54689995169436, 107.57126267881706, 113.89226126846785, 120.80797741030334, 127.66721022101437, 136.29025225566784, 147.78691806778144, 153.3708967930265, 158.4233425174647, 166.96192210307555, 186.91043112458303, 195.0013367202166, 197.1526442802133, 217.77405114578576, 243.19379662651124, 265.57735470650704, 277.1348993201398, 275.193432133253, 275.127325933278, 287.7330200021626, 294.64764233234655, 296.71304233215426, 306.4658725789031, 318.6978146020152, 331.45782873887833, 343.9335923905164, 356.2167828569315, 385.98639904158614, 401.4391375745605, 408.6091867111526, 474.6889515757251, 558.7380100833343, 577.7505363815185, 570.1898854053497, 598.4619013407527, 668.0058208398264, 731.1098535894101, 731.7185879960136, 693.323024564571, 671.0428754315702, 688.5407196333896, 740.9964640943402, 786.5876999853001, 784.3647856398358, 765.7257808978367, 743.7951775997076, 713.9719913987584, 684.0654577378772, 656.2201602345036, 657.9813515226436, 738.3527262599705, 825.2980902903329, 857.733437243928, 823.3491797345337, 761.0699959764443, 755.5805813762765, 784.5598630515266, 815.9613650445048, 871.9238198695099, 995.0598345001363, 1049.294131682628, 1039.8575514681124, 1046.6813075246332, 1063.909013528338, 1088.284228613815, 1072.4400517043848, 1001.9538363260885, 921.8459783292567, 859.9216228785444, 818.6344633919853, 781.3580461446096, 754.2924898158038, 765.3629888782824, 879.7708775802583, 1014.3603355912312, 1097.103499583528, 1113.9121403093727, 1096.2884671706895, 1108.0065787282672, 1072.7233639430983, 1066.3748662345774, 1081.6639318763957, 1157.369363057272, 1215.4117965605337, 1219.9612757865832, 1219.5111395854242, 1206.4159572589401, 1184.5651716201335, 1196.6976146822508, 1220.6118350950148, 1204.1291386732323, 1130.68037433763, 1066.5670847478136, 1058.9718858577373, 1021.2571974109004, 957.662737397657, 913.5540650087711, 948.4965006457073, 980.2986018765009, 1002.7781386322632, 1036.217731233693, 1071.563467263113, 1084.8790928643778, 1061.7540790659593, 1034.9870027711345, 1032.0121855975983, 1109.5266957276085, 1179.7560886557685, 1209.0101864698254, 1177.9466548628054, 1144.094212136743, 1144.6172068596024, 1152.3703088947739, 1193.5002355796612, 1227.5986946172293, 1215.638263566346, 1164.7031570253587, 1133.8109845645674, 1139.8956210512977, 1121.8768439201904, 1113.859452039419, 1137.1653774041476, 1168.2842314512138, 1164.4621916303608, 1143.3795145406343, 1119.107499578465, 1125.4721510742877, 1143.5133899006516, 1134.0041026421263, 1099.3574483142102, 1102.4428453507771, 1121.478765167209, 1099.9275643779656, 1064.8174882704086, 1072.2376543688881, 1083.6749299000146, 1087.4375247314615, 1088.7376076829264, 1069.2287742660083, 1042.137321755462, 1065.9453123451722, 1073.28207849573, 1040.1802914159653, 1021.8815303412129, 1014.0782355950839, 1017.9215319971353, 1012.7623006639027, 996.8093981718072, 982.4447582841822, 975.3002943890682, 958.9243282192429, 932.9691528747777, 936.4779015953488, 934.9591128283256, 915.1746882414492, 888.7230623050065, 891.3077463580898, 894.5304127227583, 881.4700132878813, 864.9522027018601, 837.8372171378297, 828.6530037918479, 827.2824644496344, 804.3126260666677, 783.5913476095584, 773.108052046329, 757.9140974226831, 754.3224612588515, 742.0357007199161, 720.9471938255101, 698.9111079387374, 688.5924185202423, 677.4933540181831, 652.6521867796199, 638.0447984291438, 633.969748306591, 606.5268694277637, 562.1712436268507, 521.9272504691702, 515.3338533774687, 532.4156891717018, 522.1769245701526, 506.51290154993876, 491.59269141454564, 472.76110318737216, 449.05864135664814, 429.6228346904649, 420.2406610885422, 419.01018886083193, 412.9216011063158, 398.2093275993601, 378.23390749187087, 360.55088364982925, 348.0265199540097, 336.7744753298105, 329.6677327384531, 322.65537747951976, 308.7981422112981, 290.21331111268285, 276.16598069491, 261.61299050729787, 245.50548525566745, 231.19990381898373, 217.75997755558433, 198.31269698014313, 176.5519884827589, 158.4890142410044, 153.79984531030848, 151.9954522224365, 150.4703693281083, 143.03247734382322, 130.626184254879, 123.14876707009417, 118.62450480574672, 114.89308745836237, 114.16241276129132, 110.71978291942102, 106.80537917222223, 102.35093552267105, 95.92767819598178, 90.82341749654437, 87.32585244302432, 83.90497058298577, 80.509731164239, 77.34876272535477, 74.31021360839769, 71.75551177075658, 70.2207194999744, 67.9023990626357, 64.70949693594048, 63.37577198003376, 60.84105057392496, 56.90536933009838, 54.328027454645806, 52.1087851131339, 49.55956049463028, 47.652644342783454, 45.944715794663054, 44.152300915883956, 42.913784615892475, 41.427880991823386, 39.754529101485296, 37.94210648730926, 35.65044056386742, 33.794459439893316, 32.40174129311352, 31.29834403617547, 29.96951018725319, 28.737332599902548, 27.59069747280617, 26.301991180328656, 25.240634648096947, 24.234537175937863, 23.17886808490873, 22.218106607514162, 21.347151817827516, 20.315374030380326, 19.379912837195654, 18.682495858715107, 17.822759233871277, 16.974833637512695, 16.252462714743597, 15.562125579826697, 14.898125152204562, 14.274763907411094, 13.665473157634361, 13.080754099974705, 12.524323606644943, 11.981044582283436, 11.480114202059154, 10.982743812509705, 10.500373085318719, 10.049629760577721, 9.618206616695891, 9.205080232154552, 8.809493474380101, 8.430718954868414, 8.068057995475122, 7.720839618837643, 7.388419563497346, 7.070179324148939, 6.76552521731019, 6.473887472594097, 6.196837460329982, 5.92890885800109, 5.671715039040186, 5.426892931846609, 5.192567019572623, 4.969853532387233, 4.754686686168347, 4.5482438371551055, 4.351921379783798, 4.16862243483188, 3.9883337773453467, 3.8121771086011407, 3.6462116330211183, 3.488422984333079, 3.3374329077576568], \"yaxis\": \"y7\"}, {\"hovertemplate\": \"day: %{x} <br>val: %{y:.1f}\", \"mode\": \"lines\", \"name\": \"larvae 3\", \"type\": \"scatter\", \"xaxis\": \"x7\", \"y\": [0.0, 0.0, 0.0, 0.0, 0.0, 0.0, 0.8309818155067729, 0.888110343389867, 0.9491547044036759, 1.0146693805542355, 1.085587651970018, 1.1590819745357979, 1.2384515146457504, 1.3231032043428013, 1.4139939187051747, 1.511942411569283, 1.616637431245225, 1.7260906310046735, 1.8439563961485548, 1.9698417517049185, 2.1047497965524142, 2.2488320764052836, 2.4027032499108585, 2.5670178531095753, 2.742472701814566, 2.9313609912770398, 3.130331437836085, 3.3437178261557525, 3.571255181000993, 3.814526472848574, 4.076129695707955, 4.384658191810715, 4.735799753783917, 5.0468787874371, 5.456832952607391, 5.921486483185361, 6.139808167666844, 6.499810998045715, 6.897350414063477, 7.389834494262939, 7.884277971858077, 8.55184165780883, 9.071026462815068, 9.593063901441528, 10.193096162240973, 10.985294473007183, 11.786502333455296, 12.892963405600824, 14.2084230094972, 14.407013753074757, 15.136712986040713, 15.904335664383698, 17.241725717551194, 18.144957667421078, 19.852567135062934, 21.233991523975433, 22.86699861956437, 23.555838939893725, 24.820096335020583, 26.28429592542924, 28.925489598799373, 29.95545447138716, 31.68338745112055, 33.36808669701109, 35.4144731099857, 37.569953259807335, 39.83830904677587, 42.22320099991452, 44.72813102185214, 47.72449571446072, 50.23195700720414, 55.096806273627095, 62.195684059746085, 61.482469090172856, 63.77161888654043, 65.87242581876183, 83.49477124722378, 80.08245998480996, 82.7741710155604, 97.90849112456279, 116.03403702451884, 137.6281053110188, 142.3627222579232, 133.3468208050674, 125.5756751518604, 130.7180092608947, 125.34763431262202, 122.51448968178971, 124.10868048768846, 127.42850981830792, 133.33774285715484, 137.82016518962564, 143.00758771597674, 170.04890715848694, 170.11649586626203, 178.7030125936907, 250.473561385849, 328.10485187371387, 357.28503322234303, 353.2934620086283, 378.8524061136687, 455.11785904156085, 532.45101504517, 533.8662277906718, 477.7389792468701, 431.12555995205446, 436.95737966716, 491.7705690954437, 543.1001095047282, 538.1771985271531, 511.92513586498603, 462.36814578064207, 411.0065486120029, 359.81557263619186, 313.82264260651255, 311.6892906871043, 403.23031477341215, 489.03615109967905, 551.5471536128864, 500.4766085779332, 420.64817106202213, 408.9000630824797, 422.97355012410947, 462.06581282010336, 536.0887185643384, 706.1290363934198, 767.2996716230284, 810.6443432260519, 802.1763755857746, 826.4152778316851, 856.3213228339545, 826.1935820258435, 720.7090625820287, 596.9450745250028, 496.3536816911506, 430.9508032520233, 373.26536165761655, 338.8767856030999, 350.372014936252, 491.2869060346358, 639.7826711915205, 799.9981946858178, 837.8637619400803, 836.4890293572518, 848.8633586795721, 775.2732345178209, 795.0281740435889, 779.0632567272369, 920.9414912774813, 974.280216975421, 1036.4411015209241, 1026.1584300841116, 1010.1155711284714, 970.3597450749465, 997.0950960104584, 1017.2091711276677, 1002.9006349546228, 887.2626244856355, 795.5920615840182, 765.9870526613073, 689.597055993766, 613.6048520876875, 543.2568008593769, 595.158270362454, 609.8390900987696, 674.0432415786908, 711.9105336078962, 778.5060982068173, 797.0389126934574, 777.3448577656421, 740.8091729454701, 734.7722314493811, 852.8758173210502, 940.7861255749089, 1037.1616989055874, 983.7639179582585, 960.5021881605867, 937.1824667481164, 952.9804748611073, 1025.1638041532938, 1076.5943286143645, 1080.404312339731, 1003.671865546492, 960.2388292076197, 952.9161712009319, 919.4109130116576, 926.1529900426274, 951.4003322034032, 1009.3406645834629, 1008.8802240516139, 997.2129457283968, 950.662320922041, 971.7205020367937, 987.2506129345508, 988.2707940668598, 938.8762218836849, 956.005004329147, 968.4151579026354, 950.2460299848163, 906.076923490653, 920.7531345789212, 926.3768392076635, 956.5523628372213, 960.3106614790507, 939.7605485043672, 904.1758169187649, 952.1655807016632, 947.3484219958129, 929.350799610894, 901.4908650484085, 887.3129121994895, 903.0672205883195, 897.5826179637278, 888.7891509512307, 870.2756227078726, 866.9383047075396, 843.2738452007031, 814.3764195245036, 829.0784969855731, 821.8641567009155, 813.3412299737649, 774.5977204671633, 793.9135225322607, 792.317494813857, 797.2418434840366, 777.150993226365, 742.6882957747249, 740.6504232065035, 737.9317100146001, 715.0918794110288, 697.6809501546207, 683.2959529964959, 668.6096680819501, 678.054176341393, 660.9473701023812, 647.6232761601034, 616.4646631574485, 613.6118266170067, 598.1032075807284, 573.6783964956396, 562.2283399014077, 560.553346173647, 524.5376279301071, 469.29111231439794, 409.1899954763457, 407.6948470459728, 432.6357082268484, 428.82848175609297, 429.44616971282363, 406.75961848579726, 391.2469002157174, 359.12190117702227, 340.4458221498248, 330.44644548668776, 338.0559610020438, 336.227500893818, 327.0036093452407, 303.73081328810366, 285.3654312358404, 271.36410059887214, 261.34015688357044, 259.05860507216465, 254.8589159079286, 242.18214440254025, 221.78320216521155, 207.41172467425017, 188.78398547816803, 172.2871940816259, 156.11304977375062, 141.68163789129832, 117.78672917854423, 94.04595142511238, 74.19597207654262, 73.83341162596784, 71.83660497380308, 76.49144282958228, 68.9201147991886, 59.4729040795617, 54.3143674131787, 51.21360072251819, 50.24726442653504, 52.99976098247547, 50.81647959202201, 50.91786295889603, 47.4357540398594, 42.97801824950341, 39.88672859388923, 38.0309812619485, 36.33619820938067, 34.88768676840549, 33.475946218090584, 32.16161554120252, 31.423696956900987, 31.81583740899527, 30.792417115829746, 29.321028933828877, 30.02844030221215, 27.987918784074814, 25.691420924030854, 24.40749179100776, 23.028647695044107, 21.66683285004108, 21.047734554052987, 20.280118257229816, 19.65440569389653, 19.632160045258274, 18.9740858035882, 18.44396633307488, 17.375910925838884, 15.776327877423192, 14.823453186456076, 14.072276535377878, 13.826064700957073, 13.100976913599986, 12.746223509018016, 12.169203577751333, 11.53617538239498, 11.15844772062381, 10.68020733330732, 10.226019989185401, 9.825024742417138, 9.484330792632822, 8.887478423741412, 8.502425340698796, 8.256120448385854, 7.7681817780537425, 7.410703289443679, 7.05813582647778, 6.760470674450235, 6.470731816091941, 6.213587535277608, 5.941321445620289, 5.694902422384234, 5.450620718937966, 5.208967545440909, 5.006576076193283, 4.773926417338456, 4.566624877241536, 4.366055128875524, 4.178636054448217, 3.9992503112221525, 3.8274723605298635, 3.6629873866472464, 3.5054929414342872, 3.354698514518556, 3.2103251135126927, 3.072104854502197, 2.9397805629811296, 2.813105385357577, 2.694808144679444, 2.5766450160052066, 2.4652403031568535, 2.35829911323291, 2.2565020810618206, 2.1612540460436858, 2.0664650987666118, 1.9770354227436342, 1.891562672837673, 1.816479910885754, 1.7355738508969973, 1.6583491846201954, 1.5851032417563544, 1.5160947970101812, 1.4504862768856945], \"yaxis\": \"y7\"}, {\"hovertemplate\": \"day: %{x} <br>val: %{y:.1f}\", \"mode\": \"lines\", \"name\": \"larvae 4\", \"type\": \"scatter\", \"xaxis\": \"x7\", \"y\": [0.0, 0.0, 0.0, 0.0, 0.0, 0.0, 0.0, 0.7733116775106028, 0.8264754855586103, 0.8832949484680047, 0.9443083427453196, 1.0102478689232988, 1.0786416855030134, 1.1525029795293353, 1.2312830312435772, 1.3159024542691755, 1.407083007698813, 1.5044427935168063, 1.606299941212949, 1.715985822255845, 1.833134734136597, 1.9586801606716766, 2.0927631303027567, 2.2359556443670447, 2.3888668141037708, 2.5522075681926446, 2.727924538482413, 2.9130864360502606, 3.111663809020543, 3.323410071439524, 3.54987780665172, 3.794567317041718, 4.083505101186065, 4.409209047870701, 4.701600869338684, 5.0868093425825425, 5.510535321252297, 5.7137054808307655, 6.049297876719583, 6.420218979277629, 6.878077817178586, 7.343822502630349, 7.961668165562984, 8.441497226295702, 8.92778808880968, 9.491485989085435, 10.230151225479782, 10.987885853243508, 12.034326174208397, 13.222358452638094, 13.40716699861137, 14.086225104809488, 14.812642483629203, 16.04519093943682, 16.90852980983831, 18.499340695251732, 19.79194829834448, 21.280028915366604, 21.9210637174651, 23.10120361385398, 24.502820556073708, 26.918060620642695, 27.87654593107289, 29.484560362012783, 31.052341480238518, 32.956708676152694, 34.96259850357671, 37.07353039892962, 39.29291085052045, 41.63895309186179, 44.412415711877145, 46.8277849270029, 51.504193940736, 57.88072584101091, 57.21558573531486, 59.345868535814525, 61.87521466019017, 77.80952879815703, 74.59664594113765, 77.72162950463954, 92.29885928471607, 109.78323711672317, 129.78875997030144, 133.4453491918782, 124.6514748638263, 117.63130198261739, 121.91444907409303, 116.64850849132606, 114.04339614327178, 115.49553806184288, 118.61902081048787, 124.08410350286829, 128.25544572546562, 133.99379150167508, 158.68609563750118, 158.82702428739077, 169.94638988487947, 240.22659335211424, 312.9254776603371, 339.7225624167659, 337.86179851977647, 366.0685902257926, 441.4835674866133, 512.817164135593, 509.91035495152136, 454.7659098802702, 411.7023859969674, 420.1219305744836, 473.7750960732605, 520.4879812466131, 514.0146415620006, 486.3551778013296, 436.82215975316717, 386.23120772398266, 336.4434840029792, 293.96448816093397, 296.41101456236396, 385.52992427557035, 467.87103071010046, 522.8374514431424, 470.6671281453163, 396.74099410665565, 386.6135739293711, 401.1954770729219, 441.5279072270985, 520.7372684735286, 683.078238881327, 742.3673210885141, 784.2085966972255, 777.5211548812997, 802.325167189654, 827.3101109819125, 790.7550651814106, 684.1105380467105, 563.0901273385789, 466.2892614825296, 402.83323830418175, 348.0520190411125, 317.0661211143356, 334.2512968184465, 473.0185771838014, 620.0601078798517, 773.2704181111076, 808.7650751366238, 809.4594641324572, 814.8825620377736, 747.5610119643164, 765.7413917109768, 760.1034240836658, 897.613641063885, 950.7042070529652, 1010.1162301323247, 998.731212921694, 980.6131588339055, 945.7734389120184, 972.6848536739853, 989.3205555727433, 966.60774185773, 852.1062297608433, 765.2646334524027, 731.4802498391296, 654.9388232219256, 580.6356695347994, 518.7995124658185, 567.8396915536706, 584.6626016380477, 647.774490667624, 687.2118433996391, 750.8940442526298, 766.5200222645568, 746.0678776180142, 711.9380852738091, 714.9906653644592, 831.8112509861706, 920.5883213768042, 1007.8737176440703, 956.1578545960842, 933.9209177532889, 912.5483705307992, 933.5541161410118, 1005.5847156412151, 1053.5881408060723, 1051.2297065869743, 976.446339573366, 935.7812983291134, 925.3053907615392, 894.5746675032688, 903.8755831465443, 931.8074128208054, 986.0447864966394, 984.8450906912274, 970.8847526196876, 929.1871394665801, 950.6631130388369, 964.5343866022274, 961.8188928041471, 917.7939272741947, 935.4106753713861, 944.4367200277843, 924.4020123396648, 885.2720026470664, 899.5408204811182, 906.8296248524389, 936.4081965623615, 938.1074831924765, 916.3281348092704, 887.9941380749202, 932.6698433748929, 925.7125649343742, 908.2001755021046, 881.1277000282076, 869.309344927787, 883.9265339904413, 878.1690599554954, 869.149474112899, 851.8884605761317, 847.0253252920953, 822.5636524743155, 797.6939297792378, 811.1485515093764, 803.4364072623796, 793.1249293750803, 759.1046468410326, 777.6742834233958, 776.2996183674826, 780.3337202019866, 758.8193384324245, 727.1176645477436, 725.6218263730042, 720.9633471939687, 698.8734787773423, 682.1880173313928, 667.6154939458805, 655.3272963732893, 663.2922328754548, 646.3221311854021, 632.1077429285806, 603.1545980403972, 599.7688372908841, 583.2599000561461, 560.3127802182767, 550.1238683996546, 545.51810094579, 507.557173251912, 451.8726909713976, 396.2567756314673, 397.2715704423211, 420.0492566382057, 417.10586663304696, 416.846755980821, 394.52356624880264, 378.01033961329574, 346.9166683721227, 329.26351825234724, 320.79857845588924, 328.11592986948347, 325.9758069505366, 316.04588473870376, 293.2929929609139, 275.5047013250398, 261.93897702439625, 252.7583231872567, 250.65469393609092, 245.99837021398625, 232.95118421381886, 213.24884271772973, 198.76313175479498, 180.42327960167128, 164.25298171688138, 148.46044364047535, 133.68251208887463, 110.3242974701832, 87.56245590380631, 69.43099082387313, 69.10103511596702, 67.50100502361475, 71.51710781763086, 64.13705883212491, 55.34548453644012, 50.545330985593125, 47.700608201266604, 46.9965939375006, 49.4823556494571, 47.52154139076878, 47.533401581392326, 44.16387326449804, 39.99534378298787, 37.130701770845356, 35.392807424890854, 33.81446605364965, 32.46648130667815, 31.152715550555097, 29.953127893478037, 29.33258724930143, 29.68256026006473, 28.706426391033602, 27.432501820926827, 28.024669151117024, 26.064293178897483, 23.943288994210747, 22.73401703415746, 21.430459545008045, 20.183093545947496, 19.608321114884582, 18.897819409258137, 18.349040780011748, 18.323191148068425, 17.71500460934675, 17.20455730005409, 16.170022707585666, 14.681450722730021, 13.795637573976446, 13.111539107499706, 12.870517300281383, 12.204652843298835, 11.871740134916806, 11.327579311790762, 10.745641213492437, 10.392518922951385, 9.945807483797891, 9.524880198754788, 9.154423381060187, 8.826639098401298, 8.27318975771442, 7.921341144736494, 7.683145689267875, 7.229069962656813, 6.896400481156287, 6.568422350039028, 6.291294009643389, 6.02251433802088, 5.78262909097969, 5.529569371947531, 5.3002005762802185, 5.072408589986348, 4.848583197896066, 4.659142025209117, 4.442615923975167, 4.249701110760974, 4.063050902931562, 3.8886387122695103, 3.721702339623335, 3.561845778709091, 3.4087760620139274, 3.2622117312987475, 3.121882437610968, 2.9875285506349116, 2.8589007775997444, 2.735759791910239, 2.6180091857632823, 2.5077884594386908, 2.3978258518944453, 2.294152626117768, 2.1946331547745457, 2.0999990486416125, 2.011263015248254, 1.9230540708947035, 1.8398472809529256, 1.7606007667287367, 1.6905181095278075, 1.6151250256447458, 1.5432597512075539, 1.4750970767784635, 1.4108778180976747], \"yaxis\": \"y7\"}, {\"hovertemplate\": \"day: %{x} <br>val: %{y:.1f}\", \"mode\": \"lines\", \"name\": \"larvae 5\", \"type\": \"scatter\", \"xaxis\": \"x7\", \"y\": [0.0, 0.0, 0.0, 0.0, 0.0, 0.0, 0.0, 0.0, 0.7655785607354968, 0.8182107307030242, 0.8744619989833247, 0.9348652593178663, 1.0001453902340658, 1.0678552686479832, 1.140977949734042, 1.2189702009311414, 1.3027434297264837, 1.393012177621825, 1.4893983655816383, 1.5902369418008195, 1.6988259640332866, 1.8148033867952311, 1.9390933590649597, 2.071835498999729, 2.2135960879233743, 2.3649781459627333, 2.526685492510718, 2.700645293097589, 2.883955571689758, 3.0805471709303376, 3.290175970725129, 3.514379028585203, 3.7566216438713007, 4.042670050174204, 4.365116957391994, 4.654584860645297, 5.035941249156717, 5.455429968039773, 5.656568426022457, 5.988804897952387, 6.356016789484853, 6.8092970390068, 7.2703842776040455, 7.882051483907354, 8.357082254032745, 8.838510207921582, 9.39657112919458, 10.127849713224984, 10.878006994711074, 11.913982912466313, 13.090134868111713, 13.273095328625256, 13.945362853761393, 14.66451605879291, 15.884739030042454, 16.739444511739926, 18.314347288299214, 19.594028815361035, 21.067228626212938, 21.701853080290448, 22.87019157771544, 24.257792350512972, 26.64888001443627, 27.59778047176216, 29.189714758392654, 30.74181806543613, 32.627141589391165, 34.61297251854094, 36.70279509494032, 38.89998174201524, 41.222563560943165, 43.96829155475837, 46.35950707773287, 50.98915200132864, 57.3019185826008, 56.64342987796171, 58.75240985045638, 61.25646251358827, 77.03143351017546, 73.85067948172627, 76.94441320959314, 91.37587069186891, 108.68540474555594, 128.49087237059842, 132.1108956999594, 123.40496011518803, 116.4549889627912, 120.6953045833521, 115.4820234064128, 112.90296218183906, 114.34058268122445, 117.43283060238299, 122.84326246783961, 126.97289126821096, 132.65385358665833, 157.09923468112618, 157.23875404451687, 168.24692598603067, 237.8243274185931, 309.7962228837337, 336.32533679259825, 334.4831805345787, 362.4079043235347, 437.06873181174717, 507.688992494237, 504.8112514020061, 450.21825078146753, 407.58536213699773, 415.9207112687388, 469.0373451125279, 515.2831014341469, 508.87449514638064, 481.4916260233163, 432.4539381556355, 382.3688956467428, 333.0790491629494, 291.0248432793246, 293.4469044167403, 381.6746250328146, 463.1923204029994, 517.609076928711, 465.96045686386316, 392.7735841655891, 382.7474381900774, 397.18352230219267, 437.1126281548275, 515.5298957887933, 676.2474564925137, 734.943647877629, 776.3665107302533, 769.7459433324867, 794.3019155177575, 819.0370098720934, 782.8475145295965, 677.2694326662435, 557.4592260651931, 461.6263688677043, 398.80490592113995, 344.57149885070135, 313.89545990319226, 330.90878385026207, 468.2883914119634, 613.8595068010532, 765.5377139299965, 800.6774243852575, 801.3648694911327, 806.7337364173959, 740.0854018446732, 758.083977793867, 752.5023898428292, 888.6375046532461, 941.1971649824355, 1000.0150678310015, 988.743900792477, 970.8070272455664, 936.3157045228982, 962.9580051372454, 979.4273500170158, 956.9416644391528, 843.5851674632349, 757.6119871178787, 724.1654473407383, 648.3894349897064, 574.8293128394514, 513.6115173411603, 562.1612946381339, 578.8159756216672, 641.2967457609478, 680.3397249656426, 743.3851038101035, 758.8548220419112, 738.607198841834, 704.818704421071, 707.8407587108146, 823.4931384763089, 911.3824381630361, 997.7949804676296, 946.5962760501234, 924.581708575756, 903.4228868254911, 924.2185749796017, 995.528868484803, 1043.0522593980115, 1040.7174095211046, 966.6818761776324, 926.4234853458222, 916.0523368539239, 885.628920828236, 894.8368273150788, 922.4893386925974, 976.184338631673, 974.9966397843151, 961.1759050934907, 919.8952680719143, 941.1564819084484, 954.8890427362052, 952.2007038761056, 908.6159880014528, 926.0565686176723, 934.9923528275065, 915.1579922162681, 876.4192826205957, 890.545412276307, 897.7613286039145, 927.0441145967378, 928.7264083605517, 907.1648534611777, 879.114196694171, 923.343144941144, 916.4554392850305, 899.1181737470835, 872.3164230279256, 860.6162514785092, 875.0872686505369, 869.3873693559405, 860.4579793717701, 843.3695759703704, 838.5550720391743, 814.3380159495723, 789.7169904814455, 803.0370659942826, 795.4020431897558, 785.1936800813295, 751.5136003726222, 769.8975405891618, 768.5366221838077, 772.5303829999667, 751.2311450481003, 719.8464879022662, 718.3656081092741, 713.753713722029, 691.8847439895688, 675.3661371580788, 660.9393390064217, 648.7740234095564, 656.6593105467002, 639.8589098735481, 625.7866654992948, 597.1230520599933, 593.7711489179752, 577.4273010555846, 554.7096524160938, 544.622629715658, 540.0629199363322, 502.4816015193929, 447.35396406168366, 392.2942078751526, 393.2988547378979, 415.8487640718236, 412.9348079667165, 412.6782884210128, 390.5783305863146, 374.23023621716277, 343.4475016884014, 325.97088306982374, 317.59059267133034, 324.83477057078863, 322.7160488810312, 312.88542589131674, 290.3600630313048, 272.74965431178936, 259.3195872541523, 250.23073995538414, 248.14814699673002, 243.5383865118464, 230.62167237168066, 211.11635429055244, 196.77550043724702, 178.61904680565456, 162.61045189971256, 146.97583920407058, 132.34568696798587, 109.22105449548137, 86.68683134476825, 68.7366809156344, 68.41002476480735, 66.8259949733786, 70.80193673945455, 63.495688243803656, 54.79202969107572, 50.039877675737195, 47.22360211925394, 46.52662799812559, 48.987532092962525, 47.04632597686109, 47.058067565578405, 43.722234531853054, 39.59539034515799, 36.7593947531369, 35.03887935064195, 33.47632139311315, 32.141816493611366, 30.841188395049546, 29.653596614543257, 29.039261376808415, 29.38573465746408, 28.419362127123264, 27.15817680271756, 27.744422459605854, 25.803650247108507, 23.703856104268638, 22.506676863815887, 21.216154949557964, 19.98126261048802, 19.412237903735736, 18.708841215165556, 18.16555037221163, 18.13995923658774, 17.537854563253283, 17.03251172705355, 16.008322480509808, 14.53463621550272, 13.657681198236682, 12.980423716424708, 12.74181212727857, 12.082606314865846, 11.753022733567638, 11.214303518672855, 10.638184801357513, 10.288593733721871, 9.846349408959911, 9.42963139676724, 9.062879147249586, 8.738372707417286, 8.190457860137276, 7.842127733289129, 7.606314232375197, 7.156779263030245, 6.827436476344724, 6.502738126538637, 6.228381069546955, 5.962289194640671, 5.7248028000698925, 5.474273678228055, 5.2471985705174164, 5.021684504086484, 4.800097365917106, 4.6125506049570255, 4.398189764735415, 4.207204099653364, 4.022420393902246, 3.8497523251468153, 3.6844853162271014, 3.526227320922, 3.374688301393788, 3.22958961398576, 3.0906636132348586, 2.9576532651285623, 2.830311769823747, 2.7084021939911365, 2.5918290939056496, 2.4827105748443037, 2.3738475933755008, 2.27121109985659, 2.1726868232268, 2.0789990581551963, 1.9911503850957712, 1.9038235301857565, 1.8214488081433964, 1.7429947590614492, 1.6736129284325294, 1.5989737753882984, 1.5278271536954784, 1.4603461060106788], \"yaxis\": \"y7\"}, {\"hovertemplate\": \"day: %{x} <br>val: %{y:.1f}\", \"mode\": \"lines\", \"name\": \"needpollen\", \"type\": \"scatter\", \"xaxis\": \"x8\", \"y\": [0.0, 54.99, 54.483700000000006, 53.9811, 53.52915786287461, 53.090594595944, 52.6463464700855, 52.23716231663042, 51.98783725037368, 51.54199020949483, 51.05654335838507, 50.62515995658415, 50.199306944150024, 49.78257493967996, 49.41675073851511, 49.01193024736643, 48.613331016900716, 48.22461966814346, 47.84221079804085, 47.51116364952386, 47.145744695924535, 46.83234922781298, 46.526232908743104, 46.22756996260366, 45.93661099594533, 45.657440677405994, 45.431457827809844, 45.16908847161245, 44.960314639686324, 44.71588639930873, 44.52618193257167, 44.39390542708035, 44.2765546256285, 44.17136757997134, 44.077881056033355, 44.001032080715994, 43.97755891656119, 43.95734179870712, 43.92572949880982, 43.928944019088206, 43.996072578603034, 44.13752411194936, 44.289233025518236, 44.46218158996384, 44.67397433894253, 44.910920981402015, 45.226762735003256, 45.641030234503, 46.19623638650208, 46.73686767072278, 47.2154347176875, 47.60342939326628, 48.20512472314488, 48.83360496939417, 49.70153149250163, 50.56507460171105, 51.671413321604575, 52.653351829011, 53.69036310259777, 54.6305991457899, 55.93558946028489, 57.30226431360871, 58.89179014126167, 60.21009322710934, 61.78739357079806, 63.49632401684995, 65.33552913795987, 67.3108162121302, 69.42719934576733, 71.71375219153272, 74.08306728811878, 76.84499063209556, 80.22268768919398, 83.63681364078792, 86.80798889392463, 88.62483097095324, 93.10066265958702, 97.42450691100092, 103.11459855605622, 106.26303840372651, 113.31627819581394, 124.30429893301971, 134.89739902468267, 142.29364249912226, 143.5583681434122, 143.16122112342276, 143.6835908585761, 145.93736578210115, 146.60798247212398, 148.81659793084935, 152.60615804761096, 156.9982162468074, 162.0283965555562, 169.48751003932568, 177.23115088601224, 187.03194322906668, 199.29714915199784, 224.59482639591968, 260.7488193558235, 288.11121917003106, 299.50846450150937, 319.5702730253218, 345.81147650558114, 353.7225556656095, 352.09371062557057, 340.4865982858392, 335.94442847338644, 348.0775962654877, 363.08475781525107, 368.51655767038585, 372.9579848372754, 359.28096223518617, 341.3172675823582, 321.4393620819602, 304.0748374735796, 302.72270924443353, 341.1355489581397, 372.20364565899564, 407.3238166838086, 407.77112581372666, 395.5406599203803, 388.840201624477, 386.95921143583837, 404.23808977482685, 435.04254496459646, 477.80717853324387, 533.5293604705514, 592.1286158361744, 606.2648611071484, 620.4448967406558, 630.3150647864444, 619.9107845077633, 593.1278061287742, 554.3837132101645, 507.96486013313466, 470.15859324222924, 440.7587613113252, 427.2425350826967, 432.75101268372026, 448.5245755478095, 488.7546864581941, 563.4948707168326, 630.7925873349427, 679.4013979897888, 692.8946368045308, 688.5476768275964, 683.3432770261808, 669.5071093931416, 691.5332943135139, 721.9074097658131, 779.6546656381696, 810.8586183861587, 832.8540984409628, 831.8540411939064, 831.4619953480677, 833.739406392471, 846.054287112935, 839.3162463329122, 809.5952225496765, 764.4151105842482, 729.4738900867773, 700.9270752409948, 661.3697359321453, 634.9149089966215, 624.1666466917765, 642.4607936751065, 657.7502817322875, 685.320233455949, 705.9551461388692, 722.2966962628004, 718.4886725271786, 705.9628913151898, 708.9275003860242, 737.3481660364421, 793.7952192354476, 829.9352534848275, 848.6700901721607, 835.1966565527514, 832.1539758046533, 840.9518115529833, 867.0678358057709, 898.1212202531078, 907.6873129650186, 895.6667078260498, 872.0341972507664, 859.3114595711475, 855.2125964337615, 852.7645066477512, 866.104240273291, 881.9123833086192, 896.4036093019329, 891.1133486257833, 884.0566566280042, 878.4812786007391, 886.4617483513379, 884.9081099179015, 879.15123870571, 871.490254558402, 875.9744493609298, 871.3567057451789, 862.2270914131716, 854.9390433223338, 862.8138908981778, 869.088266513141, 874.7703230266429, 868.0658977763838, 862.4266422571842, 861.0904518656898, 869.6132225968063, 862.1373347679989, 851.7650461055531, 842.849137591957, 840.0252616607389, 841.6456008017478, 836.0444754168702, 829.4930066656298, 820.6736720717797, 811.2089157688994, 800.7787853319323, 794.0689180888282, 794.3415758582073, 785.2415037301381, 777.3774476530531, 769.0508513624329, 771.8741204992225, 768.2100464790433, 760.4613762135955, 747.0706009865996, 735.4574471802439, 729.2555498408266, 720.0034117669417, 707.889563924377, 697.3343613287129, 690.224752326624, 684.0974824804246, 679.6478016029946, 667.3808322732898, 655.935773131634, 642.942310489256, 633.931103168158, 621.2082507756647, 610.1573559904699, 599.8299290675267, 583.9489733770342, 555.7869493040466, 528.086723326422, 511.4821356759137, 510.4490965803095, 511.98045099391356, 505.22291861722914, 496.00891218463886, 480.4000968672151, 465.2922481001981, 449.0526992491517, 439.6032465740964, 433.9003794965863, 430.3139087009963, 422.19302982177965, 411.03980426457235, 397.9400728912351, 386.84294574677557, 378.09275659753143, 371.41217447581147, 365.18212146920814, 356.394879123236, 344.9304582299519, 332.15591723305783, 320.27233142909495, 307.78751592721443, 295.8138383559295, 283.1309947411996, 269.2847505852611, 253.5614462693175, 240.66962706679536, 231.60113589144146, 227.86459867998587, 223.5056469524241, 218.76419533626927, 211.35006014424712, 204.48984109731612, 199.31588029304305, 195.50126245162792, 192.4515635041589, 189.90573710069367, 186.34681165568654, 182.9091559238573, 178.8967884528896, 175.08524231743968, 171.8592972421153, 169.0189888562403, 166.21632774071736, 163.58145526618443, 161.1092700443157, 158.94127206645175, 156.92588395129434, 154.96435319121656, 152.81556079007026, 150.5811895472303, 148.45339754728613, 145.8234661377775, 143.28680621025265, 141.03337999559201, 138.87135923263313, 136.8057705333217, 134.9400108289318, 133.15354905671936, 131.48844845813008, 129.83527351531166, 128.02311355274762, 126.14316958127911, 124.15853235258433, 122.13917149871585, 120.37736828812044, 118.75710213660693, 117.19438204526682, 115.59538515708363, 114.12628731804742, 112.55903717309779, 111.05294079984694, 109.63142676843601, 108.16604635555429, 106.76678093981708, 105.33205197741762, 103.99405958843681, 102.6055999415548, 101.30064047500808, 100.01159449702416, 98.71030743919664, 97.44289608617629, 96.23049763131648, 95.03713982729144, 93.90345255148402, 92.73795901238894, 91.62964470751814, 90.53334359934894, 89.44844941494101, 88.4218530058186, 87.3628659442061, 86.35916293173374, 85.32341268024493, 84.3431673736177, 83.3776168754347, 82.4222481309111, 81.5219324552367, 80.58655974594743, 79.66102425292398, 78.79022442476787, 77.88406275899177, 77.03614565608254, 76.1491960999819, 75.32020133227903, 74.50059662090459, 73.68964994801337, 72.88809265998758, 72.09205086470355, 71.3049969345629, 70.52694250362862, 69.75736727903241, 68.99726147570101, 68.24579458567565, 67.50315434370596, 66.76796710055585, 66.08284197613473, 65.36145098505914], \"yaxis\": \"y8\"}, {\"hovertemplate\": \"day: %{x} <br>val: %{y:.1f}\", \"mode\": \"lines\", \"name\": \"needpollen income\", \"type\": \"scatter\", \"xaxis\": \"x8\", \"y\": [0.0, 109.98000000000002, 218.94740000000002, 326.9096, 323.98791572574925, 321.20170491763724, 318.5321978578082, 315.9482067653198, 313.67198848045473, 311.21379677639237, 309.17274163650717, 306.4473870489281, 303.7620205182385, 301.20105332874675, 298.6478065915328, 296.1810850012946, 294.0840240055645, 291.6997618648212, 289.3603229661701, 287.15598823141636, 284.99823828697845, 282.97851514652274, 281.00865366496123, 279.17230419831947, 277.27132444091825, 275.64324327190997, 274.05101900232233, 272.51597395365656, 271.1217218782172, 269.5939306082714, 266.90989054300354, 263.9818244602127, 264.39106221603924, 261.19230967151697, 257.8275297138216, 264.50056143344136, 264.1129441066211, 263.4732558540892, 262.7115085181631, 262.9546331921064, 259.86178638341914, 262.36789663203217, 264.84565943214125, 265.5489822361786, 264.2563831375765, 265.07157728731227, 262.03463986629134, 258.5018451666496, 274.1280587120167, 277.1482685834557, 280.29707754982473, 279.4313324632146, 286.0363065621781, 283.0279143473303, 287.2271666046291, 290.5451244931313, 303.8760388316345, 309.77967950465325, 315.2338116879089, 312.9386221171941, 328.5131034173451, 335.73690583936695, 344.25928783031054, 352.8082953639594, 361.77855387833813, 370.9876216295147, 381.23849345121573, 392.28533873388005, 401.79264623485506, 416.9035354988605, 418.19679503201445, 412.60631812912425, 462.1155484969073, 481.4089839241549, 501.33498044781305, 439.84917594191324, 524.7214124660417, 549.4393460605055, 499.98163688132837, 483.34685891506376, 467.2224700039306, 531.246327182004, 652.7244917615419, 742.6360984576287, 752.3565204714204, 828.2958759860002, 860.8063602508221, 861.7782235576859, 872.4578782256026, 878.7004569851721, 896.0614769011686, 916.8419444505354, 838.8526867768848, 932.8078809997955, 963.051664702104, 681.6038638021832, 552.8716164539298, 696.3818057009013, 835.554795060977, 797.7285603427107, 595.1506528780246, 540.1836039587365, 753.509249331277, 977.295379630154, 1075.8498279117284, 926.7178481234034, 682.5368660520476, 639.0213508001139, 822.6705838618996, 901.4168561110141, 1153.0828169078568, 1425.6990478271196, 1661.569753091008, 1821.7198798575864, 1649.8740553917828, 1003.3401480187442, 931.7824950989251, 996.2716750767868, 1462.878507159121, 1876.6173756166054, 1761.669618641106, 1673.8449740732894, 1555.4541126092474, 1284.4361438184062, 660.1376926503629, 859.2740634472905, 902.8686911876653, 983.1888240953626, 959.2995128467965, 923.9394624682936, 1266.6969933954529, 1807.1301232061724, 2283.1180653636156, 2616.6045741520015, 2731.145277903659, 2821.84978053872, 2739.4494648342034, 2431.0768920419832, 1551.5934791189052, 1156.7111515203783, 834.7850871513717, 952.1292931976318, 1156.1333436164177, 1201.2943081744183, 1949.9067562145574, 1780.1220651716785, 1881.1216225526573, 1034.1528991009282, 1009.3023365441345, 868.6436359881332, 919.8798793358046, 1128.711943572825, 1464.4067369351947, 1247.6210295769938, 1218.6656686235074, 1457.3898189257761, 2183.368394406955, 2513.029534844436, 2431.0951901266494, 2945.7979047944073, 3196.0756082811085, 3279.8159705014623, 2554.2112058975526, 2486.8040921019765, 2067.55539793716, 1827.6876136000863, 1542.0005633769838, 1621.2824091871403, 1878.8712826857009, 2098.5885436271865, 2084.4267658999293, 1263.3275521149872, 1064.5684520547957, 733.3629187281845, 1178.699463373825, 1255.6197141761759, 1366.8224230171018, 1389.1926498305756, 910.7655859208662, 742.4711116100889, 872.4702315615432, 1365.004633074414, 1468.7454289836182, 1427.44139117321, 1788.9407239343036, 1573.8076038534527, 1254.716219418518, 929.27108940974, 1094.6885981978812, 1140.355835366252, 1394.4309684527425, 1124.1985912163582, 1079.7204417355952, 1189.6397856656977, 1479.3770026794737, 1102.3195535867862, 1049.8787674133891, 1340.3676860822047, 1517.9468176299451, 1149.1298869366615, 1180.089823141342, 1004.7998997230807, 945.6687427864863, 1109.794778300915, 1283.1940756208937, 706.5265111630788, 947.2337836734314, 1132.083981560625, 1088.0779895534524, 1107.8959583987385, 940.4889543524887, 1008.2783114890626, 1014.599099531044, 1026.3734529322219, 957.6587329452586, 1122.8669843508274, 1254.1280396913508, 913.3714839427894, 999.8272634902555, 1042.8257360600992, 1203.1526975280804, 827.8555983275878, 869.3107848784175, 841.3856050730665, 877.9757824123167, 1062.2196548919155, 879.3397280091544, 844.3543420637707, 1037.3583855237566, 980.8542582164764, 935.9077118194728, 991.5888693580828, 760.0575496385095, 868.9633148043808, 875.5098655843713, 987.059554537032, 838.0709053831488, 901.236123254338, 1035.9667557640296, 912.3245953076234, 791.0878528573862, 1105.292186682961, 1417.9260151791914, 1682.7668398180685, 1356.402391704651, 996.2798890249805, 1107.1330562992966, 930.0647888823896, 994.9494124123735, 1047.7107270931956, 1243.4033678379878, 1243.822856958598, 1164.3759028022964, 964.774999350233, 930.748518204864, 938.6644632269563, 1046.5937598587454, 1077.7329459531556, 1079.3448535198181, 1067.8455310009479, 961.9136819441349, 913.132807066527, 972.3536442786167, 1074.4659452469152, 1071.9778398653998, 1166.9962869857557, 1223.6400165470463, 1257.4834262242784, 1286.1855334242514, 1460.6477737182727, 1600.4047072712044, 1683.9227196218633, 1479.1514644578074, 1397.8943511284388, 1239.7179666200338, 1299.5621384363285, 1365.9427630477028, 1340.2688819373584, 1307.0899123855213, 1252.5467978531196, 1135.3629492699556, 1138.5806440724712, 1085.6954994749838, 1099.365202561616, 1129.3891493261617, 1118.3234093604751, 1090.8037760523168, 1073.2338758347516, 1051.6826560248892, 1031.9270568315906, 1014.1892276781459, 985.5067425475319, 935.2088313673939, 929.4194478463396, 927.60589292584, 863.2526295684773, 888.0312668052616, 906.5010559941613, 883.2773262279962, 877.3508312188969, 875.1273397906325, 847.1185180377278, 832.1214415090807, 816.2063619802975, 780.3549174656903, 772.9531876955813, 758.5440334166914, 759.9245742789793, 778.6936710523787, 768.0031132986767, 755.8561388155034, 730.868505124576, 729.8242961867425, 710.6652995267748, 703.2026558017965, 700.2714722369836, 683.680997167691, 675.8600910930364, 668.26382867284, 657.1463264498855, 645.0623352049747, 648.5302027913186, 637.5018319483726, 620.9615277769298, 623.8634230148184, 615.8006000099994, 607.8356698271741, 599.8715868985898, 592.3295960447942, 583.4690488988454, 577.0058138724603, 569.4078194766022, 562.4792876482994, 556.4367008388093, 547.8010402979622, 543.1817569025797, 536.8072920402171, 530.4663367299314, 524.2877637635169, 518.0908831123695, 512.0514859711927, 506.0883938585946, 500.28606475992694, 494.643594923165, 489.0614806641904, 483.5390329082162, 478.0756168472786, 472.6706228733673, 467.0385594037002, 462.1388090301125, 457.01108617668694, 451.93998810633104, 447.02089580239397, 441.8215389971241, 437.339586945409, 432.56424208099264, 427.77927451322466, 421.9501640906531, 418.149440027166, 414.0008466808181, 409.49242081016524, 405.03383205987495, 400.7079268407931, 396.4245201234994], \"yaxis\": \"y8\"}, {\"hovertemplate\": \"day: %{x} <br>val: %{y:.1f}\", \"mode\": \"lines\", \"name\": \"needpollen_adult\", \"type\": \"scatter\", \"xaxis\": \"x8\", \"y\": [55.5, 54.99, 54.483700000000006, 53.9811, 53.4859, 52.994400000000006, 52.51030000000001, 52.0299, 51.6469, 51.1776, 50.667, 50.208800000000004, 49.7543, 49.3072, 48.9088, 48.469100000000005, 48.033100000000005, 47.6045, 47.1796, 46.8034, 46.3896, 46.0245, 45.6631, 45.3054, 44.95140000000001, 44.604800000000004, 44.3069, 43.9677, 43.6772, 43.345400000000005, 43.0623, 42.8279, 42.5972, 42.370200000000004, 42.1432, 41.9236, 41.7564, 41.5929, 41.4331, 41.277, 41.1696, 41.1072, 41.048500000000004, 40.9972, 40.9946, 40.992000000000004, 41.0381, 41.1292, 41.31400000000001, 41.50620000000001, 41.6571, 41.8117, 42.06, 42.312, 42.695299999999996, 43.082300000000004, 43.608000000000004, 44.0961, 44.6329, 45.1284, 45.800200000000004, 46.5244, 47.387299999999996, 48.1263, 49.0003, 49.968, 50.9881, 52.1019, 53.313100000000006, 54.621700000000004, 55.982699999999994, 57.5237, 59.3686, 61.3294, 63.1663, 64.4256, 66.7914, 69.32549999999999, 72.44460000000001, 74.3228, 78.0386, 83.61789999999999, 89.257, 93.57939999999999, 95.11179999999999, 95.7929, 96.961, 98.83739999999999, 99.9451, 101.7389, 104.21509999999999, 106.9305, 109.9911, 113.9782, 118.34689999999999, 123.4985, 129.2542, 141.321, 159.1102, 173.2926, 178.3967340290008, 190.88139999999999, 201.55361937844776, 192.11627948223486, 183.0698597089051, 178.65708436253846, 184.96516587136972, 198.92175547241095, 204.76623091226082, 198.4872706069103, 197.71439685469005, 189.87612934533544, 183.07679527187435, 177.82119442809892, 174.911818118038, 184.39538309385938, 222.34736888168806, 239.7680440677011, 251.00864802085576, 237.70174132098595, 226.29253295494067, 233.83180550345523, 242.584272567931, 257.5586681161748, 277.8749, 296.88559999999995, 323.7614, 350.919124976496, 352.6174359048876, 359.22098150814054, 366.11124137195736, 351.75051628991, 330.6300338406691, 313.55450448819715, 299.25326937891253, 291.7676119006559, 285.94242508067947, 288.7872176167809, 304.1905256236257, 313.356, 329.7643, 362.2691, 392.82539999999995, 415.4894, 422.4182, 421.94309999999996, 420.26890000000003, 415.68559999999997, 426.7312, 443.4393, 472.9785, 491.7226, 506.5122, 511.0782, 514.5995, 518.6517, 526.7252, 526.4362, 514.9551, 495.67909999999995, 481.4394, 469.31100000000004, 451.7419, 438.0762, 431.6704, 437.5681, 442.702, 453.5077, 461.9782, 468.8615, 466.5981, 460.2119, 460.6149, 473.8101, 500.313, 519.2556999999999, 530.4565, 527.6863, 528.9026, 534.9936, 549.1483999999999, 565.6197, 572.8027999999999, 569.7093, 560.9555, 557.4784999999999, 557.3037, 557.1093000000001, 563.4929999999999, 571.0295, 578.3706, 577.1283999999999, 574.3615, 572.4565, 576.3997999999999, 576.136, 573.3392, 570.1317, 572.7785, 571.2982, 567.4279, 564.6525, 568.4225, 571.1437999999999, 573.7035999999999, 570.8362999999999, 567.9639, 567.756, 571.7867, 568.4996, 563.8994, 559.3878, 557.7871, 558.5525, 555.8587, 552.5029, 548.3841, 543.7075, 538.3017, 534.9382, 534.8221, 530.2837, 525.8106, 521.4626000000001, 521.848, 519.5518999999999, 515.2962, 508.145, 501.86979999999994, 498.11699999999996, 492.7676, 486.4339, 480.8473, 476.7582, 473.2004, 470.1819, 463.78090000000003, 457.3411, 450.2596, 445.0152, 437.6648, 431.2983, 425.4799, 417.10580000000004, 403.0697, 388.6526, 379.13059999999996, 376.87210000000005, 375.6443, 370.92560000000003, 364.8654, 356.231, 347.6028, 338.3797, 332.15430000000003, 327.60490000000004, 324.0233, 318.73109999999997, 312.3182, 305.2173, 298.8197, 293.30060000000003, 288.7154, 284.259, 278.7528, 271.9736, 264.7302, 257.8141, 250.649, 243.5326, 236.1771, 228.2181, 219.3788, 211.625, 205.6194, 201.96980000000002, 198.1994, 194.27800000000002, 189.19830000000002, 184.412, 180.4215, 177.0554, 174.19600000000003, 171.58560000000003, 168.6787, 165.9518, 163.1244, 160.41780000000003, 157.9997, 155.76530000000002, 153.5155, 151.3859, 149.3617, 147.49530000000001, 145.7078, 143.96900000000002, 142.11, 140.2362, 138.4253, 136.427, 134.4737, 132.6776, 130.9265, 129.21300000000002, 127.6006, 126.02950000000001, 124.55210000000001, 123.04820000000001, 121.49560000000001, 119.9387, 118.34790000000001, 116.7232, 115.215, 113.8116, 112.4082, 111.0159, 109.7247, 108.35090000000001, 107.02950000000001, 105.76420000000002, 104.4613, 103.2108, 101.93010000000001, 100.7431, 99.5111, 98.33890000000001, 97.1741, 96.0167, 94.8704, 93.7728, 92.68260000000001, 91.6485, 90.57679999999999, 89.56120000000001, 88.553, 87.5522, 86.6075, 85.6252, 84.699, 83.7352, 82.8238, 81.9235, 81.03059999999999, 80.19010000000002, 79.31200000000001, 78.4413, 77.623, 76.7671, 75.96730000000001, 75.12620000000001, 74.3412, 73.56360000000001, 72.7934, 72.03059999999999, 71.2715, 70.51979999999999, 69.77550000000001, 69.0386, 68.3091, 67.587, 66.8723, 66.165, 65.5064, 64.8102], \"yaxis\": \"y8\"}, {\"hovertemplate\": \"day: %{x} <br>val: %{y:.1f}\", \"mode\": \"lines\", \"name\": \"needpollen_larvae\", \"type\": \"scatter\", \"xaxis\": \"x8\", \"y\": [0.0, 0.0, 0.0, 0.0, 0.043257862874611544, 0.09619459594398894, 0.13604647008549065, 0.20726231663041977, 0.34093725037367467, 0.3643902094948282, 0.389543358385068, 0.41635995658414315, 0.44500694415002534, 0.4753749396799569, 0.5079507385151147, 0.5428302473664216, 0.5802310169007088, 0.6201196681434611, 0.6626107980408491, 0.7077636495238531, 0.7561446959245366, 0.807849227812977, 0.8631329087431019, 0.9221699626036597, 0.9852109959453208, 1.052640677405992, 1.1245578278098458, 1.201388471612446, 1.2831146396863267, 1.3704863993087242, 1.4638819325716645, 1.5660054270803505, 1.679354625628497, 1.801167579971334, 1.9346810560333574, 2.0774320807159934, 2.2211589165611954, 2.364441798707116, 2.492629498809819, 2.6519440190882073, 2.82647257860303, 3.0303241119493602, 3.2407330255182343, 3.464981589963841, 3.6793743389425293, 3.918920981402009, 4.188662735003258, 4.5118302345030035, 4.88223638650207, 5.230667670722776, 5.5583347176875035, 5.791729393266284, 6.1451247231448765, 6.521604969394172, 7.006231492501632, 7.482774601711052, 8.063413321604575, 8.557251829011001, 9.05746310259777, 9.502199145789898, 10.13538946028488, 10.777864313608708, 11.504490141261677, 12.083793227109341, 12.787093570798056, 13.528324016849943, 14.347429137959857, 15.20891621213021, 16.114099345767325, 17.09205219153272, 18.100367288118793, 19.321290632095565, 20.854087689193967, 22.307413640787917, 23.641688893924638, 24.199230970953234, 26.30926265958702, 28.099006911000924, 30.669998556056214, 31.940238403726504, 35.27767819581394, 40.68639893301972, 45.640399024682665, 48.71424249912225, 48.44656814341221, 47.36832112342277, 46.72259085857612, 47.09996578210118, 46.66288247212397, 47.07769793084937, 48.391058047610976, 50.06771624680741, 52.0372965555562, 55.5093100393257, 58.88425088601226, 63.53344322906668, 70.04294915199785, 83.27382639591968, 101.63861935582351, 114.81861917003107, 121.11173047250858, 128.6888730253218, 144.25785712713338, 161.60627618337463, 169.02385091666548, 161.82951392330074, 150.9792626020167, 149.15584079307678, 158.31852690299024, 170.02928706347558, 175.24358798258532, 169.4048328898507, 158.24047231048388, 143.61816765386126, 129.16301935554156, 118.32732615057418, 118.78818007645161, 132.43560159129453, 156.31516866295286, 170.0693844927407, 169.2481269654396, 155.00839612102175, 144.3749388679074, 146.67942165865207, 157.16764496459643, 180.92157853324392, 209.76796047055143, 241.2094908596784, 253.64742520226082, 261.22391523251537, 264.20382341448703, 268.16026821785334, 262.49777228810507, 240.82920872196735, 208.71159075422213, 178.39098134157337, 154.81633623064573, 138.45531746591584, 128.56048706009454, 135.16857554780947, 158.9903864581941, 201.22577071683264, 237.9671873349427, 263.91199798978886, 270.47643680453075, 266.60457682759653, 263.07437702618074, 253.82150939314164, 264.8020943135139, 278.4681097658131, 306.6761656381696, 319.13601838615864, 326.3418984409628, 320.77584119390644, 316.8624953480677, 315.0877063924709, 319.329087112935, 312.88004633291223, 294.64012254967645, 268.7360105842482, 248.03449008677728, 231.61607524099472, 209.62783593214533, 196.83870899662156, 192.4962466917765, 204.89269367510644, 215.04828173228753, 231.81253345594905, 243.97694613886918, 253.4351962628005, 251.89057252717856, 245.75099131518988, 248.31260038602426, 263.53806603644216, 293.4822192354476, 310.6795534848276, 318.2135901721607, 307.51035655275143, 303.25137580465326, 305.95821155298324, 317.91943580577095, 332.5015202531078, 334.88451296501864, 325.9574078260498, 311.07869725076637, 301.8329595711475, 297.9088964337615, 295.65520664775113, 302.6112402732911, 310.88288330861917, 318.0330093019329, 313.9849486257833, 309.6951566280043, 306.02477860073907, 310.06194835133795, 308.7721099179015, 305.81203870571005, 301.3585545584019, 303.1959493609298, 300.058505745179, 294.7991914131716, 290.2865433223337, 294.39139089817775, 297.9444665131411, 301.066723026643, 297.2295977763839, 294.46274225718423, 293.3344518656898, 297.8265225968063, 293.6377347679989, 287.8656461055531, 283.461337591957, 282.2381616607389, 283.0931008017478, 280.18577541687023, 276.9901066656298, 272.28957207177973, 267.5014157688994, 262.47708533193236, 259.13071808882825, 259.51947585820733, 254.95780373013815, 251.56684765305306, 247.5882513624329, 250.02612049922254, 248.6581464790434, 245.16517621359554, 238.9256009865997, 233.58764718024395, 231.13854984082658, 227.23581176694165, 221.45566392437695, 216.48706132871285, 213.4665523266239, 210.89708248042453, 209.4659016029946, 203.5999322732898, 198.594673131634, 192.68271048925607, 188.91590316815802, 183.54345077566478, 178.85905599046995, 174.3500290675267, 166.84317337703425, 152.7172493040466, 139.434123326422, 132.35153567591374, 133.57699658030944, 136.3361509939136, 134.2973186172291, 131.14351218463884, 124.1690968672151, 117.68944810019809, 110.6729992491517, 107.44894657409634, 106.29547949658624, 106.29060870099627, 103.46192982177969, 98.72160426457233, 92.7227728912351, 88.02324574677554, 84.79215659753137, 82.6967744758115, 80.92312146920814, 77.64207912323604, 72.95685822995196, 67.42571723305778, 62.45823142909494, 57.13851592721443, 52.28123835592946, 46.95389474119959, 41.06665058526115, 34.182646269317516, 29.044627066795357, 25.981735891441446, 25.894798679985854, 25.306246952424097, 24.48619533626926, 22.1517601442471, 20.077841097316117, 18.894380293043035, 18.445862451627924, 18.25556350415889, 18.320137100693657, 17.668111655686555, 16.957355923857296, 15.772388452889615, 14.667442317439665, 13.859597242115322, 13.25368885624026, 12.700827740717347, 12.195555266184439, 11.747570044315687, 11.445972066451727, 11.218083951294341, 10.995353191216545, 10.705560790070255, 10.344989547230316, 10.028097547286134, 9.39646613777752, 8.813106210252649, 8.355779995592012, 7.9448592326331084, 7.592770533321671, 7.3394108289318165, 7.124049056719354, 6.936348458130064, 6.78707351531164, 6.527513552747594, 6.204469581279117, 5.810632352584321, 5.415971498715849, 5.162368288120426, 4.945502136606929, 4.7861820452668224, 4.579485157083617, 4.401587318047424, 4.208137173097785, 4.023440799846917, 3.867226768435997, 3.704746355554289, 3.5559809398170703, 3.401951977417615, 3.2509595884368148, 3.0944999415547993, 2.9617404750080696, 2.837494497024173, 2.693607439196634, 2.5724960861762853, 2.4576976313164725, 2.354539827291429, 2.2549525514840187, 2.1611590123889473, 2.068444707518128, 1.980343599348947, 1.8962494149410116, 1.8143530058186048, 1.737665944206097, 1.6601629317337396, 1.588212680244922, 1.5193673736176954, 1.454116875434688, 1.3916481309111044, 1.3318324552366771, 1.2745597459474154, 1.2197242529239856, 1.1672244247678611, 1.1169627589917688, 1.068845656082537, 1.0229960999819014, 0.9790013322790317, 0.9369966209045806, 0.8962499480133561, 0.8574926599875796, 0.8205508647035482, 0.7851969345629007, 0.7514425036286112, 0.7187672790323996, 0.6881614757010068, 0.658794585675652, 0.6308543437059624, 0.6029671005558415, 0.5764419761347279, 0.5512509850591474], \"yaxis\": \"y8\"}, {\"hovertemplate\": \"day: %{x} <br>val: %{y:.1f}\", \"mode\": \"lines\", \"name\": \"storespollen\", \"type\": \"scatter\", \"xaxis\": \"x8\", \"y\": [0.0, 0.0, 0.0, 0.0, 0.0, 0.0, 0.0, 0.0, 0.07070359372444283, 0.32018277660544026, 0.0, 0.0, 0.0, 0.013030352081495592, 0.1494586531573505, 0.24142684982835563, 0.0, 0.0, 0.0, 0.0, 0.0, 0.0, 0.0, 0.0, 0.10950329366595737, 0.0, 0.0, 0.0, 0.0, 0.09664841294355163, 1.4948754001298952, 3.290123057708822, 2.0022217545217726, 4.491345593843389, 7.224076809444813, 0.0, 0.0, 0.3986097378794306, 1.0097519099931354, 0.6693974411038586, 3.839705809583023, 1.75718478724903, 0.0, 0.22889521868426943, 2.5943947712726567, 3.0225765333045436, 7.58867624440422, 13.055582735166908, 0.0, 0.0, 0.0, 3.680131100138542, 0.011671106019186084, 6.256403824280376, 6.25335576545228, 7.655297634082416, 0.0, 0.0, 0.7964448185177946, 9.010006037603253, 0.0, 0.0, 0.0, 0.0, 0.0, 0.0, 0.0, 0.0, 2.3544431568598116, 0.0, 12.251242618823234, 32.67730209436992, 0.1859427219093206, 0.0, 0.0, 78.29009106941842, 12.345552582888146, 8.86065502257695, 87.29789937196, 130.25742882650354, 178.1653603072627, 156.52090388311626, 92.31146054549069, 60.35458245602072, 89.1422988630137, 29.730587545914346, 0.0, 3.7861319705142567, 0.0, 4.023435384976837, 0.0, 0.0, 104.41285492306443, 44.22036468358306, 54.44245025968425, 385.89734450662604, 574.2488700802237, 525.4660318530672, 533.7267947465051, 749.1811695008379, 1101.5863531767031, 1274.196309434988, 1176.2711787335477, 1060.9132307628706, 1027.4056576817939, 1165.8878810306348, 1374.512608717545, 1409.995895249313, 1271.5429812463512, 1257.940967391235, 1056.035783737968, 775.8119616585749, 485.54267621863175, 222.3553039414228, 283.78887888401334, 853.1336695812024, 964.0836962533805, 1035.8521326463508, 778.4475154427669, 497.9798006964565, 659.6015861947252, 710.4590006438784, 787.2260333521438, 1075.6388618518783, 1792.3419997001604, 1774.901563098044, 1989.8894767491179, 2223.741485584577, 2504.5461619809516, 2713.737284899664, 2447.352651873044, 1934.2113688635545, 1403.5892454823477, 918.2400335414028, 579.8074810404878, 243.1645526323369, 98.31496453917515, 245.24288723051927, 1049.9111390365792, 1460.325095108075, 1905.275462228076, 2049.4189722480405, 2209.950945403521, 2546.08340390871, 2056.270488043968, 2341.5653580721537, 2248.449558763959, 3048.6432273929095, 3079.465024921538, 3297.251990956804, 3466.310860099189, 3496.1294440074576, 3382.3280279953874, 3703.512486465062, 3773.6746013423663, 3536.7210669431133, 2839.1429832999925, 2525.190344832201, 2558.8363218643976, 1880.8552541392664, 1410.8928381602955, 1109.8161813225781, 1629.3301966222825, 1507.6193482375468, 1773.3471853039275, 1975.397085126923, 2306.7548808213573, 2349.7802085395456, 2219.1800399685108, 2128.5556080880506, 2209.0542639577666, 3030.1689680953505, 3202.1896764019893, 3571.114196747128, 3301.442307942003, 3466.537563337258, 3577.9787027677703, 3638.4113505889036, 4121.275859138264, 4274.133776210687, 4207.877014765272, 3847.2771021493095, 3877.007309064176, 3975.509090915142, 3561.8357121493655, 3680.2171254424748, 3918.400287092833, 4205.306035895581, 4053.474088511726, 4061.2064250930707, 3894.409497314943, 4214.660091256313, 4263.426787375845, 4117.662782043355, 3818.6223644806887, 4197.38272015317, 4251.16342653651, 3930.731520281822, 3735.2850676201388, 4088.5129323923597, 4039.026669897218, 4172.245781238287, 4214.29130848088, 4063.88762316639, 3930.15088525503, 4517.322463469257, 4263.291942446991, 4051.0820022378903, 4098.182643885908, 4077.786060062251, 4226.542252588228, 4105.224725441955, 4054.6797911854537, 4022.6665471766655, 4077.771942813455, 3891.499181417668, 3718.294268617209, 4009.3797050698286, 3865.4954828549667, 3769.287502319221, 3575.225861029855, 3919.448397026759, 3844.610269604379, 3821.9540004181817, 3758.6290566171006, 3556.0503817894814, 3721.751358374568, 3707.1297052947066, 3448.620463237122, 3442.712937798863, 3433.525105756551, 3322.708181706207, 3490.3971244015534, 3321.9340403550473, 3267.8033266871516, 3120.8805182830542, 3224.1813273302687, 3104.692690761499, 2896.5510760243296, 2953.2937782704726, 3005.075476008771, 2625.3012331856235, 2244.4650564881313, 1905.1056770519936, 2122.729311792564, 2339.3654029900254, 2083.5785603134677, 2169.971122282901, 2072.8739540879, 2007.594205289709, 1783.0211957535753, 1719.440998379568, 1719.0266115018076, 1824.715089082897, 1777.1478696420281, 1706.4481874127123, 1561.0413096846125, 1495.0816900855689, 1447.7486320548783, 1394.5002829542261, 1429.7319638610313, 1412.618743404557, 1300.3421093616203, 1154.908159838187, 1114.0005102711116, 966.0186306590365, 843.3224926254451, 737.2339875599309, 634.2459957544829, 387.0995977062054, 173.0599907774825, 12.536447742916778, 132.8029187337492, 129.13729671430917, 211.94645183507487, 100.70858484011677, 0.0, 0.0, 0.14989248035945132, 16.661395302545206, 94.94861379925696, 60.033323611503036, 88.841913022676, 56.35192355134525, 8.01907519491651, 0.0, 5.501736012549969, 0.5484975536215853, 0.0, 0.0, 0.0, 12.126801178752363, 46.60527473504111, 37.84454690756415, 26.346959198283685, 78.41038884944794, 41.38032905990076, 10.221151062872828, 20.42296954117713, 12.365275245691002, 0.0, 13.168786649516617, 14.261649367874854, 17.21465754279616, 40.87936372408306, 36.84547314236458, 40.61998327087106, 29.02996778134282, 0.0, 0.0, 0.7934921577187692, 14.013241740582497, 3.5258480920988227, 11.881984320111684, 9.455049138191956, 2.822266440931113, 10.151111873104792, 8.701328203421166, 7.212701909144254, 9.340483032876044, 12.638492642699745, 0.5983053362961606, 3.02792659720532, 11.224257234413242, 0.0, 0.0, 0.0, 0.17349792386788487, 0.0, 1.2983534145334854, 0.4152532171080894, 0.9343605435817759, 0.8778151340294085, 0.10541170397294652, 2.0008543405498633, 0.04111854103651069, 0.0, 0.0, 0.0, 0.0, 0.0, 0.0, 0.0, 0.0, 0.0, 0.0, 0.0, 0.0, 0.38230627598412226, 0.0, 0.0, 0.0, 0.0, 0.33513946068695716, 0.0, 0.00603883751541689, 0.06870609256544317, 1.2284493437946749, 0.4137024895580139, 0.0, 0.0, 0.0, 0.0, 0.0], \"yaxis\": \"y8\"}, {\"hovertemplate\": \"day: %{x} <br>val: %{y:.1f}\", \"mode\": \"lines\", \"name\": \"neednectar\", \"type\": \"scatter\", \"xaxis\": \"x9\", \"y\": [75.0, 74.27, 73.545, 72.825, 72.12220964381243, 71.427697860378, 70.74089470308759, 70.06504754129598, 69.47670199900116, 68.8964335142278, 68.09689350168243, 67.44218765311892, 66.7928434454769, 66.15906996498933, 65.55410710055175, 64.95695881008356, 64.28953539972886, 63.67741068860565, 63.070799075922125, 62.489710658069285, 61.89926070283685, 61.33446690356262, 60.775380169017566, 60.22203443062791, 59.708934723794826, 59.13779060654054, 58.62698816536287, 58.10215668950479, 57.60328907363327, 57.12191059254588, 57.172381554203035, 56.917662459361004, 56.38150818178238, 56.342091747332645, 55.567635117674975, 54.37030013527552, 53.96877261283774, 53.622149891017806, 53.312992990988306, 52.942981772705984, 53.11380370688587, 52.95844515357741, 51.78492482235763, 51.56306385559976, 52.06598292758764, 51.471790106618904, 51.80598596934297, 51.62504675991508, 50.264567661670505, 50.10383014825368, 49.9237943145977, 50.18160660230105, 49.60759768750246, 50.73448370342872, 50.90960121221214, 50.725984745730536, 49.46341283815197, 49.48609333514589, 49.675992509753684, 51.21582941763697, 49.691966879673416, 49.859060608292125, 50.108438904992234, 50.28199230942349, 50.54080840430937, 50.85202007754496, 51.20891012084668, 51.6191895521623, 52.423857866891574, 52.621508237699494, 55.075558320573364, 58.600931112411324, 54.790641648603206, 55.702564481465814, 56.57422481394511, 63.00379193868321, 58.282875104226754, 60.80954249097276, 70.07519098651596, 74.15919189275003, 73.61988175146686, 75.67723953220673, 74.2426582195444, 78.22422041992829, 80.04746710461205, 75.5767743482667, 73.94374254248919, 74.98698104354213, 75.04966488216895, 76.08121315303936, 77.10987083775194, 78.6206069140773, 87.17231462560463, 86.7433609868162, 88.26623068968735, 113.69670232512577, 117.3248971348505, 115.34377934470383, 130.71419257929844, 149.77442815508923, 158.74149274507295, 155.9471051472383, 155.06248439211575, 153.87723350389984, 151.2966490493584, 158.6792546415877, 163.72869456453728, 158.6342230682106, 158.73011073571888, 161.79382125117905, 153.38749312221316, 142.52077964098947, 135.89971792071069, 131.36925607834735, 145.97480460434286, 177.35203939542373, 169.07593643789227, 182.84905247588063, 174.26829359248916, 172.8486852126118, 200.37849518895777, 186.7154752611921, 198.42302951161585, 225.57858630915382, 249.27253802943167, 241.74303751486872, 259.5919489833299, 278.4539085487209, 289.0169675910199, 288.4968329611535, 275.92243439758454, 251.52469546526845, 239.1372254490007, 228.32831530372425, 221.9682880703842, 210.7572852639712, 205.98346599917113, 215.96498826286236, 257.91161330753187, 278.2894069473971, 296.5624999969307, 308.5094340398801, 343.27831898816993, 370.64247737537903, 308.98965432567957, 354.9669315307734, 342.7061885239077, 406.6156090369652, 396.2102898231296, 388.14251554374675, 383.00454613650703, 397.0646060401659, 399.11566688835626, 411.61412394494306, 441.73122200573437, 398.5387951386534, 367.3305905425003, 393.7035621979279, 410.0261098570169, 342.90613570806, 347.3267015029948, 342.25094916157343, 372.35100763692566, 342.0646263194054, 379.1458348081979, 390.99841043971566, 404.8098481380238, 458.07246650591765, 404.0765909608793, 414.76412279158603, 430.3779510307146, 483.3674564030688, 489.1683720246807, 447.6950334745667, 525.1826383433242, 499.5995845314733, 485.64561067511215, 528.595527753834, 595.9630941881347, 529.9950932421574, 624.3793217379471, 489.19293639349706, 501.0714076615027, 578.6362901615855, 481.84586332495354, 526.6282337033929, 541.7052757172235, 558.6445560184715, 590.0730827894902, 534.3258620144511, 538.8431323864617, 672.7336364732203, 596.7387300100909, 564.5254841297974, 550.503622437301, 575.9380864185171, 615.6778940390618, 574.5896944426562, 603.1611277621404, 617.3316180097371, 553.4037334869889, 549.4730459409736, 678.749126872166, 653.3074096557273, 638.0614001970035, 705.8436967846052, 548.6476392639387, 599.1457500149896, 633.7693637888443, 643.4178657295256, 754.3192890026249, 694.6851272940085, 555.9891183035711, 760.69937084252, 718.9346499437308, 627.6754524877166, 609.3177076144211, 589.9691954382607, 541.9691862156967, 521.9128275521599, 542.6520969014201, 556.6107858569644, 557.4289992346196, 667.3239986319785, 637.7560296047373, 622.0226799541647, 672.9124751981401, 619.3806113252896, 651.4108660291674, 665.154591448297, 547.0419284611526, 544.264230263303, 452.6472811389785, 495.09816815987296, 528.5119915339259, 557.1819918062074, 545.8051860358903, 527.2250232753722, 461.0759292969774, 602.800424816409, 510.0351956416347, 463.086712051253, 428.42591269570966, 419.1138455539648, 422.87050383801443, 425.5813945287947, 405.3871527292813, 403.050943975836, 393.8674058390929, 462.7730762785485, 398.1201077210722, 375.64755972177227, 380.94545213165094, 381.96775032335023, 427.57000683318836, 421.3813135425894, 379.60520104812895, 347.3659380200093, 334.311845680603, 368.43152454855186, 334.5252199031121, 334.31552573763497, 354.0766065650512, 333.45147421251033, 353.5714229199698, 337.2635063261063, 338.8879908941499, 304.97678823261253, 310.18730850057017, 254.64214510740234, 253.01110116993848, 247.07793268885268, 258.4347668944439, 253.98543554559288, 261.1987147686499, 244.85169921312385, 225.21803134619643, 222.73881785398427, 219.44003004222583, 220.28196539045706, 236.73604956777464, 228.29138277461283, 241.534668596459, 225.3089678831073, 206.57792927795754, 202.0107796848708, 200.76163965285295, 197.2412539664637, 194.7227736143865, 192.5619167613224, 190.4317221110119, 190.5490547450756, 191.68948325985076, 192.80614318631885, 191.74377371937865, 190.50655605494094, 193.45637314272292, 179.63356645251278, 180.07886852842455, 177.23269721003237, 170.58003852735783, 171.33775688393703, 171.7014159905079, 168.78400267130428, 168.88582539675835, 167.91757483320896, 163.90470954493478, 166.25805317236018, 156.26076153998181, 154.54144772991984, 153.05874085962165, 155.92138758370373, 151.15452868842996, 152.155825974908, 148.74877238033298, 145.69706235500897, 144.8868108453924, 143.20418717832277, 141.59536559852498, 140.35700313397442, 139.10265351070672, 135.66412515896982, 134.58400677558836, 134.45017927645475, 131.09089566913207, 129.68448171518264, 128.28982206853166, 126.9463817618462, 125.5319163466398, 124.54909103649291, 122.93421247349565, 121.68530467343777, 120.5102789600282, 119.02822375004766, 118.23136792023205, 116.50385625544476, 115.27604422286632, 114.05579906415302, 112.87035801719661, 111.67603828172152, 110.51233505526534, 109.36435139608257, 108.22692129972502, 107.12001907872506, 106.00362282919059, 104.89771151283787, 103.82226492646035, 102.73726367215326, 101.84739197550746, 100.62356615299069, 99.59481224124451, 98.57645608159622, 97.56834594647161, 96.65614219968279, 95.57828231414314, 94.59788724814754, 93.64850306508514, 92.98048776855474, 91.83965615798917, 90.7710970539484, 89.84054235443381, 88.91998974072808, 88.0247091346178, 87.11969495196392], \"yaxis\": \"y9\"}, {\"hovertemplate\": \"day: %{x} <br>val: %{y:.1f}\", \"mode\": \"lines\", \"name\": \"neednectar_adult\", \"type\": \"scatter\", \"xaxis\": \"x9\", \"y\": [75.0, 74.27, 73.545, 72.825, 72.115, 71.41, 70.715, 70.025, 69.40940352453526, 68.82450547265435, 68.02, 67.36, 66.70500000000001, 66.06523323308465, 65.4538402218962, 64.8498069472989, 64.17500000000001, 63.55500000000001, 62.94, 62.35, 61.75, 61.175000000000004, 60.605, 60.04, 59.51445555152022, 58.93, 58.405, 57.865, 57.35, 56.85137334032909, 56.883406664406664, 56.6085205581589, 56.04996508646375, 55.986443942697086, 55.185557050484206, 53.96, 53.53, 53.15504564809382, 52.82079469946011, 52.419381607047065, 52.55577458890766, 52.360111590893055, 51.144999999999996, 50.878731169966414, 51.339406515041105, 50.697987897984405, 50.978896832340936, 50.733924963610434, 49.300000000000004, 49.07, 48.825, 49.03759268357734, 48.39398847261546, 49.446666986295, 49.52571938774302, 49.24798486561398, 47.870000000000005, 47.795, 47.88603423337917, 49.338891858409205, 47.690000000000005, 47.730000000000004, 47.835, 47.894999999999996, 48.015, 48.18000000000001, 48.375, 48.615, 49.24073779826439, 49.245, 51.499603881959565, 54.78295582350749, 50.668497190002476, 51.290000000000006, 51.894999999999996, 58.21915674165598, 53.08, 55.25003310935547, 63.99464247027536, 67.83427064265548, 66.62868478678314, 67.59529267544644, 65.16000145902262, 68.51791815516616, 70.40103249833244, 66.16158552899743, 64.67, 65.64213291232305, 65.805, 66.76306669412176, 67.535, 68.715, 76.87563063184851, 75.75624841703882, 76.60370162465169, 101.09140143667317, 103.42472107950884, 98.78039238887818, 110.41225594381875, 126.78575388435087, 134.4818917611322, 130.17033517950316, 126.13559796095187, 121.4177956932715, 117.31426224391294, 126.1596056861683, 133.43512487240287, 128.73917957516645, 126.98790178828342, 127.66693692112005, 118.19238241943123, 108.51517928031298, 104.16510900972193, 102.61448641248842, 120.16542933315083, 153.75985954346132, 145.42710150915084, 156.45227991561487, 143.00726871927426, 138.77678356624145, 166.4463587316035, 155.68859325506435, 169.58597462540138, 196.28479491828494, 217.8615980201774, 205.52495908263765, 217.51150301927294, 229.94353098910148, 237.97883843823223, 235.90888095215408, 222.73926057257898, 197.5335767213028, 186.28050392918627, 179.8658242169765, 180.0408849417834, 175.0080848749009, 175.03863811338576, 188.35217036234803, 232.32681283148557, 251.4018951033836, 264.86300976858195, 268.2076651638149, 295.4913523056229, 317.5437231862751, 254.5529231036082, 301.31388293400965, 289.759866012264, 355.5777717609201, 342.94038805246225, 332.1209176609927, 321.21168331095964, 332.7395094770917, 333.3057632190801, 346.9349573831667, 377.84835526849764, 335.0321178104398, 302.951337795178, 330.62254753633005, 350.6376573553715, 288.80439645387173, 297.44498467135537, 295.69513971732135, 330.27139641054015, 302.60371215718993, 340.5932488203101, 349.91357005407104, 361.67068031951715, 411.51431874668367, 355.0437441105446, 363.78836657953775, 379.70698726820393, 433.9451977409124, 439.2444609630488, 394.69298855538864, 466.06781868272583, 436.97688807112627, 421.45520584843104, 466.59547094331947, 534.8281042339843, 468.3205088958158, 560.2767826636184, 422.10754207055993, 433.48544552891116, 512.8526377034913, 419.1022713495914, 465.7681755349422, 481.63839845102416, 499.0478481068301, 529.060941334375, 471.62854845215315, 474.6729525277931, 609.3834015839844, 534.255773773526, 502.80271889913536, 487.94959432777046, 513.6383668034449, 553.9727885134928, 513.8039923759195, 541.98993278125, 556.788959661394, 493.9293581458596, 490.92588187403487, 619.3581882163446, 593.1945222547812, 577.2997861205067, 645.8538444947644, 489.2208339652706, 539.9583976113374, 573.6452926843992, 584.1434913897751, 696.214224165, 637.4759297783565, 499.0288113055787, 703.5536372436522, 662.3757828492187, 571.7605409655274, 554.3563823406595, 535.9717325500395, 488.99232577249484, 469.6193126581363, 490.2656944042311, 505.1471678970721, 506.6468769260257, 617.3576180452619, 587.2790477559064, 571.8196906635054, 623.4073879017635, 571.1389722817225, 604.2570373503185, 618.4889841209516, 501.1608018376479, 499.55584007051993, 408.94308093819456, 452.00333799102754, 485.93704916695253, 514.8841903190682, 504.696125210536, 487.1253579840934, 422.1787323154773, 564.658201618483, 472.9796561709216, 426.9816805656559, 393.23048619070386, 385.43087271180195, 392.05354346808326, 397.4654495089761, 378.7218257129623, 376.12973659413615, 366.37087166586105, 435.686279063707, 371.66259423674614, 350.604519191579, 357.2119264613542, 359.6605549999376, 405.9154220734167, 399.9579852550072, 358.1731747934722, 326.501536064514, 314.403725282747, 349.74050294395835, 316.7860420793407, 317.22980189328166, 337.413378926714, 317.1422885962842, 337.92237427944224, 322.56198436628915, 325.30840181129923, 292.4020822054142, 298.69123774116514, 244.13, 243.57768606755087, 238.83507903670827, 251.58815244337444, 248.18324961961778, 256.0205562821333, 239.68745946246304, 220.17000000000002, 217.85000000000002, 215.02273905388338, 216.28449481820584, 232.97670579978836, 224.62140490645527, 237.9006135789862, 221.65770028495294, 203.05669588866024, 198.63, 197.6190974092824, 194.32140078887397, 191.965, 189.925, 187.90500000000003, 188.12286541533663, 189.3523687798443, 190.52867464513258, 189.51074514298892, 188.3163846138187, 191.32358106025214, 177.5725067480511, 178.07959468326544, 175.3603691729523, 168.825, 169.6740834540165, 170.1199609957365, 167.27292501563997, 167.4248614254566, 166.49925893645968, 162.52338467373224, 164.90569616953522, 154.96, 153.305, 151.90124562899084, 154.84333608602188, 150.12717665008867, 151.1716887452346, 147.79603752786048, 144.78557568315063, 144.01057358117188, 142.3665149468693, 140.79454183225678, 139.58717079882393, 138.36517287607077, 134.95624328504812, 133.90676535924638, 133.802973138162, 130.47500000000002, 129.095, 127.72500000000001, 126.41033829075731, 125.02000000000001, 124.06005051238049, 122.46569298931108, 121.23659898397621, 120.08021966355565, 118.61661877627016, 117.83728795844682, 116.12651019703523, 114.915, 113.71000000000001, 112.54, 111.36, 110.21000000000001, 109.075, 107.95, 106.855, 105.75, 104.655, 103.59, 102.515, 101.63470284720123, 100.42, 99.39999999999999, 98.39, 97.39, 96.48550872521618, 95.415, 94.44163961825447, 93.49897053671702, 92.83745871166961, 91.70271653327097, 90.64, 89.71499999999999, 88.8, 87.91, 87.01], \"yaxis\": \"y9\"}, {\"hovertemplate\": \"day: %{x} <br>val: %{y:.1f}\", \"mode\": \"lines\", \"name\": \"neednectar_larvae\", \"type\": \"scatter\", \"xaxis\": \"x9\", \"y\": [0.0, 0.0, 0.0, 0.0, 0.007209643812435258, 0.017697860378004034, 0.025894703087593632, 0.040047541295982494, 0.06729847446589474, 0.07192804157344274, 0.07689350168244144, 0.08218765311892348, 0.08784344547689499, 0.09383673190467123, 0.10026687865555067, 0.1071518627846659, 0.11453539972884755, 0.12241068860564142, 0.13079907592212708, 0.13971065806928196, 0.14926070283684528, 0.15946690356261345, 0.17038016901757014, 0.1820344306279083, 0.19447917227460607, 0.20779060654054432, 0.2219881653628693, 0.23715668950478447, 0.2532890736332713, 0.2705372522167892, 0.28897488979637287, 0.3091419012021053, 0.33154309531862636, 0.35564780463555856, 0.3820780671907674, 0.4103001352755222, 0.4387726128377357, 0.4671042429239869, 0.4921982915281939, 0.5236001656589173, 0.5580291179782046, 0.5983335626843518, 0.6399248223576346, 0.6843326856333423, 0.7265764125465333, 0.7738022086344984, 0.8270891370020319, 0.8911217963046453, 0.9645676616705019, 1.0338301482536743, 1.0987943145976953, 1.144013918723717, 1.213609214887002, 1.2878167171337207, 1.3838818244691202, 1.4779998801165575, 1.593412838151966, 1.6910933351458897, 1.7899582763745117, 1.8769375592277604, 2.00196687967341, 2.1290606082921206, 2.2734389049922346, 2.3869923094234897, 2.5258084043093643, 2.672020077544951, 2.8339101208466846, 3.0041895521622926, 3.1831200686271846, 3.3765082376994937, 3.5759544386137962, 3.817975288903829, 4.122144458600732, 4.412564481465809, 4.679224813945108, 4.784635197027232, 5.202875104226757, 5.5595093816172865, 6.080548516240604, 6.324921250094544, 6.991196964683717, 8.081946856760284, 9.082656760521767, 9.706302264762135, 9.64643460627962, 9.415188819269254, 9.273742542489183, 9.344848131219077, 9.244664882168943, 9.318146458917589, 9.574870837751945, 9.905606914077296, 10.296683993756115, 10.98711256977738, 11.662529065035653, 12.605300888452604, 13.900176055341666, 16.563386955825653, 20.3019366354797, 22.988674270738365, 24.259600983940743, 25.77676996773512, 28.92688643116388, 32.459437810628344, 33.982386805445444, 32.51964895541941, 30.2935696921344, 29.895043493044128, 31.742208947435444, 34.12688433005899, 35.19511070278194, 34.00560036067648, 31.734608910988765, 28.754769665858944, 25.809375271192035, 23.5921798519624, 23.648834928741408, 26.396772560265774, 31.261024873214907, 34.07190164637036, 33.932136457354254, 31.02688200612775, 28.83705488621448, 29.29379139086887, 31.41094000925427, 36.21807843223107, 42.08044596405697, 48.510377559619435, 51.03812915278772, 52.58795200899942, 53.18317382500554, 53.99111874396565, 52.85672151981443, 48.46249108674775, 41.927403128600815, 35.749200389070296, 30.94482788578538, 27.612817900514322, 25.58480047604627, 26.887511844013503, 31.699490228348722, 40.30176887606518, 47.786966682547, 53.09875418910393, 54.43673122207137, 53.65304859676375, 52.946322511643714, 51.037837276045124, 53.26990177066733, 56.02159788275404, 61.7928628255474, 64.32509656307423, 65.80990366927612, 64.67916656177637, 63.882866737236725, 63.50667732821364, 64.37925274732231, 63.08101466159786, 59.38845250164539, 54.101739254188246, 49.88171683163944, 46.55580944425206, 42.07961122638549, 39.460914162215495, 38.55258598788778, 41.084840385644625, 43.139167818506685, 46.558147759233975, 49.03284685033471, 50.97575621204827, 50.670963762510695, 49.422258662156395, 49.923911061631856, 53.00204491917802, 59.114819660598464, 62.62269646034699, 64.19040482668109, 62.000056810514494, 61.13498995415044, 61.674584346341604, 64.1025390743286, 67.08539432293713, 67.5859621325915, 65.78365245809425, 62.743591975362186, 60.86005816845066, 60.066877266199256, 59.59670791164142, 61.01214145511515, 62.697313562297914, 64.17017985866855, 63.350234889235864, 62.482956236564895, 61.722765230662, 62.55402810953062, 62.29971961507211, 61.705105525568996, 60.78570206673664, 61.171194980890405, 60.542658348343124, 59.47437534112926, 58.547164066938805, 59.39093865582137, 60.1128874009461, 60.76161407649677, 59.98985228984076, 59.426805298668086, 59.18735240365223, 60.12407110444511, 59.27437433975052, 58.10506483762492, 57.20919751565185, 56.960306997992426, 57.145733598867814, 56.55886709451221, 55.91491152218923, 54.96132527376169, 53.997462888221236, 52.9768604432019, 52.29351489402357, 52.386402497189, 51.46361795989236, 50.7821223085939, 49.96638058671659, 50.47698184883092, 50.202989290659296, 49.50508729637657, 48.24163904356701, 47.15382867884894, 46.66560732734533, 45.88112662350467, 44.708390192783156, 43.704200200783916, 43.09483016884541, 42.57494236697336, 42.29780148713914, 41.10906082535433, 40.09966529127885, 38.89719698150008, 38.14222319792604, 37.0555394707131, 36.10503148559711, 35.19542650500582, 33.6829728421628, 30.81696036993116, 28.11594501981859, 26.66532701631902, 26.921207381699865, 27.496534173231844, 27.086797214841507, 26.45751348432607, 25.043040530193238, 23.733525670296736, 22.307195323412664, 21.65458475977161, 21.423328287582187, 21.432026254656755, 20.864401955495286, 19.908120397856038, 18.691021604593505, 17.739177823771414, 17.08572384435329, 16.66322763833714, 16.309185616226188, 15.649048640527539, 14.701521959817146, 13.579589082850639, 12.574706027198303, 11.496070759405004, 10.512145107402358, 9.433415102387617, 8.242853652144422, 6.846614451069468, 5.802185925975099, 5.1781584865165815, 5.164239750660824, 5.048031346196416, 4.888817853984243, 4.417290988342433, 3.9974705722512094, 3.7593437679862696, 3.669977868157546, 3.634055017472809, 3.6512675981543725, 3.5212333892972874, 3.3807796848708054, 3.14254224357055, 2.9198531775897107, 2.757773614386499, 2.6369167613223956, 2.5267221110118645, 2.4261893297389707, 2.3371144800064454, 2.277468541186255, 2.2330285763897146, 2.190171441122218, 2.132792082470783, 2.0610597044616705, 1.9992738451591197, 1.8723280370800848, 1.7550385273578277, 1.6636734299205154, 1.5814549947714038, 1.5110776556643164, 1.4609639713017293, 1.418315896749275, 1.3813248712025354, 1.3523570028249587, 1.3007615399818082, 1.2364477299198255, 1.1574952306308273, 1.0780514976818445, 1.0273520383412955, 0.9841372296734043, 0.9527348524724886, 0.9114866718583501, 0.8762372642205104, 0.8376722314534766, 0.8008237662681826, 0.7698323351504706, 0.7374806346359386, 0.7078818739216954, 0.6772414163419722, 0.6472061382927523, 0.6158956691320523, 0.5894817151826466, 0.5648220685316612, 0.5360434710888851, 0.5119163466397892, 0.4890405241124228, 0.46851948418456607, 0.4487056894615635, 0.4300592964725489, 0.4116049737775002, 0.3940799617852264, 0.377346058409528, 0.3610442228663059, 0.3457990641530097, 0.3303580171965974, 0.3160382817215148, 0.3023350552653286, 0.28935139608255966, 0.27692129972501645, 0.26501907872506403, 0.2536228291905922, 0.2427115128378779, 0.23226492646034036, 0.22226367215325796, 0.21268912830624082, 0.20356615299068515, 0.19481224124451896, 0.1864560815962198, 0.1783459464716023, 0.17063347446661928, 0.16328231414312822, 0.15624762989307905, 0.14953252836811393, 0.1430290568851274, 0.1369396247182, 0.1310970539483941, 0.12554235443381753, 0.11998974072808546, 0.11470913461779865, 0.10969495196391571], \"yaxis\": \"y9\"}, {\"hovertemplate\": \"day: %{x} <br>val: %{y:.1f}\", \"mode\": \"lines\", \"name\": \"usagehoney\", \"type\": \"scatter\", \"xaxis\": \"x10\", \"y\": [30.0, 29.708, 29.418000000000003, 29.130000000000003, 28.84888385752497, 28.571079144151202, 28.29635788123504, 28.026019016518394, 27.790680799600466, 27.45782668627785, 26.784049201359746, 26.97687506124757, 26.717137378190763, 26.463627985995732, 26.197206910960155, 25.947814677287734, 25.49028955715632, 25.47096427544226, 25.22831963036885, 24.995884263227715, 24.75970428113474, 24.53378676142505, 24.310152067607028, 24.088813772251164, 23.883573889517933, 23.530735107505137, 23.45079526614515, 23.240862675801917, 23.041315629453308, 22.848764237018354, 22.67429190427822, 19.77216638320765, 17.93934443758505, 18.12069757727398, 18.674439976537766, 18.884654097465383, 21.587509045135096, 21.448859956407123, 21.099618023842883, 20.799725348566326, 20.3772458530847, 18.37485143006536, 17.172715512752013, 20.625225542239903, 20.38645609506243, 17.01794341380752, 17.407308208847216, 14.80045428532117, 16.07467729110034, 20.041532059301474, 19.969517725839083, 20.07264264092042, 18.35159581511331, 20.27504146750075, 13.938803248941284, 15.473170260930317, 14.072758827833889, 19.794437334058358, 19.870397003901473, 19.79549740454382, 12.340938600334752, 19.94362424331685, 20.043375561996896, 20.112796923769395, 20.21632336172375, 20.340808031017986, 20.483564048338675, 20.64767582086492, 20.96954314675663, 19.428005440791708, 22.030223328229347, 15.974186215847215, 5.941042494123249, 22.149018597552704, 22.629689925578045, 25.201516775473284, 8.574122540023765, 24.323816996389105, 24.17582620327031, 0.7927475661711356, 0.0, 8.102262866299753, 15.314308864288842, 19.398658447623014, 18.738142858436053, 25.271868065190123, 26.50630723153486, 29.994792417416853, 29.88503839144017, 30.432485261215746, 30.621070198487043, 31.448242765630923, 34.86892585024185, 32.57447760855448, 33.416577190370916, 45.05810675654774, 46.11343368266569, 37.08765097960551, 13.425088261329842, 39.40629285457695, 63.496597098029184, 62.378842058895316, 56.23849124396012, 61.55089340155994, 60.51865961974336, 63.471701856635086, 65.49147782581491, 63.45368922728424, 63.49204429428755, 64.71752850047163, 61.35499724888527, 57.00831185639579, 54.359887168284274, 52.54770243133894, 58.38992184173715, 70.94081575816949, 67.6303745751569, 73.13962099035226, 69.70731743699567, 69.13947408504472, 80.15139807558312, 74.68619010447684, 79.36921180464634, 90.23143452366153, 99.70901521177268, 79.7148963182774, 52.92674467293066, 101.9740260037464, 115.60678703640798, 115.39873318446139, 110.36897375903382, 100.60987818610738, 95.65489017960029, 91.33132612148971, 88.78731522815369, 84.30291410558848, 82.39338639966846, 86.38599530514495, 103.16464532301275, 111.31576277895884, 52.930931024883925, 0.0, 16.906948027640123, 0.0, 0.0, 117.88100951743004, 107.40395537014629, 69.30262321347409, 62.1426056530049, 0.0, 62.45124242797895, 158.8258424160664, 159.6462667553425, 81.84940506174911, 125.90422241581155, 22.242592287771643, 41.48358029121346, 148.06580670179986, 142.6134787980389, 107.12995462522852, 136.9627700893968, 131.01540720563284, 144.2055111548964, 123.7610885699712, 89.78481665881728, 86.92562655880718, 0.0, 0.0, 0.0, 0.0, 0.0, 0.0, 0.0, 0.0, 0.0, 0.0, 0.0, 50.34314445172286, 0.0, 0.0, 0.0, 0.0, 0.0, 0.0, 0.0, 0.0, 0.0, 0.0, 0.0, 0.0, 0.0, 0.0, 0.0, 0.0, 0.0, 0.0, 0.0, 0.0, 0.0, 0.0, 0.0, 0.0, 0.0, 0.0, 0.0, 0.0, 0.0, 0.0, 0.0, 0.0, 0.0, 0.0, 0.0, 0.0, 0.0, 0.0, 0.0, 0.0, 0.0, 0.0, 0.0, 0.0, 0.0, 0.0, 0.0, 0.0, 0.0, 0.0, 0.0, 0.0, 0.0, 0.0, 0.0, 59.9824119436418, 0.0, 0.0, 0.0, 0.0, 0.0, 0.0, 0.0, 0.0, 0.0, 0.0, 0.0, 0.0, 0.0, 0.0, 0.0, 3.181476340448694, 0.0, 0.0, 0.0, 0.0, 0.0, 0.0, 0.0, 0.0, 0.0, 72.94737970426141, 0.0, 0.0, 0.0, 0.0, 0.0, 0.0, 0.0, 0.0, 0.0, 0.0, 101.2044404679754, 82.10459456800106, 91.61281351971466, 6.853465340000605, 26.325215008597343, 0.0, 5.742235982760133, 89.09552714159372, 87.77601201689033, 87.89632414438772, 70.0142346990445, 0.0, 0.0, 0.0, 0.0, 66.68027572550635, 80.30465586114119, 73.46855025583602, 76.94263044771225, 77.02476670452897, 76.17268884440476, 76.21962189803024, 65.70784587362799, 53.135643097005556, 45.914164304257014, 24.965859236774907, 39.605464345468135, 0.0, 51.743520305659345, 48.546190034999285, 44.0757724736595, 68.53510275357482, 57.120982010364436, 39.19598552389786, 55.00109572545128, 39.521584265280474, 29.581588126562913, 50.88205866139784, 28.64857677293044, 61.81657909196794, 61.223496343848666, 61.34091066904752, 31.724554061094217, 53.423794095508725, 39.19274498573857, 45.458247265847824, 51.93624599235795, 47.50833887721053, 50.39105817814752, 49.657702558053856, 44.76999781055234, 42.79066134967803, 52.5165294407066, 50.80454137531416, 43.5369127100681, 51.87379268607306, 51.31592882741267, 50.77855270473848, 50.039283013916545, 49.81963641459717, 47.735944956865005, 48.39660321036169, 47.635734114917845, 46.235649764211445, 47.05595755430238, 44.354304599084166, 46.01745155082665, 45.62231962566121, 45.14814320687864, 44.67041531268861, 44.20493402210614, 43.74574055843303, 43.29076851989001, 42.84800763149003, 42.40144913167624, 41.95908460513515, 41.52890597058414, 41.094905468861306, 40.73895679020299, 39.368236858494356, 39.83792489649781, 39.43058243263849, 39.027338378588645, 38.66245687987312, 37.68712262001916, 37.83915489925902, 37.448874409591085, 37.03234085396129, 34.82812935487092, 35.4616120065712, 35.93621694177352, 35.56799589629124, 35.20988365384712, 34.84787798078557], \"yaxis\": \"y10\"}, {\"hovertemplate\": \"day: %{x} <br>val: %{y:.1f}\", \"mode\": \"lines\", \"name\": \"usagenectar\", \"type\": \"scatter\", \"xaxis\": \"x10\", \"y\": [0.0, 0.0, 0.0, 0.0, 0.0, 0.0, 0.0, 0.0, 0.0, 0.2518667985331781, 1.136770498283077, 0.0, 0.0, 0.0, 0.061089823151366456, 0.08742211686423684, 0.5638115068380646, 0.0, 0.0, 0.0, 0.0, 0.0, 0.0, 0.0, 0.0, 0.31095283777770527, 0.0, 0.0, 0.0, 0.0, 0.48665179350749227, 7.487246501341878, 11.53314708781976, 11.040347804147697, 8.88153517633057, 7.158664891612073, 0.0, 0.0, 0.5639479313811016, 0.9436684012901677, 2.1706890741741303, 7.021316578414013, 8.853136040477601, 0.0, 1.0998426899315612, 8.926931572100113, 8.287715447224933, 14.623911046612157, 10.077874433919657, 0.0, 0.0, 0.0, 3.728608149719194, 0.046880034676854976, 16.06259308985893, 12.043059093404743, 14.28151576856725, 0.0, 0.0, 1.7270859062774229, 18.83962037883654, 0.0, 0.0, 0.0, 0.0, 0.0, 0.0, 0.0, 0.0, 4.0514946357202275, 0.0, 18.665465572793288, 39.93803541329508, 0.330017987584057, 0.0, 0.0, 36.84756875416734, 0.0, 9.635625478340192, 72.17732297732219, 73.61988175146686, 55.42158236645734, 35.95688605882229, 29.727574300870756, 33.20210995852192, 12.39710418529139, 7.6779744636520455, 0.0, 0.3370689035685411, 0.0, 0.5571953415343346, 0.0, 0.0, 5.3071669654299995, 4.724787713760062, 1.0514354337564322, 2.041312928186269, 22.62465189569005, 97.15147192597384, 51.25869601864686, 0.0, 0.0, 14.466256282215443, 0.0, 0.0, 0.0, 0.0, 0.0, 0.0, 0.0, 0.0, 0.0, 0.0, 0.0, 0.0, 0.0, 0.0, 0.0, 0.0, 0.0, 0.0, 0.0, 0.0, 0.0, 0.0, 42.45579671917525, 127.27508730100328, 23.51884353935492, 0.0, 0.0, 0.0, 0.0, 0.0, 0.0, 0.0, 0.0, 0.0, 0.0, 0.0, 0.0, 164.23517243472088, 308.5094340398801, 301.0109489190696, 370.64247737537903, 308.98965432567957, 60.264407737198326, 74.196300098542, 233.35905100328, 240.85377569061734, 388.14251554374675, 226.87644006655967, 0.0, 0.0, 206.99061129057029, 126.97066596620553, 342.9323144192243, 263.6216398144667, 23.53904544342828, 53.49241286191966, 75.0812491449887, 4.919776279502841, 14.712431147491365, 11.837229749684635, 32.66190489447747, 154.6837931611547, 173.68434404269772, 404.8098481380238, 458.07246650591765, 404.0765909608793, 414.76412279158603, 430.3779510307146, 483.3674564030688, 489.1683720246807, 447.6950334745667, 525.1826383433242, 499.5995845314733, 485.64561067511215, 402.7376666245268, 595.9630941881347, 529.9950932421574, 624.3793217379471, 489.19293639349706, 501.0714076615027, 578.6362901615855, 481.84586332495354, 526.6282337033929, 541.7052757172235, 558.6445560184715, 590.0730827894902, 534.3258620144511, 538.8431323864617, 672.7336364732203, 596.7387300100909, 564.5254841297974, 550.503622437301, 575.9380864185171, 615.6778940390618, 574.5896944426562, 603.1611277621404, 617.3316180097371, 553.4037334869889, 549.4730459409736, 678.749126872166, 653.3074096557273, 638.0614001970035, 705.8436967846052, 548.6476392639387, 599.1457500149896, 633.7693637888443, 643.4178657295256, 754.3192890026249, 694.6851272940085, 555.9891183035711, 760.69937084252, 718.9346499437308, 627.6754524877166, 609.3177076144211, 589.9691954382607, 541.9691862156967, 521.9128275521599, 542.6520969014201, 556.6107858569644, 557.4289992346196, 667.3239986319785, 637.7560296047373, 622.0226799541647, 672.9124751981401, 619.3806113252896, 651.4108660291674, 665.154591448297, 547.0419284611526, 544.264230263303, 452.6472811389785, 345.14213830076847, 528.5119915339259, 557.1819918062074, 545.8051860358903, 527.2250232753722, 461.0759292969774, 602.800424816409, 510.0351956416347, 463.086712051253, 428.42591269570966, 419.1138455539648, 422.87050383801443, 425.5813945287947, 405.3871527292813, 403.050943975836, 393.8674058390929, 454.81938542742677, 398.1201077210722, 375.64755972177227, 380.94545213165094, 381.96775032335023, 427.57000683318836, 421.3813135425894, 379.60520104812895, 347.3659380200093, 334.311845680603, 186.06307528789836, 334.5252199031121, 334.31552573763497, 354.0766065650512, 333.45147421251033, 353.5714229199698, 337.2635063261063, 338.8879908941499, 304.97678823261253, 310.18730850057017, 254.64214510740234, 0.0, 41.816446268850065, 29.402733095157252, 236.85177219559137, 195.38567724715654, 244.85169921312385, 210.8624413892961, 0.0, 0.0, 0.5411550294877818, 61.70046282016341, 228.29138277461283, 241.534668596459, 225.3089678831073, 206.57792927795754, 35.310090371104934, 0.0, 13.569878326873638, 2.366197495105924, 0.0, 0.0, 0.0, 27.419868575780825, 59.96703544380499, 76.95836295873612, 128.09190796300368, 94.44271227905259, 179.63356645251278, 50.720067764276195, 55.86722212253417, 60.3906073432091, 0.0, 28.89896096459682, 70.79403886155964, 31.383086083130166, 69.11361417000778, 89.9507392285275, 39.05290651886558, 84.63931960765572, 0.0, 0.0, 2.5691109110849553, 71.84314353569442, 18.5963407361362, 50.76690991598656, 32.05144419038942, 15.046195864497548, 24.433339985296456, 15.617720153156192, 16.21274673883978, 27.177658984325877, 28.68747178477474, 3.2926831738218603, 7.4388258381693575, 22.248613893961814, 0.0, 0.0, 0.0, 0.43370881184844495, 0.0, 3.5943500813331477, 0.6937966475335404, 1.4209436727336042, 3.439099339519058, 0.5914740344760885, 5.618094757734357, 0.2324153457996916, 0.0, 0.0, 0.0, 0.0, 0.0, 0.0, 0.0, 0.0, 0.0, 0.0, 0.0, 0.0, 2.2029740067548027, 0.0, 0.0, 0.0, 0.0, 1.360475764095235, 0.0, 0.026317041107439362, 0.3996356336515255, 4.76933277081187, 2.117067037520405, 0.0, 0.0, 0.0, 0.0], \"yaxis\": \"y10\"}, {\"hovertemplate\": \"day: %{x} <br>val: %{y:.1f}\", \"mode\": \"lines\", \"name\": \"usagepollen\", \"type\": \"scatter\", \"xaxis\": \"x10\", \"y\": [0.0, 0.0, 0.0, 0.0, 0.0, 0.0, 0.0, 0.0, 0.0, 0.07070359372444283, 0.32018277660544026, 0.0, 0.0, 0.0, 0.013030352081495592, 0.1494586531573505, 0.24142684982835563, 0.0, 0.0, 0.0, 0.0, 0.0, 0.0, 0.0, 0.0, 0.10950329366595737, 0.0, 0.0, 0.0, 0.0, 0.09664841294355163, 1.4948754001298952, 3.290123057708822, 2.0022217545217726, 4.491345593843389, 7.224076809444813, 0.0, 0.0, 0.3986097378794306, 1.0097519099931354, 0.6693974411038586, 3.839705809583023, 1.75718478724903, 0.0, 0.22889521868426943, 2.5943947712726567, 3.0225765333045436, 7.58867624440422, 13.055582735166908, 0.0, 0.0, 0.0, 3.680131100138542, 0.011671106019186084, 6.256403824280376, 6.25335576545228, 7.655297634082416, 0.0, 0.0, 0.7964448185177946, 9.010006037603253, 0.0, 0.0, 0.0, 0.0, 0.0, 0.0, 0.0, 0.0, 2.3544431568598116, 0.0, 12.251242618823234, 32.67730209436992, 0.1859427219093206, 0.0, 0.0, 65.94453848653028, 12.345552582888146, 8.86065502257695, 76.53807025544663, 80.88679930503355, 88.21657962934604, 94.82857537000521, 92.31146054549069, 60.35458245602072, 89.1422988630137, 29.730587545914346, 0.0, 3.7861319705142567, 0.0, 4.023435384976837, 0.0, 0.0, 104.41285492306443, 44.22036468358306, 54.44245025968425, 150.20004887945856, 168.19645655523064, 183.4701977130148, 209.19346668116816, 239.11525509442956, 264.7046100168378, 287.3757970936033, 300.85326047014814, 300.62646826942785, 297.8115752500425, 296.6064919673609, 303.8526515406189, 314.1203715614707, 317.7073091270534, 320.83020554550234, 313.8487931621577, 290.26928543994313, 263.18737227720896, 222.3553039414228, 227.03405705043633, 254.539107858331, 286.975529737783, 312.3119770970782, 324.03312790692854, 310.32860539734486, 309.8446504829309, 307.6958716651118, 310.2158037196703, 336.72644087128515, 394.1125619124502, 423.1791582417368, 472.933955273556, 525.6458183028539, 549.578294427906, 569.9618529431153, 563.5558302893228, 530.6221233812068, 485.3492119409449, 433.966802357712, 384.5562673295797, 243.1645526323369, 98.31496453917515, 245.24288723051927, 355.40105584615833, 386.9563357014497, 437.3595795022677, 496.88705891812, 552.0231706912273, 602.8539269537097, 587.8150456751775, 599.0333091168404, 590.7353588249669, 621.0492010252033, 638.0094570631531, 670.1597333630054, 719.0367672311744, 742.3715821314486, 752.080434336904, 767.4363596061922, 770.6693127120208, 760.418294901969, 734.1671911048041, 713.7558227524424, 694.6321386604149, 629.1128402894295, 581.1602509517827, 546.1265702489726, 544.4048004114454, 519.8016212200653, 525.5603420716764, 548.4667936774302, 575.7337233449543, 597.1846080168978, 605.1014145268655, 612.0109157289631, 613.3691683699379, 645.6467120208189, 656.3211016922374, 694.6590753015614, 720.6941173002688, 754.2467552855508, 772.9328719652415, 766.5219314187442, 788.530313117702, 802.3306111610935, 817.3009019384639, 821.0130184521308, 829.1958968736946, 825.7051685457756, 788.4816925721726, 785.4931952999553, 794.5306577557049, 807.1593696430062, 808.9076790982724, 820.360621822494, 822.1668040891157, 834.4729421664947, 831.9708184842838, 820.7809811018458, 811.4184512136683, 829.2652929115894, 827.9237499635178, 806.5421750896064, 799.9108401231327, 814.3362470928867, 805.4712682642297, 807.0289592511024, 814.6435939363727, 811.5172082260038, 808.809337677375, 833.4688941624845, 816.8220599316417, 805.2782190446901, 813.5991234550679, 807.3460294863543, 807.5213021701778, 795.2150518454275, 790.7114569126151, 790.2454264271635, 789.0790925489952, 775.1809764328518, 760.3485350228821, 768.2740474612687, 753.7797058274465, 744.2730694000664, 734.7628967944626, 745.5998863531906, 736.3535222055889, 729.3918907596714, 728.2027669030329, 715.5109849261075, 718.369756286382, 708.2645633338326, 687.2121693557691, 682.5752002722522, 675.6389130359155, 661.6189978494717, 662.6122079317757, 649.2139314161686, 642.2186070209, 631.7592305135265, 628.3353998702676, 614.3502421943556, 594.8496379627094, 591.3776488491914, 585.0592479167925, 558.3393651223679, 532.0730298690204, 503.9923858712815, 495.1555119607608, 486.5920723860194, 462.18248729974306, 465.7775094343422, 461.9962849088051, 454.0026502168665, 436.32735224420907, 422.2223015255054, 411.62512769050414, 405.53879418780207, 396.54599037052316, 389.01991417706387, 379.2415826096017, 370.2597067929222, 360.0859551373604, 348.25387492047844, 342.24587433180085, 335.26474575849323, 324.9764650573095, 313.34655042670795, 305.15040517696957, 289.7289250776804, 274.6541195085788, 261.03315887876244, 247.14639804827755, 226.41376794239133, 173.0599907774825, 12.536447742916778, 132.8029187337492, 129.13729671430917, 172.71049706952778, 100.70858484011677, 0.0, 0.0, 0.14989248035945132, 16.661395302545206, 94.94861379925696, 60.033323611503036, 88.841913022676, 56.35192355134525, 8.01907519491651, 0.0, 5.501736012549969, 0.5484975536215853, 0.0, 0.0, 0.0, 12.126801178752363, 46.60527473504111, 37.84454690756415, 26.346959198283685, 78.41038884944794, 41.38032905990076, 10.221151062872828, 20.42296954117713, 12.365275245691002, 0.0, 13.168786649516617, 14.261649367874854, 17.21465754279616, 40.87936372408306, 36.84547314236458, 40.61998327087106, 29.02996778134282, 0.0, 0.0, 0.7934921577187692, 14.013241740582497, 3.5258480920988227, 11.881984320111684, 9.455049138191956, 2.822266440931113, 10.151111873104792, 8.701328203421166, 7.212701909144254, 9.340483032876044, 12.638492642699745, 0.5983053362961606, 3.02792659720532, 11.224257234413242, 0.0, 0.0, 0.0, 0.17349792386788487, 0.0, 1.2983534145334854, 0.4152532171080894, 0.9343605435817759, 0.8778151340294085, 0.10541170397294652, 2.0008543405498633, 0.04111854103651069, 0.0, 0.0, 0.0, 0.0, 0.0, 0.0, 0.0, 0.0, 0.0, 0.0, 0.0, 0.0, 0.38230627598412226, 0.0, 0.0, 0.0, 0.0, 0.33513946068695716, 0.0, 0.00603883751541689, 0.06870609256544317, 1.2284493437946749, 0.4137024895580139, 0.0, 0.0, 0.0, 0.0], \"yaxis\": \"y10\"}],\n",
              "                        {\"autosize\": false, \"height\": 3000, \"template\": {\"data\": {\"bar\": [{\"error_x\": {\"color\": \"#2a3f5f\"}, \"error_y\": {\"color\": \"#2a3f5f\"}, \"marker\": {\"line\": {\"color\": \"#E5ECF6\", \"width\": 0.5}}, \"type\": \"bar\"}], \"barpolar\": [{\"marker\": {\"line\": {\"color\": \"#E5ECF6\", \"width\": 0.5}}, \"type\": \"barpolar\"}], \"carpet\": [{\"aaxis\": {\"endlinecolor\": \"#2a3f5f\", \"gridcolor\": \"white\", \"linecolor\": \"white\", \"minorgridcolor\": \"white\", \"startlinecolor\": \"#2a3f5f\"}, \"baxis\": {\"endlinecolor\": \"#2a3f5f\", \"gridcolor\": \"white\", \"linecolor\": \"white\", \"minorgridcolor\": \"white\", \"startlinecolor\": \"#2a3f5f\"}, \"type\": \"carpet\"}], \"choropleth\": [{\"colorbar\": {\"outlinewidth\": 0, \"ticks\": \"\"}, \"type\": \"choropleth\"}], \"contour\": [{\"colorbar\": {\"outlinewidth\": 0, \"ticks\": \"\"}, \"colorscale\": [[0.0, \"#0d0887\"], [0.1111111111111111, \"#46039f\"], [0.2222222222222222, \"#7201a8\"], [0.3333333333333333, \"#9c179e\"], [0.4444444444444444, \"#bd3786\"], [0.5555555555555556, \"#d8576b\"], [0.6666666666666666, \"#ed7953\"], [0.7777777777777778, \"#fb9f3a\"], [0.8888888888888888, \"#fdca26\"], [1.0, \"#f0f921\"]], \"type\": \"contour\"}], \"contourcarpet\": [{\"colorbar\": {\"outlinewidth\": 0, \"ticks\": \"\"}, \"type\": \"contourcarpet\"}], \"heatmap\": [{\"colorbar\": {\"outlinewidth\": 0, \"ticks\": \"\"}, \"colorscale\": [[0.0, \"#0d0887\"], [0.1111111111111111, \"#46039f\"], [0.2222222222222222, \"#7201a8\"], [0.3333333333333333, \"#9c179e\"], [0.4444444444444444, \"#bd3786\"], [0.5555555555555556, \"#d8576b\"], [0.6666666666666666, \"#ed7953\"], [0.7777777777777778, \"#fb9f3a\"], [0.8888888888888888, \"#fdca26\"], [1.0, \"#f0f921\"]], \"type\": \"heatmap\"}], \"heatmapgl\": [{\"colorbar\": {\"outlinewidth\": 0, \"ticks\": \"\"}, \"colorscale\": [[0.0, \"#0d0887\"], [0.1111111111111111, \"#46039f\"], [0.2222222222222222, \"#7201a8\"], [0.3333333333333333, \"#9c179e\"], [0.4444444444444444, \"#bd3786\"], [0.5555555555555556, \"#d8576b\"], [0.6666666666666666, \"#ed7953\"], [0.7777777777777778, \"#fb9f3a\"], [0.8888888888888888, \"#fdca26\"], [1.0, \"#f0f921\"]], \"type\": \"heatmapgl\"}], \"histogram\": [{\"marker\": {\"colorbar\": {\"outlinewidth\": 0, \"ticks\": \"\"}}, \"type\": \"histogram\"}], \"histogram2d\": [{\"colorbar\": {\"outlinewidth\": 0, \"ticks\": \"\"}, \"colorscale\": [[0.0, \"#0d0887\"], [0.1111111111111111, \"#46039f\"], [0.2222222222222222, \"#7201a8\"], [0.3333333333333333, \"#9c179e\"], [0.4444444444444444, \"#bd3786\"], [0.5555555555555556, \"#d8576b\"], [0.6666666666666666, \"#ed7953\"], [0.7777777777777778, \"#fb9f3a\"], [0.8888888888888888, \"#fdca26\"], [1.0, \"#f0f921\"]], \"type\": \"histogram2d\"}], \"histogram2dcontour\": [{\"colorbar\": {\"outlinewidth\": 0, \"ticks\": \"\"}, \"colorscale\": [[0.0, \"#0d0887\"], [0.1111111111111111, \"#46039f\"], [0.2222222222222222, \"#7201a8\"], [0.3333333333333333, \"#9c179e\"], [0.4444444444444444, \"#bd3786\"], [0.5555555555555556, \"#d8576b\"], [0.6666666666666666, \"#ed7953\"], [0.7777777777777778, \"#fb9f3a\"], [0.8888888888888888, \"#fdca26\"], [1.0, \"#f0f921\"]], \"type\": \"histogram2dcontour\"}], \"mesh3d\": [{\"colorbar\": {\"outlinewidth\": 0, \"ticks\": \"\"}, \"type\": \"mesh3d\"}], \"parcoords\": [{\"line\": {\"colorbar\": {\"outlinewidth\": 0, \"ticks\": \"\"}}, \"type\": \"parcoords\"}], \"pie\": [{\"automargin\": true, \"type\": \"pie\"}], \"scatter\": [{\"marker\": {\"colorbar\": {\"outlinewidth\": 0, \"ticks\": \"\"}}, \"type\": \"scatter\"}], \"scatter3d\": [{\"line\": {\"colorbar\": {\"outlinewidth\": 0, \"ticks\": \"\"}}, \"marker\": {\"colorbar\": {\"outlinewidth\": 0, \"ticks\": \"\"}}, \"type\": \"scatter3d\"}], \"scattercarpet\": [{\"marker\": {\"colorbar\": {\"outlinewidth\": 0, \"ticks\": \"\"}}, \"type\": \"scattercarpet\"}], \"scattergeo\": [{\"marker\": {\"colorbar\": {\"outlinewidth\": 0, \"ticks\": \"\"}}, \"type\": \"scattergeo\"}], \"scattergl\": [{\"marker\": {\"colorbar\": {\"outlinewidth\": 0, \"ticks\": \"\"}}, \"type\": \"scattergl\"}], \"scattermapbox\": [{\"marker\": {\"colorbar\": {\"outlinewidth\": 0, \"ticks\": \"\"}}, \"type\": \"scattermapbox\"}], \"scatterpolar\": [{\"marker\": {\"colorbar\": {\"outlinewidth\": 0, \"ticks\": \"\"}}, \"type\": \"scatterpolar\"}], \"scatterpolargl\": [{\"marker\": {\"colorbar\": {\"outlinewidth\": 0, \"ticks\": \"\"}}, \"type\": \"scatterpolargl\"}], \"scatterternary\": [{\"marker\": {\"colorbar\": {\"outlinewidth\": 0, \"ticks\": \"\"}}, \"type\": \"scatterternary\"}], \"surface\": [{\"colorbar\": {\"outlinewidth\": 0, \"ticks\": \"\"}, \"colorscale\": [[0.0, \"#0d0887\"], [0.1111111111111111, \"#46039f\"], [0.2222222222222222, \"#7201a8\"], [0.3333333333333333, \"#9c179e\"], [0.4444444444444444, \"#bd3786\"], [0.5555555555555556, \"#d8576b\"], [0.6666666666666666, \"#ed7953\"], [0.7777777777777778, \"#fb9f3a\"], [0.8888888888888888, \"#fdca26\"], [1.0, \"#f0f921\"]], \"type\": \"surface\"}], \"table\": [{\"cells\": {\"fill\": {\"color\": \"#EBF0F8\"}, \"line\": {\"color\": \"white\"}}, \"header\": {\"fill\": {\"color\": \"#C8D4E3\"}, \"line\": {\"color\": \"white\"}}, \"type\": \"table\"}]}, \"layout\": {\"annotationdefaults\": {\"arrowcolor\": \"#2a3f5f\", \"arrowhead\": 0, \"arrowwidth\": 1}, \"coloraxis\": {\"colorbar\": {\"outlinewidth\": 0, \"ticks\": \"\"}}, \"colorscale\": {\"diverging\": [[0, \"#8e0152\"], [0.1, \"#c51b7d\"], [0.2, \"#de77ae\"], [0.3, \"#f1b6da\"], [0.4, \"#fde0ef\"], [0.5, \"#f7f7f7\"], [0.6, \"#e6f5d0\"], [0.7, \"#b8e186\"], [0.8, \"#7fbc41\"], [0.9, \"#4d9221\"], [1, \"#276419\"]], \"sequential\": [[0.0, \"#0d0887\"], [0.1111111111111111, \"#46039f\"], [0.2222222222222222, \"#7201a8\"], [0.3333333333333333, \"#9c179e\"], [0.4444444444444444, \"#bd3786\"], [0.5555555555555556, \"#d8576b\"], [0.6666666666666666, \"#ed7953\"], [0.7777777777777778, \"#fb9f3a\"], [0.8888888888888888, \"#fdca26\"], [1.0, \"#f0f921\"]], \"sequentialminus\": [[0.0, \"#0d0887\"], [0.1111111111111111, \"#46039f\"], [0.2222222222222222, \"#7201a8\"], [0.3333333333333333, \"#9c179e\"], [0.4444444444444444, \"#bd3786\"], [0.5555555555555556, \"#d8576b\"], [0.6666666666666666, \"#ed7953\"], [0.7777777777777778, \"#fb9f3a\"], [0.8888888888888888, \"#fdca26\"], [1.0, \"#f0f921\"]]}, \"colorway\": [\"#636efa\", \"#EF553B\", \"#00cc96\", \"#ab63fa\", \"#FFA15A\", \"#19d3f3\", \"#FF6692\", \"#B6E880\", \"#FF97FF\", \"#FECB52\"], \"font\": {\"color\": \"#2a3f5f\"}, \"geo\": {\"bgcolor\": \"white\", \"lakecolor\": \"white\", \"landcolor\": \"#E5ECF6\", \"showlakes\": true, \"showland\": true, \"subunitcolor\": \"white\"}, \"hoverlabel\": {\"align\": \"left\"}, \"hovermode\": \"closest\", \"mapbox\": {\"style\": \"light\"}, \"paper_bgcolor\": \"white\", \"plot_bgcolor\": \"#E5ECF6\", \"polar\": {\"angularaxis\": {\"gridcolor\": \"white\", \"linecolor\": \"white\", \"ticks\": \"\"}, \"bgcolor\": \"#E5ECF6\", \"radialaxis\": {\"gridcolor\": \"white\", \"linecolor\": \"white\", \"ticks\": \"\"}}, \"scene\": {\"xaxis\": {\"backgroundcolor\": \"#E5ECF6\", \"gridcolor\": \"white\", \"gridwidth\": 2, \"linecolor\": \"white\", \"showbackground\": true, \"ticks\": \"\", \"zerolinecolor\": \"white\"}, \"yaxis\": {\"backgroundcolor\": \"#E5ECF6\", \"gridcolor\": \"white\", \"gridwidth\": 2, \"linecolor\": \"white\", \"showbackground\": true, \"ticks\": \"\", \"zerolinecolor\": \"white\"}, \"zaxis\": {\"backgroundcolor\": \"#E5ECF6\", \"gridcolor\": \"white\", \"gridwidth\": 2, \"linecolor\": \"white\", \"showbackground\": true, \"ticks\": \"\", \"zerolinecolor\": \"white\"}}, \"shapedefaults\": {\"line\": {\"color\": \"#2a3f5f\"}}, \"ternary\": {\"aaxis\": {\"gridcolor\": \"white\", \"linecolor\": \"white\", \"ticks\": \"\"}, \"baxis\": {\"gridcolor\": \"white\", \"linecolor\": \"white\", \"ticks\": \"\"}, \"bgcolor\": \"#E5ECF6\", \"caxis\": {\"gridcolor\": \"white\", \"linecolor\": \"white\", \"ticks\": \"\"}}, \"title\": {\"x\": 0.05}, \"xaxis\": {\"automargin\": true, \"gridcolor\": \"white\", \"linecolor\": \"white\", \"ticks\": \"\", \"title\": {\"standoff\": 15}, \"zerolinecolor\": \"white\", \"zerolinewidth\": 2}, \"yaxis\": {\"automargin\": true, \"gridcolor\": \"white\", \"linecolor\": \"white\", \"ticks\": \"\", \"title\": {\"standoff\": 15}, \"zerolinecolor\": \"white\", \"zerolinewidth\": 2}}}, \"width\": 1200, \"xaxis\": {\"anchor\": \"y\", \"domain\": [0.0, 1.0], \"matches\": \"x10\", \"showticklabels\": false}, \"xaxis10\": {\"anchor\": \"y10\", \"domain\": [0.0, 1.0]}, \"xaxis2\": {\"anchor\": \"y2\", \"domain\": [0.0, 1.0], \"matches\": \"x10\", \"showticklabels\": false}, \"xaxis3\": {\"anchor\": \"y3\", \"domain\": [0.0, 1.0], \"matches\": \"x10\", \"showticklabels\": false}, \"xaxis4\": {\"anchor\": \"y4\", \"domain\": [0.0, 1.0], \"matches\": \"x10\", \"showticklabels\": false}, \"xaxis5\": {\"anchor\": \"y5\", \"domain\": [0.0, 1.0], \"matches\": \"x10\", \"showticklabels\": false}, \"xaxis6\": {\"anchor\": \"y6\", \"domain\": [0.0, 1.0], \"matches\": \"x10\", \"showticklabels\": false}, \"xaxis7\": {\"anchor\": \"y7\", \"domain\": [0.0, 1.0], \"matches\": \"x10\", \"showticklabels\": false}, \"xaxis8\": {\"anchor\": \"y8\", \"domain\": [0.0, 1.0], \"matches\": \"x10\", \"showticklabels\": false}, \"xaxis9\": {\"anchor\": \"y9\", \"domain\": [0.0, 1.0], \"matches\": \"x10\", \"showticklabels\": false}, \"yaxis\": {\"anchor\": \"x\", \"domain\": [0.9045000000000002, 1.0], \"range\": [0, 110000], \"title\": {\"text\": \"cells\"}}, \"yaxis10\": {\"anchor\": \"x10\", \"domain\": [0.0, 0.0955], \"nticks\": 10, \"title\": {\"text\": \"usage poll & nectar\"}}, \"yaxis2\": {\"anchor\": \"x2\", \"domain\": [0.8040000000000002, 0.8995000000000002], \"title\": {\"text\": \"incomes\"}}, \"yaxis3\": {\"anchor\": \"x3\", \"domain\": [0.7035000000000001, 0.7990000000000002], \"nticks\": 10, \"title\": {\"text\": \"indexes weather\"}}, \"yaxis4\": {\"anchor\": \"x4\", \"domain\": [0.6030000000000001, 0.6985000000000001], \"nticks\": 10, \"title\": {\"text\": \"indexes\"}}, \"yaxis5\": {\"anchor\": \"x5\", \"domain\": [0.5025000000000001, 0.5980000000000001], \"nticks\": 10, \"title\": {\"text\": \"foragers\"}}, \"yaxis6\": {\"anchor\": \"x6\", \"domain\": [0.402, 0.49750000000000005], \"nticks\": 10, \"title\": {\"text\": \"need bees\"}}, \"yaxis7\": {\"anchor\": \"x7\", \"domain\": [0.3015, 0.397], \"nticks\": 10, \"title\": {\"text\": \"larvae 1-5\"}}, \"yaxis8\": {\"anchor\": \"x8\", \"domain\": [0.201, 0.2965], \"nticks\": 10, \"title\": {\"text\": \"need pollen\"}}, \"yaxis9\": {\"anchor\": \"x9\", \"domain\": [0.1005, 0.196], \"nticks\": 10, \"title\": {\"text\": \"need nectar\"}}},\n",
              "                        {\"responsive\": true}\n",
              "                    ).then(function(){\n",
              "                            \n",
              "var gd = document.getElementById('ab1e6bb3-ce29-4488-80d6-1c7c386b40b4');\n",
              "var x = new MutationObserver(function (mutations, observer) {{\n",
              "        var display = window.getComputedStyle(gd).display;\n",
              "        if (!display || display === 'none') {{\n",
              "            console.log([gd, 'removed!']);\n",
              "            Plotly.purge(gd);\n",
              "            observer.disconnect();\n",
              "        }}\n",
              "}});\n",
              "\n",
              "// Listen for the removal of the full notebook cells\n",
              "var notebookContainer = gd.closest('#notebook-container');\n",
              "if (notebookContainer) {{\n",
              "    x.observe(notebookContainer, {childList: true});\n",
              "}}\n",
              "\n",
              "// Listen for the clearing of the current output cell\n",
              "var outputEl = gd.closest('.output');\n",
              "if (outputEl) {{\n",
              "    x.observe(outputEl, {childList: true});\n",
              "}}\n",
              "\n",
              "                        })\n",
              "                };\n",
              "                \n",
              "            </script>\n",
              "        </div>\n",
              "</body>\n",
              "</html>"
            ]
          },
          "metadata": {
            "tags": []
          }
        }
      ]
    },
    {
      "cell_type": "markdown",
      "metadata": {
        "id": "zc4vNvjwgRh2"
      },
      "source": [
        "### **CACHE CLEARING**"
      ]
    },
    {
      "cell_type": "markdown",
      "metadata": {
        "id": "F1oRvgihgc5h"
      },
      "source": [
        "Afin de ne pas réutiliser involotairement les précédents calculs, pour les résultats de la prévisions de la partie suivante, nous nettoyons le cache des calculs."
      ]
    },
    {
      "cell_type": "code",
      "metadata": {
        "id": "jEkgxy1cd0t_"
      },
      "source": [
        "# Clear du cache des fonctions afin de relancer une simulation avec d'autres données\n",
        "\n",
        "gc.collect()\n",
        "  \n",
        "# Collection des objets\n",
        "objects = [i for i in gc.get_objects() \n",
        "           if isinstance(i, functools._lru_cache_wrapper)]\n",
        "  \n",
        "# \"Nettoyage\" des objets\n",
        "for object in objects:\n",
        "    object.cache_clear()"
      ],
      "execution_count": 768,
      "outputs": []
    },
    {
      "cell_type": "markdown",
      "metadata": {
        "id": "e6hlnXb6_z18"
      },
      "source": [
        "# **PREVISIONS**"
      ]
    },
    {
      "cell_type": "markdown",
      "metadata": {
        "id": "lVk7VRV2rI4f"
      },
      "source": [
        "Dans cette partie nous récupérons les données prévisionnelles météorologiques de Tarbes (afin d'être cohérent avec les données précédemment fournies utilisant cette position). Le requête effectuée à l'API OpenWeatherMap nous retourne un .json de la prévision météo sur les 5 prochains jours par tranche de 3h.\n",
        "\n",
        "Ainsi, afin d'effectuer un traitement heure par heure nous complétons les données en copiant les lignes déjà présentes, en imaginant que sur les 3h la météo n'a pas changé."
      ]
    },
    {
      "cell_type": "markdown",
      "metadata": {
        "id": "rX7_XB0YXVle"
      },
      "source": [
        "## **IMPORT DES DONNÉES PASSÉES**"
      ]
    },
    {
      "cell_type": "markdown",
      "metadata": {
        "id": "NEvUHaFZ5-9S"
      },
      "source": [
        "Petite précision concernant le nom des variables. Dans tout le notebook elles font une référence à l'année 2020 mais lors des prévisions ces variables notamment *list_data2020* se voit bien passer des données de 2021 (elle est mise à jour dans la partie suivante)"
      ]
    },
    {
      "cell_type": "code",
      "metadata": {
        "id": "CYE63pj-WKhE"
      },
      "source": [
        "#Import des données des CSV provenant d'OpenDataSoft de Tarbes (ville la plus proche selectionable de Pau avec historique météorologique gratuit)\n",
        "# https://public.opendatasoft.com/explore/dataset/donnees-synop-essentielles-omm/table/?refine.date=2021&refine.nom=TARBES-OSSUN&sort=-date\n",
        "# L'import n'est pas direct via l'API mais passe par un import préalable du fichier csv \n",
        "# Il faut prendre jusqu'au jour du début de prévision désiré, même si un trou de données est géré lors de la modélisation des courbes avec des valeurs par défaut.\n",
        "data2020 = pd.read_csv(\"/content/data_meteo_TARBES.csv\",sep =',') \n",
        "\n",
        "#Données globales\n",
        "dataMeteo2020 = pd.DataFrame(data2020,columns=['Date','Température','Précipitations dans la dernière heure','Humidité','Vitesse du vent moyen 10 mn'])\n",
        "\n",
        "#Verifications du jeu de données\n",
        "dataMeteo2020.isnull().sum()\n",
        "\n",
        "# Correction du jeu de données avec un median (la correction n'est faite ici que sur les trous de données des précipitations)\n",
        "# Si besoin copiez coller les deux lignes suivantes en changeant le nom de la colonne entre [ ] avec celle concernée (trou de données visibles avec l'appel précédent)\n",
        "median = dataMeteo2020['Précipitations dans la dernière heure'].median()\n",
        "dataMeteo2020['Précipitations dans la dernière heure'].fillna(median,inplace=True)\n",
        "\n",
        "#Conversion Température Kelvin en Celsus\n",
        "dataMeteo2020['Température'] = dataMeteo2020['Température'].apply(lambda x: round((x - 273.15),1))\n",
        "#Conversion m/s en km/h de vent\n",
        "dataMeteo2020['Vitesse du vent moyen 10 mn'] = dataMeteo2020['Vitesse du vent moyen 10 mn'].apply(lambda x: round((x * 3.6),1))\n",
        "\n",
        "#Correction des valeurs négatives (défaut propre au jeu de données)\n",
        "dataMeteo2020['Précipitations dans la dernière heure'].replace({-0.1 : 0}, inplace= True)\n",
        "\n",
        "#Conversion en listes des données météo\n",
        "list_DataMeteo2020 = [list(row) for row in dataMeteo2020.values]"
      ],
      "execution_count": 769,
      "outputs": []
    },
    {
      "cell_type": "code",
      "metadata": {
        "colab": {
          "base_uri": "https://localhost:8080/",
          "height": 35
        },
        "id": "lXOl_-qyPWeq",
        "outputId": "ce5de978-55f9-45a1-ff36-b48f256eb57b"
      },
      "source": [
        "# Conversion de la date/heure en deux sous listes d'entiers\n",
        "convert_date(list_DataMeteo2020)"
      ],
      "execution_count": 770,
      "outputs": [
        {
          "output_type": "execute_result",
          "data": {
            "application/vnd.google.colaboratory.intrinsic+json": {
              "type": "string"
            },
            "text/plain": [
              "'Traitement réalisé avec succès'"
            ]
          },
          "metadata": {
            "tags": []
          },
          "execution_count": 770
        }
      ]
    },
    {
      "cell_type": "code",
      "metadata": {
        "id": "wsWQUszoShTh"
      },
      "source": [
        "# Mise à jour des données géorgraphiques \n",
        "# Pour la prévision on récupère les données les plus proches de Pau que nous avons trouvé, gratuites c'est à dire à Tarbes\n",
        "city = LocationInfo('Tarbes', 'France', 'Europe/London', 43.232951, 0.078082)\n",
        "getSunSetRise()"
      ],
      "execution_count": 771,
      "outputs": []
    },
    {
      "cell_type": "markdown",
      "metadata": {
        "id": "9rNldHVyXrzp"
      },
      "source": [
        "## **IMPORT DES DONNÉES DE PRÉVISION**"
      ]
    },
    {
      "cell_type": "markdown",
      "metadata": {
        "id": "WiMn15yC9D-E"
      },
      "source": [
        "Dans cette partie nous récupérons les données météorologiques prévisionnelles de Tarbes (pour correspondre à l'historique météorologique que l'on a selectionné pour 2021)."
      ]
    },
    {
      "cell_type": "code",
      "metadata": {
        "id": "ueR-vhxu_7lw"
      },
      "source": [
        "# Requête OWM\n",
        "forecast_url = \"http://api.openweathermap.org/data/2.5/forecast?q=Tarbes,fr&units=metric&appid=2a7f4f5c2a0ae6e3fce7b81c64a61956\"\n",
        " \n",
        "weather_data_forecast = requests.get(forecast_url).json()\n",
        "\n",
        "# Affichage possible des données brut JSON provenant de la requête.\n",
        "# city_name = \"Tarbes\"\n",
        "# print(\"\\nForecast Weather Data Of \" + city_name +\":\\n\")\n",
        "# pprint(weather_data_forecast)\n",
        "\n",
        "# Conversion des données json en csv (téléchargeable ensuite en sortie)\n",
        "df = pd.json_normalize(weather_data_forecast['list'])\n",
        "df.to_csv(\"forecast_data.csv\")\n",
        "\n",
        "data_CSV = pd.read_csv(\"/content/forecast_data.csv\",sep =',')\n",
        "\n",
        "#Complétion des données pour obtenir du heure par heure\n",
        "dataForecast_brut = pd.DataFrame(data_CSV,columns=['dt_txt','main.temp','rain.3h','main.humidity','wind.speed'])\n",
        "dataForecast_brut['dt_txt'] = pd.to_datetime(dataForecast_brut['dt_txt'])\n",
        "dataForecast_brut = dataForecast_brut.set_index('dt_txt').resample('H').ffill().reset_index()\n",
        "dataForecast_brut['dt_txt'] = dataForecast_brut['dt_txt'].dt.strftime('%Y-%m-%d %H:%M:%S')\n",
        "\n",
        "#Verifications du jeu de données\n",
        "dataForecast_brut.isnull().sum()\n",
        "\n",
        "# Correction du jeu de données (nan par 0)\n",
        "# Comme précédemment pour l'historique, l'appel ci-dessus permet de définir les colonnes ayant des données manquantes ou non définies\n",
        "# Il suffit de copier coller la ligne ci-dessous en modifiant le nom de la colonne que l'on souhaite corriger [ ]\n",
        "# Ici on remplace les nan par des 0 car les nan indiques qu'il n'y a pas eu de données de pluies (présentes uniquement si de la pluie est prévue)\n",
        "dataForecast_brut['rain.3h'].fillna(0,inplace=True)\n",
        "\n",
        "#Conversion en listes des données météo\n",
        "list_forecast = [list(row) for row in dataForecast_brut.values]"
      ],
      "execution_count": 772,
      "outputs": []
    },
    {
      "cell_type": "code",
      "metadata": {
        "colab": {
          "base_uri": "https://localhost:8080/",
          "height": 35
        },
        "id": "SggsYpCQH4wI",
        "outputId": "cb243f9d-29b0-4227-c2ff-72408d43f697"
      },
      "source": [
        "# Conversion de la date/heure en deux sous listes d'entiers\n",
        "convert_date(list_forecast)"
      ],
      "execution_count": 773,
      "outputs": [
        {
          "output_type": "execute_result",
          "data": {
            "application/vnd.google.colaboratory.intrinsic+json": {
              "type": "string"
            },
            "text/plain": [
              "'Traitement réalisé avec succès'"
            ]
          },
          "metadata": {
            "tags": []
          },
          "execution_count": 773
        }
      ]
    },
    {
      "cell_type": "code",
      "metadata": {
        "id": "b7SeKfzN4_RI"
      },
      "source": [
        "# Récupération de la date d'aujourd'hui puis nous y soustrayons celle du premier jour de l'année :\n",
        "# On obtient le delta soit l'écart en nombre de jour pour notre historique. \n",
        "today = date.today()\n",
        "delta = ((today - date(2021,1,1)).days) + 1\n",
        "\n",
        "# On redefinit le nombre de jours avec lesquels nous lanceront le modèle\n",
        "# Donc on a les données d'historique (delta) + la prévision (6 jours)\n",
        "nb_days = delta + 6\n",
        "\n",
        "# On converti la date d'aujourd'hui en liste d'int pour être en cohesion avec les traitements des dates précédentes (historiques)\n",
        "today_list = (today.strftime(\"2021,%m,%d\")).split(',')\n",
        "for i in range(0, len(today_list)): \n",
        "    today_list[i] = int(today_list[i])\n",
        "\n",
        "# Fonction de recherche permettant de prendre le données météorologiques jusqu'à aujour'hui uniquement (au cas ou on a plus de données dans l'historique)\n",
        "# C'était le cas lors d'un premier test ou on utilisais les données sur l'année de 2020, nous avions besoin de couper les données au jour t.today\n",
        "def research():\n",
        "  for i in range(len(list_DataMeteo2020)):\n",
        "    if (list_DataMeteo2020[i][0] == today_list) : \n",
        "      return i\n",
        "\n",
        "nb_elem = research()\n",
        "\n",
        "# On concatène les données d'historique + de prévision\n",
        "list_DataMeteo2020 = list_DataMeteo2020[:nb_elem] + list_forecast"
      ],
      "execution_count": 774,
      "outputs": []
    },
    {
      "cell_type": "markdown",
      "metadata": {
        "id": "w-oQmdLeablN"
      },
      "source": [
        "## **PARTIE LPO PRÉVISIONS**"
      ]
    },
    {
      "cell_type": "markdown",
      "metadata": {
        "id": "BZAEYzgCcRrY"
      },
      "source": [
        "### **TRAITEMENT LPO**"
      ]
    },
    {
      "cell_type": "code",
      "metadata": {
        "id": "qBrcjNymcRrl"
      },
      "source": [
        "# On lance le modèle\n",
        "hopomo_prev = HOPOMO(nb_days)"
      ],
      "execution_count": 775,
      "outputs": []
    },
    {
      "cell_type": "code",
      "metadata": {
        "id": "-Snu84cKcRrp"
      },
      "source": [
        "# On sauvegarde les résultats des fonctions dans un csv avec la date sous forme de liste pour une meilleur compréhension du fichier\n",
        "hopomo_prev.to_csv(\"hopomo_prev.csv\")\n",
        "hopomo_prev.info()"
      ],
      "execution_count": null,
      "outputs": []
    },
    {
      "cell_type": "markdown",
      "metadata": {
        "id": "R-1sSRh5cpqz"
      },
      "source": [
        "### **GRAPHES PREVISIONNELS**"
      ]
    },
    {
      "cell_type": "markdown",
      "metadata": {
        "id": "z4Sp8OyZcpq5"
      },
      "source": [
        "Les graphes suivants sont construits de la manière suivante, en deux parties : \n",
        "\n",
        "*   *La première partie* affiche les résultats (courbes) des différentes variables en utilisant les données d'historique.\n",
        "*   *La deuxieme* séparée par un espace avec l'historique représente les prédictions sur 5 jours. Elles sont en rouge pour les graphes principaux et dans les graphes secondaires vu le nombre important de courbes nous avons laissé une génération de couleur différentes de celles de l'historique. \n",
        "\n",
        "\n",
        "Nous **vous recommendons** de vous appuyer fortement sur la **légende** à la droite des graphes ou bien **passer votre souris sur la courbe qui vous interresse pour avoir sa référence**. Chaque courbe de prevision est terminée par l'abbréviation *_prev*"
      ]
    },
    {
      "cell_type": "markdown",
      "metadata": {
        "id": "IChp96Picpq9"
      },
      "source": [
        "#### **1. GRAPHES PRINCIPAUX**"
      ]
    },
    {
      "cell_type": "code",
      "metadata": {
        "colab": {
          "base_uri": "https://localhost:8080/",
          "height": 1000
        },
        "id": "MVbjuv5Wcpq_",
        "outputId": "347a4c68-fbfb-4564-cc55-394d09a5f853"
      },
      "source": [
        "fig3 = make_subplots(rows=3, cols=2, vertical_spacing=0.05)\n",
        "\n",
        "fig3.add_trace(\n",
        "    go.Scatter(y=hopomo_prev.beesadult[:delta], name=\"Adult Bees\", mode='lines', xaxis=\"x\", yaxis=\"y1\", showlegend = True),\n",
        "    row=1, col=1\n",
        ")\n",
        "\n",
        "fig3.add_trace(\n",
        "    go.Scatter(y=hopomo_prev.beesadult[delta:], name=\"Adult Bees Prev\", mode='lines', x0=delta, xaxis=\"x\", yaxis=\"y1\", line=dict(color='red'), showlegend = True),\n",
        "    row=1, col=1\n",
        ")\n",
        "\n",
        "fig3.add_trace(\n",
        "    go.Scatter(y=hopomo_prev.storespollen[:delta], name=\"Pollen Stores\", mode='lines', xaxis=\"x\", yaxis=\"y2\",showlegend = True),\n",
        "    row=1, col=2\n",
        ")\n",
        "\n",
        "fig3.add_trace(\n",
        "    go.Scatter(y=hopomo_prev.storespollen[delta:], name=\"Pollen Stores Prev\", mode='lines',x0=delta, xaxis=\"x\", yaxis=\"y2\", line=dict(color='red'),showlegend = True),\n",
        "    row=1, col=2\n",
        ")\n",
        "\n",
        "\n",
        "fig3.add_trace(\n",
        "    go.Scatter(y=hopomo_prev.cellsbrood[:delta], name=\"Brood cells\", mode='lines', xaxis=\"x\", yaxis=\"y3\",showlegend = True),\n",
        "    row=2, col=1\n",
        ")\n",
        "\n",
        "fig3.add_trace(\n",
        "    go.Scatter(y=hopomo_prev.cellsbrood[delta:], name=\"Brood cells Prev\", mode='lines',x0=delta, xaxis=\"x\", yaxis=\"y3\", line=dict(color='red'), showlegend = True),\n",
        "    row=2, col=1\n",
        ")\n",
        "\n",
        "fig3.add_trace(\n",
        "    go.Scatter(y=hopomo_prev.storeshoney[:delta], name=\"Honey Stores\", mode='lines', xaxis=\"x\", yaxis=\"y4\", showlegend = True),\n",
        "    row=2, col=2\n",
        ")\n",
        "\n",
        "fig3.add_trace(\n",
        "    go.Scatter(y=hopomo_prev.storeshoney[delta:], name=\"Honey Stores Prev\", mode='lines', x0=delta, xaxis=\"x\", yaxis=\"y4\", line=dict(color='red'), showlegend = True),\n",
        "    row=2, col=2\n",
        ")\n",
        "\n",
        "\n",
        "fig3.add_trace(\n",
        "    go.Scatter(y=hopomo_prev.weightcolony[:delta], name=\"Colony Weight\", mode='lines', xaxis=\"x\", yaxis=\"y6\",showlegend = True),\n",
        "    row=3, col=2\n",
        ")\n",
        "\n",
        "fig3.add_trace(\n",
        "    go.Scatter(y=hopomo_prev.weightcolony[delta:], name=\"Colony Weight Prev\", mode='lines', xaxis=\"x\",x0=delta, yaxis=\"y6\", line=dict(color='red'), showlegend = True),\n",
        "    row=3, col=2\n",
        ")\n",
        "\n",
        "fig3.update_yaxes(title_text=\"adult bees\", range=[0, 60000], row=1, col=1)\n",
        "fig3.update_yaxes(title_text=\"pollen stores\", range=[0,6000], row=1, col=2)\n",
        "fig3.update_yaxes(title_text=\"brood cells\", range=[0, 35000], row=2, col=1)\n",
        "fig3.update_yaxes(title_text=\"honey stores\", range=[0, 100000], row=2, col=2)\n",
        "fig3.update_yaxes(title_text=\"colony weight (kg)\", range=[0, 100], row=3, col=2)\n",
        "fig3.update_yaxes(title_text=\"brood % comparaison\", range=[0, 100], row=3, col=1)\n",
        "#fig3.update_yaxes(title_text = 'Temp (°C)', ticks=\"outside\", range=[-4, 30], tickwidth=1, nticks=30, tickcolor='crimson', showgrid=False, showline = True,secondary_y=False, spikesnap='cursor',spikethickness=1)\n",
        "fig3.update_traces(hovertemplate=\"day: %{x} <br>val: %{y:.1f}\")\n",
        "fig3.update_layout(autosize=False, height=1200, width=1200)\n",
        "fig3.show()\n"
      ],
      "execution_count": 777,
      "outputs": [
        {
          "output_type": "display_data",
          "data": {
            "text/html": [
              "<html>\n",
              "<head><meta charset=\"utf-8\" /></head>\n",
              "<body>\n",
              "    <div>\n",
              "            <script src=\"https://cdnjs.cloudflare.com/ajax/libs/mathjax/2.7.5/MathJax.js?config=TeX-AMS-MML_SVG\"></script><script type=\"text/javascript\">if (window.MathJax) {MathJax.Hub.Config({SVG: {font: \"STIX-Web\"}});}</script>\n",
              "                <script type=\"text/javascript\">window.PlotlyConfig = {MathJaxConfig: 'local'};</script>\n",
              "        <script src=\"https://cdn.plot.ly/plotly-latest.min.js\"></script>    \n",
              "            <div id=\"61cf1bcf-35c5-4916-b9ec-7a14c6eb9e65\" class=\"plotly-graph-div\" style=\"height:1200px; width:1200px;\"></div>\n",
              "            <script type=\"text/javascript\">\n",
              "                \n",
              "                    window.PLOTLYENV=window.PLOTLYENV || {};\n",
              "                    \n",
              "                if (document.getElementById(\"61cf1bcf-35c5-4916-b9ec-7a14c6eb9e65\")) {\n",
              "                    Plotly.newPlot(\n",
              "                        '61cf1bcf-35c5-4916-b9ec-7a14c6eb9e65',\n",
              "                        [{\"hovertemplate\": \"day: %{x} <br>val: %{y:.1f}\", \"mode\": \"lines\", \"name\": \"Adult Bees\", \"showlegend\": true, \"type\": \"scatter\", \"xaxis\": \"x\", \"y\": [15000, 14850, 14701, 14553, 14407, 14262, 14119, 13977, 13837, 13698, 13560, 13424, 13289, 13156, 13024, 12893, 12763, 12635, 12508, 12382, 12257, 12134, 12012, 11891, 11771, 11653, 11536, 11420, 11305, 11191, 11078, 10966, 10856, 10747, 10638, 10531, 10425, 10320, 10216, 10113, 10011, 9910, 9810, 9711, 9613, 9516, 9420, 9325, 9230, 9135, 9042, 8949, 8857, 8766, 8677, 8588, 8499, 8411, 8325, 8240, 8155, 8071, 7986, 7904, 7823, 7745, 7669, 7594, 7520, 7447, 7377, 7305, 7238, 7172, 7109, 7047, 6988, 6932, 6877, 6826, 6776, 6727, 6680, 6635, 6588, 6548, 6516, 6484, 6454, 6426, 6401], \"yaxis\": \"y\"}, {\"hovertemplate\": \"day: %{x} <br>val: %{y:.1f}\", \"line\": {\"color\": \"red\"}, \"mode\": \"lines\", \"name\": \"Adult Bees Prev\", \"showlegend\": true, \"type\": \"scatter\", \"x0\": 91, \"xaxis\": \"x\", \"y\": [6379, 6325, 6293, 6277, 6264, 6252], \"yaxis\": \"y\"}, {\"hovertemplate\": \"day: %{x} <br>val: %{y:.1f}\", \"mode\": \"lines\", \"name\": \"Pollen Stores\", \"showlegend\": true, \"type\": \"scatter\", \"xaxis\": \"x2\", \"y\": [0.0, 0.0, 0.0, 0.0, 0.0, 0.0, 0.0, 0.0, 0.0, 0.0, 0.0, 0.0, 0.0, 0.0, 0.0, 0.0, 0.0, 0.0, 0.0, 0.5136199510433138, 0.22909485319640066, 0.12394380062620675, 0.0, 0.0, 0.0, 0.0, 0.0, 0.0, 0.35930776889924765, 0.0, 0.0, 0.0, 0.0, 1.542449998728794, 0.8325726076702831, 0.23427349727636826, 0.0, 0.0, 0.0, 0.0, 0.0, 0.0, 0.6834312562134793, 0.0, 0.0, 0.4472806554828019, 0.16661714215968365, 2.735209301902808, 4.478128059101219, 9.40610380989531, 3.2341299013738496, 2.367008637712301, 1.30676976593994, 0.0, 2.7611523063931354, 6.7045726775744505, 3.605905883361576, 0.0, 0.0, 0.0, 0.31467339029595065, 8.996767008496215, 4.958242180233537, 10.096899688279386, 0.0, 0.0, 0.0, 0.0, 0.0, 1.1394787651879617, 33.383169249201096, 0.0, 0.9996559194262865, 0.0, 0.0, 0.0, 0.12483459998696977, 0.0, 0.0, 0.0, 0.0, 0.0, 11.998841211898931, 66.4252671721775, 9.327646505558675, 0.0, 0.0, 0.0, 0.0, 0.0, 0.0], \"yaxis\": \"y2\"}, {\"hovertemplate\": \"day: %{x} <br>val: %{y:.1f}\", \"line\": {\"color\": \"red\"}, \"mode\": \"lines\", \"name\": \"Pollen Stores Prev\", \"showlegend\": true, \"type\": \"scatter\", \"x0\": 91, \"xaxis\": \"x2\", \"y\": [549.4199880825001, 507.74051904593944, 378.1991996631376, 231.3452598264281, 120.19343795347618, 0.0], \"yaxis\": \"y2\"}, {\"hovertemplate\": \"day: %{x} <br>val: %{y:.1f}\", \"mode\": \"lines\", \"name\": \"Brood cells\", \"showlegend\": true, \"type\": \"scatter\", \"xaxis\": \"x3\", \"y\": [0, 4, 8, 12, 15, 19, 21, 23, 25, 27, 28, 31, 33, 36, 40, 41, 44, 47, 50, 55, 58, 62, 67, 71, 77, 82, 88, 94, 100, 108, 115, 124, 133, 142, 152, 163, 174, 187, 200, 213, 228, 244, 262, 280, 299, 320, 343, 367, 393, 420, 451, 482, 516, 552, 589, 630, 675, 720, 768, 820, 873, 931, 995, 1060, 1131, 1201, 1275, 1353, 1437, 1524, 1615, 1725, 1820, 1922, 2029, 2142, 2259, 2378, 2503, 2631, 2764, 2902, 3045, 3197, 3380, 3528, 3673, 3830, 3992, 4156, 4324], \"yaxis\": \"y3\"}, {\"hovertemplate\": \"day: %{x} <br>val: %{y:.1f}\", \"line\": {\"color\": \"red\"}, \"mode\": \"lines\", \"name\": \"Brood cells Prev\", \"showlegend\": true, \"type\": \"scatter\", \"x0\": 91, \"xaxis\": \"x3\", \"y\": [4494, 4973, 5359, 5615, 5797, 5967], \"yaxis\": \"y3\"}, {\"hovertemplate\": \"day: %{x} <br>val: %{y:.1f}\", \"mode\": \"lines\", \"name\": \"Honey Stores\", \"showlegend\": true, \"type\": \"scatter\", \"xaxis\": \"x4\", \"y\": [50000.0, 49970.292, 49940.874, 49911.744000000006, 49882.89511614248, 49854.324036998325, 49826.02767911709, 49798.00166010057, 49770.220740710785, 49742.70797124075, 49715.4692249605, 49688.49236651875, 49661.77525136492, 49635.313725133485, 49609.097622988666, 49583.13276892678, 49557.416975033986, 49531.946040696734, 49506.717751762146, 49481.692353037164, 49457.21029270968, 49432.92853524921, 49408.83406897571, 49384.747180954255, 49360.87934133648, 49337.226219969976, 49313.777434224045, 49290.5385941958, 49267.43560479135, 49245.402118722144, 49222.76248091275, 49200.30694080389, 49178.031073853206, 49155.758653769335, 49135.41559730169, 49114.96598107854, 49093.88224909782, 49072.45864544823, 49051.190976083, 49030.06839105016, 49009.087864417095, 48988.24640953523, 48967.47874056716, 48947.55796924332, 48927.083271421514, 48906.65104864029, 48887.19575244653, 48867.13096216303, 48849.12045772856, 48832.867724036965, 48812.499066118995, 48796.44360308784, 48780.35330171255, 48762.09217115024, 48742.00204392953, 48724.720524120596, 48709.510988793845, 48693.62213455103, 48673.793734336214, 48653.943490124046, 48634.03671753822, 48613.718067235284, 48601.23054000986, 48583.37030896156, 48568.52265313579, 48548.09618583966, 48527.517911943454, 48506.82313042709, 48485.95399143239, 48464.82980080972, 48442.899796170546, 48427.314171668826, 48405.33560978368, 48383.32948577108, 48360.83599506422, 48338.045372980436, 48314.93977098621, 48291.49701203359, 48267.62586728297, 48243.3344678355, 48218.593231063576, 48193.38813907995, 48167.320236509564, 48140.955519970725, 48117.90085813179, 48091.47529391052, 48062.980003684585, 48034.20601019399, 48004.98078097836, 47975.24992520601, 47944.88841047685], \"yaxis\": \"y4\"}, {\"hovertemplate\": \"day: %{x} <br>val: %{y:.1f}\", \"line\": {\"color\": \"red\"}, \"mode\": \"lines\", \"name\": \"Honey Stores Prev\", \"showlegend\": true, \"type\": \"scatter\", \"x0\": 91, \"xaxis\": \"x4\", \"y\": [47901.52091103954, 47862.6031329711, 47865.38121090793, 47827.32530333168, 47783.31161951036, 47742.66762042234], \"yaxis\": \"y4\"}, {\"hovertemplate\": \"day: %{x} <br>val: %{y:.1f}\", \"mode\": \"lines\", \"name\": \"Colony Weight\", \"showlegend\": true, \"type\": \"scatter\", \"xaxis\": \"x6\", \"y\": [49.75, 49.7201464, 49.69053780000001, 49.66117320000001, 49.632149434842745, 49.603364034922684, 49.57491599835201, 49.54670313411675, 49.51881282279553, 49.49115658974571, 49.463737371827285, 49.43664920160465, 49.40979080705857, 49.38326031127935, 49.35711253214034, 49.33103028195019, 49.305172667083006, 49.27963748758478, 49.25432363675505, 49.22964850457274, 49.20480767392324, 49.18028847920614, 49.15578333823565, 49.13164032401211, 49.107866843025384, 49.08440073054152, 49.06097689586449, 49.03775804470117, 49.01565059414935, 48.992291080640186, 48.96983186575424, 48.94756481460914, 48.92558771465204, 48.90569495563845, 48.884278539409955, 48.86246755422572, 48.84089690333111, 48.8198462220782, 48.79897353034694, 48.77827340323091, 48.757744429148026, 48.737545116231836, 48.71835776984951, 48.69794391293181, 48.67822815822412, 48.659792142619786, 48.6403144303097, 48.624164510900876, 48.608183188445985, 48.588053757862376, 48.572352907470325, 48.55528041639317, 48.536229080311365, 48.51697300185775, 48.503107841924255, 48.48971631289385, 48.472541843166944, 48.45205101208136, 48.43514049363434, 48.4183193809806, 48.402008046158116, 48.39530188798791, 48.376381129070836, 48.36531440515691, 48.34385230673005, 48.328404199384465, 48.31308070106919, 48.29811913455301, 48.28333077703179, 48.26924336524384, 48.26775163216145, 48.24197196524072, 48.22837642779694, 48.21405358687992, 48.20115468279102, 48.188047536374775, 48.17514271491709, 48.162090472209904, 48.14930394160203, 48.13670747799459, 48.124466383812454, 48.112413547119104, 48.10495811753205, 48.10852989965802, 48.08228381957192, 48.06791853870894, 48.05688125860783, 48.047945187922906, 48.038343548336655, 48.02852913736337, 48.01853953137867], \"yaxis\": \"y6\"}, {\"hovertemplate\": \"day: %{x} <br>val: %{y:.1f}\", \"line\": {\"color\": \"red\"}, \"mode\": \"lines\", \"name\": \"Colony Weight Prev\", \"showlegend\": true, \"type\": \"scatter\", \"x0\": 91, \"xaxis\": \"x6\", \"y\": [48.12887355704508, 48.14613358810308, 48.08424598308193, 48.03531256290902, 48.01175717147452, 47.99603907502551], \"yaxis\": \"y6\"}],\n",
              "                        {\"autosize\": false, \"height\": 1200, \"template\": {\"data\": {\"bar\": [{\"error_x\": {\"color\": \"#2a3f5f\"}, \"error_y\": {\"color\": \"#2a3f5f\"}, \"marker\": {\"line\": {\"color\": \"#E5ECF6\", \"width\": 0.5}}, \"type\": \"bar\"}], \"barpolar\": [{\"marker\": {\"line\": {\"color\": \"#E5ECF6\", \"width\": 0.5}}, \"type\": \"barpolar\"}], \"carpet\": [{\"aaxis\": {\"endlinecolor\": \"#2a3f5f\", \"gridcolor\": \"white\", \"linecolor\": \"white\", \"minorgridcolor\": \"white\", \"startlinecolor\": \"#2a3f5f\"}, \"baxis\": {\"endlinecolor\": \"#2a3f5f\", \"gridcolor\": \"white\", \"linecolor\": \"white\", \"minorgridcolor\": \"white\", \"startlinecolor\": \"#2a3f5f\"}, \"type\": \"carpet\"}], \"choropleth\": [{\"colorbar\": {\"outlinewidth\": 0, \"ticks\": \"\"}, \"type\": \"choropleth\"}], \"contour\": [{\"colorbar\": {\"outlinewidth\": 0, \"ticks\": \"\"}, \"colorscale\": [[0.0, \"#0d0887\"], [0.1111111111111111, \"#46039f\"], [0.2222222222222222, \"#7201a8\"], [0.3333333333333333, \"#9c179e\"], [0.4444444444444444, \"#bd3786\"], [0.5555555555555556, \"#d8576b\"], [0.6666666666666666, \"#ed7953\"], [0.7777777777777778, \"#fb9f3a\"], [0.8888888888888888, \"#fdca26\"], [1.0, \"#f0f921\"]], \"type\": \"contour\"}], \"contourcarpet\": [{\"colorbar\": {\"outlinewidth\": 0, \"ticks\": \"\"}, \"type\": \"contourcarpet\"}], \"heatmap\": [{\"colorbar\": {\"outlinewidth\": 0, \"ticks\": \"\"}, \"colorscale\": [[0.0, \"#0d0887\"], [0.1111111111111111, \"#46039f\"], [0.2222222222222222, \"#7201a8\"], [0.3333333333333333, \"#9c179e\"], [0.4444444444444444, \"#bd3786\"], [0.5555555555555556, \"#d8576b\"], [0.6666666666666666, \"#ed7953\"], [0.7777777777777778, \"#fb9f3a\"], [0.8888888888888888, \"#fdca26\"], [1.0, \"#f0f921\"]], \"type\": \"heatmap\"}], \"heatmapgl\": [{\"colorbar\": {\"outlinewidth\": 0, \"ticks\": \"\"}, \"colorscale\": [[0.0, \"#0d0887\"], [0.1111111111111111, \"#46039f\"], [0.2222222222222222, \"#7201a8\"], [0.3333333333333333, \"#9c179e\"], [0.4444444444444444, \"#bd3786\"], [0.5555555555555556, \"#d8576b\"], [0.6666666666666666, \"#ed7953\"], [0.7777777777777778, \"#fb9f3a\"], [0.8888888888888888, \"#fdca26\"], [1.0, \"#f0f921\"]], \"type\": \"heatmapgl\"}], \"histogram\": [{\"marker\": {\"colorbar\": {\"outlinewidth\": 0, \"ticks\": \"\"}}, \"type\": \"histogram\"}], \"histogram2d\": [{\"colorbar\": {\"outlinewidth\": 0, \"ticks\": \"\"}, \"colorscale\": [[0.0, \"#0d0887\"], [0.1111111111111111, \"#46039f\"], [0.2222222222222222, \"#7201a8\"], [0.3333333333333333, \"#9c179e\"], [0.4444444444444444, \"#bd3786\"], [0.5555555555555556, \"#d8576b\"], [0.6666666666666666, \"#ed7953\"], [0.7777777777777778, \"#fb9f3a\"], [0.8888888888888888, \"#fdca26\"], [1.0, \"#f0f921\"]], \"type\": \"histogram2d\"}], \"histogram2dcontour\": [{\"colorbar\": {\"outlinewidth\": 0, \"ticks\": \"\"}, \"colorscale\": [[0.0, \"#0d0887\"], [0.1111111111111111, \"#46039f\"], [0.2222222222222222, \"#7201a8\"], [0.3333333333333333, \"#9c179e\"], [0.4444444444444444, \"#bd3786\"], [0.5555555555555556, \"#d8576b\"], [0.6666666666666666, \"#ed7953\"], [0.7777777777777778, \"#fb9f3a\"], [0.8888888888888888, \"#fdca26\"], [1.0, \"#f0f921\"]], \"type\": \"histogram2dcontour\"}], \"mesh3d\": [{\"colorbar\": {\"outlinewidth\": 0, \"ticks\": \"\"}, \"type\": \"mesh3d\"}], \"parcoords\": [{\"line\": {\"colorbar\": {\"outlinewidth\": 0, \"ticks\": \"\"}}, \"type\": \"parcoords\"}], \"pie\": [{\"automargin\": true, \"type\": \"pie\"}], \"scatter\": [{\"marker\": {\"colorbar\": {\"outlinewidth\": 0, \"ticks\": \"\"}}, \"type\": \"scatter\"}], \"scatter3d\": [{\"line\": {\"colorbar\": {\"outlinewidth\": 0, \"ticks\": \"\"}}, \"marker\": {\"colorbar\": {\"outlinewidth\": 0, \"ticks\": \"\"}}, \"type\": \"scatter3d\"}], \"scattercarpet\": [{\"marker\": {\"colorbar\": {\"outlinewidth\": 0, \"ticks\": \"\"}}, \"type\": \"scattercarpet\"}], \"scattergeo\": [{\"marker\": {\"colorbar\": {\"outlinewidth\": 0, \"ticks\": \"\"}}, \"type\": \"scattergeo\"}], \"scattergl\": [{\"marker\": {\"colorbar\": {\"outlinewidth\": 0, \"ticks\": \"\"}}, \"type\": \"scattergl\"}], \"scattermapbox\": [{\"marker\": {\"colorbar\": {\"outlinewidth\": 0, \"ticks\": \"\"}}, \"type\": \"scattermapbox\"}], \"scatterpolar\": [{\"marker\": {\"colorbar\": {\"outlinewidth\": 0, \"ticks\": \"\"}}, \"type\": \"scatterpolar\"}], \"scatterpolargl\": [{\"marker\": {\"colorbar\": {\"outlinewidth\": 0, \"ticks\": \"\"}}, \"type\": \"scatterpolargl\"}], \"scatterternary\": [{\"marker\": {\"colorbar\": {\"outlinewidth\": 0, \"ticks\": \"\"}}, \"type\": \"scatterternary\"}], \"surface\": [{\"colorbar\": {\"outlinewidth\": 0, \"ticks\": \"\"}, \"colorscale\": [[0.0, \"#0d0887\"], [0.1111111111111111, \"#46039f\"], [0.2222222222222222, \"#7201a8\"], [0.3333333333333333, \"#9c179e\"], [0.4444444444444444, \"#bd3786\"], [0.5555555555555556, \"#d8576b\"], [0.6666666666666666, \"#ed7953\"], [0.7777777777777778, \"#fb9f3a\"], [0.8888888888888888, \"#fdca26\"], [1.0, \"#f0f921\"]], \"type\": \"surface\"}], \"table\": [{\"cells\": {\"fill\": {\"color\": \"#EBF0F8\"}, \"line\": {\"color\": \"white\"}}, \"header\": {\"fill\": {\"color\": \"#C8D4E3\"}, \"line\": {\"color\": \"white\"}}, \"type\": \"table\"}]}, \"layout\": {\"annotationdefaults\": {\"arrowcolor\": \"#2a3f5f\", \"arrowhead\": 0, \"arrowwidth\": 1}, \"coloraxis\": {\"colorbar\": {\"outlinewidth\": 0, \"ticks\": \"\"}}, \"colorscale\": {\"diverging\": [[0, \"#8e0152\"], [0.1, \"#c51b7d\"], [0.2, \"#de77ae\"], [0.3, \"#f1b6da\"], [0.4, \"#fde0ef\"], [0.5, \"#f7f7f7\"], [0.6, \"#e6f5d0\"], [0.7, \"#b8e186\"], [0.8, \"#7fbc41\"], [0.9, \"#4d9221\"], [1, \"#276419\"]], \"sequential\": [[0.0, \"#0d0887\"], [0.1111111111111111, \"#46039f\"], [0.2222222222222222, \"#7201a8\"], [0.3333333333333333, \"#9c179e\"], [0.4444444444444444, \"#bd3786\"], [0.5555555555555556, \"#d8576b\"], [0.6666666666666666, \"#ed7953\"], [0.7777777777777778, \"#fb9f3a\"], [0.8888888888888888, \"#fdca26\"], [1.0, \"#f0f921\"]], \"sequentialminus\": [[0.0, \"#0d0887\"], [0.1111111111111111, \"#46039f\"], [0.2222222222222222, \"#7201a8\"], [0.3333333333333333, \"#9c179e\"], [0.4444444444444444, \"#bd3786\"], [0.5555555555555556, \"#d8576b\"], [0.6666666666666666, \"#ed7953\"], [0.7777777777777778, \"#fb9f3a\"], [0.8888888888888888, \"#fdca26\"], [1.0, \"#f0f921\"]]}, \"colorway\": [\"#636efa\", \"#EF553B\", \"#00cc96\", \"#ab63fa\", \"#FFA15A\", \"#19d3f3\", \"#FF6692\", \"#B6E880\", \"#FF97FF\", \"#FECB52\"], \"font\": {\"color\": \"#2a3f5f\"}, \"geo\": {\"bgcolor\": \"white\", \"lakecolor\": \"white\", \"landcolor\": \"#E5ECF6\", \"showlakes\": true, \"showland\": true, \"subunitcolor\": \"white\"}, \"hoverlabel\": {\"align\": \"left\"}, \"hovermode\": \"closest\", \"mapbox\": {\"style\": \"light\"}, \"paper_bgcolor\": \"white\", \"plot_bgcolor\": \"#E5ECF6\", \"polar\": {\"angularaxis\": {\"gridcolor\": \"white\", \"linecolor\": \"white\", \"ticks\": \"\"}, \"bgcolor\": \"#E5ECF6\", \"radialaxis\": {\"gridcolor\": \"white\", \"linecolor\": \"white\", \"ticks\": \"\"}}, \"scene\": {\"xaxis\": {\"backgroundcolor\": \"#E5ECF6\", \"gridcolor\": \"white\", \"gridwidth\": 2, \"linecolor\": \"white\", \"showbackground\": true, \"ticks\": \"\", \"zerolinecolor\": \"white\"}, \"yaxis\": {\"backgroundcolor\": \"#E5ECF6\", \"gridcolor\": \"white\", \"gridwidth\": 2, \"linecolor\": \"white\", \"showbackground\": true, \"ticks\": \"\", \"zerolinecolor\": \"white\"}, \"zaxis\": {\"backgroundcolor\": \"#E5ECF6\", \"gridcolor\": \"white\", \"gridwidth\": 2, \"linecolor\": \"white\", \"showbackground\": true, \"ticks\": \"\", \"zerolinecolor\": \"white\"}}, \"shapedefaults\": {\"line\": {\"color\": \"#2a3f5f\"}}, \"ternary\": {\"aaxis\": {\"gridcolor\": \"white\", \"linecolor\": \"white\", \"ticks\": \"\"}, \"baxis\": {\"gridcolor\": \"white\", \"linecolor\": \"white\", \"ticks\": \"\"}, \"bgcolor\": \"#E5ECF6\", \"caxis\": {\"gridcolor\": \"white\", \"linecolor\": \"white\", \"ticks\": \"\"}}, \"title\": {\"x\": 0.05}, \"xaxis\": {\"automargin\": true, \"gridcolor\": \"white\", \"linecolor\": \"white\", \"ticks\": \"\", \"title\": {\"standoff\": 15}, \"zerolinecolor\": \"white\", \"zerolinewidth\": 2}, \"yaxis\": {\"automargin\": true, \"gridcolor\": \"white\", \"linecolor\": \"white\", \"ticks\": \"\", \"title\": {\"standoff\": 15}, \"zerolinecolor\": \"white\", \"zerolinewidth\": 2}}}, \"width\": 1200, \"xaxis\": {\"anchor\": \"y\", \"domain\": [0.0, 0.45]}, \"xaxis2\": {\"anchor\": \"y2\", \"domain\": [0.55, 1.0]}, \"xaxis3\": {\"anchor\": \"y3\", \"domain\": [0.0, 0.45]}, \"xaxis4\": {\"anchor\": \"y4\", \"domain\": [0.55, 1.0]}, \"xaxis5\": {\"anchor\": \"y5\", \"domain\": [0.0, 0.45]}, \"xaxis6\": {\"anchor\": \"y6\", \"domain\": [0.55, 1.0]}, \"yaxis\": {\"anchor\": \"x\", \"domain\": [0.7, 1.0], \"range\": [0, 60000], \"title\": {\"text\": \"adult bees\"}}, \"yaxis2\": {\"anchor\": \"x2\", \"domain\": [0.7, 1.0], \"range\": [0, 6000], \"title\": {\"text\": \"pollen stores\"}}, \"yaxis3\": {\"anchor\": \"x3\", \"domain\": [0.35, 0.6499999999999999], \"range\": [0, 35000], \"title\": {\"text\": \"brood cells\"}}, \"yaxis4\": {\"anchor\": \"x4\", \"domain\": [0.35, 0.6499999999999999], \"range\": [0, 100000], \"title\": {\"text\": \"honey stores\"}}, \"yaxis5\": {\"anchor\": \"x5\", \"domain\": [0.0, 0.3], \"range\": [0, 100], \"title\": {\"text\": \"brood % comparaison\"}}, \"yaxis6\": {\"anchor\": \"x6\", \"domain\": [0.0, 0.3], \"range\": [0, 100], \"title\": {\"text\": \"colony weight (kg)\"}}},\n",
              "                        {\"responsive\": true}\n",
              "                    ).then(function(){\n",
              "                            \n",
              "var gd = document.getElementById('61cf1bcf-35c5-4916-b9ec-7a14c6eb9e65');\n",
              "var x = new MutationObserver(function (mutations, observer) {{\n",
              "        var display = window.getComputedStyle(gd).display;\n",
              "        if (!display || display === 'none') {{\n",
              "            console.log([gd, 'removed!']);\n",
              "            Plotly.purge(gd);\n",
              "            observer.disconnect();\n",
              "        }}\n",
              "}});\n",
              "\n",
              "// Listen for the removal of the full notebook cells\n",
              "var notebookContainer = gd.closest('#notebook-container');\n",
              "if (notebookContainer) {{\n",
              "    x.observe(notebookContainer, {childList: true});\n",
              "}}\n",
              "\n",
              "// Listen for the clearing of the current output cell\n",
              "var outputEl = gd.closest('.output');\n",
              "if (outputEl) {{\n",
              "    x.observe(outputEl, {childList: true});\n",
              "}}\n",
              "\n",
              "                        })\n",
              "                };\n",
              "                \n",
              "            </script>\n",
              "        </div>\n",
              "</body>\n",
              "</html>"
            ]
          },
          "metadata": {
            "tags": []
          }
        }
      ]
    },
    {
      "cell_type": "markdown",
      "metadata": {
        "id": "iBOLVt8mcprE"
      },
      "source": [
        "#### **2. AUTRES GRAPHES**"
      ]
    },
    {
      "cell_type": "code",
      "metadata": {
        "colab": {
          "base_uri": "https://localhost:8080/",
          "height": 1000
        },
        "scrolled": false,
        "id": "0U_ENPdRcprG",
        "outputId": "ac0e974f-a7a5-4d29-92b1-d161a6722a30"
      },
      "source": [
        "fig4 = make_subplots(rows=10, cols=1, vertical_spacing=0.005, shared_xaxes=True)\n",
        "\n",
        "# Cells 2021\n",
        "fig4.add_trace(go.Scatter(y=hopomo_prev.storeshoney[:delta], name=\"storeshoney\", mode='lines', xaxis=\"x\", yaxis=\"y1\",stackgroup='one'),\n",
        "    row=1, col=1)\n",
        "fig4.add_trace(go.Scatter(y=hopomo_prev.storesnectar[:delta], name=\"storesnectar\", mode='lines', xaxis=\"x\", yaxis=\"y1\",stackgroup='one'),\n",
        "    row=1, col=1)\n",
        "fig4.add_trace(go.Scatter(y=hopomo_prev.storespollen[:delta], name=\"storespollen\", mode='lines', xaxis=\"x\", yaxis=\"y1\",stackgroup='one'),\n",
        "    row=1, col=1) \n",
        "fig4.add_trace(go.Scatter(y=hopomo_prev.cellseggs[:delta], name=\"cellseggs\", mode='lines', xaxis=\"x\", yaxis=\"y1\",stackgroup='one'),\n",
        "    row=1, col=1)\n",
        "fig4.add_trace(go.Scatter(y=hopomo_prev.cellslarvae[:delta], name=\"cellslarvae\", mode='lines', xaxis=\"x\", yaxis=\"y1\",stackgroup='one'),\n",
        "    row=1, col=1)\n",
        "fig4.add_trace(go.Scatter(y=hopomo_prev.cellspupae[:delta], name=\"cellspupae\", mode='lines', xaxis=\"x\", yaxis=\"y1\",stackgroup='one'),\n",
        "    row=1, col=1)\n",
        "fig4.add_trace(go.Scatter(y=hopomo_prev.cellsbrood[:delta], name=\"cellsbrood\", mode='lines', xaxis=\"x\", yaxis=\"y1\"),\n",
        "    row=1, col=1)\n",
        "fig4.add_trace(go.Scatter(y=hopomo_prev.cellsempty[:delta], name=\"cellsempty\", mode='lines', xaxis=\"x\", yaxis=\"y1\",stackgroup='one'),\n",
        "    row=1, col=1)\n",
        "\n",
        "# # Cells prevision\n",
        "fig4.add_trace(go.Scatter(y=hopomo_prev.storeshoney[delta:], name=\"storeshoney prev\", mode='lines',x0=delta, xaxis=\"x\", yaxis=\"y1\",stackgroup='one'),\n",
        "    row=1, col=1)\n",
        "fig4.add_trace(go.Scatter(y=hopomo_prev.storesnectar[delta:], name=\"storesnectar prev\", mode='lines',x0=delta, xaxis=\"x\", yaxis=\"y1\",stackgroup='one'),\n",
        "    row=1, col=1)\n",
        "fig4.add_trace(go.Scatter(y=hopomo_prev.storespollen[delta:], name=\"storespollen prev\", mode='lines',x0=delta, xaxis=\"x\", yaxis=\"y1\",stackgroup='one'),\n",
        "    row=1, col=1) \n",
        "fig4.add_trace(go.Scatter(y=hopomo_prev.cellseggs[delta:], name=\"cellseggs prev\", mode='lines',x0=delta, xaxis=\"x\", yaxis=\"y1\",stackgroup='one'),\n",
        "    row=1, col=1)\n",
        "fig4.add_trace(go.Scatter(y=hopomo_prev.cellslarvae[delta:], name=\"cellslarvae prev\", mode='lines',x0=delta, xaxis=\"x\", yaxis=\"y1\",stackgroup='one'),\n",
        "    row=1, col=1)\n",
        "fig4.add_trace(go.Scatter(y=hopomo_prev.cellspupae[delta:], name=\"cellspupae prev\", mode='lines',x0=delta, xaxis=\"x\", yaxis=\"y1\",stackgroup='one'),\n",
        "    row=1, col=1)\n",
        "fig4.add_trace(go.Scatter(y=hopomo_prev.cellsbrood[delta:], name=\"cellsbrood prev\", mode='lines',x0=delta, xaxis=\"x\", yaxis=\"y1\"),\n",
        "    row=1, col=1)\n",
        "fig4.add_trace(go.Scatter(y=hopomo_prev.cellsempty[delta:], name=\"cellsempty prev\", mode='lines',x0=delta, xaxis=\"x\", yaxis=\"y1\",stackgroup='one'),\n",
        "    row=1, col=1)\n",
        "\n",
        "#Income 2021\n",
        "fig4.add_trace(go.Scatter(y=hopomo_prev.incomenectar[:delta], name=\"incomenectar\", mode='lines', xaxis=\"x\", yaxis=\"y1\",stackgroup='one'),\n",
        "    row=2, col=1)\n",
        "fig4.add_trace(go.Scatter(y=hopomo_prev.incomepollen[:delta], name=\"incomepollen\", mode='lines', xaxis=\"x\", yaxis=\"y1\",stackgroup='one'),\n",
        "    row=2, col=1)\n",
        "\n",
        "# # Income prevision\n",
        "fig4.add_trace(go.Scatter(y=hopomo_prev.incomenectar[delta:], name=\"incomenectar prev\", mode='lines',x0=delta, xaxis=\"x\", yaxis=\"y1\",stackgroup='two'),\n",
        "    row=2, col=1)\n",
        "fig4.add_trace(go.Scatter(y=hopomo_prev.incomepollen[delta:], name=\"incomepollen prev\", mode='lines',x0=delta, xaxis=\"x\", yaxis=\"y1\",stackgroup='two'),\n",
        "    row=2, col=1)\n",
        "\n",
        "#Indexes 2021\n",
        "fig4.add_trace(go.Scatter(y=hopomo_prev.indexflight[:delta], name=\"indexflight\", mode='lines', xaxis=\"x\", yaxis=\"y1\"),\n",
        "    row=3, col=1)\n",
        "fig4.add_trace(go.Scatter(y=hopomo_prev.indexrain[:delta], name=\"indexrain\", mode='lines', xaxis=\"x\", yaxis=\"y1\"),\n",
        "    row=3, col=1)\n",
        "fig4.add_trace(go.Scatter(y=hopomo_prev.indextemperature[:delta], name=\"index temperature\", mode='lines', xaxis=\"x\", yaxis=\"y1\"),\n",
        "    row=3, col=1)\n",
        "fig4.add_trace(go.Scatter(y=hopomo_prev.indexvent[:delta], name=\"indexvent\", mode='lines', xaxis=\"x\", yaxis=\"y1\"),\n",
        "    row=3, col=1)\n",
        "# fig4.add_trace(go.Scatter(y=hopomo.indexhumidity, name=\"indexhumidity\", mode='lines', xaxis=\"x\", yaxis=\"y1\"),\n",
        "#     row=3, col=1)\n",
        "\n",
        "# #Indexes prevision\n",
        "fig4.add_trace(go.Scatter(y=hopomo_prev.indexflight[delta:], name=\"indexflight prev\", mode='lines',x0=delta, xaxis=\"x\", yaxis=\"y1\"),\n",
        "    row=3, col=1)\n",
        "fig4.add_trace(go.Scatter(y=hopomo_prev.indexrain[delta:], name=\"indexrain prev\", mode='lines',x0=delta, xaxis=\"x\", yaxis=\"y1\"),\n",
        "    row=3, col=1)\n",
        "fig4.add_trace(go.Scatter(y=hopomo_prev.indextemperature[delta:], name=\"index temperature prev\", mode='lines',x0=delta, xaxis=\"x\", yaxis=\"y1\"),\n",
        "    row=3, col=1)\n",
        "fig4.add_trace(go.Scatter(y=hopomo_prev.indexvent[delta:], name=\"indexvent prev\", mode='lines',x0=delta, xaxis=\"x\", yaxis=\"y1\"),\n",
        "    row=3, col=1)\n",
        "# fig4.add_trace(go.Scatter(y=hopomo.indexhumidity, name=\"indexhumidity\", mode='lines', xaxis=\"x\", yaxis=\"y1\"),\n",
        "#     row=3, col=1)\n",
        "\n",
        "# Index divers 2021\n",
        "fig4.add_trace(go.Scatter(y=hopomo_prev.indexnectaroutside[:delta], name=\"index nectaroutside\", mode='lines', xaxis=\"x\", yaxis=\"y1\"),\n",
        "    row=4, col=1)\n",
        "fig4.add_trace(go.Scatter(y=hopomo_prev.indexpollenoutside[:delta], name=\"index pollenoutside\", mode='lines', xaxis=\"x\", yaxis=\"y1\"),\n",
        "    row=4, col=1)\n",
        "fig4.add_trace(go.Scatter(y=hopomo_prev.indexpollensituation[:delta], name=\"index pollensituation\", mode='lines', xaxis=\"x\", yaxis=\"y1\"),\n",
        "    row=4, col=1)\n",
        "fig4.add_trace(go.Scatter(y=hopomo_prev.indexnursingquality[:delta], name=\"index nursingquality\", mode='lines', xaxis=\"x\", yaxis=\"y1\"),\n",
        "    row=4, col=1)\n",
        "\n",
        "# Index divers prévisions\n",
        "fig4.add_trace(go.Scatter(y=hopomo_prev.indexnectaroutside[delta:], name=\"index nectaroutside prev\", mode='lines',x0=delta, xaxis=\"x\", yaxis=\"y1\"),\n",
        "    row=4, col=1)\n",
        "fig4.add_trace(go.Scatter(y=hopomo_prev.indexpollenoutside[delta:], name=\"index pollenoutside prev\", mode='lines',x0=delta, xaxis=\"x\", yaxis=\"y1\"),\n",
        "    row=4, col=1)\n",
        "fig4.add_trace(go.Scatter(y=hopomo_prev.indexpollensituation[delta:], name=\"index pollensituation prev\", mode='lines',x0=delta, xaxis=\"x\", yaxis=\"y1\"),\n",
        "    row=4, col=1)\n",
        "fig4.add_trace(go.Scatter(y=hopomo_prev.indexnursingquality[delta:], name=\"index nursingquality prev\", mode='lines',x0=delta, xaxis=\"x\", yaxis=\"y1\"),\n",
        "    row=4, col=1)\n",
        "\n",
        "# Foragers 2021\n",
        "fig4.add_trace(go.Scatter(y=hopomo_prev.foragersactive[:delta], name=\"foragersactive\", mode='lines', xaxis=\"x\", yaxis=\"y1\",fill='tozeroy'),\n",
        "    row=5, col=1)\n",
        "fig4.add_trace(go.Scatter(y=hopomo_prev.foragersnectar[:delta], name=\"foragersnectar\", mode='lines', xaxis=\"x\", yaxis=\"y1\"),\n",
        "    row=5, col=1)\n",
        "fig4.add_trace(go.Scatter(y=hopomo_prev.foragersnectaractive[:delta], name=\"foragersnectar active\", mode='lines', xaxis=\"x\", yaxis=\"y1\",fill='tozeroy'),\n",
        "    row=5, col=1)\n",
        "fig4.add_trace(go.Scatter(y=hopomo_prev.foragerspollen[:delta], name=\"foragerspollen\", mode='lines', xaxis=\"x\", yaxis=\"y1\"),\n",
        "    row=5, col=1)\n",
        "fig4.add_trace(go.Scatter(y=hopomo_prev.foragerspollenactive[:delta], name=\"foragerspollen active\", mode='lines', xaxis=\"x\", yaxis=\"y1\",fill='tozeroy'),\n",
        "    row=5, col=1)\n",
        "\n",
        "# Foragers prévision\n",
        "fig4.add_trace(go.Scatter(y=hopomo_prev.foragersactive[delta:], name=\"foragersactive prev\", mode='lines',x0=delta, xaxis=\"x\", yaxis=\"y1\",fill='tozeroy'),\n",
        "    row=5, col=1)\n",
        "fig4.add_trace(go.Scatter(y=hopomo_prev.foragersnectar[delta:], name=\"foragersnectar prev\", mode='lines',x0=delta, xaxis=\"x\", yaxis=\"y1\"),\n",
        "    row=5, col=1)\n",
        "fig4.add_trace(go.Scatter(y=hopomo_prev.foragersnectaractive[delta:], name=\"foragersnectar active prev\",x0=delta, mode='lines', xaxis=\"x\", yaxis=\"y1\",fill='tozeroy'),\n",
        "    row=5, col=1)\n",
        "fig4.add_trace(go.Scatter(y=hopomo_prev.foragerspollen[delta:], name=\"foragerspollen prev\", mode='lines',x0=delta, xaxis=\"x\", yaxis=\"y1\"),\n",
        "    row=5, col=1)\n",
        "fig4.add_trace(go.Scatter(y=hopomo_prev.foragerspollenactive[delta:], name=\"foragerspollen active prev\",x0=delta, mode='lines', xaxis=\"x\", yaxis=\"y1\",fill='tozeroy'),\n",
        "    row=5, col=1)\n",
        "\n",
        "# Nurse and needs 2021\n",
        "fig4.add_trace(go.Scatter(y=hopomo_prev.nurses[:delta], name=\"nurses\", mode='lines', xaxis=\"x\", yaxis=\"y1\"),\n",
        "    row=6, col=1)\n",
        "fig4.add_trace(go.Scatter(y=hopomo_prev.neednurses[:delta], name=\"neednurses\", mode='lines', xaxis=\"x\", yaxis=\"y1\"),\n",
        "    row=6, col=1)\n",
        "fig4.add_trace(go.Scatter(y=hopomo_prev.needworkers[:delta], name=\"needworkers\", mode='lines', xaxis=\"x\", yaxis=\"y1\"),\n",
        "    row=6, col=1)\n",
        "fig4.add_trace(go.Scatter(y=hopomo_prev.needprocessors[:delta], name=\"needprocessors\", mode='lines', xaxis=\"x\", yaxis=\"y1\"),\n",
        "    row=6, col=1)\n",
        "fig4.add_trace(go.Scatter(y=hopomo_prev.needpollenforagers[:delta], name=\"needpollenforagers\", mode='lines', xaxis=\"x\", yaxis=\"y1\"),\n",
        "    row=6, col=1)\n",
        "\n",
        "# Nurse and needs prévision\n",
        "fig4.add_trace(go.Scatter(y=hopomo_prev.nurses[delta:], name=\"nurses prev\", mode='lines',x0=delta, xaxis=\"x\", yaxis=\"y1\"),\n",
        "    row=6, col=1)\n",
        "fig4.add_trace(go.Scatter(y=hopomo_prev.neednurses[delta:], name=\"neednurses prev\", mode='lines',x0=delta, xaxis=\"x\", yaxis=\"y1\"),\n",
        "    row=6, col=1)\n",
        "fig4.add_trace(go.Scatter(y=hopomo_prev.needworkers[delta:], name=\"needworkers prev\", mode='lines',x0=delta, xaxis=\"x\", yaxis=\"y1\"),\n",
        "    row=6, col=1)\n",
        "fig4.add_trace(go.Scatter(y=hopomo_prev.needprocessors[delta:], name=\"needprocessors prev\", mode='lines',x0=delta, xaxis=\"x\", yaxis=\"y1\"),\n",
        "    row=6, col=1)\n",
        "fig4.add_trace(go.Scatter(y=hopomo_prev.needpollenforagers[delta:], name=\"needpollenforagers prev\", mode='lines',x0=delta, xaxis=\"x\", yaxis=\"y1\"),\n",
        "    row=6, col=1)\n",
        "\n",
        "# Larvae 2021\n",
        "fig4.add_trace(go.Scatter(y=hopomo_prev.larvae1[:delta], name=\"larvae 1\", mode='lines', xaxis=\"x\", yaxis=\"y1\"),\n",
        "    row=7, col=1)\n",
        "fig4.add_trace(go.Scatter(y=hopomo_prev.larvae2[:delta], name=\"larvae 2\", mode='lines', xaxis=\"x\", yaxis=\"y1\"),\n",
        "    row=7, col=1)\n",
        "fig4.add_trace(go.Scatter(y=hopomo_prev.larvae3[:delta], name=\"larvae 3\", mode='lines', xaxis=\"x\", yaxis=\"y1\"),\n",
        "    row=7, col=1)\n",
        "fig4.add_trace(go.Scatter(y=hopomo_prev.larvae4[:delta], name=\"larvae 4\", mode='lines', xaxis=\"x\", yaxis=\"y1\"),\n",
        "    row=7, col=1)\n",
        "fig4.add_trace(go.Scatter(y=hopomo_prev.larvae5[:delta], name=\"larvae 5\", mode='lines', xaxis=\"x\", yaxis=\"y1\"),\n",
        "    row=7, col=1)\n",
        "\n",
        "# Larvae prévision\n",
        "fig4.add_trace(go.Scatter(y=hopomo_prev.larvae1[delta:], name=\"larvae 1 prev\", mode='lines',x0=delta, xaxis=\"x\", yaxis=\"y1\"),\n",
        "    row=7, col=1)\n",
        "fig4.add_trace(go.Scatter(y=hopomo_prev.larvae2[delta:], name=\"larvae 2 prev\", mode='lines',x0=delta, xaxis=\"x\", yaxis=\"y1\"),\n",
        "    row=7, col=1)\n",
        "fig4.add_trace(go.Scatter(y=hopomo_prev.larvae3[delta:], name=\"larvae 3 prev\", mode='lines',x0=delta, xaxis=\"x\", yaxis=\"y1\"),\n",
        "    row=7, col=1)\n",
        "fig4.add_trace(go.Scatter(y=hopomo_prev.larvae4[delta:], name=\"larvae 4 prev\", mode='lines',x0=delta, xaxis=\"x\", yaxis=\"y1\"),\n",
        "    row=7, col=1)\n",
        "fig4.add_trace(go.Scatter(y=hopomo_prev.larvae5[delta:], name=\"larvae 5 prev\", mode='lines',x0=delta, xaxis=\"x\", yaxis=\"y1\"),\n",
        "    row=7, col=1)\n",
        "\n",
        "# Needs pollen 2021\n",
        "fig4.add_trace(go.Scatter(y=hopomo_prev.needpollen[:delta], name=\"needpollen\", mode='lines', xaxis=\"x\", yaxis=\"y1\"),\n",
        "    row=8, col=1)\n",
        "fig4.add_trace(go.Scatter(y=hopomo_prev.needpollenincome[:delta], name=\"needpollen income\", mode='lines', xaxis=\"x\", yaxis=\"y1\"),\n",
        "    row=8, col=1)\n",
        "fig4.add_trace(go.Scatter(y=hopomo_prev.needpollen_adult[:delta], name=\"needpollen_adult\", mode='lines', xaxis=\"x\", yaxis=\"y1\"),\n",
        "    row=8, col=1)\n",
        "fig4.add_trace(go.Scatter(y=hopomo_prev.needpollen_larvae[:delta], name=\"needpollen_larvae\", mode='lines', xaxis=\"x\", yaxis=\"y1\"),\n",
        "    row=8, col=1)\n",
        "fig4.add_trace(go.Scatter(y=hopomo_prev.storespollen[:delta], name=\"storespollen\", mode='lines', xaxis=\"x\", yaxis=\"y1\"),\n",
        "    row=8, col=1)\n",
        "\n",
        "# Needs pollen prévision\n",
        "fig4.add_trace(go.Scatter(y=hopomo_prev.needpollen[delta:], name=\"needpollen prev\", mode='lines',x0=delta, xaxis=\"x\", yaxis=\"y1\"),\n",
        "    row=8, col=1)\n",
        "fig4.add_trace(go.Scatter(y=hopomo_prev.needpollenincome[delta:], name=\"needpollen income prev\",x0=delta, mode='lines', xaxis=\"x\", yaxis=\"y1\"),\n",
        "    row=8, col=1)\n",
        "fig4.add_trace(go.Scatter(y=hopomo_prev.needpollen_adult[delta:], name=\"needpollen_adult prev\",x0=delta, mode='lines', xaxis=\"x\", yaxis=\"y1\"),\n",
        "    row=8, col=1)\n",
        "fig4.add_trace(go.Scatter(y=hopomo_prev.needpollen_larvae[delta:], name=\"needpollen_larvae prev\",x0=delta, mode='lines', xaxis=\"x\", yaxis=\"y1\"),\n",
        "    row=8, col=1)\n",
        "fig4.add_trace(go.Scatter(y=hopomo_prev.storespollen[delta:], name=\"storespollen prev\", mode='lines',x0=delta, xaxis=\"x\", yaxis=\"y1\"),\n",
        "    row=8, col=1)\n",
        "\n",
        "# Needs nectar 2021\n",
        "fig4.add_trace(go.Scatter(y=hopomo_prev.neednectar[:delta], name=\"neednectar\", mode='lines', xaxis=\"x\", yaxis=\"y1\"),\n",
        "    row=9, col=1)\n",
        "fig4.add_trace(go.Scatter(y=hopomo_prev.neednectar_adult[:delta], name=\"neednectar_adult\", mode='lines', xaxis=\"x\", yaxis=\"y1\"),\n",
        "    row=9, col=1)\n",
        "fig4.add_trace(go.Scatter(y=hopomo_prev.neednectar_larvae[:delta], name=\"neednectar_larvae\", mode='lines', xaxis=\"x\", yaxis=\"y1\"),\n",
        "    row=9, col=1)\n",
        "\n",
        "# Needs nectar prévision\n",
        "fig4.add_trace(go.Scatter(y=hopomo_prev.neednectar[delta:], name=\"neednectar prev\", mode='lines',x0=delta, xaxis=\"x\", yaxis=\"y1\"),\n",
        "    row=9, col=1)\n",
        "fig4.add_trace(go.Scatter(y=hopomo_prev.neednectar_adult[delta:], name=\"neednectar_adult prev\", mode='lines',x0=delta, xaxis=\"x\", yaxis=\"y1\"),\n",
        "    row=9, col=1)\n",
        "fig4.add_trace(go.Scatter(y=hopomo_prev.neednectar_larvae[delta:], name=\"neednectar_larvae prev\", mode='lines',x0=delta, xaxis=\"x\", yaxis=\"y1\"),\n",
        "    row=9, col=1)\n",
        "\n",
        "# Usages 2021\n",
        "fig4.add_trace(go.Scatter(y=hopomo_prev.usagehoney[:delta], name=\"usagehoney\", mode='lines', xaxis=\"x\", yaxis=\"y1\"),\n",
        "    row=10, col=1)\n",
        "fig4.add_trace(go.Scatter(y=hopomo_prev.usagenectar[:delta], name=\"usagenectar\", mode='lines', xaxis=\"x\", yaxis=\"y1\"),\n",
        "    row=10, col=1)\n",
        "fig4.add_trace(go.Scatter(y=hopomo_prev.usagepollen[:delta], name=\"usagepollen\", mode='lines', xaxis=\"x\", yaxis=\"y1\"),\n",
        "    row=10, col=1)\n",
        "\n",
        "# Usages prévision\n",
        "fig4.add_trace(go.Scatter(y=hopomo_prev.usagehoney[delta:], name=\"usagehoney prev\", mode='lines',x0=delta, xaxis=\"x\", yaxis=\"y1\"),\n",
        "    row=10, col=1)\n",
        "fig4.add_trace(go.Scatter(y=hopomo_prev.usagenectar[delta:], name=\"usagenectar prev\", mode='lines',x0=delta, xaxis=\"x\", yaxis=\"y1\"),\n",
        "    row=10, col=1)\n",
        "fig4.add_trace(go.Scatter(y=hopomo_prev.usagepollen[delta:], name=\"usagepollen prev\", mode='lines',x0=delta, xaxis=\"x\", yaxis=\"y1\"),\n",
        "    row=10, col=1)\n",
        "\n",
        "\n",
        "fig4.update_yaxes(title_text=\"cells\", range=[0, 110000], row=1, col=1)\n",
        "fig4.update_yaxes(title_text=\"incomes\", row=2, col=1)\n",
        "fig4.update_yaxes(title_text=\"indexes weather\", nticks=10, row=3, col=1)\n",
        "fig4.update_yaxes(title_text=\"indexes\", nticks=10, row=4, col=1)\n",
        "fig4.update_yaxes(title_text=\"foragers\", nticks=10, row=5, col=1)\n",
        "fig4.update_yaxes(title_text=\"need bees\", nticks=10, row=6, col=1)\n",
        "fig4.update_yaxes(title_text=\"larvae 1-5\", nticks=10, row=7, col=1)\n",
        "fig4.update_yaxes(title_text=\"need pollen\", nticks=10, row=8, col=1)\n",
        "fig4.update_yaxes(title_text=\"need nectar\", nticks=10, row=9, col=1)\n",
        "fig4.update_yaxes(title_text=\"usage poll & nectar\", nticks=10, row=10, col=1)\n",
        "\n",
        "# fig4.update_xaxes(title_text = 'Temp (°C)', ticks=\"outside\", nticks=12, tickcolor='crimson', showline = True)\n",
        "\n",
        "fig4.update_traces(hovertemplate=\"day: %{x} <br>val: %{y:.1f}\")\n",
        "fig4.update_layout(autosize=False, height=3000, width=1200)\n",
        "fig4.show()"
      ],
      "execution_count": 778,
      "outputs": [
        {
          "output_type": "display_data",
          "data": {
            "text/html": [
              "<html>\n",
              "<head><meta charset=\"utf-8\" /></head>\n",
              "<body>\n",
              "    <div>\n",
              "            <script src=\"https://cdnjs.cloudflare.com/ajax/libs/mathjax/2.7.5/MathJax.js?config=TeX-AMS-MML_SVG\"></script><script type=\"text/javascript\">if (window.MathJax) {MathJax.Hub.Config({SVG: {font: \"STIX-Web\"}});}</script>\n",
              "                <script type=\"text/javascript\">window.PlotlyConfig = {MathJaxConfig: 'local'};</script>\n",
              "        <script src=\"https://cdn.plot.ly/plotly-latest.min.js\"></script>    \n",
              "            <div id=\"10401976-0e0b-4b1f-bf52-587249f109ae\" class=\"plotly-graph-div\" style=\"height:3000px; width:1200px;\"></div>\n",
              "            <script type=\"text/javascript\">\n",
              "                \n",
              "                    window.PLOTLYENV=window.PLOTLYENV || {};\n",
              "                    \n",
              "                if (document.getElementById(\"10401976-0e0b-4b1f-bf52-587249f109ae\")) {\n",
              "                    Plotly.newPlot(\n",
              "                        '10401976-0e0b-4b1f-bf52-587249f109ae',\n",
              "                        [{\"hovertemplate\": \"day: %{x} <br>val: %{y:.1f}\", \"mode\": \"lines\", \"name\": \"storeshoney\", \"stackgroup\": \"one\", \"type\": \"scatter\", \"xaxis\": \"x\", \"y\": [50000.0, 49970.292, 49940.874, 49911.744000000006, 49882.89511614248, 49854.324036998325, 49826.02767911709, 49798.00166010057, 49770.220740710785, 49742.70797124075, 49715.4692249605, 49688.49236651875, 49661.77525136492, 49635.313725133485, 49609.097622988666, 49583.13276892678, 49557.416975033986, 49531.946040696734, 49506.717751762146, 49481.692353037164, 49457.21029270968, 49432.92853524921, 49408.83406897571, 49384.747180954255, 49360.87934133648, 49337.226219969976, 49313.777434224045, 49290.5385941958, 49267.43560479135, 49245.402118722144, 49222.76248091275, 49200.30694080389, 49178.031073853206, 49155.758653769335, 49135.41559730169, 49114.96598107854, 49093.88224909782, 49072.45864544823, 49051.190976083, 49030.06839105016, 49009.087864417095, 48988.24640953523, 48967.47874056716, 48947.55796924332, 48927.083271421514, 48906.65104864029, 48887.19575244653, 48867.13096216303, 48849.12045772856, 48832.867724036965, 48812.499066118995, 48796.44360308784, 48780.35330171255, 48762.09217115024, 48742.00204392953, 48724.720524120596, 48709.510988793845, 48693.62213455103, 48673.793734336214, 48653.943490124046, 48634.03671753822, 48613.718067235284, 48601.23054000986, 48583.37030896156, 48568.52265313579, 48548.09618583966, 48527.517911943454, 48506.82313042709, 48485.95399143239, 48464.82980080972, 48442.899796170546, 48427.314171668826, 48405.33560978368, 48383.32948577108, 48360.83599506422, 48338.045372980436, 48314.93977098621, 48291.49701203359, 48267.62586728297, 48243.3344678355, 48218.593231063576, 48193.38813907995, 48167.320236509564, 48140.955519970725, 48117.90085813179, 48091.47529391052, 48062.980003684585, 48034.20601019399, 48004.98078097836, 47975.24992520601, 47944.88841047685], \"yaxis\": \"y\"}, {\"hovertemplate\": \"day: %{x} <br>val: %{y:.1f}\", \"mode\": \"lines\", \"name\": \"storesnectar\", \"stackgroup\": \"one\", \"type\": \"scatter\", \"xaxis\": \"x\", \"y\": [0.0, 0.0, 0.0, 0.0, 0.0, 0.0, 0.0, 0.0, 0.0, 0.0, 0.0, 0.0, 0.0, 0.0, 0.0, 0.0, 0.0, 0.0, 0.0, 0.7419408980858841, 0.6613191112976231, 0.534470624968012, 0.0, 0.0, 0.0, 0.0, 0.0, 0.0, 2.0019143220593434, 0.0, 0.0, 0.0, 0.0, 4.157763863799667, 3.361277929480278, 1.2462814788579086, 0.0, 0.0, 0.0, 0.0, 0.0, 0.0, 1.6694361936451392, 0.0, 0.0, 2.082533537708065, 0.7630413392891957, 6.134438956994774, 9.950463569688022, 0.0, 10.605924239965645, 9.797291984141282, 3.9251237043950464, 0.0, 7.7254540026547165, 12.281346206277805, 9.768555802902751, 0.0, 0.0, 0.0, 0.7106966772840223, 19.528909843201216, 7.1267235065548356, 13.630878893688138, 0.0, 0.0, 0.0, 0.0, 0.0, 1.0841901660348854, 15.061857152978229, 0.0, 0.7847922189499021, 0.0, 0.0, 0.0, 0.07164708467899157, 0.0, 0.0, 0.0, 0.0, 0.0, 4.066970646779324, 10.591390699844677, 3.292704391354759, 0.0, 0.0, 0.0, 0.0, 0.0, 0.0], \"yaxis\": \"y\"}, {\"hovertemplate\": \"day: %{x} <br>val: %{y:.1f}\", \"mode\": \"lines\", \"name\": \"storespollen\", \"stackgroup\": \"one\", \"type\": \"scatter\", \"xaxis\": \"x\", \"y\": [0.0, 0.0, 0.0, 0.0, 0.0, 0.0, 0.0, 0.0, 0.0, 0.0, 0.0, 0.0, 0.0, 0.0, 0.0, 0.0, 0.0, 0.0, 0.0, 0.5136199510433138, 0.22909485319640066, 0.12394380062620675, 0.0, 0.0, 0.0, 0.0, 0.0, 0.0, 0.35930776889924765, 0.0, 0.0, 0.0, 0.0, 1.542449998728794, 0.8325726076702831, 0.23427349727636826, 0.0, 0.0, 0.0, 0.0, 0.0, 0.0, 0.6834312562134793, 0.0, 0.0, 0.4472806554828019, 0.16661714215968365, 2.735209301902808, 4.478128059101219, 9.40610380989531, 3.2341299013738496, 2.367008637712301, 1.30676976593994, 0.0, 2.7611523063931354, 6.7045726775744505, 3.605905883361576, 0.0, 0.0, 0.0, 0.31467339029595065, 8.996767008496215, 4.958242180233537, 10.096899688279386, 0.0, 0.0, 0.0, 0.0, 0.0, 1.1394787651879617, 33.383169249201096, 0.0, 0.9996559194262865, 0.0, 0.0, 0.0, 0.12483459998696977, 0.0, 0.0, 0.0, 0.0, 0.0, 11.998841211898931, 66.4252671721775, 9.327646505558675, 0.0, 0.0, 0.0, 0.0, 0.0, 0.0], \"yaxis\": \"y\"}, {\"hovertemplate\": \"day: %{x} <br>val: %{y:.1f}\", \"mode\": \"lines\", \"name\": \"cellseggs\", \"stackgroup\": \"one\", \"type\": \"scatter\", \"xaxis\": \"x\", \"y\": [0, 4, 8, 12, 13, 14, 15, 16, 17, 18, 19, 21, 22, 24, 26, 27, 29, 31, 33, 36, 38, 41, 44, 47, 50, 53, 57, 61, 65, 70, 74, 79, 85, 91, 97, 103, 110, 118, 126, 134, 143, 153, 163, 174, 185, 197, 210, 224, 239, 254, 271, 288, 307, 327, 347, 369, 393, 417, 443, 471, 499, 530, 562, 595, 631, 668, 707, 747, 790, 834, 881, 929, 979, 1031, 1085, 1141, 1199, 1258, 1320, 1383, 1448, 1514, 1582, 1651, 1721, 1793, 1865, 1939, 2013, 2087, 2162], \"yaxis\": \"y\"}, {\"hovertemplate\": \"day: %{x} <br>val: %{y:.1f}\", \"mode\": \"lines\", \"name\": \"cellslarvae\", \"stackgroup\": \"one\", \"type\": \"scatter\", \"xaxis\": \"x\", \"y\": [0, 0, 0, 0, 2, 5, 6, 7, 8, 9, 9, 10, 11, 12, 13, 13, 14, 15, 16, 18, 19, 20, 22, 23, 25, 26, 28, 30, 32, 35, 37, 40, 42, 45, 48, 52, 55, 59, 63, 67, 72, 76, 82, 87, 93, 99, 106, 113, 121, 129, 139, 148, 157, 167, 177, 188, 202, 215, 227, 241, 255, 271, 290, 309, 330, 347, 366, 386, 408, 432, 457, 498, 521, 547, 571, 600, 631, 664, 698, 734, 770, 808, 847, 893, 967, 1003, 1036, 1065, 1103, 1144, 1189], \"yaxis\": \"y\"}, {\"hovertemplate\": \"day: %{x} <br>val: %{y:.1f}\", \"mode\": \"lines\", \"name\": \"cellspupae\", \"stackgroup\": \"one\", \"type\": \"scatter\", \"xaxis\": \"x\", \"y\": [0, 0, 0, 0, 0, 0, 0, 0, 0, 0, 0, 0, 0, 0, 1, 1, 1, 1, 1, 1, 1, 1, 1, 1, 2, 3, 3, 3, 3, 3, 4, 5, 6, 6, 7, 8, 9, 10, 11, 12, 13, 15, 17, 19, 21, 24, 27, 30, 33, 37, 41, 46, 52, 58, 65, 73, 80, 88, 98, 108, 119, 130, 143, 156, 170, 186, 202, 220, 239, 258, 277, 298, 320, 344, 373, 401, 429, 456, 485, 514, 546, 580, 616, 653, 692, 732, 772, 826, 876, 925, 973], \"yaxis\": \"y\"}, {\"hovertemplate\": \"day: %{x} <br>val: %{y:.1f}\", \"mode\": \"lines\", \"name\": \"cellsbrood\", \"type\": \"scatter\", \"xaxis\": \"x\", \"y\": [0, 4, 8, 12, 15, 19, 21, 23, 25, 27, 28, 31, 33, 36, 40, 41, 44, 47, 50, 55, 58, 62, 67, 71, 77, 82, 88, 94, 100, 108, 115, 124, 133, 142, 152, 163, 174, 187, 200, 213, 228, 244, 262, 280, 299, 320, 343, 367, 393, 420, 451, 482, 516, 552, 589, 630, 675, 720, 768, 820, 873, 931, 995, 1060, 1131, 1201, 1275, 1353, 1437, 1524, 1615, 1725, 1820, 1922, 2029, 2142, 2259, 2378, 2503, 2631, 2764, 2902, 3045, 3197, 3380, 3528, 3673, 3830, 3992, 4156, 4324], \"yaxis\": \"y\"}, {\"hovertemplate\": \"day: %{x} <br>val: %{y:.1f}\", \"mode\": \"lines\", \"name\": \"cellsempty\", \"stackgroup\": \"one\", \"type\": \"scatter\", \"xaxis\": \"x\", \"y\": [250000, 200025, 200051, 200076, 200102, 200126, 200152, 200178, 200204, 200230, 200256, 200280, 200305, 200328, 200350, 200375, 200398, 200421, 200443, 200462, 200483, 200504, 200524, 200544, 200562, 200580, 200598, 200615, 200630, 200646, 200662, 200675, 200688, 200696, 200708, 200720, 200732, 200740, 200748, 200756, 200762, 200767, 200768, 200772, 200773, 200770, 200768, 200756, 200743, 200737, 200722, 200709, 200698, 200685, 200658, 200626, 200602, 200586, 200558, 200526, 200491, 200426, 200391, 200332, 200300, 200250, 200197, 200140, 200077, 200008, 199893, 199847, 199772, 199694, 199610, 199519, 199425, 199330, 199229, 199125, 199017, 198904, 198771, 198585, 198489, 198380, 198264, 198135, 198003, 197868, 197731], \"yaxis\": \"y\"}, {\"hovertemplate\": \"day: %{x} <br>val: %{y:.1f}\", \"mode\": \"lines\", \"name\": \"storeshoney prev\", \"stackgroup\": \"one\", \"type\": \"scatter\", \"x0\": 91, \"xaxis\": \"x\", \"y\": [47901.52091103954, 47862.6031329711, 47865.38121090793, 47827.32530333168, 47783.31161951036, 47742.66762042234], \"yaxis\": \"y\"}, {\"hovertemplate\": \"day: %{x} <br>val: %{y:.1f}\", \"mode\": \"lines\", \"name\": \"storesnectar prev\", \"stackgroup\": \"one\", \"type\": \"scatter\", \"x0\": 91, \"xaxis\": \"x\", \"y\": [0.0, 101.56981665587752, 12.15001366324546, 3.650502767710453, 0.0, 0.0], \"yaxis\": \"y\"}, {\"hovertemplate\": \"day: %{x} <br>val: %{y:.1f}\", \"mode\": \"lines\", \"name\": \"storespollen prev\", \"stackgroup\": \"one\", \"type\": \"scatter\", \"x0\": 91, \"xaxis\": \"x\", \"y\": [549.4199880825001, 507.74051904593944, 378.1991996631376, 231.3452598264281, 120.19343795347618, 0.0], \"yaxis\": \"y\"}, {\"hovertemplate\": \"day: %{x} <br>val: %{y:.1f}\", \"mode\": \"lines\", \"name\": \"cellseggs prev\", \"stackgroup\": \"one\", \"type\": \"scatter\", \"x0\": 91, \"xaxis\": \"x\", \"y\": [2237, 2313, 2388, 2463, 2537, 2611], \"yaxis\": \"y\"}, {\"hovertemplate\": \"day: %{x} <br>val: %{y:.1f}\", \"mode\": \"lines\", \"name\": \"cellslarvae prev\", \"stackgroup\": \"one\", \"type\": \"scatter\", \"x0\": 91, \"xaxis\": \"x\", \"y\": [1235, 1588, 1848, 1972, 1912, 1799], \"yaxis\": \"y\"}, {\"hovertemplate\": \"day: %{x} <br>val: %{y:.1f}\", \"mode\": \"lines\", \"name\": \"cellspupae prev\", \"stackgroup\": \"one\", \"type\": \"scatter\", \"x0\": 91, \"xaxis\": \"x\", \"y\": [1022, 1072, 1123, 1180, 1348, 1557], \"yaxis\": \"y\"}, {\"hovertemplate\": \"day: %{x} <br>val: %{y:.1f}\", \"mode\": \"lines\", \"name\": \"cellsbrood prev\", \"type\": \"scatter\", \"x0\": 91, \"xaxis\": \"x\", \"y\": [4494, 4973, 5359, 5615, 5797, 5967], \"yaxis\": \"y\"}, {\"hovertemplate\": \"day: %{x} <br>val: %{y:.1f}\", \"mode\": \"lines\", \"name\": \"cellsempty prev\", \"stackgroup\": \"one\", \"type\": \"scatter\", \"x0\": 91, \"xaxis\": \"x\", \"y\": [197055, 196555, 196385, 196322, 196299, 196290], \"yaxis\": \"y\"}, {\"hovertemplate\": \"day: %{x} <br>val: %{y:.1f}\", \"mode\": \"lines\", \"name\": \"incomenectar\", \"stackgroup\": \"one\", \"type\": \"scatter\", \"xaxis\": \"x2\", \"y\": [0.0, 0.0, 0.0, 0.0, 0.0, 0.0, 0.0, 0.0, 0.0, 0.0, 0.0, 0.0, 0.0, 0.0, 0.0, 0.0, 0.0, 0.0, 0.0, 0.7419408980858841, 0.6613191112976232, 0.5344706249680121, 0.0, 0.0, 0.0, 0.0, 0.0, 0.0, 2.0019143220593434, 0.0, 0.0, 0.0, 0.0, 4.157763863799667, 3.361277929480278, 1.2462814788579089, 0.0, 0.0, 0.0, 0.0, 0.0, 0.0, 1.6694361936451392, 0.0, 0.0, 2.082533537708065, 0.7630413392891958, 6.134438956994774, 9.950463569688024, 0.0, 10.605924239965645, 9.79729198414128, 3.9251237043950464, 0.0, 7.7254540026547165, 12.281346206277805, 9.768555802902751, 0.0, 0.0, 0.0, 0.7106966772840223, 19.528909843201216, 7.126723506554834, 13.630878893688138, 0.0, 0.0, 0.0, 0.0, 0.0, 1.0841901660348854, 15.061857152978227, 0.0, 0.7847922189499021, 0.0, 0.0, 0.0, 0.07164708467899157, 0.0, 0.0, 0.0, 0.0, 0.0, 4.066970646779324, 10.591390699844679, 3.2927043913547593, 0.0, 0.0, 0.0, 0.0, 0.0, 0.0], \"yaxis\": \"y2\"}, {\"hovertemplate\": \"day: %{x} <br>val: %{y:.1f}\", \"mode\": \"lines\", \"name\": \"incomepollen\", \"stackgroup\": \"one\", \"type\": \"scatter\", \"xaxis\": \"x2\", \"y\": [0.0, 0.0, 0.0, 0.0, 0.0, 0.0, 0.0, 0.0, 0.0, 0.0, 0.0, 0.0, 0.0, 0.0, 0.0, 0.0, 0.0, 0.0, 0.0, 0.5136199510433138, 0.22909485319640066, 0.12394380062620675, 0.0, 0.0, 0.0, 0.0, 0.0, 0.0, 0.35930776889924765, 0.0, 0.0, 0.0, 0.0, 1.542449998728794, 0.8325726076702828, 0.23427349727636837, 0.0, 0.0, 0.0, 0.0, 0.0, 0.0, 0.6834312562134793, 0.0, 0.0, 0.4472806554828019, 0.1666171421596837, 2.735209301902808, 4.478128059101219, 9.40610380989531, 3.2341299013738496, 2.3670086377123014, 1.30676976593994, 0.0, 2.7611523063931354, 6.7045726775744505, 3.6059058833615767, 0.0, 0.0, 0.0, 0.31467339029595065, 8.996767008496215, 4.958242180233537, 10.096899688279386, 0.0, 0.0, 0.0, 0.0, 0.0, 1.1394787651879617, 33.383169249201096, 0.0, 0.9996559194262865, 0.0, 0.0, 0.0, 0.12483459998696977, 0.0, 0.0, 0.0, 0.0, 0.0, 11.998841211898931, 66.4252671721775, 9.32764650555867, 0.0, 0.0, 0.0, 0.0, 0.0, 0.0], \"yaxis\": \"y2\"}, {\"hovertemplate\": \"day: %{x} <br>val: %{y:.1f}\", \"mode\": \"lines\", \"name\": \"incomenectar prev\", \"stackgroup\": \"two\", \"type\": \"scatter\", \"x0\": 91, \"xaxis\": \"x2\", \"y\": [0.0, 101.56981665587752, 12.15001366324546, 3.650502767710453, 0.0, 0.0], \"yaxis\": \"y2\"}, {\"hovertemplate\": \"day: %{x} <br>val: %{y:.1f}\", \"mode\": \"lines\", \"name\": \"incomepollen prev\", \"stackgroup\": \"two\", \"type\": \"scatter\", \"x0\": 91, \"xaxis\": \"x2\", \"y\": [549.4199880825001, 93.58970459029281, 17.163147355004238, 13.954583585250754, 71.15577381729267, 0.0], \"yaxis\": \"y2\"}, {\"hovertemplate\": \"day: %{x} <br>val: %{y:.1f}\", \"mode\": \"lines\", \"name\": \"indexflight\", \"type\": \"scatter\", \"xaxis\": \"x3\", \"y\": [0.0, 0.0, 0.0, 0.0, 0.0, 0.0, 0.0, 0.0, 0.0, 0.0, 0.0, 0.0, 0.0, 0.0, 0.0, 0.0, 0.0, 0.0, 0.0, 0.12186805555555554, 0.0517777777777778, 0.02442187499999999, 0.0, 0.0, 0.0, 0.0, 0.0, 0.0, 0.05740798611111112, 0.0, 0.0, 0.0, 0.0, 0.21481249999999996, 0.07512500000000004, 0.026411458333333325, 0.0, 0.0, 0.0, 0.0, 0.0, 0.0, 0.03888020833333333, 0.0, 0.0, 0.021444444444444464, 0.008078125000000018, 0.10517881944444447, 0.19224999999999998, 0.32581770833333334, 0.13884895833333336, 0.09770833333333329, 0.039088541666666664, 0.0, 0.08218229166666666, 0.20778645833333328, 0.08702604166666669, 0.0, 0.0, 0.0, 0.005197916666666648, 0.1297135416666666, 0.06592881944444445, 0.12983159722222223, 0.0, 0.0, 0.0, 0.0, 0.0, 0.010777777777777787, 0.21956423611111114, 0.0, 0.005583333333333339, 0.0, 0.0, 0.0, 0.00045616319444444285, 0.0, 0.0, 0.0, 0.0, 0.0, 0.03112499999999998, 0.1588124999999999, 0.02457812500000001, 0.0, 0.0, 0.0, 0.0, 0.0, 0.0], \"yaxis\": \"y3\"}, {\"hovertemplate\": \"day: %{x} <br>val: %{y:.1f}\", \"mode\": \"lines\", \"name\": \"indexrain\", \"type\": \"scatter\", \"xaxis\": \"x3\", \"y\": [1.0, 1.0, 0.5, 1.0, 1.0, 0.25, 1.0, 1.0, 1.0, 0.75, 0.5, 1.0, 1.0, 1.0, 1.0, 0.0, 1.0, 0.5, 1.0, 1.0, 1.0, 0.75, 0.25, 0.75, 0.5, 0.0, 1.0, 0.0, 0.5, 0.0, 0.25, 0.0, 0.0, 1.0, 1.0, 1.0, 1.0, 0.5, 1.0, 0.0, 0.5, 0.25, 1.0, 0.25, 1.0, 1.0, 1.0, 1.0, 1.0, 1.0, 1.0, 1.0, 1.0, 0.0, 1.0, 1.0, 1.0, 1.0, 1.0, 1.0, 1.0, 1.0, 1.0, 1.0, 1.0, 1.0, 1.0, 0.0, 0.5, 1.0, 1.0, 0.0, 1.0, 0.0, 1.0, 1.0, 0.25, 1.0, 0.0, 1.0, 1.0, 1.0, 1.0, 1.0, 1.0, 1.0, 0.75, 1.0, 1.0, 1.0, 1.0], \"yaxis\": \"y3\"}, {\"hovertemplate\": \"day: %{x} <br>val: %{y:.1f}\", \"mode\": \"lines\", \"name\": \"index temperature\", \"type\": \"scatter\", \"xaxis\": \"x3\", \"y\": [0.0, 0.0, 0.0, 0.0, 0.0, 0.0, 0.0, 0.0, 0.0, 0.0, 0.0, 0.0, 0.0, 0.0, 0.0, 0.0, 0.0, 0.0, 0.0, 0.14375, 0.10000000000000003, 0.03749999999999998, 0.0, 0.0, 0.0, 0.0, 0.0, 0.0, 0.13437500000000002, 0.0, 0.0, 0.0, 0.0, 0.26249999999999996, 0.11250000000000004, 0.03437499999999999, 0.0, 0.0, 0.0, 0.0, 0.0, 0.0, 0.046875, 0.0, 0.0, 0.025000000000000022, 0.009375000000000022, 0.14687500000000003, 0.22499999999999998, 0.44062500000000004, 0.16562500000000002, 0.12499999999999994, 0.046875, 0.0, 0.09687499999999999, 0.24687499999999996, 0.10312500000000002, 0.0, 0.0, 0.0, 0.006249999999999978, 0.15937499999999993, 0.078125, 0.16562500000000002, 0.0, 0.0, 0.0, 0.0, 0.0, 0.012500000000000011, 0.27812500000000007, 0.0, 0.012500000000000011, 0.0, 0.0, 0.0, 0.003124999999999989, 0.0, 0.0, 0.0, 0.0, 0.0, 0.03749999999999998, 0.1968749999999999, 0.02812500000000001, 0.0, 0.0, 0.0, 0.0, 0.0, 0.0], \"yaxis\": \"y3\"}, {\"hovertemplate\": \"day: %{x} <br>val: %{y:.1f}\", \"mode\": \"lines\", \"name\": \"indexvent\", \"type\": \"scatter\", \"xaxis\": \"x3\", \"y\": [0.0, 0.7738888888888888, 0.7261111111111112, 0.8738888888888889, 0.86, 0.8516666666666666, 0.8055555555555556, 0.88, 0.8194444444444445, 0.8616666666666667, 0.8755555555555556, 0.7516666666666666, 0.6544444444444445, 0.6861111111111111, 0.7200000000000001, 0.7366666666666667, 0.8005555555555556, 0.5700000000000001, 0.92, 0.8477777777777777, 0.5177777777777778, 0.8683333333333334, 0.53, 0.40388888888888896, 0.5816666666666667, 0.7961111111111111, 0.8938888888888888, 0.57, 0.8544444444444445, 0.6061111111111112, 0.6322222222222222, 0.3961111111111112, 0.19444444444444445, 0.8183333333333334, 0.6677777777777778, 0.7683333333333333, 0.8361111111111111, 0.7777777777777777, 0.5783333333333334, 0.7238888888888889, 0.8838888888888888, 0.6755555555555556, 0.8294444444444444, 0.5, 0.8316666666666668, 0.8577777777777778, 0.8616666666666666, 0.7161111111111111, 0.8544444444444445, 0.7394444444444443, 0.8383333333333334, 0.7816666666666666, 0.8338888888888888, 0.6522222222222221, 0.8483333333333334, 0.8416666666666667, 0.8438888888888889, 0.8738888888888888, 0.883888888888889, 0.8338888888888889, 0.8316666666666666, 0.8138888888888889, 0.8438888888888889, 0.7838888888888889, 0.7661111111111111, 0.8138888888888889, 0.8483333333333333, 0.79, 0.7605555555555555, 0.8622222222222222, 0.7894444444444444, 0.6294444444444445, 0.44666666666666666, 0.4938888888888889, 0.6122222222222222, 0.6988888888888889, 0.5838888888888889, 0.7244444444444444, 0.7894444444444444, 0.8294444444444444, 0.6238888888888889, 0.8722222222222222, 0.83, 0.8066666666666666, 0.8738888888888889, 0.6977777777777778, 0.8283333333333334, 0.0, 0.0, 0.0, 0.0], \"yaxis\": \"y3\"}, {\"hovertemplate\": \"day: %{x} <br>val: %{y:.1f}\", \"mode\": \"lines\", \"name\": \"indexflight prev\", \"type\": \"scatter\", \"x0\": 91, \"xaxis\": \"x3\", \"y\": [0.7179333333333334, 0.3791681405895692, 0.04861607142857141, 0.02895625000000002, 0.07505977040816329, 0.0], \"yaxis\": \"y3\"}, {\"hovertemplate\": \"day: %{x} <br>val: %{y:.1f}\", \"mode\": \"lines\", \"name\": \"indexrain prev\", \"type\": \"scatter\", \"x0\": 91, \"xaxis\": \"x3\", \"y\": [1.0, 1.0, 0.7857142857142857, 1.0, 1.0, 1.0], \"yaxis\": \"y3\"}, {\"hovertemplate\": \"day: %{x} <br>val: %{y:.1f}\", \"mode\": \"lines\", \"name\": \"index temperature prev\", \"type\": \"scatter\", \"x0\": 91, \"xaxis\": \"x3\", \"y\": [0.7562500000000001, 0.40160714285714283, 0.06562499999999998, 0.030267857142857162, 0.08196428571428573, 0.0], \"yaxis\": \"y3\"}, {\"hovertemplate\": \"day: %{x} <br>val: %{y:.1f}\", \"mode\": \"lines\", \"name\": \"indexvent prev\", \"type\": \"scatter\", \"x0\": 91, \"xaxis\": \"x3\", \"y\": [0.9493333333333334, 0.9441269841269843, 0.942857142857143, 0.9566666666666667, 0.915761904761905, 0.9720444444444446], \"yaxis\": \"y3\"}, {\"hovertemplate\": \"day: %{x} <br>val: %{y:.1f}\", \"mode\": \"lines\", \"name\": \"index nectaroutside\", \"type\": \"scatter\", \"xaxis\": \"x4\", \"y\": [0.0, 0.004153166691769683, 0.004438635055886708, 0.002371831447139483, 0.005069581522704425, 0.00541781161667565, 0.002894934515384001, 0.006187370971354633, 0.006612042540519059, 0.0070657236692200365, 0.007550376458005104, 0.008068092943682381, 0.008621103310318956, 0.009211784562728309, 0.009842669680194427, 0.01051645726752859, 0.011236021719607414, 0.012004423914284579, 0.009618691835174234, 0.0034252463543786443, 0.007318151389706068, 0.011726099440616797, 0.01670064781469638, 0.004459570933336668, 0.01905241918597761, 0.020348058397334945, 0.01629788497862146, 0.02320541970938672, 0.024778753871854797, 0.026456849501797497, 0.028246415072293862, 0.030154551379223016, 0.03218876924647612, 0.017178503629656755, 0.02750073703993089, 0.039129542328464884, 0.04175201240007698, 0.0445448817314984, 0.047518483533270706, 0.050683676141010714, 0.05405185551522734, 0.057634965831824925, 0.030722753877834935, 0.06549654394417942, 0.06980170128059571, 0.07437516928799759, 0.07923169412595749, 0.04219328376150716, 0.04492780497553231, 0.0, 0.07635148522681524, 0.10831334581946195, 0.08640515196738668, 0.12250050736704687, 0.09765935999107732, 0.06918059551744327, 0.11022385261902108, 0.15604280174144258, 0.12420940530224084, 0.17569244593459143, 0.13972515303500752, 0.14808969965100466, 0.10458350436276773, 0.11072893918537086, 0.2343398584991001, 0.24782592379930507, 0.2619274851971737, 0.2766541604194185, 0.2920135394854516, 0.15400547411444893, 0.08116230335986192, 0.3419284336819659, 0.17992288013638003, 0.3783951932498407, 0.39756739744089675, 0.31301215791395753, 0.21886259094069668, 0.3440056100909617, 0.48017250838983505, 0.37664442310255286, 0.2623514404355304, 0.2738341938935338, 0.28552526115991356, 0.14870185736886457, 0.30944710690874366, 0.6432632419610081, 0.33393224602335186, 0.0, 0.0, 0.0, 0.0], \"yaxis\": \"y4\"}, {\"hovertemplate\": \"day: %{x} <br>val: %{y:.1f}\", \"mode\": \"lines\", \"name\": \"index pollenoutside\", \"type\": \"scatter\", \"xaxis\": \"x4\", \"y\": [0.0038860103626943143, 0.004153166691769683, 0.004438635055886708, 0.004743662894278966, 0.005069581522704425, 0.00541781161667565, 0.005789869030768002, 0.006187370971354633, 0.006612042540519059, 0.0070657236692200365, 0.007550376458005104, 0.008068092943682381, 0.008621103310318956, 0.009211784562728309, 0.009842669680194427, 0.01051645726752859, 0.011236021719607414, 0.012004423914284579, 0.012824922446898979, 0.013700985417514577, 0.014636302779412136, 0.01563479925415573, 0.01670064781469638, 0.01783828373334667, 0.01905241918597761, 0.020348058397334945, 0.021730513304828614, 0.02320541970938672, 0.024778753871854797, 0.026456849501797497, 0.028246415072293862, 0.030154551379223016, 0.03218876924647612, 0.03435700725931351, 0.03666764938657452, 0.039129542328464884, 0.04175201240007698, 0.0445448817314984, 0.047518483533270706, 0.050683676141010714, 0.05405185551522734, 0.057634965831824925, 0.06144550775566987, 0.06549654394417942, 0.06980170128059571, 0.07437516928799759, 0.07923169412595749, 0.08438656752301432, 0.08985560995106462, 0.0956551473038138, 0.10180198030242033, 0.10831334581946195, 0.11520686928984891, 0.12250050736704687, 0.1302124799881031, 0.13836119103488653, 0.14696513682536144, 0.15604280174144258, 0.16561254040298778, 0.17569244593459143, 0.1863002040466767, 0.1974529328680062, 0.20916700872553545, 0.2214578783707417, 0.2343398584991001, 0.24782592379930507, 0.2619274851971737, 0.2766541604194185, 0.2920135394854516, 0.30801094822889785, 0.3246492134394477, 0.3419284336819659, 0.35984576027276005, 0.3783951932498407, 0.39756739744089675, 0.4173495438852767, 0.43772518188139337, 0.45867414678794893, 0.48017250838983505, 0.5021925641367372, 0.5247028808710608, 0.5476683877870676, 0.5710505223198271, 0.5948074294754583, 0.6188942138174873, 0.6432632419610081, 0.6678644920467037, 0.6926459453254166, 0.7175540137372775, 0.7425339962725046, 0.767530556004077], \"yaxis\": \"y4\"}, {\"hovertemplate\": \"day: %{x} <br>val: %{y:.1f}\", \"mode\": \"lines\", \"name\": \"index pollensituation\", \"type\": \"scatter\", \"xaxis\": \"x4\", \"y\": [0.0, 0.0, 0.0, 0.0, 0.0, 0.0, 0.0, 0.0, 0.0, 0.0, 0.0, 0.0, 0.0, 0.0, 0.0, 0.0, 0.0, 0.0, 0.0, 0.0017954590597671952, 0.0008070864236687632, 0.0004395540437030924, 0.0, 0.0, 0.0, 0.0, 0.0, 0.0, 0.0013271367323160323, 0.0, 0.0, 0.0, 0.0, 0.005805838543786906, 0.003140888215760094, 0.0008845741908923198, 0.0, 0.0, 0.0, 0.0, 0.0, 0.0, 0.0025655866677374733, 0.0, 0.0, 0.0016535678661639566, 0.000612412316520201, 0.009971035104986769, 0.016180944501396368, 0.03360300104431627, 0.011406967668015779, 0.008230118224174698, 0.004478833408106645, 0.0, 0.009224277906730725, 0.022039995970821607, 0.011637810337151956, 0.0, 0.0, 0.0, 0.0009361531757832439, 0.026169442686426524, 0.01404292288695052, 0.0277934021112804, 0.0, 0.0, 0.0, 0.0, 0.0, 0.002642277223444063, 0.07493837757727012, 0.0, 0.0020700880586585484, 0.0, 0.0, 0.0, 0.00022794563169847208, 0.0, 0.0, 0.0, 0.0, 0.0, 0.017690065016229967, 0.09426968674374628, 0.012588413989619195, 0.0, 0.0, 0.0, 0.0, 0.0, 0.0], \"yaxis\": \"y4\"}, {\"hovertemplate\": \"day: %{x} <br>val: %{y:.1f}\", \"mode\": \"lines\", \"name\": \"index nursingquality\", \"type\": \"scatter\", \"xaxis\": \"x4\", \"y\": [0.0, 0.5, 0.6666666666666666, 0.75, 0.8, 0.8333333333333334, 0.8571428571428571, 0.875, 0.9090909090909091, 0.9166666666666666, 0.9166666666666666, 0.9230769230769231, 0.9285714285714286, 0.9333333333333333, 0.9411764705882353, 0.9444444444444444, 0.9473684210526315, 0.95, 0.9523809523809523, 0.9565217391304348, 0.9583333333333334, 0.9615384615384616, 0.9642857142857143, 0.9666666666666667, 0.96875, 0.9705882352941176, 0.972972972972973, 0.9743589743589743, 0.9761904761904762, 0.9772727272727273, 0.9787234042553191, 0.9803921568627451, 0.9818181818181818, 0.9827586206896551, 0.9838709677419355, 0.9850746268656716, 0.9859154929577465, 0.9868421052631579, 0.9876543209876543, 0.9885057471264368, 0.989247311827957, 0.98989898989899, 0.9905660377358491, 0.9911504424778761, 0.9917355371900827, 0.9923076923076923, 0.9927536231884058, 0.9932432432432432, 0.9936708860759493, 0.9941176470588236, 0.9945054945054945, 0.9948979591836735, 0.9952380952380953, 0.9955156950672646, 0.9957805907172996, 0.9960474308300395, 0.9962962962962963, 0.9965397923875432, 0.9967637540453075, 0.9969512195121951, 0.9971264367816092, 0.9972972972972973, 0.9974683544303797, 0.9976303317535545, 0.9977924944812362, 0.997920997920998, 0.9980430528375733, 0.9981412639405205, 0.9982456140350877, 0.9983416252072969, 0.9984350547730829, 0.9985358711566618, 0.9986263736263736, 0.9987129987129987, 0.9987639060568603, 0.9988249118683902, 0.9988814317673378, 0.9989373007438895, 0.9989909182643795, 0.9990403071017274, 0.9990875912408759, 0.9991311902693311, 0.9991721854304636, 0.9992119779353822, 0.9992570579494799, 0.9992992291520673, 0.9993351063829787, 0.9993523316062176, 0.9993738259236068, 0.9993954050785974, 0.999418942475305], \"yaxis\": \"y4\"}, {\"hovertemplate\": \"day: %{x} <br>val: %{y:.1f}\", \"mode\": \"lines\", \"name\": \"index nectaroutside prev\", \"type\": \"scatter\", \"x0\": 91, \"xaxis\": \"x4\", \"y\": [0.0, 0.4670581806654696, 0.4811811818227935, 0.4951891174659667, 0.5090526937938756, 0.27444052171192335], \"yaxis\": \"y4\"}, {\"hovertemplate\": \"day: %{x} <br>val: %{y:.1f}\", \"mode\": \"lines\", \"name\": \"index pollenoutside prev\", \"type\": \"scatter\", \"x0\": 91, \"xaxis\": \"x4\", \"y\": [0.7924882090278365, 0.8173518161645719, 0.8420670681898887, 0.8665809555654418, 0.8908422141392822, 0.9148017390397444], \"yaxis\": \"y4\"}, {\"hovertemplate\": \"day: %{x} <br>val: %{y:.1f}\", \"mode\": \"lines\", \"name\": \"index pollensituation prev\", \"type\": \"scatter\", \"x0\": 91, \"xaxis\": \"x4\", \"y\": [0.5938142271690352, 0.4877089487488742, 0.31065974018579184, 0.1579626986461675, 0.07881249999194306, 0.0], \"yaxis\": \"y4\"}, {\"hovertemplate\": \"day: %{x} <br>val: %{y:.1f}\", \"mode\": \"lines\", \"name\": \"index nursingquality prev\", \"type\": \"scatter\", \"x0\": 91, \"xaxis\": \"x4\", \"y\": [0.9994413407821229, 0.999496475327291, 0.9995672868887927, 0.9996383363471971, 0.998424024111513, 0.9036335946229971], \"yaxis\": \"y4\"}, {\"fill\": \"tozeroy\", \"hovertemplate\": \"day: %{x} <br>val: %{y:.1f}\", \"mode\": \"lines\", \"name\": \"foragersactive\", \"type\": \"scatter\", \"xaxis\": \"x5\", \"y\": [0.0, 0.0, 0.0, 0.0, 0.0, 0.0, 0.0, 0.0, 0.0, 0.0, 0.0, 0.0, 0.0, 0.0, 0.0, 0.0, 0.0, 0.0, 0.0, 2.460550702123608, 1.7589271941515334, 1.2033324264010452, 0.0, 0.0, 0.0, 0.0, 0.0, 0.0, 5.3068434997430645, 0.0, 0.0, 0.0, 0.0, 15.134893954106872, 7.631506556519854, 3.591539959620685, 0.0, 0.0, 0.0, 0.0, 0.0, 0.0, 4.5240175108706415, 0.0, 0.0, 5.008539925117852, 1.9896393145952374, 16.14586109203971, 31.1411220803315, 17.459558386652624, 33.595508331285146, 31.25374214773889, 10.5291126597852, 0.0, 24.600715460094804, 49.47425162352506, 28.847786123553476, 0.0, 0.0, 0.0, 2.11694356807605, 55.54182477512478, 22.860809260822098, 47.63193518928715, 0.0, 0.0, 0.0, 0.0, 0.0, 5.484206492749767, 89.78444034802683, 0.0, 3.333048711207257, 0.0, 0.0, 0.0, 0.337417239197989, 0.0, 0.0, 0.0, 0.0, 0.0, 31.26606097172433, 146.422666815498, 26.22711737952713, 0.0, 0.0, 0.0, 0.0, 0.0, 0.0], \"yaxis\": \"y5\"}, {\"hovertemplate\": \"day: %{x} <br>val: %{y:.1f}\", \"mode\": \"lines\", \"name\": \"foragersnectar\", \"type\": \"scatter\", \"xaxis\": \"x5\", \"y\": [4800.0, 4752.01, 4622.205, 4346.349583333333, 4073.248333333334, 4031.4851755713557, 3990.0997814215893, 3948.801254462899, 3907.984569238917, 3866.709391512127, 3825.7709670715376, 3785.810791777472, 3746.9394695683714, 3708.6450234234435, 3670.3930785116117, 3632.197495791227, 3594.2441157048697, 3556.8765848313847, 3519.9350988106094, 3483.23014485616, 3447.6421187362803, 3410.9672252547116, 3374.706746770956, 3338.6319632445216, 3302.8552223518154, 3267.648046839015, 3232.663006668408, 3197.704431476466, 3162.956036278107, 3128.9899625015278, 3093.930524817904, 3059.645681690755, 3025.7115000050503, 2991.5975730443324, 2960.5536689111245, 2925.331955642669, 2890.3276601780076, 2856.0585909468177, 2822.274858464801, 2788.688614599287, 2754.9200907207673, 2721.111731956996, 2687.249033730171, 2654.748073884597, 2619.3259963544024, 2585.0666959636583, 2551.4641716790775, 2516.274666867759, 2486.406199105355, 2454.3408149366414, 2428.46491098897, 2378.5229967785617, 2338.8217418547933, 2298.3557641181374, 2258.1077626150327, 2226.3428734242884, 2196.5531851867963, 2150.9342366413425, 2103.2066045625397, 2061.957345948137, 2020.268182317029, 1979.4840956305038, 1955.2288615216885, 1903.3710758558605, 1868.492765899877, 1799.7071877449796, 1751.9367482158696, 1703.776773624857, 1657.8179651613177, 1610.9562690510172, 1566.442445499321, 1582.790756202714, 1459.192092561922, 1403.6223020309822, 1340.28081984496, 1285.1757659214038, 1232.4007122158653, 1183.694214659798, 1128.6882395520481, 1072.373488956071, 1013.2561810624627, 952.4358130172043, 890.6101371064883, 852.6593468551764, 899.6978801749585, 707.4376755981345, 609.0312590869898, 524.0548923500137, 456.57320507485247, 400.49066375637585, 353.8193500034863], \"yaxis\": \"y5\"}, {\"fill\": \"tozeroy\", \"hovertemplate\": \"day: %{x} <br>val: %{y:.1f}\", \"mode\": \"lines\", \"name\": \"foragersnectar active\", \"type\": \"scatter\", \"xaxis\": \"x5\", \"y\": [0.0, 0.0, 0.0, 0.0, 0.0, 0.0, 0.0, 0.0, 0.0, 0.0, 0.0, 0.0, 0.0, 0.0, 0.0, 0.0, 0.0, 0.0, 0.0, 1.4539981865359908, 1.3063723338329574, 0.9768100591088996, 0.0, 0.0, 0.0, 0.0, 0.0, 0.0, 4.499299768430585, 0.0, 0.0, 0.0, 0.0, 11.03946565557678, 6.116482771592229, 3.0232377752971664, 0.0, 0.0, 0.0, 0.0, 0.0, 0.0, 3.209937973252878, 0.0, 0.0, 4.12301124607566, 1.6330481328423934, 11.16682380024223, 21.476011571445948, 0.0, 25.74494380773135, 25.17218596754821, 7.899256726365019, 0.0, 18.123279364019076, 32.00321333942877, 21.07009726062827, 0.0, 0.0, 0.0, 1.4672797728339078, 38.02438393309316, 13.481433953600629, 27.36308153729147, 0.0, 0.0, 0.0, 0.0, 0.0, 2.6739244608117834, 27.91453561931055, 0.0, 1.4658597454766797, 0.0, 0.0, 0.0, 0.1230392621585556, 0.0, 0.0, 0.0, 0.0, 0.0, 7.9148289131575105, 20.13615903890692, 6.842768895535734, 0.0, 0.0, 0.0, 0.0, 0.0, 0.0], \"yaxis\": \"y5\"}, {\"hovertemplate\": \"day: %{x} <br>val: %{y:.1f}\", \"mode\": \"lines\", \"name\": \"foragerspollen\", \"type\": \"scatter\", \"xaxis\": \"x5\", \"y\": [150.0, 148.49, 229.12500000000006, 456.14041666666674, 681.0616666666667, 674.9748244286443, 669.170218578411, 663.6087455371005, 658.225430761083, 653.6306084878732, 649.0290329284626, 644.1092082225282, 638.4305304316285, 632.8349765765568, 627.5269214883882, 622.4925042087734, 617.5458842951305, 612.6734151686156, 607.704901189391, 602.82985514384, 597.16788126372, 593.2527747452887, 589.2532532290439, 585.3980367554785, 581.5747776481847, 577.8419531609852, 574.2169933315922, 570.895568523534, 567.6939637218928, 564.0400374984724, 561.8094751820964, 559.1343183092455, 556.7684999949496, 554.9124269556677, 549.9863310888753, 549.8980443573308, 549.9223398219924, 549.5414090531826, 549.005141535199, 548.6013854007128, 548.7099092792326, 549.1882680430039, 550.0509662698292, 549.8819261154033, 552.9640036455978, 555.2133040363418, 557.135828320923, 560.975333132241, 559.4938008946452, 560.2091850633587, 555.3950890110301, 574.6470032214381, 583.9882581452065, 594.4242358818628, 605.3022373849677, 607.6971265757115, 608.1168148132039, 624.6957633586575, 644.0433954374605, 657.242654051863, 670.8818176829711, 683.9459043694966, 680.1511384783117, 704.9489241441398, 713.0972341001232, 756.1428122550203, 778.8332517841305, 802.2432263751431, 823.7820348386822, 846.553730948983, 867.9675545006793, 827.8592437972862, 929.347907438078, 963.1376979690181, 1005.6891801550403, 1040.3342340785964, 1073.6392877841347, 1103.865785340202, 1140.7217604479522, 1180.206511043929, 1222.8238189375372, 1267.474186982796, 1313.7898628935118, 1336.8906531448238, 1274.3421198250414, 1453.4023244018656, 1541.2487409130104, 1615.6651076499866, 1673.2467949251477, 1720.089336243624, 1758.5106499965136], \"yaxis\": \"y5\"}, {\"fill\": \"tozeroy\", \"hovertemplate\": \"day: %{x} <br>val: %{y:.1f}\", \"mode\": \"lines\", \"name\": \"foragerspollen active\", \"type\": \"scatter\", \"xaxis\": \"x5\", \"y\": [0.0, 0.0, 0.0, 0.0, 0.0, 0.0, 0.0, 0.0, 0.0, 0.0, 0.0, 0.0, 0.0, 0.0, 0.0, 0.0, 0.0, 0.0, 0.0, 1.0065525155876174, 0.452554860318576, 0.2265223672921457, 0.0, 0.0, 0.0, 0.0, 0.0, 0.0, 0.8075437313124796, 0.0, 0.0, 0.0, 0.0, 4.095428298530092, 1.5150237849276253, 0.5683021843235186, 0.0, 0.0, 0.0, 0.0, 0.0, 0.0, 1.3140795376177636, 0.0, 0.0, 0.8855286790421919, 0.356591181752844, 4.979037291797478, 9.665110508885553, 17.459558386652624, 7.850564523553793, 6.081556180190679, 2.629855933420181, 0.0, 6.47743609607573, 17.471038284096295, 7.777688862925206, 0.0, 0.0, 0.0, 0.6496637952421424, 17.517440842031615, 9.37937530722147, 20.268853651995677, 0.0, 0.0, 0.0, 0.0, 0.0, 2.8102820319379833, 61.86990472871628, 0.0, 1.8671889657305771, 0.0, 0.0, 0.0, 0.2143779770394334, 0.0, 0.0, 0.0, 0.0, 0.0, 23.35123205856682, 126.28650777659107, 19.384348483991396, 0.0, 0.0, 0.0, 0.0, 0.0, 0.0], \"yaxis\": \"y5\"}, {\"fill\": \"tozeroy\", \"hovertemplate\": \"day: %{x} <br>val: %{y:.1f}\", \"mode\": \"lines\", \"name\": \"foragersactive prev\", \"type\": \"scatter\", \"x0\": 91, \"xaxis\": \"x5\", \"y\": [1028.849666058069, 465.2605735068539, 64.85439417465145, 44.98228034107003, 138.22089770407032, 0.0], \"yaxis\": \"y5\"}, {\"hovertemplate\": \"day: %{x} <br>val: %{y:.1f}\", \"mode\": \"lines\", \"name\": \"foragersnectar prev\", \"type\": \"scatter\", \"x0\": 91, \"xaxis\": \"x5\", \"y\": [296.7512153909722, 1367.3142941906294, 1149.1190479085408, 650.4929302931669, 0.0, 0.0], \"yaxis\": \"y5\"}, {\"fill\": \"tozeroy\", \"hovertemplate\": \"day: %{x} <br>val: %{y:.1f}\", \"mode\": \"lines\", \"name\": \"foragersnectar active prev\", \"type\": \"scatter\", \"x0\": 91, \"xaxis\": \"x5\", \"y\": [0.0, 242.14258595506215, 26.881501276950058, 9.327300962393949, 0.0, 0.0], \"yaxis\": \"y5\"}, {\"hovertemplate\": \"day: %{x} <br>val: %{y:.1f}\", \"mode\": \"lines\", \"name\": \"foragerspollen prev\", \"type\": \"scatter\", \"x0\": 91, \"xaxis\": \"x5\", \"y\": [1808.318784609028, 719.9357058093706, 927.5709520914594, 1420.9170697068334, 2067.12, 2063.1600000000003], \"yaxis\": \"y5\"}, {\"fill\": \"tozeroy\", \"hovertemplate\": \"day: %{x} <br>val: %{y:.1f}\", \"mode\": \"lines\", \"name\": \"foragerspollen active prev\", \"type\": \"scatter\", \"x0\": 91, \"xaxis\": \"x5\", \"y\": [1028.849666058069, 223.11798755179174, 37.97289289770139, 35.65497937867608, 138.22089770407032, 0.0], \"yaxis\": \"y5\"}, {\"hovertemplate\": \"day: %{x} <br>val: %{y:.1f}\", \"mode\": \"lines\", \"name\": \"nurses\", \"type\": \"scatter\", \"xaxis\": \"x6\", \"y\": [0.0, 1.0, 2.0, 3.0, 4.0, 5.0, 6.0, 7.0, 10.0, 11.0, 11.0, 12.0, 13.0, 14.0, 16.0, 17.0, 18.0, 19.0, 20.0, 22.0, 23.0, 25.0, 27.0, 29.0, 31.0, 33.0, 36.0, 38.0, 41.0, 43.0, 46.0, 50.0, 54.0, 57.0, 61.0, 66.0, 70.0, 75.0, 80.0, 86.0, 92.0, 98.0, 105.0, 112.0, 120.0, 129.0, 137.0, 147.0, 157.0, 169.0, 181.0, 195.0, 209.0, 222.0, 236.0, 252.0, 269.0, 288.0, 308.0, 327.0, 347.0, 369.0, 394.0, 421.0, 452.0, 480.0, 510.0, 537.0, 569.0, 602.0, 638.0, 682.0, 727.0, 776.0, 808.0, 850.0, 893.0, 940.0, 990.0, 1041.0, 1095.0, 1150.0, 1207.0, 1268.0, 1345.0, 1426.0, 1503.0, 1543.0, 1596.0, 1653.0, 1720.0], \"yaxis\": \"y6\"}, {\"hovertemplate\": \"day: %{x} <br>val: %{y:.1f}\", \"mode\": \"lines\", \"name\": \"neednurses\", \"type\": \"scatter\", \"xaxis\": \"x6\", \"y\": [0, 1, 2, 3, 4, 5, 6, 7, 10, 11, 11, 12, 13, 14, 16, 17, 18, 19, 20, 22, 23, 25, 27, 29, 31, 33, 36, 38, 41, 43, 46, 50, 54, 57, 61, 66, 70, 75, 80, 86, 92, 98, 105, 112, 120, 129, 137, 147, 157, 169, 181, 195, 209, 222, 236, 252, 269, 288, 308, 327, 347, 369, 394, 421, 452, 480, 510, 537, 569, 602, 638, 682, 727, 776, 808, 850, 893, 940, 990, 1041, 1095, 1150, 1207, 1268, 1345, 1426, 1503, 1543, 1596, 1653, 1720], \"yaxis\": \"y6\"}, {\"hovertemplate\": \"day: %{x} <br>val: %{y:.1f}\", \"mode\": \"lines\", \"name\": \"needworkers\", \"type\": \"scatter\", \"xaxis\": \"x6\", \"y\": [0.0, 1.0, 231.12500000000006, 459.14041666666674, 685.0616666666667, 679.9748244286443, 675.170218578411, 670.6087455371005, 668.225430761083, 664.6306084878732, 660.0290329284626, 656.1092082225282, 651.4305304316285, 646.8349765765568, 643.5269214883882, 639.4925042087734, 635.5458842951305, 631.6734151686156, 627.704901189391, 624.82985514384, 620.16788126372, 618.2527747452887, 616.2532532290439, 614.3980367554785, 612.5747776481847, 610.8419531609852, 610.2169933315922, 608.895568523534, 608.6939637218928, 607.0400374984724, 607.8094751820964, 609.1343183092455, 610.7684999949496, 611.9124269556677, 610.9863310888753, 615.8980443573308, 619.9223398219924, 624.5414090531826, 629.005141535199, 634.6013854007128, 640.7099092792326, 647.1882680430039, 655.0509662698292, 661.8819261154033, 672.9640036455978, 684.2133040363418, 694.135828320923, 707.975333132241, 716.4938008946452, 729.2091850633587, 736.3950890110301, 769.6470032214381, 792.9882581452065, 816.4242358818628, 841.3022373849677, 859.6971265757115, 877.1168148132039, 912.6957633586575, 952.0433954374605, 984.242654051863, 1017.8818176829711, 1052.9459043694965, 1074.1511384783116, 1125.9489241441397, 1165.0972341001232, 1236.1428122550203, 1288.8332517841304, 1339.243226375143, 1392.7820348386822, 1448.553730948983, 1505.9675545006794, 1509.8592437972861, 1656.347907438078, 1739.137697969018, 1813.6891801550403, 1890.3342340785964, 1966.6392877841347, 2043.865785340202, 2130.721760447952, 2221.206511043929, 2317.823818937537, 2417.474186982796, 2520.789862893512, 2604.890653144824, 2619.3421198250417, 2879.4023244018654, 3044.2487409130104, 3158.6651076499866, 3269.2467949251477, 3373.089336243624, 3478.5106499965136], \"yaxis\": \"y6\"}, {\"hovertemplate\": \"day: %{x} <br>val: %{y:.1f}\", \"mode\": \"lines\", \"name\": \"needprocessors\", \"type\": \"scatter\", \"xaxis\": \"x6\", \"y\": [0.0, 0.0, 0.0, 0.0, 0.0, 0.0, 0.0, 0.0, 0.0, 0.0, 0.0, 0.0, 0.0, 0.0, 0.0, 0.0, 0.0, 0.0, 0.0, 0.0, 1.4838817961717683, 1.3226382225952462, 1.068941249936024, 0.0, 0.0, 0.0, 0.0, 0.0, 0.0, 4.003828644118687, 0.0, 0.0, 0.0, 0.0, 8.315527727599333, 6.722555858960556, 2.4925629577158173, 0.0, 0.0, 0.0, 0.0, 0.0, 0.0, 3.3388723872902784, 0.0, 0.0, 4.16506707541613, 1.5260826785783914, 12.268877913989549, 19.900927139376044, 0.0, 21.21184847993129, 19.594583968282564, 7.850247408790093, 0.0, 15.450908005309433, 24.56269241255561, 19.537111605805503, 0.0, 0.0, 0.0, 1.4213933545680446, 39.05781968640243, 14.253447013109671, 27.261757787376276, 0.0, 0.0, 0.0, 0.0, 0.0, 2.1683803320697708, 30.123714305956458, 0.0, 1.5695844378998043, 0.0, 0.0, 0.0, 0.14329416935798314, 0.0, 0.0, 0.0, 0.0, 0.0, 8.133941293558648, 21.182781399689354, 6.585408782709518, 0.0, 0.0, 0.0, 0.0, 0.0], \"yaxis\": \"y6\"}, {\"hovertemplate\": \"day: %{x} <br>val: %{y:.1f}\", \"mode\": \"lines\", \"name\": \"needpollenforagers\", \"type\": \"scatter\", \"xaxis\": \"x6\", \"y\": [0.0, 0.0, 229.12500000000006, 456.14041666666674, 681.0616666666667, 674.9748244286443, 669.170218578411, 663.6087455371005, 658.225430761083, 653.6306084878732, 649.0290329284626, 644.1092082225282, 638.4305304316285, 632.8349765765568, 627.5269214883882, 622.4925042087734, 617.5458842951305, 612.6734151686156, 607.704901189391, 602.82985514384, 597.16788126372, 593.2527747452887, 589.2532532290439, 585.3980367554785, 581.5747776481847, 577.8419531609852, 574.2169933315922, 570.895568523534, 567.6939637218928, 564.0400374984724, 561.8094751820964, 559.1343183092455, 556.7684999949496, 554.9124269556677, 549.9863310888753, 549.8980443573308, 549.9223398219924, 549.5414090531826, 549.005141535199, 548.6013854007128, 548.7099092792326, 549.1882680430039, 550.0509662698292, 549.8819261154033, 552.9640036455978, 555.2133040363418, 557.135828320923, 560.975333132241, 559.4938008946452, 560.2091850633587, 555.3950890110301, 574.6470032214381, 583.9882581452065, 594.4242358818628, 605.3022373849677, 607.6971265757115, 608.1168148132039, 624.6957633586575, 644.0433954374605, 657.242654051863, 670.8818176829711, 683.9459043694966, 680.1511384783117, 704.9489241441398, 713.0972341001232, 756.1428122550203, 778.8332517841305, 802.2432263751431, 823.7820348386822, 846.553730948983, 867.9675545006793, 827.8592437972862, 929.347907438078, 963.1376979690181, 1005.6891801550403, 1040.3342340785964, 1073.6392877841347, 1103.865785340202, 1140.7217604479522, 1180.206511043929, 1222.8238189375372, 1267.474186982796, 1313.7898628935118, 1336.8906531448238, 1274.3421198250414, 1453.4023244018656, 1541.2487409130104, 1615.6651076499866, 1673.2467949251477, 1720.089336243624, 1758.5106499965136], \"yaxis\": \"y6\"}, {\"hovertemplate\": \"day: %{x} <br>val: %{y:.1f}\", \"mode\": \"lines\", \"name\": \"nurses prev\", \"type\": \"scatter\", \"x0\": 91, \"xaxis\": \"x6\", \"y\": [1789.0, 1985.0, 2310.0, 2764.0, 2911.404454309172, 2588.0066150002635], \"yaxis\": \"y6\"}, {\"hovertemplate\": \"day: %{x} <br>val: %{y:.1f}\", \"mode\": \"lines\", \"name\": \"neednurses prev\", \"type\": \"scatter\", \"x0\": 91, \"xaxis\": \"x6\", \"y\": [1789, 1985, 2310, 2764, 2915, 2863], \"yaxis\": \"y6\"}, {\"hovertemplate\": \"day: %{x} <br>val: %{y:.1f}\", \"mode\": \"lines\", \"name\": \"needworkers prev\", \"type\": \"scatter\", \"x0\": 91, \"xaxis\": \"x6\", \"y\": [3597.3187846090277, 2704.9357058093706, 3237.5709520914593, 4184.917069706833, 5016.388765198601, 5532.05417266043], \"yaxis\": \"y6\"}, {\"hovertemplate\": \"day: %{x} <br>val: %{y:.1f}\", \"mode\": \"lines\", \"name\": \"needprocessors prev\", \"type\": \"scatter\", \"x0\": 91, \"xaxis\": \"x6\", \"y\": [0.0, 0.0, 203.13963331175503, 24.30002732649092, 7.301005535420906, 0.0], \"yaxis\": \"y6\"}, {\"hovertemplate\": \"day: %{x} <br>val: %{y:.1f}\", \"mode\": \"lines\", \"name\": \"needpollenforagers prev\", \"type\": \"scatter\", \"x0\": 91, \"xaxis\": \"x6\", \"y\": [1808.318784609028, 719.9357058093706, 927.5709520914594, 1420.9170697068334, 2101.3887651986, 2669.0541726604292], \"yaxis\": \"y6\"}, {\"hovertemplate\": \"day: %{x} <br>val: %{y:.1f}\", \"mode\": \"lines\", \"name\": \"larvae 1\", \"type\": \"scatter\", \"xaxis\": \"x7\", \"y\": [0.0, 0.0, 0.0, 0.0, 2.883857524974103, 3.0821176215875066, 3.2939673114144115, 3.5203323349148117, 3.7622006783801467, 4.020626643107908, 4.2967351639839855, 4.591726390347511, 4.906880542311291, 5.243563055951304, 5.60323003094322, 5.987433994307949, 6.397829993897575, 6.836182035100259, 7.30436987393489, 7.8043961792225955, 8.342671574444159, 8.910693267367225, 9.51873898320555, 10.16767486653457, 10.861785731045249, 11.60278261566316, 12.393762336485839, 13.238016365290276, 14.139041667492489, 15.106395537480081, 16.12648924390156, 17.2210359734343, 18.3886271891681, 19.633963217217463, 20.99774831257305, 22.39873083061193, 23.89391096649137, 25.496770382172844, 27.211527180094443, 29.038529123864, 30.984697390073745, 33.05732110590573, 35.26406867782212, 37.64155078314988, 40.11256680188714, 42.771638364981975, 45.621839185147294, 48.61464203792797, 51.95396572185809, 55.45983812743411, 59.38555170312105, 62.83654692486979, 66.84608013673278, 71.0814131485852, 75.54853938908406, 80.60124501493347, 86.05710802587726, 91.22402924901101, 96.63233116004176, 102.67959287007301, 109.06469005111265, 115.83362869512085, 123.86128315005067, 130.92911765316384, 139.40081076470105, 146.53232316261813, 155.2254872710203, 164.34669735709647, 173.90657802194778, 183.9147579464406, 194.53286540531008, 209.89703153006258, 216.70694739361562, 228.7199719313784, 240.92629452103256, 253.7494227865788, 267.0460978578348, 280.8309655220342, 295.03980272439884, 309.7203842358209, 324.8414033471824, 340.3878956226948, 356.3421021465365, 374.651110653694, 400.34460725509365, 407.9587683734956, 423.7838276866093, 441.4141294811152, 459.2892373151118, 477.37380185015655, 495.63070123068553], \"yaxis\": \"y7\"}, {\"hovertemplate\": \"day: %{x} <br>val: %{y:.1f}\", \"mode\": \"lines\", \"name\": \"larvae 2\", \"type\": \"scatter\", \"xaxis\": \"x7\", \"y\": [0.0, 0.0, 0.0, 0.0, 0.0, 1.9985132648070534, 2.135907511760142, 2.282719346810187, 2.439590308095964, 2.6072050701174416, 2.7862942636737804, 2.9776374686409017, 3.182066388510825, 3.4004682158217245, 3.6337891977742536, 3.8830384114436516, 4.1492917580554085, 4.433696185771019, 4.737474150324479, 5.061928322636878, 5.412427313243827, 5.783387854353426, 6.176228962346629, 6.596486115361445, 7.046198682508456, 7.5272175116143565, 8.04072835265457, 8.588877299184686, 9.17394534114616, 9.803796223306476, 10.468732107473695, 11.17565704602378, 11.93417792958997, 12.743318642093493, 13.639608305083176, 14.570711270598146, 15.52811719807717, 16.558480299778516, 17.66926187484578, 18.85758833580545, 20.12370068283775, 21.472395291321103, 22.908723526392667, 24.464616586820096, 26.085594692722864, 27.798008793707787, 29.661589370280947, 31.624172419647557, 33.832941456226365, 36.25219528739436, 38.9839062223495, 41.35427238125497, 43.69853758139194, 46.41282966798549, 49.25941931196954, 52.56123806507648, 56.382183377479045, 59.93392453550801, 63.21825226956462, 66.96620549390893, 71.1569578589606, 75.61206714029947, 81.17056799947358, 86.35115560058203, 91.81209024834384, 96.60476185993782, 101.54689995169436, 107.57126267881706, 113.89226126846785, 120.5172585692098, 127.59701617798126, 139.13415931000358, 145.45864285033335, 150.31096646057566, 158.50294054844522, 166.96192210307555, 175.8483499910991, 185.08100457437143, 194.61585910676968, 204.46258328800837, 214.63622627542387, 225.11509251959737, 235.8888116665275, 248.81573029197915, 270.11447183461905, 278.93449278350073, 282.7154264828324, 293.68219258682024, 305.8999917304128, 318.2874414593725, 330.8200446821585], \"yaxis\": \"y7\"}, {\"hovertemplate\": \"day: %{x} <br>val: %{y:.1f}\", \"mode\": \"lines\", \"name\": \"larvae 3\", \"type\": \"scatter\", \"xaxis\": \"x7\", \"y\": [0.0, 0.0, 0.0, 0.0, 0.0, 0.0, 0.8309818155067729, 0.888110343389867, 0.9491547044036759, 1.014381650106302, 1.0840758681548324, 1.158541154835558, 1.2381016594608871, 1.3231032043428013, 1.4139146841386732, 1.5109295484345349, 1.6145673714782705, 1.725275512999439, 1.84353087404359, 1.9698417517049185, 2.1097415086723044, 2.252891041260337, 2.4061362087184768, 2.568076002543729, 2.7428189267672893, 2.9298094121870166, 3.12981704132925, 3.343334849033771, 3.571255181000993, 3.8213509529597163, 4.076418469650833, 4.352898810287563, 4.646838199736688, 4.96223118312351, 5.340421993986726, 5.695551381567495, 6.065792078832428, 6.456591130960488, 6.885016108647908, 7.346879087560876, 7.840985230027907, 8.367434743923937, 8.928221962131316, 9.558877074963764, 10.172387576799798, 10.846390273234169, 11.584602644988752, 12.343643690886983, 13.329167549563904, 14.380092716959883, 15.769028633484085, 16.46344518078654, 17.38953865418419, 18.28169832160305, 19.29845457594837, 20.74187215228508, 22.517515299469714, 23.819086436675747, 24.920525821864235, 26.286149293684975, 27.84454824436734, 29.6252028158615, 32.57261102112896, 34.403579693366055, 37.279620547215686, 38.17546712526137, 40.168259981362155, 42.22320099991452, 44.72813102185214, 47.35640223542894, 50.29362113436506, 58.53669773279411, 57.8519834410995, 60.65436482406372, 62.49929985430737, 65.90552268004353, 69.42276721045883, 73.140734335422, 76.95668170202366, 80.92127421659484, 85.0155421311539, 89.24574288532125, 93.6028554696486, 100.4766569150766, 116.91527675278205, 114.2646064319773, 115.98096209937962, 117.55307433156173, 122.11305567759987, 127.19321656150566, 132.3439181588071], \"yaxis\": \"y7\"}, {\"hovertemplate\": \"day: %{x} <br>val: %{y:.1f}\", \"mode\": \"lines\", \"name\": \"larvae 4\", \"type\": \"scatter\", \"xaxis\": \"x7\", \"y\": [0.0, 0.0, 0.0, 0.0, 0.0, 0.0, 0.0, 0.7733116775106028, 0.8264754855586103, 0.8832833679180607, 0.9439835635889248, 1.0088410029048869, 1.0781383986899702, 1.1521774042943016, 1.2312798419614108, 1.3157890050594492, 1.4060710377731782, 1.5025163958976784, 1.6055413923972779, 1.715589831384965, 1.8333356841941069, 1.9634223766572254, 2.0965969624984195, 2.2391503558334143, 2.389851527967194, 2.5524672932496393, 2.7264806389812377, 2.912607738661, 3.111307410510827, 3.323684897279762, 3.556149196824312, 3.7935150278570653, 4.050807632853606, 4.324347628674962, 4.619534142526107, 4.970776993256825, 5.3005749144218575, 5.644826108561457, 6.0085037064718305, 6.407195990707743, 6.837005678884151, 7.29682085506397, 7.786734772695616, 8.30995114584195, 8.89549100596128, 9.466423878969891, 10.094707946645295, 10.781049584152509, 11.494256307785935, 12.416853541530877, 13.410648369324623, 14.68528402118367, 15.328889489978684, 16.187309001191153, 17.012948458083798, 17.969671262039054, 19.329433650116734, 20.970308127276365, 22.16604183797045, 23.191041329826856, 24.461890532703237, 25.913680512560255, 27.61514061516708, 30.33917346145002, 32.07263450657254, 34.69241488123892, 35.52608970676823, 37.38058273865562, 39.29291085052045, 41.623998728935604, 44.07728824151003, 47.026767465905465, 54.474250910138196, 53.8441596855523, 56.4449519052737, 58.16184844441843, 61.33167940604851, 64.60576609684037, 68.06476737254371, 71.61588799190322, 75.30533778596316, 79.11546350725182, 83.05208832907995, 87.2050928103324, 94.06576459606237, 108.8887152030499, 106.33464274559807, 107.93188332968268, 109.39489097295134, 113.63840961357444, 118.36600733213717], \"yaxis\": \"y7\"}, {\"hovertemplate\": \"day: %{x} <br>val: %{y:.1f}\", \"mode\": \"lines\", \"name\": \"larvae 5\", \"type\": \"scatter\", \"xaxis\": \"x7\", \"y\": [0.0, 0.0, 0.0, 0.0, 0.0, 0.0, 0.0, 0.0, 0.7655785607354968, 0.8182107307030242, 0.8744505342388801, 0.9345437279530355, 0.998752592875838, 1.0673570147030704, 1.1406556302513586, 1.2189670435417967, 1.3026311150088548, 1.3920103273954465, 1.4874912319387015, 1.589485978473305, 1.6984339330711153, 1.8150023273521658, 1.943788152890653, 2.0756309928734353, 2.2167588522750803, 2.3659530126875223, 2.526942620317143, 2.6992158325914253, 2.8834816612743897, 3.080194336405719, 3.2904480483069647, 3.520587704856069, 3.7555798775784948, 4.010299556525069, 4.281104152388212, 4.573338801100846, 4.921069223324257, 5.247569165277639, 5.588377847475842, 5.948418669407112, 6.343124030800666, 6.768635622095309, 7.223852646513331, 7.70886742496866, 8.22685163438353, 8.806536095901667, 9.371759640180192, 9.993760867178842, 10.673239088310984, 11.379313744708076, 12.292685006115567, 13.276541885631376, 14.538431180971832, 15.175600595078897, 16.02543591117924, 16.84281897350296, 17.789974549418663, 19.136139313615566, 20.7606050460036, 21.944381419590744, 22.959130916528586, 24.217271627376203, 25.65454370743465, 27.338989209015406, 30.03578172683552, 31.751908161506815, 34.345490732426526, 35.17082880970055, 37.006776911269064, 38.89998174201524, 41.207758741646245, 43.63651535909493, 46.55649979124641, 53.92950840103681, 53.30571808869678, 55.88050238622096, 57.58022995997425, 60.71836261198802, 63.95970843587197, 67.38411969881828, 70.89972911198419, 74.55228440810353, 78.3243088721793, 82.22156744578915, 86.33304188222908, 93.12510695010174, 107.7998280510194, 105.27129631814209, 106.85256449638585, 108.30094206322183, 112.5020255174387], \"yaxis\": \"y7\"}, {\"hovertemplate\": \"day: %{x} <br>val: %{y:.1f}\", \"mode\": \"lines\", \"name\": \"larvae 1 prev\", \"type\": \"scatter\", \"x0\": 91, \"xaxis\": \"x7\", \"y\": [514.0213316838839, 626.9053746845705, 631.2791512123774, 622.4264649485608, 615.854950196142, 620.8240716460986], \"yaxis\": \"y7\"}, {\"hovertemplate\": \"day: %{x} <br>val: %{y:.1f}\", \"mode\": \"lines\", \"name\": \"larvae 2 prev\", \"type\": \"scatter\", \"x0\": 91, \"xaxis\": \"x7\", \"y\": [343.47207595286505, 446.8203924292795, 525.2066674003975, 495.69681424886784, 460.5320679782171, 441.1802712633322], \"yaxis\": \"y7\"}, {\"hovertemplate\": \"day: %{x} <br>val: %{y:.1f}\", \"mode\": \"lines\", \"name\": \"larvae 3 prev\", \"type\": \"scatter\", \"x0\": 91, \"xaxis\": \"x7\", \"y\": [137.55497457884152, 259.8632940907824, 310.8536038722419, 312.027190278109, 251.0552571298847, 212.29737050628142], \"yaxis\": \"y7\"}, {\"hovertemplate\": \"day: %{x} <br>val: %{y:.1f}\", \"mode\": \"lines\", \"name\": \"larvae 4 prev\", \"type\": \"scatter\", \"x0\": 91, \"xaxis\": \"x7\", \"y\": [123.15925023858588, 132.85786556984192, 249.3532074844376, 295.01412178617534, 293.29919064083543, 234.80547580307436], \"yaxis\": \"y7\"}, {\"hovertemplate\": \"day: %{x} <br>val: %{y:.1f}\", \"mode\": \"lines\", \"name\": \"larvae 5 prev\", \"type\": \"scatter\", \"x0\": 91, \"xaxis\": \"x7\", \"y\": [117.1823472588158, 121.92765773620002, 131.5292869141435, 246.85967540959322, 292.0639805683136, 290.3661987344271], \"yaxis\": \"y7\"}, {\"hovertemplate\": \"day: %{x} <br>val: %{y:.1f}\", \"mode\": \"lines\", \"name\": \"needpollen\", \"type\": \"scatter\", \"xaxis\": \"x8\", \"y\": [0.0, 54.99, 54.483700000000006, 53.9811, 53.52915786287461, 53.090594595944, 52.6463464700855, 52.23716231663042, 51.98783725037368, 51.54196833582692, 51.05640438720618, 50.62495458055773, 50.1990354106097, 49.78247116604575, 49.416694433450175, 49.011846631335374, 48.613078575682216, 48.22425107843626, 47.8418355804031, 47.511014819975095, 47.14236296508927, 46.82937489021928, 46.52379096600631, 46.22478077933874, 45.93349701329137, 45.65380060695201, 45.42763882540479, 45.16511186089747, 44.956512197780754, 44.712649985024925, 44.52307421141324, 44.38871580234973, 44.267192455597275, 44.11203620274745, 44.0125882912498, 43.97387381191911, 43.90347606959493, 43.883884086933705, 43.87697233964246, 43.92952180043966, 43.998690190238804, 44.08401991408056, 44.23066779148414, 44.39667316937877, 44.62385200785911, 44.91571394752504, 45.177822567433516, 45.55258035070769, 45.958865526615476, 46.48642739027169, 47.087052806944925, 47.76720607648907, 48.460942611183064, 49.04438828472014, 49.7225556354641, 50.533377973771906, 51.47400253852257, 52.56303439269603, 53.70120004122851, 54.747401809988524, 55.855751892610115, 57.13150303644427, 58.679607955655925, 60.380675036069064, 62.41399194947988, 64.12531344264235, 65.99906893791214, 67.5833059807292, 69.59052050911461, 71.70812597291324, 74.0791566539214, 77.25621515830403, 80.31750366005204, 83.79168441885355, 85.57102809995752, 88.31071654938127, 91.10846113230322, 94.35404482582403, 97.78705669241569, 101.33661502676924, 105.07013315668607, 108.90281891098749, 112.88022529303356, 117.27169814007765, 123.32845767611589, 129.29954200292892, 135.131626156952, 137.1480626221545, 140.5417519193633, 144.35274145764544, 149.10201492915792], \"yaxis\": \"y8\"}, {\"hovertemplate\": \"day: %{x} <br>val: %{y:.1f}\", \"mode\": \"lines\", \"name\": \"needpollen income\", \"type\": \"scatter\", \"xaxis\": \"x8\", \"y\": [0.0, 109.98000000000002, 218.94740000000002, 326.9096, 323.98791572574925, 321.20170491763724, 318.5321978578082, 315.9482067653198, 313.74269207417916, 311.53393580566205, 309.17241994681353, 306.4466546071817, 303.7607887567472, 301.21292231442635, 298.79640202021125, 296.4220244616626, 294.0832392809355, 291.6983525709077, 289.35833046904315, 286.6405830065856, 284.76133187773854, 282.8415615499411, 280.9910576426297, 279.15589327112866, 277.36413751727287, 275.62415679916427, 274.02987289129635, 272.49310258650854, 270.73921799926677, 269.6685480874063, 268.38447278843785, 267.2488799975758, 266.3579649387205, 263.9934389226601, 263.9510612915188, 263.96272311455635, 263.77987634552767, 263.5224679368955, 263.32866499234217, 263.38075645403165, 263.6103686606418, 264.024463809518, 263.9433245353936, 265.42272174988693, 266.50238593744405, 267.425197594043, 269.26815990347563, 268.5570244294297, 268.9004088304122, 266.5896427252944, 275.8305615462903, 280.3143639096991, 285.32363322329417, 290.5450739447845, 291.6946207563415, 291.89607111033786, 299.85396641215556, 309.140829809981, 315.4764739448942, 322.02327248782615, 328.29403409735835, 326.47254646958964, 338.3754835891871, 342.2866723680591, 362.94854988240974, 373.8399608563826, 385.0767486600687, 395.41537672256743, 406.34579085551184, 416.62442616032604, 397.3724370226974, 446.0869955702774, 462.3060950251286, 482.7308064744193, 499.36043235772627, 515.3468581363846, 529.8555769632969, 547.5464450150171, 566.4991253010859, 586.9554330900179, 608.387609751742, 630.6191341888856, 641.7075135095154, 611.6842175160199, 697.6331157128955, 739.799395638245, 775.5192516719935, 803.1584615640709, 825.6428813969395, 844.0851119983265, 867.9930166123333], \"yaxis\": \"y8\"}, {\"hovertemplate\": \"day: %{x} <br>val: %{y:.1f}\", \"mode\": \"lines\", \"name\": \"needpollen_adult\", \"type\": \"scatter\", \"xaxis\": \"x8\", \"y\": [55.5, 54.99, 54.483700000000006, 53.9811, 53.4859, 52.994400000000006, 52.51030000000001, 52.0299, 51.6469, 51.1776, 50.667, 50.208800000000004, 49.7543, 49.3072, 48.9088, 48.469100000000005, 48.033100000000005, 47.6045, 47.1796, 46.8034, 46.3859, 46.0208, 45.659400000000005, 45.301700000000004, 44.947700000000005, 44.6011, 44.3032, 43.964000000000006, 43.673500000000004, 43.3417, 43.058600000000006, 42.824200000000005, 42.5972, 42.3289, 42.1056, 41.9347, 41.722500000000004, 41.559000000000005, 41.3992, 41.2881, 41.1807, 41.077, 41.022000000000006, 40.9707, 40.9681, 41.0142, 41.019, 41.11750000000001, 41.216, 41.4045, 41.60040000000001, 41.8863, 42.175900000000006, 42.424200000000006, 42.7249, 43.1156, 43.5513, 44.0807, 44.6625, 45.203, 45.7885, 46.4677, 47.2782, 48.189800000000005, 49.2851, 50.2565, 51.3253, 52.2628, 53.429, 54.6439, 56.0049, 57.7185, 59.495599999999996, 61.4564, 62.6633, 64.32390000000001, 66.0406, 67.94839999999999, 69.9949, 72.1012, 74.3462, 76.6399, 79.031, 81.6095, 84.9006, 88.39760000000001, 91.74419999999999, 93.42580000000001, 95.6998, 98.1612, 101.0837], \"yaxis\": \"y8\"}, {\"hovertemplate\": \"day: %{x} <br>val: %{y:.1f}\", \"mode\": \"lines\", \"name\": \"needpollen_larvae\", \"type\": \"scatter\", \"xaxis\": \"x8\", \"y\": [0.0, 0.0, 0.0, 0.0, 0.043257862874611544, 0.09619459594398894, 0.13604647008549065, 0.20726231663041977, 0.34093725037367467, 0.36436833582692335, 0.38940438720617687, 0.41615458055772203, 0.44473541060970384, 0.4752711660457478, 0.5078944334501764, 0.5427466313353682, 0.5799785756822152, 0.6197510784362609, 0.6622355804030986, 0.7076148199750905, 0.7564629650892727, 0.8085748902192733, 0.8643909660063036, 0.923080779338733, 0.9857970132913698, 1.0527006069520115, 1.1244388254047952, 1.2011118608974645, 1.283012197780752, 1.370949985024925, 1.4644742114132305, 1.5645158023497234, 1.6699924555972718, 1.7831362027474476, 1.9069882912497942, 2.0391738119191105, 2.1809760695949296, 2.3248840869337033, 2.4777723396424554, 2.6414218004396606, 2.8179901902388025, 3.0070199140805567, 3.20866779148413, 3.425973169378768, 3.6557520078591037, 3.901513947525042, 4.158822567433517, 4.435080350707688, 4.742865526615475, 5.081927390271696, 5.486652806944916, 5.880906076489071, 6.285042611183059, 6.620188284720137, 6.997655635464099, 7.417777973771903, 7.922702538522573, 8.482334392696034, 9.038700041228509, 9.544401809988521, 10.067251892610116, 10.663803036444268, 11.40140795565593, 12.190875036069055, 13.128891949479883, 13.868813442642349, 14.673768937912145, 15.320505980729191, 16.16152050911461, 17.06422597291324, 18.074256653921402, 19.53771515830404, 20.821903660052044, 22.335284418853544, 22.90772809995751, 23.986816549381256, 25.067861132303218, 26.40564482582404, 27.792156692415695, 29.235415026769225, 30.723933156686073, 32.2629189109875, 33.84922529303355, 35.66219814007765, 38.42785767611589, 40.901942002928905, 43.38742615695201, 43.72226262215448, 44.84195191936329, 46.19154145764544, 48.01831492915794], \"yaxis\": \"y8\"}, {\"hovertemplate\": \"day: %{x} <br>val: %{y:.1f}\", \"mode\": \"lines\", \"name\": \"storespollen\", \"type\": \"scatter\", \"xaxis\": \"x8\", \"y\": [0.0, 0.0, 0.0, 0.0, 0.0, 0.0, 0.0, 0.0, 0.0, 0.0, 0.0, 0.0, 0.0, 0.0, 0.0, 0.0, 0.0, 0.0, 0.0, 0.5136199510433138, 0.22909485319640066, 0.12394380062620675, 0.0, 0.0, 0.0, 0.0, 0.0, 0.0, 0.35930776889924765, 0.0, 0.0, 0.0, 0.0, 1.542449998728794, 0.8325726076702831, 0.23427349727636826, 0.0, 0.0, 0.0, 0.0, 0.0, 0.0, 0.6834312562134793, 0.0, 0.0, 0.4472806554828019, 0.16661714215968365, 2.735209301902808, 4.478128059101219, 9.40610380989531, 3.2341299013738496, 2.367008637712301, 1.30676976593994, 0.0, 2.7611523063931354, 6.7045726775744505, 3.605905883361576, 0.0, 0.0, 0.0, 0.31467339029595065, 8.996767008496215, 4.958242180233537, 10.096899688279386, 0.0, 0.0, 0.0, 0.0, 0.0, 1.1394787651879617, 33.383169249201096, 0.0, 0.9996559194262865, 0.0, 0.0, 0.0, 0.12483459998696977, 0.0, 0.0, 0.0, 0.0, 0.0, 11.998841211898931, 66.4252671721775, 9.327646505558675, 0.0, 0.0, 0.0, 0.0, 0.0, 0.0], \"yaxis\": \"y8\"}, {\"hovertemplate\": \"day: %{x} <br>val: %{y:.1f}\", \"mode\": \"lines\", \"name\": \"needpollen prev\", \"type\": \"scatter\", \"x0\": 91, \"xaxis\": \"x8\", \"y\": [154.03980704869568, 173.3454660470664, 202.7344234654467, 243.92604404836501, 254.00925290142942, 232.5080254183545], \"yaxis\": \"y8\"}, {\"hovertemplate\": \"day: %{x} <br>val: %{y:.1f}\", \"mode\": \"lines\", \"name\": \"needpollen income prev\", \"type\": \"scatter\", \"x0\": 91, \"xaxis\": \"x8\", \"y\": [345.56913878849787, 445.2340570039005, 682.04019345928, 1008.6666072953279, 1281.146002877006, 1460.886644736298], \"yaxis\": \"y8\"}, {\"hovertemplate\": \"day: %{x} <br>val: %{y:.1f}\", \"mode\": \"lines\", \"name\": \"needpollen_adult prev\", \"type\": \"scatter\", \"x0\": 91, \"xaxis\": \"x8\", \"y\": [104.1073, 112.7275, 127.23410000000001, 147.6049, 154.1900004439127, 139.59269767501186], \"yaxis\": \"y8\"}, {\"hovertemplate\": \"day: %{x} <br>val: %{y:.1f}\", \"mode\": \"lines\", \"name\": \"needpollen_larvae prev\", \"type\": \"scatter\", \"x0\": 91, \"xaxis\": \"x8\", \"y\": [49.93250704869568, 60.61796604706639, 75.50032346544667, 96.32114404836503, 99.81925245751671, 92.91532774334263], \"yaxis\": \"y8\"}, {\"hovertemplate\": \"day: %{x} <br>val: %{y:.1f}\", \"mode\": \"lines\", \"name\": \"storespollen prev\", \"type\": \"scatter\", \"x0\": 91, \"xaxis\": \"x8\", \"y\": [549.4199880825001, 507.74051904593944, 378.1991996631376, 231.3452598264281, 120.19343795347618, 0.0], \"yaxis\": \"y8\"}, {\"hovertemplate\": \"day: %{x} <br>val: %{y:.1f}\", \"mode\": \"lines\", \"name\": \"neednectar\", \"type\": \"scatter\", \"xaxis\": \"x9\", \"y\": [75.0, 74.27, 73.545, 72.825, 72.12220964381243, 71.427697860378, 70.74089470308759, 70.06504754129598, 69.4522984744659, 68.78192367508844, 68.0968657006339, 67.44214610436066, 66.79278788458888, 66.15381557857468, 65.54025536205242, 64.91213515472414, 64.28948473198011, 63.677335843136824, 63.070722336478816, 62.56349681245258, 61.947091716805105, 61.36571276248059, 60.77063630871546, 60.217220053629795, 59.66959904444528, 59.132803416257595, 58.6219643648255, 58.09710007060254, 57.75747351111612, 57.08562949508655, 56.5990945234872, 56.138850272171226, 55.68966737670683, 55.68105020968255, 55.015405032908774, 54.485318487350646, 53.95561143064593, 53.55900912398026, 53.16917341305988, 52.80646258209654, 52.45131658266938, 52.10363720465841, 51.91917242018611, 51.471364503254144, 51.1867445545091, 51.080556953062064, 50.72077402210213, 50.92501704805386, 51.160700043162585, 50.58229779867276, 50.92164479493426, 50.74458181784836, 50.023045422368256, 49.577950110174434, 50.22531805176044, 50.92925352499238, 50.3051845231575, 49.49069140994026, 49.571000537031225, 49.62561053041582, 49.766931464569716, 51.50732243462329, 50.74772790675523, 51.77730112731041, 50.750018458113985, 51.066168240326476, 51.44568474052541, 51.73695379091502, 52.17284748674971, 52.8104765566797, 55.90920176396949, 54.025918407276166, 54.94640471285925, 55.80010225045547, 56.233726767143665, 56.97655520946395, 57.76400498555982, 58.67854446622756, 59.67786187655045, 60.72849861868163, 61.85309192980567, 63.01272995906676, 65.16975642597077, 69.97876199387629, 68.22804529718834, 69.35661494453191, 71.23822556482767, 71.93498372647748, 73.06307303908325, 74.32713943087919, 75.90378682289372], \"yaxis\": \"y9\"}, {\"hovertemplate\": \"day: %{x} <br>val: %{y:.1f}\", \"mode\": \"lines\", \"name\": \"neednectar_adult\", \"type\": \"scatter\", \"xaxis\": \"x9\", \"y\": [75.0, 74.27, 73.545, 72.825, 72.115, 71.41, 70.715, 70.025, 69.385, 68.71, 68.02, 67.36, 66.70500000000001, 66.06, 65.44, 64.805, 64.17500000000001, 63.55500000000001, 62.94, 62.423816521063706, 61.79776781582455, 61.20609997279203, 60.6, 60.035, 59.475, 58.925, 58.4, 57.86, 57.50420530499229, 56.815, 56.31, 55.83, 55.36, 55.329046818623205, 54.638945196695595, 54.08274619878862, 53.525, 53.1, 52.68, 52.285, 51.895, 51.510000000000005, 51.28572052532613, 50.795, 50.464999999999996, 50.31025619775353, 49.89968917943786, 50.049375832761186, 50.224233662409944, 49.57878675159959, 49.83786524993855, 49.582612264432164, 48.78087337979356, 48.269999999999996, 48.84302146380284, 49.46422754870575, 48.740433583706604, 47.815, 47.785, 47.74, 47.77850830704228, 49.40125474325375, 48.49582427782467, 49.36895805567862, 48.155, 48.325, 48.545, 48.71, 48.980000000000004, 49.439526194782495, 52.3385332104408, 50.165, 50.82999146133621, 51.379999999999995, 51.705, 52.235, 52.810122517175934, 53.46000000000001, 54.185, 54.95, 55.78, 56.635, 58.47798182915173, 62.92768000446494, 60.62681352138582, 61.260000000000005, 62.64, 63.28, 64.19, 65.19, 66.405], \"yaxis\": \"y9\"}, {\"hovertemplate\": \"day: %{x} <br>val: %{y:.1f}\", \"mode\": \"lines\", \"name\": \"neednectar_larvae\", \"type\": \"scatter\", \"xaxis\": \"x9\", \"y\": [0.0, 0.0, 0.0, 0.0, 0.007209643812435258, 0.017697860378004034, 0.025894703087593632, 0.040047541295982494, 0.06729847446589474, 0.07192367508843567, 0.07686570063389642, 0.0821461043606673, 0.08778788458887013, 0.0938155785746735, 0.10025536205242022, 0.10713515472412691, 0.11448473198009267, 0.12233584313681817, 0.13072233647882067, 0.1396802913888674, 0.1493239009805583, 0.15961278968855694, 0.17063630871545785, 0.18222005362979554, 0.1945990444452783, 0.20780341625759557, 0.22196436482550153, 0.2371000706025344, 0.25326820612382406, 0.2706294950865534, 0.2890945234872012, 0.3088502721712274, 0.3296673767068278, 0.3520033910593502, 0.3764598362131775, 0.40257228856202376, 0.4306114306459326, 0.4590091239802606, 0.4891734130598837, 0.5214625820965502, 0.5563165826693752, 0.5936372046584043, 0.6334518948599781, 0.6763645032541392, 0.7217445545091039, 0.7703007553085326, 0.8210848426642694, 0.8756412152926715, 0.9364663807526403, 1.0035110470731725, 1.0837795449957086, 1.1619695534161991, 1.2421720425746965, 1.3079501101744393, 1.3822965879576006, 1.4650259762866302, 1.564750939450899, 1.6756914099402638, 1.7860005370312297, 1.8856105304158144, 1.9884231575274365, 2.106067691369539, 2.25190362893056, 2.408343071631788, 2.595018458113981, 2.7411682403264708, 2.9006847405254055, 3.026953790915016, 3.192847486749704, 3.370950361897211, 3.570668553528688, 3.86091840727617, 4.116413251523038, 4.420102250455475, 4.528726767143665, 4.741555209463956, 4.953882468383888, 5.2185444662275495, 5.492861876550446, 5.778498618681628, 6.073091929805672, 6.377729959066764, 6.691774596819043, 7.051081989411346, 7.6012317758025265, 8.096614944531906, 8.598225564827665, 8.654983726477477, 8.873073039083252, 9.137139430879191, 9.49878682289372], \"yaxis\": \"y9\"}, {\"hovertemplate\": \"day: %{x} <br>val: %{y:.1f}\", \"mode\": \"lines\", \"name\": \"neednectar prev\", \"type\": \"scatter\", \"x0\": 91, \"xaxis\": \"x9\", \"y\": [108.41874859327785, 97.29444517110188, 94.6246218138029, 107.28978260386975, 113.68471232101743, 101.60999772004081], \"yaxis\": \"y9\"}, {\"hovertemplate\": \"day: %{x} <br>val: %{y:.1f}\", \"mode\": \"lines\", \"name\": \"neednectar_adult prev\", \"type\": \"scatter\", \"x0\": 91, \"xaxis\": \"x9\", \"y\": [98.54048998174207, 85.28281720520562, 79.61063182523955, 88.01446841023211, 93.69471601730555, 83.02013230000527], \"yaxis\": \"y9\"}, {\"hovertemplate\": \"day: %{x} <br>val: %{y:.1f}\", \"mode\": \"lines\", \"name\": \"neednectar_larvae prev\", \"type\": \"scatter\", \"x0\": 91, \"xaxis\": \"x9\", \"y\": [9.878258611535783, 12.011627965896267, 15.013989988563358, 19.275314193637644, 19.989996303711873, 18.58986542003553], \"yaxis\": \"y9\"}, {\"hovertemplate\": \"day: %{x} <br>val: %{y:.1f}\", \"mode\": \"lines\", \"name\": \"usagehoney\", \"type\": \"scatter\", \"xaxis\": \"x10\", \"y\": [30.0, 29.708, 29.418000000000003, 29.130000000000003, 28.84888385752497, 28.571079144151202, 28.29635788123504, 28.026019016518394, 27.780919389786362, 27.512769470035376, 27.23874628025356, 26.976858441744266, 26.71711515383555, 26.461526231429872, 26.21610214482097, 25.964854061889657, 25.715793892792046, 25.470934337254732, 25.22828893459153, 25.02539872498103, 24.482060327487687, 24.281757460473187, 24.09446627349898, 24.08688802145192, 23.867839617778113, 23.65312136650304, 23.448785745930202, 23.238840028241015, 23.102989404446447, 22.033486069210884, 22.639637809394884, 22.45554010886849, 22.275866950682733, 22.272420083873023, 20.343056467643645, 20.449616223148148, 21.08373198071521, 21.423603649592106, 21.267669365223952, 21.122585032838618, 20.980526633067754, 20.841454881863367, 20.767668968074446, 19.920771323843603, 20.47469782180364, 20.432222781224826, 19.455296193757626, 20.064790283505868, 18.010504434467123, 16.2527336915939, 20.368657917973707, 16.05546303115309, 16.09030137529079, 18.261130562311756, 20.090127220704176, 17.28151980893507, 15.20953532675188, 15.888854242815004, 19.82840021481249, 19.85024421216633, 19.906772585827888, 20.31865030293571, 12.487527225421607, 17.86023104830223, 14.84765582577034, 20.426467296130593, 20.578273896210163, 20.694781516366007, 20.869138994699885, 21.124190622671883, 21.930004639173845, 15.585624501719176, 21.9785618851437, 22.00612401260223, 22.493490706857468, 22.790622083785582, 23.10560199422393, 23.442758952619428, 23.871144750620182, 24.291399447472653, 24.74123677192227, 25.205091983626705, 26.067902570388313, 26.36471653883879, 23.054661838937466, 26.42556422127086, 28.495290225931072, 28.773993490590996, 29.225229215633302, 29.730855772351674, 30.36151472915749], \"yaxis\": \"y10\"}, {\"hovertemplate\": \"day: %{x} <br>val: %{y:.1f}\", \"mode\": \"lines\", \"name\": \"usagenectar\", \"type\": \"scatter\", \"xaxis\": \"x10\", \"y\": [0.0, 0.0, 0.0, 0.0, 0.0, 0.0, 0.0, 0.0, 0.0, 0.0, 0.0, 0.0, 0.0, 0.0, 0.0, 0.0, 0.0, 0.0, 0.0, 0.0, 0.7419408980858841, 0.6613191112976231, 0.534470624968012, 0.0, 0.0, 0.0, 0.0, 0.0, 0.0, 2.0019143220593434, 0.0, 0.0, 0.0, 0.0, 4.157763863799667, 3.361277929480278, 1.2462814788579086, 0.0, 0.0, 0.0, 0.0, 0.0, 0.0, 1.6694361936451392, 0.0, 0.0, 2.082533537708065, 0.7630413392891957, 6.134438956994774, 9.950463569688022, 0.0, 10.605924239965645, 9.797291984141282, 3.9251237043950464, 0.0, 7.7254540026547165, 12.281346206277805, 9.768555802902751, 0.0, 0.0, 0.0, 0.7106966772840223, 19.528909843201216, 7.1267235065548356, 13.630878893688138, 0.0, 0.0, 0.0, 0.0, 0.0, 1.0841901660348854, 15.061857152978229, 0.0, 0.7847922189499021, 0.0, 0.0, 0.0, 0.07164708467899157, 0.0, 0.0, 0.0, 0.0, 0.0, 4.066970646779324, 10.591390699844677, 3.292704391354759, 0.0, 0.0, 0.0, 0.0, 0.0], \"yaxis\": \"y10\"}, {\"hovertemplate\": \"day: %{x} <br>val: %{y:.1f}\", \"mode\": \"lines\", \"name\": \"usagepollen\", \"type\": \"scatter\", \"xaxis\": \"x10\", \"y\": [0.0, 0.0, 0.0, 0.0, 0.0, 0.0, 0.0, 0.0, 0.0, 0.0, 0.0, 0.0, 0.0, 0.0, 0.0, 0.0, 0.0, 0.0, 0.0, 0.0, 0.5136199510433138, 0.22909485319640066, 0.12394380062620675, 0.0, 0.0, 0.0, 0.0, 0.0, 0.0, 0.35930776889924765, 0.0, 0.0, 0.0, 0.0, 1.542449998728794, 0.8325726076702831, 0.23427349727636826, 0.0, 0.0, 0.0, 0.0, 0.0, 0.0, 0.6834312562134793, 0.0, 0.0, 0.4472806554828019, 0.16661714215968365, 2.735209301902808, 4.478128059101219, 9.40610380989531, 3.2341299013738496, 2.367008637712301, 1.30676976593994, 0.0, 2.7611523063931354, 6.7045726775744505, 3.605905883361576, 0.0, 0.0, 0.0, 0.31467339029595065, 8.996767008496215, 4.958242180233537, 10.096899688279386, 0.0, 0.0, 0.0, 0.0, 0.0, 1.1394787651879617, 33.383169249201096, 0.0, 0.9996559194262865, 0.0, 0.0, 0.0, 0.12483459998696977, 0.0, 0.0, 0.0, 0.0, 0.0, 11.998841211898931, 66.4252671721775, 9.327646505558675, 0.0, 0.0, 0.0, 0.0, 0.0], \"yaxis\": \"y10\"}, {\"hovertemplate\": \"day: %{x} <br>val: %{y:.1f}\", \"mode\": \"lines\", \"name\": \"usagehoney prev\", \"type\": \"scatter\", \"x0\": 91, \"xaxis\": \"x10\", \"y\": [43.367499437311146, 38.917778068440754, 0.0, 38.055907576249716, 44.01368382132279, 40.64399908801633], \"yaxis\": \"y10\"}, {\"hovertemplate\": \"day: %{x} <br>val: %{y:.1f}\", \"mode\": \"lines\", \"name\": \"usagenectar prev\", \"type\": \"scatter\", \"x0\": 91, \"xaxis\": \"x10\", \"y\": [0.0, 0.0, 94.6246218138029, 12.15001366324546, 3.650502767710453, 0.0], \"yaxis\": \"y10\"}, {\"hovertemplate\": \"day: %{x} <br>val: %{y:.1f}\", \"mode\": \"lines\", \"name\": \"usagepollen prev\", \"type\": \"scatter\", \"x0\": 91, \"xaxis\": \"x10\", \"y\": [0.0, 135.26917362685353, 146.704466737806, 160.80852342196027, 182.30759569024463, 120.19343795347618], \"yaxis\": \"y10\"}],\n",
              "                        {\"autosize\": false, \"height\": 3000, \"template\": {\"data\": {\"bar\": [{\"error_x\": {\"color\": \"#2a3f5f\"}, \"error_y\": {\"color\": \"#2a3f5f\"}, \"marker\": {\"line\": {\"color\": \"#E5ECF6\", \"width\": 0.5}}, \"type\": \"bar\"}], \"barpolar\": [{\"marker\": {\"line\": {\"color\": \"#E5ECF6\", \"width\": 0.5}}, \"type\": \"barpolar\"}], \"carpet\": [{\"aaxis\": {\"endlinecolor\": \"#2a3f5f\", \"gridcolor\": \"white\", \"linecolor\": \"white\", \"minorgridcolor\": \"white\", \"startlinecolor\": \"#2a3f5f\"}, \"baxis\": {\"endlinecolor\": \"#2a3f5f\", \"gridcolor\": \"white\", \"linecolor\": \"white\", \"minorgridcolor\": \"white\", \"startlinecolor\": \"#2a3f5f\"}, \"type\": \"carpet\"}], \"choropleth\": [{\"colorbar\": {\"outlinewidth\": 0, \"ticks\": \"\"}, \"type\": \"choropleth\"}], \"contour\": [{\"colorbar\": {\"outlinewidth\": 0, \"ticks\": \"\"}, \"colorscale\": [[0.0, \"#0d0887\"], [0.1111111111111111, \"#46039f\"], [0.2222222222222222, \"#7201a8\"], [0.3333333333333333, \"#9c179e\"], [0.4444444444444444, \"#bd3786\"], [0.5555555555555556, \"#d8576b\"], [0.6666666666666666, \"#ed7953\"], [0.7777777777777778, \"#fb9f3a\"], [0.8888888888888888, \"#fdca26\"], [1.0, \"#f0f921\"]], \"type\": \"contour\"}], \"contourcarpet\": [{\"colorbar\": {\"outlinewidth\": 0, \"ticks\": \"\"}, \"type\": \"contourcarpet\"}], \"heatmap\": [{\"colorbar\": {\"outlinewidth\": 0, \"ticks\": \"\"}, \"colorscale\": [[0.0, \"#0d0887\"], [0.1111111111111111, \"#46039f\"], [0.2222222222222222, \"#7201a8\"], [0.3333333333333333, \"#9c179e\"], [0.4444444444444444, \"#bd3786\"], [0.5555555555555556, \"#d8576b\"], [0.6666666666666666, \"#ed7953\"], [0.7777777777777778, \"#fb9f3a\"], [0.8888888888888888, \"#fdca26\"], [1.0, \"#f0f921\"]], \"type\": \"heatmap\"}], \"heatmapgl\": [{\"colorbar\": {\"outlinewidth\": 0, \"ticks\": \"\"}, \"colorscale\": [[0.0, \"#0d0887\"], [0.1111111111111111, \"#46039f\"], [0.2222222222222222, \"#7201a8\"], [0.3333333333333333, \"#9c179e\"], [0.4444444444444444, \"#bd3786\"], [0.5555555555555556, \"#d8576b\"], [0.6666666666666666, \"#ed7953\"], [0.7777777777777778, \"#fb9f3a\"], [0.8888888888888888, \"#fdca26\"], [1.0, \"#f0f921\"]], \"type\": \"heatmapgl\"}], \"histogram\": [{\"marker\": {\"colorbar\": {\"outlinewidth\": 0, \"ticks\": \"\"}}, \"type\": \"histogram\"}], \"histogram2d\": [{\"colorbar\": {\"outlinewidth\": 0, \"ticks\": \"\"}, \"colorscale\": [[0.0, \"#0d0887\"], [0.1111111111111111, \"#46039f\"], [0.2222222222222222, \"#7201a8\"], [0.3333333333333333, \"#9c179e\"], [0.4444444444444444, \"#bd3786\"], [0.5555555555555556, \"#d8576b\"], [0.6666666666666666, \"#ed7953\"], [0.7777777777777778, \"#fb9f3a\"], [0.8888888888888888, \"#fdca26\"], [1.0, \"#f0f921\"]], \"type\": \"histogram2d\"}], \"histogram2dcontour\": [{\"colorbar\": {\"outlinewidth\": 0, \"ticks\": \"\"}, \"colorscale\": [[0.0, \"#0d0887\"], [0.1111111111111111, \"#46039f\"], [0.2222222222222222, \"#7201a8\"], [0.3333333333333333, \"#9c179e\"], [0.4444444444444444, \"#bd3786\"], [0.5555555555555556, \"#d8576b\"], [0.6666666666666666, \"#ed7953\"], [0.7777777777777778, \"#fb9f3a\"], [0.8888888888888888, \"#fdca26\"], [1.0, \"#f0f921\"]], \"type\": \"histogram2dcontour\"}], \"mesh3d\": [{\"colorbar\": {\"outlinewidth\": 0, \"ticks\": \"\"}, \"type\": \"mesh3d\"}], \"parcoords\": [{\"line\": {\"colorbar\": {\"outlinewidth\": 0, \"ticks\": \"\"}}, \"type\": \"parcoords\"}], \"pie\": [{\"automargin\": true, \"type\": \"pie\"}], \"scatter\": [{\"marker\": {\"colorbar\": {\"outlinewidth\": 0, \"ticks\": \"\"}}, \"type\": \"scatter\"}], \"scatter3d\": [{\"line\": {\"colorbar\": {\"outlinewidth\": 0, \"ticks\": \"\"}}, \"marker\": {\"colorbar\": {\"outlinewidth\": 0, \"ticks\": \"\"}}, \"type\": \"scatter3d\"}], \"scattercarpet\": [{\"marker\": {\"colorbar\": {\"outlinewidth\": 0, \"ticks\": \"\"}}, \"type\": \"scattercarpet\"}], \"scattergeo\": [{\"marker\": {\"colorbar\": {\"outlinewidth\": 0, \"ticks\": \"\"}}, \"type\": \"scattergeo\"}], \"scattergl\": [{\"marker\": {\"colorbar\": {\"outlinewidth\": 0, \"ticks\": \"\"}}, \"type\": \"scattergl\"}], \"scattermapbox\": [{\"marker\": {\"colorbar\": {\"outlinewidth\": 0, \"ticks\": \"\"}}, \"type\": \"scattermapbox\"}], \"scatterpolar\": [{\"marker\": {\"colorbar\": {\"outlinewidth\": 0, \"ticks\": \"\"}}, \"type\": \"scatterpolar\"}], \"scatterpolargl\": [{\"marker\": {\"colorbar\": {\"outlinewidth\": 0, \"ticks\": \"\"}}, \"type\": \"scatterpolargl\"}], \"scatterternary\": [{\"marker\": {\"colorbar\": {\"outlinewidth\": 0, \"ticks\": \"\"}}, \"type\": \"scatterternary\"}], \"surface\": [{\"colorbar\": {\"outlinewidth\": 0, \"ticks\": \"\"}, \"colorscale\": [[0.0, \"#0d0887\"], [0.1111111111111111, \"#46039f\"], [0.2222222222222222, \"#7201a8\"], [0.3333333333333333, \"#9c179e\"], [0.4444444444444444, \"#bd3786\"], [0.5555555555555556, \"#d8576b\"], [0.6666666666666666, \"#ed7953\"], [0.7777777777777778, \"#fb9f3a\"], [0.8888888888888888, \"#fdca26\"], [1.0, \"#f0f921\"]], \"type\": \"surface\"}], \"table\": [{\"cells\": {\"fill\": {\"color\": \"#EBF0F8\"}, \"line\": {\"color\": \"white\"}}, \"header\": {\"fill\": {\"color\": \"#C8D4E3\"}, \"line\": {\"color\": \"white\"}}, \"type\": \"table\"}]}, \"layout\": {\"annotationdefaults\": {\"arrowcolor\": \"#2a3f5f\", \"arrowhead\": 0, \"arrowwidth\": 1}, \"coloraxis\": {\"colorbar\": {\"outlinewidth\": 0, \"ticks\": \"\"}}, \"colorscale\": {\"diverging\": [[0, \"#8e0152\"], [0.1, \"#c51b7d\"], [0.2, \"#de77ae\"], [0.3, \"#f1b6da\"], [0.4, \"#fde0ef\"], [0.5, \"#f7f7f7\"], [0.6, \"#e6f5d0\"], [0.7, \"#b8e186\"], [0.8, \"#7fbc41\"], [0.9, \"#4d9221\"], [1, \"#276419\"]], \"sequential\": [[0.0, \"#0d0887\"], [0.1111111111111111, \"#46039f\"], [0.2222222222222222, \"#7201a8\"], [0.3333333333333333, \"#9c179e\"], [0.4444444444444444, \"#bd3786\"], [0.5555555555555556, \"#d8576b\"], [0.6666666666666666, \"#ed7953\"], [0.7777777777777778, \"#fb9f3a\"], [0.8888888888888888, \"#fdca26\"], [1.0, \"#f0f921\"]], \"sequentialminus\": [[0.0, \"#0d0887\"], [0.1111111111111111, \"#46039f\"], [0.2222222222222222, \"#7201a8\"], [0.3333333333333333, \"#9c179e\"], [0.4444444444444444, \"#bd3786\"], [0.5555555555555556, \"#d8576b\"], [0.6666666666666666, \"#ed7953\"], [0.7777777777777778, \"#fb9f3a\"], [0.8888888888888888, \"#fdca26\"], [1.0, \"#f0f921\"]]}, \"colorway\": [\"#636efa\", \"#EF553B\", \"#00cc96\", \"#ab63fa\", \"#FFA15A\", \"#19d3f3\", \"#FF6692\", \"#B6E880\", \"#FF97FF\", \"#FECB52\"], \"font\": {\"color\": \"#2a3f5f\"}, \"geo\": {\"bgcolor\": \"white\", \"lakecolor\": \"white\", \"landcolor\": \"#E5ECF6\", \"showlakes\": true, \"showland\": true, \"subunitcolor\": \"white\"}, \"hoverlabel\": {\"align\": \"left\"}, \"hovermode\": \"closest\", \"mapbox\": {\"style\": \"light\"}, \"paper_bgcolor\": \"white\", \"plot_bgcolor\": \"#E5ECF6\", \"polar\": {\"angularaxis\": {\"gridcolor\": \"white\", \"linecolor\": \"white\", \"ticks\": \"\"}, \"bgcolor\": \"#E5ECF6\", \"radialaxis\": {\"gridcolor\": \"white\", \"linecolor\": \"white\", \"ticks\": \"\"}}, \"scene\": {\"xaxis\": {\"backgroundcolor\": \"#E5ECF6\", \"gridcolor\": \"white\", \"gridwidth\": 2, \"linecolor\": \"white\", \"showbackground\": true, \"ticks\": \"\", \"zerolinecolor\": \"white\"}, \"yaxis\": {\"backgroundcolor\": \"#E5ECF6\", \"gridcolor\": \"white\", \"gridwidth\": 2, \"linecolor\": \"white\", \"showbackground\": true, \"ticks\": \"\", \"zerolinecolor\": \"white\"}, \"zaxis\": {\"backgroundcolor\": \"#E5ECF6\", \"gridcolor\": \"white\", \"gridwidth\": 2, \"linecolor\": \"white\", \"showbackground\": true, \"ticks\": \"\", \"zerolinecolor\": \"white\"}}, \"shapedefaults\": {\"line\": {\"color\": \"#2a3f5f\"}}, \"ternary\": {\"aaxis\": {\"gridcolor\": \"white\", \"linecolor\": \"white\", \"ticks\": \"\"}, \"baxis\": {\"gridcolor\": \"white\", \"linecolor\": \"white\", \"ticks\": \"\"}, \"bgcolor\": \"#E5ECF6\", \"caxis\": {\"gridcolor\": \"white\", \"linecolor\": \"white\", \"ticks\": \"\"}}, \"title\": {\"x\": 0.05}, \"xaxis\": {\"automargin\": true, \"gridcolor\": \"white\", \"linecolor\": \"white\", \"ticks\": \"\", \"title\": {\"standoff\": 15}, \"zerolinecolor\": \"white\", \"zerolinewidth\": 2}, \"yaxis\": {\"automargin\": true, \"gridcolor\": \"white\", \"linecolor\": \"white\", \"ticks\": \"\", \"title\": {\"standoff\": 15}, \"zerolinecolor\": \"white\", \"zerolinewidth\": 2}}}, \"width\": 1200, \"xaxis\": {\"anchor\": \"y\", \"domain\": [0.0, 1.0], \"matches\": \"x10\", \"showticklabels\": false}, \"xaxis10\": {\"anchor\": \"y10\", \"domain\": [0.0, 1.0]}, \"xaxis2\": {\"anchor\": \"y2\", \"domain\": [0.0, 1.0], \"matches\": \"x10\", \"showticklabels\": false}, \"xaxis3\": {\"anchor\": \"y3\", \"domain\": [0.0, 1.0], \"matches\": \"x10\", \"showticklabels\": false}, \"xaxis4\": {\"anchor\": \"y4\", \"domain\": [0.0, 1.0], \"matches\": \"x10\", \"showticklabels\": false}, \"xaxis5\": {\"anchor\": \"y5\", \"domain\": [0.0, 1.0], \"matches\": \"x10\", \"showticklabels\": false}, \"xaxis6\": {\"anchor\": \"y6\", \"domain\": [0.0, 1.0], \"matches\": \"x10\", \"showticklabels\": false}, \"xaxis7\": {\"anchor\": \"y7\", \"domain\": [0.0, 1.0], \"matches\": \"x10\", \"showticklabels\": false}, \"xaxis8\": {\"anchor\": \"y8\", \"domain\": [0.0, 1.0], \"matches\": \"x10\", \"showticklabels\": false}, \"xaxis9\": {\"anchor\": \"y9\", \"domain\": [0.0, 1.0], \"matches\": \"x10\", \"showticklabels\": false}, \"yaxis\": {\"anchor\": \"x\", \"domain\": [0.9045000000000002, 1.0], \"range\": [0, 110000], \"title\": {\"text\": \"cells\"}}, \"yaxis10\": {\"anchor\": \"x10\", \"domain\": [0.0, 0.0955], \"nticks\": 10, \"title\": {\"text\": \"usage poll & nectar\"}}, \"yaxis2\": {\"anchor\": \"x2\", \"domain\": [0.8040000000000002, 0.8995000000000002], \"title\": {\"text\": \"incomes\"}}, \"yaxis3\": {\"anchor\": \"x3\", \"domain\": [0.7035000000000001, 0.7990000000000002], \"nticks\": 10, \"title\": {\"text\": \"indexes weather\"}}, \"yaxis4\": {\"anchor\": \"x4\", \"domain\": [0.6030000000000001, 0.6985000000000001], \"nticks\": 10, \"title\": {\"text\": \"indexes\"}}, \"yaxis5\": {\"anchor\": \"x5\", \"domain\": [0.5025000000000001, 0.5980000000000001], \"nticks\": 10, \"title\": {\"text\": \"foragers\"}}, \"yaxis6\": {\"anchor\": \"x6\", \"domain\": [0.402, 0.49750000000000005], \"nticks\": 10, \"title\": {\"text\": \"need bees\"}}, \"yaxis7\": {\"anchor\": \"x7\", \"domain\": [0.3015, 0.397], \"nticks\": 10, \"title\": {\"text\": \"larvae 1-5\"}}, \"yaxis8\": {\"anchor\": \"x8\", \"domain\": [0.201, 0.2965], \"nticks\": 10, \"title\": {\"text\": \"need pollen\"}}, \"yaxis9\": {\"anchor\": \"x9\", \"domain\": [0.1005, 0.196], \"nticks\": 10, \"title\": {\"text\": \"need nectar\"}}},\n",
              "                        {\"responsive\": true}\n",
              "                    ).then(function(){\n",
              "                            \n",
              "var gd = document.getElementById('10401976-0e0b-4b1f-bf52-587249f109ae');\n",
              "var x = new MutationObserver(function (mutations, observer) {{\n",
              "        var display = window.getComputedStyle(gd).display;\n",
              "        if (!display || display === 'none') {{\n",
              "            console.log([gd, 'removed!']);\n",
              "            Plotly.purge(gd);\n",
              "            observer.disconnect();\n",
              "        }}\n",
              "}});\n",
              "\n",
              "// Listen for the removal of the full notebook cells\n",
              "var notebookContainer = gd.closest('#notebook-container');\n",
              "if (notebookContainer) {{\n",
              "    x.observe(notebookContainer, {childList: true});\n",
              "}}\n",
              "\n",
              "// Listen for the clearing of the current output cell\n",
              "var outputEl = gd.closest('.output');\n",
              "if (outputEl) {{\n",
              "    x.observe(outputEl, {childList: true});\n",
              "}}\n",
              "\n",
              "                        })\n",
              "                };\n",
              "                \n",
              "            </script>\n",
              "        </div>\n",
              "</body>\n",
              "</html>"
            ]
          },
          "metadata": {
            "tags": []
          }
        }
      ]
    }
  ]
}